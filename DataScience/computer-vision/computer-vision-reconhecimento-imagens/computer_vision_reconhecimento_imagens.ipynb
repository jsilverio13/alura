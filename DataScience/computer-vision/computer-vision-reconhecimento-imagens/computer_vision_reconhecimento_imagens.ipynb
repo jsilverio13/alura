{
  "nbformat": 4,
  "nbformat_minor": 0,
  "metadata": {
    "colab": {
      "name": "computer-vision-reconhecimento-imagens.ipynb",
      "provenance": [],
      "collapsed_sections": [
        "-tppvBPPpWpK"
      ]
    },
    "kernelspec": {
      "name": "python3",
      "display_name": "Python 3"
    },
    "language_info": {
      "name": "python"
    }
  },
  "cells": [
    {
      "cell_type": "markdown",
      "source": [
        "# API Twitter"
      ],
      "metadata": {
        "id": "-tppvBPPpWpK"
      }
    },
    {
      "cell_type": "code",
      "source": [
        "import tweepy as tw\n",
        "import requests"
      ],
      "metadata": {
        "id": "XFA4zg-Kpm8g"
      },
      "execution_count": null,
      "outputs": []
    },
    {
      "cell_type": "code",
      "source": [
        "consumer_secret = 'iwefrBeyulr5ASaLxvq2yH0gGzTsVUj0QR8ilp6poYsKah9beR'\n",
        "consumer_key = 'mAp7jaz6G0ruPUZd4EqQ0j9lI'\n",
        "access_token = '1490812061919625223-O4tGXjfO4JBEMjx62Cq7iTBoxWSiar'\n",
        "access_token_secret = '3VXjT0mdvEoalJd61yhftJLgve8vhvxwG5if9nBkzpolg'"
      ],
      "metadata": {
        "id": "SmQc5VZ9poez"
      },
      "execution_count": null,
      "outputs": []
    },
    {
      "cell_type": "code",
      "source": [
        "auth = tw.OAuthHandler(consumer_key, consumer_secret)"
      ],
      "metadata": {
        "id": "vP50ajpbptCF"
      },
      "execution_count": null,
      "outputs": []
    },
    {
      "cell_type": "code",
      "source": [
        "auth.set_access_token(access_token, access_token_secret)"
      ],
      "metadata": {
        "id": "AKf7YX5eqBPZ"
      },
      "execution_count": null,
      "outputs": []
    },
    {
      "cell_type": "code",
      "source": [
        "api = tw.API(auth)"
      ],
      "metadata": {
        "id": "UZ8gz2euqHmo"
      },
      "execution_count": null,
      "outputs": []
    },
    {
      "cell_type": "code",
      "source": [
        "tweet = api.update_status(\"Python e Twitter #alura\")"
      ],
      "metadata": {
        "id": "ZR2-wEtQqI5g"
      },
      "execution_count": null,
      "outputs": []
    },
    {
      "cell_type": "code",
      "source": [
        "tweet"
      ],
      "metadata": {
        "id": "YpaNn7TEqM-k"
      },
      "execution_count": null,
      "outputs": []
    },
    {
      "cell_type": "markdown",
      "source": [
        "# Pesquisando Tweets"
      ],
      "metadata": {
        "id": "6cu2CXm7rk8Y"
      }
    },
    {
      "cell_type": "code",
      "source": [
        "tweets = tw.Cursor(api.search, q=\"data science\",since='2019-01-01',lang='pt').items(10)"
      ],
      "metadata": {
        "id": "4Nexna2qr6Qr"
      },
      "execution_count": null,
      "outputs": []
    },
    {
      "cell_type": "code",
      "source": [
        "for tweet in tweets:\n",
        "  print(tweet.text)\n",
        "  print(\"Name: \" + tweet.user.name)\n",
        "  print(\"Screen name: \" + tweet.user.screen_name)\n",
        "  print(\"Localização: \" + tweet.user.location)\n",
        "  print('----------------------')\n",
        "  print('\\n\\n')"
      ],
      "metadata": {
        "id": "m7YjEeSdr8pR"
      },
      "execution_count": null,
      "outputs": []
    },
    {
      "cell_type": "code",
      "source": [
        "famosos = ['cauareymond','aguiarthur','ivetesangalo','ClaudiaLeitte','neymarjr','BruMarquezine','mariruybarbosa',\n",
        "'FePaesLeme','Tatawerneck','FlaviaAleReal','julianapaes','dedesecco','SabrinaSato','ahickmann','gusttavo_lima','Anitta',\n",
        "'CarolCastroReal','gio_antonelli','maisa','cleooficial','gewbank','taisdeverdade','otaviano','bernardipaloma',\n",
        "'IngridGuimaraes','olazaroramos','GalisteuOficial','debranascimento','FioMattheis','moalfradique','Nandacostareal']"
      ],
      "metadata": {
        "id": "cSZgYQm3sIx4"
      },
      "execution_count": null,
      "outputs": []
    },
    {
      "cell_type": "code",
      "source": [
        "len(famosos)"
      ],
      "metadata": {
        "id": "Zo7Gtqxrti07"
      },
      "execution_count": null,
      "outputs": []
    },
    {
      "cell_type": "code",
      "source": [
        "for famoso in famosos:\n",
        "    tweets = tw.Cursor(api.search, q=famoso,since='2019-01-01').items(20)\n",
        "\n",
        "    print('Autor: ', famoso)\n",
        "    print('Imagens postadas:')\n",
        "    for tweet in tweets:\n",
        "        if 'media' in tweets.entities:\n",
        "            print(tweet.entities['media'][0]['media_url'])\n",
        "    print('----------------------')\n",
        "    print('\\n\\n')\n"
      ],
      "metadata": {
        "id": "r-1fx8Citlq5"
      },
      "execution_count": null,
      "outputs": []
    },
    {
      "cell_type": "markdown",
      "source": [
        "# Streaming"
      ],
      "metadata": {
        "id": "pz1oZKmBuFOr"
      }
    },
    {
      "cell_type": "code",
      "source": [
        "class MinhaStreamListener(tw.StreamListener):\n",
        "    \n",
        "    def on_status(self, status):\n",
        "        print(\"Name: \" + tweet.user.name)\n",
        "        print(\"Screen name: \" + tweet.user.screen_name)\n",
        "        print(\"Texto: \" + tweet.text)\n",
        "        print('----------------------')\n",
        "        print('\\n\\n')\n"
      ],
      "metadata": {
        "id": "X7KaBHK9wFqo"
      },
      "execution_count": null,
      "outputs": []
    },
    {
      "cell_type": "code",
      "source": [
        "minhaStream = tw.Stream(auth = auth, listener=MinhaStreamListener())"
      ],
      "metadata": {
        "id": "MzTv5Q0JwCkA"
      },
      "execution_count": null,
      "outputs": []
    },
    {
      "cell_type": "code",
      "source": [
        "minhaStream.filter(track=famosos)"
      ],
      "metadata": {
        "id": "QBtrHX5SwXtl"
      },
      "execution_count": null,
      "outputs": []
    },
    {
      "cell_type": "markdown",
      "source": [
        "# Azure Computer Vision"
      ],
      "metadata": {
        "id": "6-JXoACMwcCh"
      }
    },
    {
      "cell_type": "code",
      "source": [
        "!pip install azure-cognitiveservices-vision-computervision"
      ],
      "metadata": {
        "id": "7o1KHbMc71W0"
      },
      "execution_count": null,
      "outputs": []
    },
    {
      "cell_type": "code",
      "source": [
        "from azure.cognitiveservices.vision.computervision import ComputerVisionClient\n",
        "from msrest.authentication import CognitiveServicesCredentials"
      ],
      "metadata": {
        "id": "UIbo0kf07885"
      },
      "execution_count": null,
      "outputs": []
    },
    {
      "cell_type": "code",
      "source": [
        "key1 = '6f3af9ccf122420bb41957b932d10167'\n",
        "key2 = '3a089c7bfba64452a8896286756170b9'\n",
        "\n",
        "credencias = CognitiveServicesCredentials(key1)"
      ],
      "metadata": {
        "id": "dhXQPQal8cXT"
      },
      "execution_count": null,
      "outputs": []
    },
    {
      "cell_type": "code",
      "source": [
        "uri = 'https://cvaluratwitter.cognitiveservices.azure.com/'\n",
        "client = ComputerVisionClient(uri, credencias)"
      ],
      "metadata": {
        "id": "C0dVA0xT8jD0"
      },
      "execution_count": null,
      "outputs": []
    },
    {
      "cell_type": "code",
      "source": [
        "client.api_version"
      ],
      "metadata": {
        "id": "Ip43zqbk8rkM"
      },
      "execution_count": null,
      "outputs": []
    },
    {
      "cell_type": "markdown",
      "source": [
        "![](https://pbs.twimg.com/media/ECx6hK-WwAAPzeE.jpg)"
      ],
      "metadata": {
        "id": "BXtMmjvo8wkj"
      }
    },
    {
      "cell_type": "code",
      "source": [
        "from azure.cognitiveservices.vision.computervision.models import VisualFeatureTypes\n",
        "\n",
        "url = 'https://pbs.twimg.com/media/ECx6hK-WwAAPzeE.jpg'\n",
        "\n",
        "analise_de_imagem = client.analyze_image(url, visual_features = [VisualFeatureTypes.tags])"
      ],
      "metadata": {
        "id": "q7co9dFC9Wm1"
      },
      "execution_count": null,
      "outputs": []
    },
    {
      "cell_type": "code",
      "source": [
        "for tag in analise_de_imagem.tags:\n",
        "    print(tag)"
      ],
      "metadata": {
        "id": "CcRfKDtD_rAn"
      },
      "execution_count": null,
      "outputs": []
    },
    {
      "cell_type": "code",
      "source": [
        "analise_de_celebridades = client.analyze_image_by_domain(\"celebrities\", url, \"en\")"
      ],
      "metadata": {
        "id": "VRRS7IMV_ajQ"
      },
      "execution_count": null,
      "outputs": []
    },
    {
      "cell_type": "code",
      "source": [
        "for celebridade in analise_de_celebridades.result[\"celebrities\"]:\n",
        "    print(celebridade['name'])\n",
        "    print(celebridade['confidence'])"
      ],
      "metadata": {
        "id": "dh1PO7qcAaSo"
      },
      "execution_count": null,
      "outputs": []
    },
    {
      "cell_type": "code",
      "source": [
        "descricacao = client.describe_image(url,3,\"en\")\n",
        "descricacao"
      ],
      "metadata": {
        "id": "nJ9rPyNSBV5-"
      },
      "execution_count": null,
      "outputs": []
    },
    {
      "cell_type": "code",
      "source": [
        "for caption in descricacao.captions:\n",
        "    print(caption.text)\n",
        "    print(caption.confidence)"
      ],
      "metadata": {
        "id": "oQF7ZWpwB0Ic"
      },
      "execution_count": null,
      "outputs": []
    },
    {
      "cell_type": "markdown",
      "source": [
        "# Streaming + Vision API"
      ],
      "metadata": {
        "id": "GiWUe2gPB5XE"
      }
    },
    {
      "cell_type": "code",
      "source": [
        "import json"
      ],
      "metadata": {
        "id": "TSZZ63fFdWIk"
      },
      "execution_count": null,
      "outputs": []
    },
    {
      "cell_type": "code",
      "source": [
        "api.get_user('jcalvesol').id_str"
      ],
      "metadata": {
        "id": "XtxfYicMcDZL"
      },
      "execution_count": null,
      "outputs": []
    },
    {
      "cell_type": "code",
      "source": [
        "famosos_id = []\n",
        "for famoso in famosos:\n",
        "    famoso_id = api.get_user(famoso).id_str\n",
        "    famosos_id.append(famoso_id)"
      ],
      "metadata": {
        "id": "yb0uo_0OcQk5"
      },
      "execution_count": null,
      "outputs": []
    },
    {
      "cell_type": "code",
      "source": [
        "class MinhaStreamListener(tw.StreamListener):\n",
        "    try:\n",
        "        def on_status(self, status):\n",
        "            print(\"Nome: \" + tweet.user.name)\n",
        "            print(\"usuário: \" + tweet.user.screen_name)\n",
        "            print(\"Texto: \" + tweet.text)\n",
        "            \n",
        "\n",
        "            if 'media' in status.entites:\n",
        "                url = status.entities['media'][0]['media_url']\n",
        "                print(\"URL :\", url)\n",
        "\n",
        "                analise_de_celebridades = client.analyze_image_by_domain(\"celebrities\", url, \"en\")\n",
        "\n",
        "                lista_celebridades = [celebridade['name'] for celebridade in analise_de_celebridades.result['celebrities']]\n",
        "                print(lista_celebridades)\n",
        "                \n",
        "                descricacao = client.describe_image(url,3,\"en\")\n",
        "                texto_descricao = descricacao.captions[0].text\n",
        "\n",
        "                print(\"Descricao :\", texto_descricao)\n",
        "\n",
        "                analise_de_imagem = client.analyze_image(url, visual_features = [VisualFeatureTypes.tags])\n",
        "                lista_tags = [tag.name for tag in analise_de_imagem.tags]\n",
        "                \n",
        "                print(\"Tag: \", lista_tags)\n",
        "\n",
        "                resultados = {\n",
        "                    'usuario': tweet.user.screen_name,\n",
        "                    'texto': status.text,\n",
        "                    'url': url,\n",
        "                    'celebridades': lista_celebridades,\n",
        "                    'descricao': texto_descricao,\n",
        "                    'tags': lista_tags\n",
        "                }\n",
        "\n",
        "                with open('tweets.txt', 'a') as arquivo:\n",
        "                    arquivo.write(json.dumps(resultados))\n",
        "                    arquivo.write('\\n')\n",
        "\n",
        "            print('----------------------')\n",
        "            print('\\n\\n')\n",
        "            \n",
        "    except KeyboardInterrupt:\n",
        "        None\n"
      ],
      "metadata": {
        "id": "XisZMu-oCVcN"
      },
      "execution_count": null,
      "outputs": []
    },
    {
      "cell_type": "code",
      "source": [
        "minhaStream = None\n",
        "minhaStream = tw.Stream(auth = auth, listener=MinhaStreamListener())"
      ],
      "metadata": {
        "id": "PVh2y33-CcIx"
      },
      "execution_count": null,
      "outputs": []
    },
    {
      "cell_type": "code",
      "source": [
        "minhaStream.filter(follow=[''])"
      ],
      "metadata": {
        "id": "AL1h48w8CctE"
      },
      "execution_count": null,
      "outputs": []
    },
    {
      "cell_type": "markdown",
      "source": [
        "# Avaliando resultados"
      ],
      "metadata": {
        "id": "3DrjmPN6eCd0"
      }
    },
    {
      "cell_type": "code",
      "source": [
        "lista_arquivo = []\n",
        "with open('tweets.txt', 'r') as arquivo:\n",
        "    for linha in arquivo:\n",
        "        lista_arquivo.append(json.loads(arquivo))"
      ],
      "metadata": {
        "id": "8EaIQzvKeDoc"
      },
      "execution_count": null,
      "outputs": []
    },
    {
      "cell_type": "code",
      "source": [
        "import pandas as pd"
      ],
      "metadata": {
        "id": "dvEKd4oGePTG"
      },
      "execution_count": null,
      "outputs": []
    },
    {
      "cell_type": "code",
      "source": [
        "imagens = pd.DataFrame(lista_arquivo)\n",
        "imagens.head()"
      ],
      "metadata": {
        "id": "ToKP7CgWeSuM"
      },
      "execution_count": null,
      "outputs": []
    },
    {
      "cell_type": "code",
      "source": [
        "pesquisa = 'concert'\n",
        "\n",
        "achados = [(pesquisa in lista) for lista in imagens.tags]"
      ],
      "metadata": {
        "id": "Wy0_hq0keXmX"
      },
      "execution_count": null,
      "outputs": []
    },
    {
      "cell_type": "code",
      "source": [
        "imagens[achados].descricao.iloc[0]"
      ],
      "metadata": {
        "id": "C2osdgl8e6dX"
      },
      "execution_count": null,
      "outputs": []
    },
    {
      "cell_type": "code",
      "source": [
        "imagens[achados].tags.iloc[0]"
      ],
      "metadata": {
        "id": "5KCFF1qRe9hv"
      },
      "execution_count": null,
      "outputs": []
    },
    {
      "cell_type": "code",
      "source": [
        "imagens[achados].url.iloc[0]"
      ],
      "metadata": {
        "id": "lHBlOVXMfCRk"
      },
      "execution_count": null,
      "outputs": []
    }
  ]
}