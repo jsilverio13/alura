{
  "nbformat": 4,
  "nbformat_minor": 0,
  "metadata": {
    "colab": {
      "name": "deep-learning-intro-keras.ipynb",
      "provenance": [],
      "collapsed_sections": [
        "gHwEISU7wedh"
      ]
    },
    "kernelspec": {
      "name": "python3",
      "display_name": "Python 3"
    },
    "language_info": {
      "name": "python"
    }
  },
  "cells": [
    {
      "cell_type": "markdown",
      "source": [
        "# Imports\n"
      ],
      "metadata": {
        "id": "lc4JPXc8wbJJ"
      }
    },
    {
      "cell_type": "code",
      "source": [
        "import tensorflow as tf\n",
        "from tensorflow import keras\n",
        "from tensorflow.keras.models import load_model\n",
        "\n",
        "import numpy as np\n",
        "import matplotlib.pyplot as plt"
      ],
      "metadata": {
        "id": "ihTEM3V4sf64"
      },
      "execution_count": 1,
      "outputs": []
    },
    {
      "cell_type": "markdown",
      "source": [
        "# Carregando o DataSet"
      ],
      "metadata": {
        "id": "gHwEISU7wedh"
      }
    },
    {
      "cell_type": "code",
      "execution_count": 2,
      "metadata": {
        "id": "oOfYuOGsNYJc"
      },
      "outputs": [],
      "source": [
        "dataset = tf.keras.datasets.fashion_mnist\n",
        "((imagens_treino,identificacoes_treino),(imagens_teste, identificacoes_teste  )) = dataset.load_data()"
      ]
    },
    {
      "cell_type": "markdown",
      "source": [
        "# Explorar os dados"
      ],
      "metadata": {
        "id": "XvnlonwQwhxn"
      }
    },
    {
      "cell_type": "code",
      "source": [
        "imagens_treino.shape"
      ],
      "metadata": {
        "colab": {
          "base_uri": "https://localhost:8080/"
        },
        "id": "W83rhpdKsmV4",
        "outputId": "4a94270d-6180-4bdb-d87a-b8bed2fbbba4"
      },
      "execution_count": 3,
      "outputs": [
        {
          "output_type": "execute_result",
          "data": {
            "text/plain": [
              "(60000, 28, 28)"
            ]
          },
          "metadata": {},
          "execution_count": 3
        }
      ]
    },
    {
      "cell_type": "code",
      "source": [
        "imagens_teste.shape"
      ],
      "metadata": {
        "colab": {
          "base_uri": "https://localhost:8080/"
        },
        "id": "ttiT07sHtfAl",
        "outputId": "67e0d3f6-280e-4df5-d562-2b979bef7ce3"
      },
      "execution_count": 4,
      "outputs": [
        {
          "output_type": "execute_result",
          "data": {
            "text/plain": [
              "(10000, 28, 28)"
            ]
          },
          "metadata": {},
          "execution_count": 4
        }
      ]
    },
    {
      "cell_type": "code",
      "source": [
        "identificacoes_treino.shape"
      ],
      "metadata": {
        "colab": {
          "base_uri": "https://localhost:8080/"
        },
        "id": "6q2WZEcNuNGH",
        "outputId": "d481e25a-e5e2-4542-a8c7-613f7fbe36b0"
      },
      "execution_count": 5,
      "outputs": [
        {
          "output_type": "execute_result",
          "data": {
            "text/plain": [
              "(60000,)"
            ]
          },
          "metadata": {},
          "execution_count": 5
        }
      ]
    },
    {
      "cell_type": "code",
      "source": [
        "identificacoes_teste.shape"
      ],
      "metadata": {
        "colab": {
          "base_uri": "https://localhost:8080/"
        },
        "id": "hrH6WMBKuSWX",
        "outputId": "8a1b1008-e160-452f-beca-1efec141dd2c"
      },
      "execution_count": 6,
      "outputs": [
        {
          "output_type": "execute_result",
          "data": {
            "text/plain": [
              "(10000,)"
            ]
          },
          "metadata": {},
          "execution_count": 6
        }
      ]
    },
    {
      "cell_type": "code",
      "source": [
        "total_de_classificacoes = len(np.unique(identificacoes_treino))\n",
        "total_de_classificacoes"
      ],
      "metadata": {
        "colab": {
          "base_uri": "https://localhost:8080/"
        },
        "id": "c6IjfopQu51-",
        "outputId": "83ca0618-17a3-428b-fb6b-7568c9e6395b"
      },
      "execution_count": 7,
      "outputs": [
        {
          "output_type": "execute_result",
          "data": {
            "text/plain": [
              "10"
            ]
          },
          "metadata": {},
          "execution_count": 7
        }
      ]
    },
    {
      "cell_type": "code",
      "source": [
        "nomes_de_classificacoes = ['Camiseta', 'Calça', 'Pullover', 'Vestido', 'Casaco','Sandália','Camisa', 'Tênis','Bolsa','Bota']\n",
        "nomes_de_classificacoes"
      ],
      "metadata": {
        "colab": {
          "base_uri": "https://localhost:8080/"
        },
        "id": "1QWP6OZhvvJ7",
        "outputId": "e15e381c-29e3-49f3-e4b8-80e0bc997d23"
      },
      "execution_count": 8,
      "outputs": [
        {
          "output_type": "execute_result",
          "data": {
            "text/plain": [
              "['Camiseta',\n",
              " 'Calça',\n",
              " 'Pullover',\n",
              " 'Vestido',\n",
              " 'Casaco',\n",
              " 'Sandália',\n",
              " 'Camisa',\n",
              " 'Tênis',\n",
              " 'Bolsa',\n",
              " 'Bota']"
            ]
          },
          "metadata": {},
          "execution_count": 8
        }
      ]
    },
    {
      "cell_type": "markdown",
      "source": [
        "# Exibir os dados"
      ],
      "metadata": {
        "id": "Udi7G60cwmIP"
      }
    },
    {
      "cell_type": "code",
      "source": [
        "for imagem in range(10):\n",
        "    plt.subplot(2, 5, imagem+1)\n",
        "    plt.imshow(imagens_treino[imagem])\n",
        "    plt.title(nomes_de_classificacoes[identificacoes_treino[imagem]])\n",
        "    plt.colorbar()"
      ],
      "metadata": {
        "colab": {
          "base_uri": "https://localhost:8080/",
          "height": 254
        },
        "id": "yACVI1OVuZXi",
        "outputId": "523291f0-d3d4-40d5-b8ed-e3d3750466cf"
      },
      "execution_count": 9,
      "outputs": [
        {
          "output_type": "display_data",
          "data": {
            "image/png": "[encoded data removed]",
            "text/plain": [
              "<Figure size 432x288 with 20 Axes>"
            ]
          },
          "metadata": {
            "needs_background": "light"
          }
        }
      ]
    },
    {
      "cell_type": "markdown",
      "source": [
        "# Normalizando as imagens"
      ],
      "metadata": {
        "id": "i9QKZzVCAbuB"
      }
    },
    {
      "cell_type": "code",
      "source": [
        "imagens_treino = imagens_treino/float(255)"
      ],
      "metadata": {
        "id": "RLAh40A3xLlq"
      },
      "execution_count": 10,
      "outputs": []
    },
    {
      "cell_type": "markdown",
      "source": [
        "# Criando, compilando, treinando e normalizando o modelo"
      ],
      "metadata": {
        "id": "McOWXktNAeo5"
      }
    },
    {
      "cell_type": "code",
      "source": [
        "modelo = keras.Sequential([ \n",
        "    keras.layers.Flatten(input_shape=(28, 28)),\n",
        "    keras.layers.Dense(256, activation=tf.nn.relu),\n",
        "    keras.layers.Dropout(0.2),\n",
        "    keras.layers.Dense(10, activation=tf.nn.softmax),\n",
        "])\n",
        "\n",
        "modelo.compile(optimizer='adam', \n",
        "               loss='sparse_categorical_crossentropy',\n",
        "               metrics=['accuracy'])\n",
        "\n",
        "\n",
        "historico = modelo.fit(imagens_treino, identificacoes_treino, epochs=5, validation_split=0.2)"
      ],
      "metadata": {
        "colab": {
          "base_uri": "https://localhost:8080/"
        },
        "id": "ypbSOo4ZAsNJ",
        "outputId": "ea9fa823-d1e8-4fd9-e370-150532c0adc9"
      },
      "execution_count": 11,
      "outputs": [
        {
          "output_type": "stream",
          "name": "stdout",
          "text": [
            "Epoch 1/5\n",
            "1500/1500 [==============================] - 12s 7ms/step - loss: 0.5285 - accuracy: 0.8129 - val_loss: 0.4011 - val_accuracy: 0.8548\n",
            "Epoch 2/5\n",
            "1500/1500 [==============================] - 7s 5ms/step - loss: 0.3969 - accuracy: 0.8553 - val_loss: 0.3675 - val_accuracy: 0.8687\n",
            "Epoch 3/5\n",
            "1500/1500 [==============================] - 6s 4ms/step - loss: 0.3627 - accuracy: 0.8668 - val_loss: 0.3579 - val_accuracy: 0.8701\n",
            "Epoch 4/5\n",
            "1500/1500 [==============================] - 8s 5ms/step - loss: 0.3376 - accuracy: 0.8742 - val_loss: 0.3471 - val_accuracy: 0.8714\n",
            "Epoch 5/5\n",
            "1500/1500 [==============================] - 7s 5ms/step - loss: 0.3223 - accuracy: 0.8809 - val_loss: 0.3309 - val_accuracy: 0.8800\n"
          ]
        }
      ]
    },
    {
      "cell_type": "markdown",
      "source": [
        "# Salvando e carregando o modelo treinado"
      ],
      "metadata": {
        "id": "GEyM4rTtA7FT"
      }
    },
    {
      "cell_type": "code",
      "source": [
        "modelo.save('modelo.h5')\n",
        "modelo_salvo = load_model('modelo.h5')"
      ],
      "metadata": {
        "id": "6rvUy37h_x-8"
      },
      "execution_count": 12,
      "outputs": []
    },
    {
      "cell_type": "markdown",
      "source": [
        "# Visualizando as acurácias de treino e validação por Época"
      ],
      "metadata": {
        "id": "o9aEc-Y7BROP"
      }
    },
    {
      "cell_type": "code",
      "source": [
        "plt.plot(historico.history['accuracy'])\n",
        "plt.plot(historico.history['val_accuracy'])\n",
        "plt.title('Acuracia por Épocas')\n",
        "plt.xlabel('Épocas')\n",
        "plt.ylabel('Acurácia')\n",
        "plt.legend(['treino', 'avaliação'])"
      ],
      "metadata": {
        "colab": {
          "base_uri": "https://localhost:8080/",
          "height": 0
        },
        "id": "LOOCO_IX979b",
        "outputId": "640118a5-a444-4400-e129-e99f32c5440b"
      },
      "execution_count": 13,
      "outputs": [
        {
          "output_type": "execute_result",
          "data": {
            "text/plain": [
              "<matplotlib.legend.Legend at 0x7f0e77260890>"
            ]
          },
          "metadata": {},
          "execution_count": 13
        },
        {
          "output_type": "display_data",
          "data": {
            "image/png": "[encoded data removed]",
            "text/plain": [
              "<Figure size 432x288 with 1 Axes>"
            ]
          },
          "metadata": {
            "needs_background": "light"
          }
        }
      ]
    },
    {
      "cell_type": "markdown",
      "source": [
        "# Visualizando as perdas de treino e validação por Época"
      ],
      "metadata": {
        "id": "yIM4lWcSBYeS"
      }
    },
    {
      "cell_type": "code",
      "source": [
        "plt.plot(historico.history['loss'])\n",
        "plt.plot(historico.history['val_loss'])\n",
        "plt.title('Acuracia por Épocas')\n",
        "plt.xlabel('Épocas')\n",
        "plt.ylabel('Perda')\n",
        "plt.legend(['treino', 'avaliação'])"
      ],
      "metadata": {
        "colab": {
          "base_uri": "https://localhost:8080/",
          "height": 0
        },
        "id": "ZPNR5JWi-oVw",
        "outputId": "3ce631b4-c1ac-4b08-c2dd-0ab1fa493a73"
      },
      "execution_count": 14,
      "outputs": [
        {
          "output_type": "execute_result",
          "data": {
            "text/plain": [
              "<matplotlib.legend.Legend at 0x7f0e772c9350>"
            ]
          },
          "metadata": {},
          "execution_count": 14
        },
        {
          "output_type": "display_data",
          "data": {
            "image/png": "[encoded data removed]",
            "text/plain": [
              "<Figure size 432x288 with 1 Axes>"
            ]
          },
          "metadata": {
            "needs_background": "light"
          }
        }
      ]
    },
    {
      "cell_type": "markdown",
      "source": [
        "# Testando o modelo e o modelo salvo"
      ],
      "metadata": {
        "id": "uG8CjSpdBbPa"
      }
    },
    {
      "cell_type": "code",
      "source": [
        "testes = modelo.predict(imagens_teste)\n",
        "testes_modelo_salvo = modelo_salvo.predict(imagens_teste)"
      ],
      "metadata": {
        "id": "rmNgJbKk3HxY"
      },
      "execution_count": 15,
      "outputs": []
    },
    {
      "cell_type": "code",
      "source": [
        "print(f'Resultado do teste: {np.argmax(testes[2])}')\n",
        "print(f'Número da imagem de teste: {identificacoes_teste[2]}')"
      ],
      "metadata": {
        "colab": {
          "base_uri": "https://localhost:8080/"
        },
        "id": "1w4lzdys8gHt",
        "outputId": "f7c35ccf-9ef2-4290-a5a5-7e825ea98840"
      },
      "execution_count": 16,
      "outputs": [
        {
          "output_type": "stream",
          "name": "stdout",
          "text": [
            "Resultado do teste: 1\n",
            "Número da imagem de teste: 1\n"
          ]
        }
      ]
    },
    {
      "cell_type": "markdown",
      "source": [
        "# Avaliando os modelos"
      ],
      "metadata": {
        "id": "Yav5roxBBgzZ"
      }
    },
    {
      "cell_type": "code",
      "source": [
        "perda_teste, acuracia_teste = modelo.evaluate(imagens_teste, identificacoes_teste)\n",
        "perda_teste_salvo, acuracia_teste_salvo = modelo_salvo.evaluate(imagens_teste, identificacoes_teste)"
      ],
      "metadata": {
        "colab": {
          "base_uri": "https://localhost:8080/"
        },
        "id": "dHUuF_te827n",
        "outputId": "7e296cba-73f5-4aaa-d037-08812b5efb19"
      },
      "execution_count": 17,
      "outputs": [
        {
          "output_type": "stream",
          "name": "stdout",
          "text": [
            "313/313 [==============================] - 1s 3ms/step - loss: 57.8786 - accuracy: 0.8551\n",
            "313/313 [==============================] - 1s 2ms/step - loss: 57.8786 - accuracy: 0.8551\n"
          ]
        }
      ]
    },
    {
      "cell_type": "code",
      "source": [
        "print(f'Perda do teste: {perda_teste:.2f}')\n",
        "print(f'Acurácia do teste: {acuracia_teste:.2f}')\n",
        "print(f'Perda do teste salvo: {perda_teste_salvo:.2f}')\n",
        "print(f'Acurácia do teste salvo: {acuracia_teste_salvo:.2f}')"
      ],
      "metadata": {
        "colab": {
          "base_uri": "https://localhost:8080/"
        },
        "id": "K3ISEJXV9Nhs",
        "outputId": "302cde31-68b8-42df-bf21-e1cec1683438"
      },
      "execution_count": 18,
      "outputs": [
        {
          "output_type": "stream",
          "name": "stdout",
          "text": [
            "Perda do teste: 57.88\n",
            "Acurácia do teste: 0.86\n",
            "Perda do teste salvo: 57.88\n",
            "Acurácia do teste salvo: 0.86\n"
          ]
        }
      ]
    },
    {
      "cell_type": "code",
      "source": [
        ""
      ],
      "metadata": {
        "id": "QYawqpGzBCRK"
      },
      "execution_count": 18,
      "outputs": []
    }
  ]
}