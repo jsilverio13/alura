{
  "nbformat": 4,
  "nbformat_minor": 0,
  "metadata": {
    "colab": {
      "name": "deep-learning-como-a-rede-aprende-keras.ipynb",
      "provenance": [],
      "collapsed_sections": [
        "gHwEISU7wedh"
      ]
    },
    "kernelspec": {
      "name": "python3",
      "display_name": "Python 3"
    },
    "language_info": {
      "name": "python"
    }
  },
  "cells": [
    {
      "cell_type": "markdown",
      "source": [
        "# Imports\n"
      ],
      "metadata": {
        "id": "lc4JPXc8wbJJ"
      }
    },
    {
      "cell_type": "code",
      "source": [
        "import tensorflow as tf\n",
        "from tensorflow import keras\n",
        "from tensorflow.keras.models import load_model\n",
        "\n",
        "import numpy as np\n",
        "import matplotlib.pyplot as plt"
      ],
      "metadata": {
        "id": "ihTEM3V4sf64"
      },
      "execution_count": 1,
      "outputs": []
    },
    {
      "cell_type": "markdown",
      "source": [
        "# Carregando o DataSet"
      ],
      "metadata": {
        "id": "gHwEISU7wedh"
      }
    },
    {
      "cell_type": "code",
      "execution_count": 2,
      "metadata": {
        "id": "oOfYuOGsNYJc",
        "colab": {
          "base_uri": "https://localhost:8080/"
        },
        "outputId": "cb6a5258-35da-49fa-97f9-e0f2085050e5"
      },
      "outputs": [
        {
          "output_type": "stream",
          "name": "stdout",
          "text": [
            "Downloading data from https://storage.googleapis.com/tensorflow/tf-keras-datasets/train-labels-idx1-ubyte.gz\n",
            "32768/29515 [=================================] - 0s 0us/step\n",
            "40960/29515 [=========================================] - 0s 0us/step\n",
            "Downloading data from https://storage.googleapis.com/tensorflow/tf-keras-datasets/train-images-idx3-ubyte.gz\n",
            "26427392/26421880 [==============================] - 0s 0us/step\n",
            "26435584/26421880 [==============================] - 0s 0us/step\n",
            "Downloading data from https://storage.googleapis.com/tensorflow/tf-keras-datasets/t10k-labels-idx1-ubyte.gz\n",
            "16384/5148 [===============================================================================================] - 0s 0us/step\n",
            "Downloading data from https://storage.googleapis.com/tensorflow/tf-keras-datasets/t10k-images-idx3-ubyte.gz\n",
            "4423680/4422102 [==============================] - 0s 0us/step\n",
            "4431872/4422102 [==============================] - 0s 0us/step\n"
          ]
        }
      ],
      "source": [
        "dataset = tf.keras.datasets.fashion_mnist\n",
        "((imagens_treino,identificacoes_treino),(imagens_teste, identificacoes_teste  )) = dataset.load_data()"
      ]
    },
    {
      "cell_type": "markdown",
      "source": [
        "# Explorar os dados"
      ],
      "metadata": {
        "id": "XvnlonwQwhxn"
      }
    },
    {
      "cell_type": "code",
      "source": [
        "imagens_treino.shape"
      ],
      "metadata": {
        "colab": {
          "base_uri": "https://localhost:8080/"
        },
        "id": "W83rhpdKsmV4",
        "outputId": "d12559e5-a36e-44f6-ed84-eebf883764a1"
      },
      "execution_count": 3,
      "outputs": [
        {
          "output_type": "execute_result",
          "data": {
            "text/plain": [
              "(60000, 28, 28)"
            ]
          },
          "metadata": {},
          "execution_count": 3
        }
      ]
    },
    {
      "cell_type": "code",
      "source": [
        "imagens_teste.shape"
      ],
      "metadata": {
        "colab": {
          "base_uri": "https://localhost:8080/"
        },
        "id": "ttiT07sHtfAl",
        "outputId": "cc5e2d5e-2891-496e-879e-6bff2d8b27d7"
      },
      "execution_count": 4,
      "outputs": [
        {
          "output_type": "execute_result",
          "data": {
            "text/plain": [
              "(10000, 28, 28)"
            ]
          },
          "metadata": {},
          "execution_count": 4
        }
      ]
    },
    {
      "cell_type": "code",
      "source": [
        "identificacoes_treino.shape"
      ],
      "metadata": {
        "colab": {
          "base_uri": "https://localhost:8080/"
        },
        "id": "6q2WZEcNuNGH",
        "outputId": "0cabebe9-15c3-44a1-a52c-450a172f6b65"
      },
      "execution_count": 5,
      "outputs": [
        {
          "output_type": "execute_result",
          "data": {
            "text/plain": [
              "(60000,)"
            ]
          },
          "metadata": {},
          "execution_count": 5
        }
      ]
    },
    {
      "cell_type": "code",
      "source": [
        "identificacoes_teste.shape"
      ],
      "metadata": {
        "colab": {
          "base_uri": "https://localhost:8080/"
        },
        "id": "hrH6WMBKuSWX",
        "outputId": "f8b2182e-8043-4abf-e63a-e0fedcb0ac22"
      },
      "execution_count": 6,
      "outputs": [
        {
          "output_type": "execute_result",
          "data": {
            "text/plain": [
              "(10000,)"
            ]
          },
          "metadata": {},
          "execution_count": 6
        }
      ]
    },
    {
      "cell_type": "code",
      "source": [
        "total_de_classificacoes = len(np.unique(identificacoes_treino))\n",
        "total_de_classificacoes"
      ],
      "metadata": {
        "colab": {
          "base_uri": "https://localhost:8080/"
        },
        "id": "c6IjfopQu51-",
        "outputId": "1dba8d28-2207-4d67-f3a6-4840e63d649b"
      },
      "execution_count": 7,
      "outputs": [
        {
          "output_type": "execute_result",
          "data": {
            "text/plain": [
              "10"
            ]
          },
          "metadata": {},
          "execution_count": 7
        }
      ]
    },
    {
      "cell_type": "code",
      "source": [
        "nomes_de_classificacoes = ['Camiseta', 'Calça', 'Pullover', 'Vestido', 'Casaco','Sandália','Camisa', 'Tênis','Bolsa','Bota']\n",
        "nomes_de_classificacoes"
      ],
      "metadata": {
        "colab": {
          "base_uri": "https://localhost:8080/"
        },
        "id": "1QWP6OZhvvJ7",
        "outputId": "fb499508-43b7-40a9-b78f-46ab41850931"
      },
      "execution_count": 8,
      "outputs": [
        {
          "output_type": "execute_result",
          "data": {
            "text/plain": [
              "['Camiseta',\n",
              " 'Calça',\n",
              " 'Pullover',\n",
              " 'Vestido',\n",
              " 'Casaco',\n",
              " 'Sandália',\n",
              " 'Camisa',\n",
              " 'Tênis',\n",
              " 'Bolsa',\n",
              " 'Bota']"
            ]
          },
          "metadata": {},
          "execution_count": 8
        }
      ]
    },
    {
      "cell_type": "markdown",
      "source": [
        "# Exibir os dados"
      ],
      "metadata": {
        "id": "Udi7G60cwmIP"
      }
    },
    {
      "cell_type": "code",
      "source": [
        "for imagem in range(10):\n",
        "    plt.subplot(2, 5, imagem+1)\n",
        "    plt.imshow(imagens_treino[imagem])\n",
        "    plt.title(nomes_de_classificacoes[identificacoes_treino[imagem]])\n",
        "    plt.colorbar()"
      ],
      "metadata": {
        "colab": {
          "base_uri": "https://localhost:8080/",
          "height": 254
        },
        "id": "yACVI1OVuZXi",
        "outputId": "9664742a-2d4d-48ae-bcc9-bbd3367a20b0"
      },
      "execution_count": 9,
      "outputs": [
        {
          "output_type": "display_data",
          "data": {
            "image/png": "[encoded data removed]",
            "text/plain": [
              "<Figure size 432x288 with 20 Axes>"
            ]
          },
          "metadata": {
            "needs_background": "light"
          }
        }
      ]
    },
    {
      "cell_type": "markdown",
      "source": [
        "# Normalizando as imagens"
      ],
      "metadata": {
        "id": "i9QKZzVCAbuB"
      }
    },
    {
      "cell_type": "code",
      "source": [
        "imagens_treino = imagens_treino/float(255)"
      ],
      "metadata": {
        "id": "RLAh40A3xLlq"
      },
      "execution_count": 10,
      "outputs": []
    },
    {
      "cell_type": "markdown",
      "source": [
        "# Criando, compilando, treinando e normalizando o modelo"
      ],
      "metadata": {
        "id": "McOWXktNAeo5"
      }
    },
    {
      "cell_type": "code",
      "source": [
        "modelo = keras.Sequential([ \n",
        "    keras.layers.Flatten(input_shape=(28, 28)),\n",
        "    keras.layers.Dense(256, activation=tf.nn.relu),\n",
        "    keras.layers.Dropout(0.2),\n",
        "    keras.layers.Dense(10, activation=tf.nn.softmax),\n",
        "])\n",
        "callbacks = [\n",
        "                keras.callbacks.EarlyStopping(monitor='val_loss'),\n",
        "                keras.callbacks.ModelCheckpoint(filepath='melhor_modelo.hdf5',  monitor='val_loss', save_best_only=True)\n",
        "            ]\n",
        "adam = keras.optimizers.Adam(lr=0.002)\n",
        "\n",
        "modelo.compile(optimizer=adam, \n",
        "               loss='sparse_categorical_crossentropy',\n",
        "               metrics=['accuracy'])\n",
        "\n",
        "\n",
        "historico = modelo.fit(\n",
        "    imagens_treino, \n",
        "    identificacoes_treino, \n",
        "    batch_size = None, \n",
        "    epochs=5, \n",
        "    validation_split=0.2,\n",
        "    callbacks = callbacks)"
      ],
      "metadata": {
        "colab": {
          "base_uri": "https://localhost:8080/"
        },
        "id": "ypbSOo4ZAsNJ",
        "outputId": "4777c835-e114-4e87-bac0-2282b581cebc"
      },
      "execution_count": 56,
      "outputs": [
        {
          "output_type": "stream",
          "name": "stdout",
          "text": [
            "Epoch 1/5\n"
          ]
        },
        {
          "output_type": "stream",
          "name": "stderr",
          "text": [
            "/usr/local/lib/python3.7/dist-packages/keras/optimizer_v2/adam.py:105: UserWarning: The `lr` argument is deprecated, use `learning_rate` instead.\n",
            "  super(Adam, self).__init__(name, **kwargs)\n"
          ]
        },
        {
          "output_type": "stream",
          "name": "stdout",
          "text": [
            "1500/1500 [==============================] - 7s 5ms/step - loss: 0.5220 - accuracy: 0.8120 - val_loss: 0.4232 - val_accuracy: 0.8457\n",
            "Epoch 2/5\n",
            "1500/1500 [==============================] - 7s 5ms/step - loss: 0.4128 - accuracy: 0.8482 - val_loss: 0.3915 - val_accuracy: 0.8537\n"
          ]
        }
      ]
    },
    {
      "cell_type": "markdown",
      "source": [
        "## Resumo do modelo"
      ],
      "metadata": {
        "id": "19BuD5tnEh04"
      }
    },
    {
      "cell_type": "code",
      "source": [
        "sumario_modelo = modelo.summary()"
      ],
      "metadata": {
        "colab": {
          "base_uri": "https://localhost:8080/"
        },
        "id": "1Hve8DgBEPJw",
        "outputId": "b2481c5d-1a48-44ef-d19d-0faf5aa69245"
      },
      "execution_count": 12,
      "outputs": [
        {
          "output_type": "stream",
          "name": "stdout",
          "text": [
            "Model: \"sequential\"\n",
            "_________________________________________________________________\n",
            " Layer (type)                Output Shape              Param #   \n",
            "=================================================================\n",
            " flatten (Flatten)           (None, 784)               0         \n",
            "                                                                 \n",
            " dense (Dense)               (None, 256)               200960    \n",
            "                                                                 \n",
            " dropout (Dropout)           (None, 256)               0         \n",
            "                                                                 \n",
            " dense_1 (Dense)             (None, 10)                2570      \n",
            "                                                                 \n",
            "=================================================================\n",
            "Total params: 203,530\n",
            "Trainable params: 203,530\n",
            "Non-trainable params: 0\n",
            "_________________________________________________________________\n"
          ]
        }
      ]
    },
    {
      "cell_type": "markdown",
      "source": [
        "## Pesos da primeira camada dense"
      ],
      "metadata": {
        "id": "VVB3VOGJG6VE"
      }
    },
    {
      "cell_type": "code",
      "source": [
        "pesos_camada_dense = modelo.layers[1].get_weights()[0]\n",
        "pesos_camada_dense"
      ],
      "metadata": {
        "colab": {
          "base_uri": "https://localhost:8080/"
        },
        "id": "X2SJkKW1Gurv",
        "outputId": "fbc3a993-e78e-4bae-90ca-f651d016b9c8"
      },
      "execution_count": 25,
      "outputs": [
        {
          "output_type": "execute_result",
          "data": {
            "text/plain": [
              "array([[ 0.06665657,  0.08702638,  0.08218083, ..., -0.03945239,\n",
              "         0.07998051,  0.05121087],\n",
              "       [ 0.06503488,  0.00182441, -0.00549513, ..., -0.10643879,\n",
              "        -0.02898683,  0.06418736],\n",
              "       [-0.2557048 , -0.20155469, -0.05865427, ..., -0.09288914,\n",
              "         0.16905493, -0.00355391],\n",
              "       ...,\n",
              "       [-0.15238515, -0.01487902, -0.05701625, ...,  0.00626245,\n",
              "        -0.21913743,  0.00920754],\n",
              "       [-0.11689798,  0.12726018,  0.10232242, ...,  0.0466113 ,\n",
              "        -0.09863809, -0.03951865],\n",
              "       [ 0.02810724, -0.04401531,  0.08111231, ...,  0.02867253,\n",
              "        -0.07991988,  0.03102371]], dtype=float32)"
            ]
          },
          "metadata": {},
          "execution_count": 25
        }
      ]
    },
    {
      "cell_type": "code",
      "source": [
        "modelo.compile(optimizer='adam', \n",
        "               loss='sparse_categorical_crossentropy',\n",
        "               metrics=['accuracy'])\n",
        "\n",
        "\n",
        "historico = modelo.fit(imagens_treino, identificacoes_treino, epochs=5, validation_split=0.2)"
      ],
      "metadata": {
        "colab": {
          "base_uri": "https://localhost:8080/"
        },
        "id": "mw8QNiRFcpQV",
        "outputId": "b70f15f7-ec49-4fe6-fcb3-a00ab49546bd"
      },
      "execution_count": 44,
      "outputs": [
        {
          "output_type": "stream",
          "name": "stdout",
          "text": [
            "Epoch 1/5\n",
            "1500/1500 [==============================] - 8s 5ms/step - loss: 2.4270 - accuracy: 0.1001 - val_loss: 2.3265 - val_accuracy: 0.0995\n",
            "Epoch 2/5\n",
            "1500/1500 [==============================] - 7s 4ms/step - loss: 2.3091 - accuracy: 0.1001 - val_loss: 2.3034 - val_accuracy: 0.0995\n",
            "Epoch 3/5\n",
            "1500/1500 [==============================] - 6s 4ms/step - loss: 2.3029 - accuracy: 0.0980 - val_loss: 2.3027 - val_accuracy: 0.0983\n",
            "Epoch 4/5\n",
            "1500/1500 [==============================] - 8s 6ms/step - loss: 2.3028 - accuracy: 0.0991 - val_loss: 2.3027 - val_accuracy: 0.0957\n",
            "Epoch 5/5\n",
            "1500/1500 [==============================] - 7s 5ms/step - loss: 2.3027 - accuracy: 0.0994 - val_loss: 2.3029 - val_accuracy: 0.0983\n"
          ]
        }
      ]
    },
    {
      "cell_type": "code",
      "source": [
        "plt.plot(historico.history['accuracy'])\n",
        "plt.plot(historico.history['val_accuracy'])\n",
        "plt.title('Acuracia por Épocas')\n",
        "plt.xlabel('Épocas')\n",
        "plt.ylabel('Acurácia')\n",
        "plt.legend(['treino', 'avaliação'])"
      ],
      "metadata": {
        "colab": {
          "base_uri": "https://localhost:8080/",
          "height": 316
        },
        "id": "KVqxG8Tsc1Wk",
        "outputId": "579432ca-126b-44b2-bf3b-68b8c7e8bcf1"
      },
      "execution_count": 45,
      "outputs": [
        {
          "output_type": "execute_result",
          "data": {
            "text/plain": [
              "<matplotlib.legend.Legend at 0x7fa015941f10>"
            ]
          },
          "metadata": {},
          "execution_count": 45
        },
        {
          "output_type": "display_data",
          "data": {
            "image/png": "[encoded data removed]",
            "text/plain": [
              "<Figure size 432x288 with 1 Axes>"
            ]
          },
          "metadata": {
            "needs_background": "light"
          }
        }
      ]
    },
    {
      "cell_type": "code",
      "source": [
        "plt.plot(historico.history['loss'])\n",
        "plt.plot(historico.history['val_loss'])\n",
        "plt.title('Acuracia por Épocas')\n",
        "plt.xlabel('Épocas')\n",
        "plt.ylabel('Perda')\n",
        "plt.legend(['treino', 'avaliação'])"
      ],
      "metadata": {
        "colab": {
          "base_uri": "https://localhost:8080/",
          "height": 316
        },
        "id": "sqZt4Xu5c1rd",
        "outputId": "f764a377-f558-457f-cf49-4dde993f3889"
      },
      "execution_count": 46,
      "outputs": [
        {
          "output_type": "execute_result",
          "data": {
            "text/plain": [
              "<matplotlib.legend.Legend at 0x7fa015a4c150>"
            ]
          },
          "metadata": {},
          "execution_count": 46
        },
        {
          "output_type": "display_data",
          "data": {
            "image/png": "[encoded data removed]",
            "text/plain": [
              "<Figure size 432x288 with 1 Axes>"
            ]
          },
          "metadata": {
            "needs_background": "light"
          }
        }
      ]
    },
    {
      "cell_type": "code",
      "source": [
        "vieses_camada_dense = modelo.layers[1].get_weights()[1]\n",
        "vieses_camada_dense"
      ],
      "metadata": {
        "colab": {
          "base_uri": "https://localhost:8080/"
        },
        "id": "-Qv9fOwBaTTM",
        "outputId": "0506a1e4-7afc-454c-9a68-7a5619e8c4e6"
      },
      "execution_count": 26,
      "outputs": [
        {
          "output_type": "execute_result",
          "data": {
            "text/plain": [
              "array([-7.05414861e-02, -3.41848046e-01, -7.86656067e-02,  4.02383395e-02,\n",
              "        3.12733501e-01, -8.28176551e-03,  2.54739791e-01,  7.10293874e-02,\n",
              "        8.04370865e-02, -1.63936857e-02,  1.40777626e-03,  2.53498822e-01,\n",
              "        1.46444082e-01, -1.99183729e-02,  1.83194101e-01, -1.07943721e-01,\n",
              "        1.87664866e-01,  6.56581372e-02,  8.47833753e-02,  2.66465068e-01,\n",
              "        2.11595111e-02, -2.03742027e-01,  3.18578243e-01, -1.12740798e-02,\n",
              "        1.76243559e-01,  3.10066611e-01, -2.02409029e-01, -5.03432378e-03,\n",
              "        1.68954805e-01, -1.83331370e-01,  2.31208950e-01,  2.63238490e-01,\n",
              "       -1.88960567e-01, -2.39788353e-01, -1.88678987e-02, -8.57822001e-02,\n",
              "        4.29844623e-03,  3.16354968e-02, -1.50455445e-01, -3.26030850e-02,\n",
              "        3.09671819e-01,  7.40075717e-03,  1.19359307e-01,  2.77456135e-01,\n",
              "       -2.04513017e-02,  2.79322773e-01,  2.05534890e-01,  3.96663845e-02,\n",
              "       -1.44084543e-02,  1.31434962e-01,  2.73809344e-01,  2.83246666e-01,\n",
              "       -7.10948184e-02,  1.77849919e-01,  1.20257720e-01, -9.08579975e-02,\n",
              "        2.15395093e-01,  1.12375543e-01,  1.05758928e-01,  1.56331927e-01,\n",
              "        9.45808925e-03,  1.72588632e-01, -2.03428622e-02,  2.29439110e-01,\n",
              "        4.11403537e-01,  3.50801021e-01,  7.65223950e-02,  1.85393602e-01,\n",
              "        4.57988322e-01,  1.18646935e-01,  8.91227275e-02,  6.57410920e-02,\n",
              "       -1.55917659e-01, -5.30912541e-02,  4.77285736e-04,  1.76773638e-01,\n",
              "        2.17661336e-01,  2.19018728e-01,  2.35988900e-01,  1.81830928e-01,\n",
              "        7.92105496e-02,  4.85708416e-02,  2.19073389e-02,  3.13717313e-02,\n",
              "        1.50752604e-01,  1.88543811e-01,  9.91775393e-02, -3.80702056e-02,\n",
              "       -1.22816533e-01,  3.19585741e-01, -1.17915738e-02, -6.67961687e-02,\n",
              "        1.96552098e-01, -1.53483450e-01, -1.32585257e-01, -2.26780735e-02,\n",
              "        5.76847903e-02, -1.99358538e-02, -1.44024447e-01,  2.12259009e-01,\n",
              "        4.15362954e-01,  2.75770187e-01, -9.36990138e-03,  1.38771504e-01,\n",
              "       -4.38270532e-03,  2.36924544e-01, -7.87544250e-02,  9.59651545e-03,\n",
              "        4.58703376e-03, -2.00251210e-02, -4.83592600e-02,  1.34695724e-01,\n",
              "        1.01368487e-01,  2.09231123e-01, -3.37418467e-02,  1.79786488e-01,\n",
              "        3.89273278e-02, -8.79334565e-03, -2.56713331e-02, -1.55962467e-01,\n",
              "        3.36709142e-01,  5.80400936e-02,  4.14263517e-01, -8.90088677e-02,\n",
              "        1.54205188e-01, -4.08964567e-02, -7.22253993e-02,  1.28666446e-01,\n",
              "        1.47309333e-01,  2.55050331e-01, -4.87449393e-03, -1.02658853e-01,\n",
              "        1.59580279e-02,  1.60070971e-01,  3.54307353e-01,  3.63518655e-01,\n",
              "        3.15944254e-01,  1.43395811e-01,  4.29136068e-01,  8.24837983e-02,\n",
              "       -1.77912802e-01, -1.43861145e-01,  2.91900486e-01, -1.43974543e-01,\n",
              "        5.16291894e-03,  1.15041085e-01, -2.21070543e-01,  3.22884098e-02,\n",
              "        1.64012834e-01,  1.45220593e-01,  1.36830851e-01,  1.18946575e-01,\n",
              "       -1.01727964e-02,  1.63904965e-01,  1.71247870e-01,  2.50382006e-01,\n",
              "       -1.72694605e-02,  2.35426426e-03, -1.81854188e-01,  5.05367331e-02,\n",
              "        1.59112394e-01,  8.76560807e-02, -2.40508810e-01,  1.45386800e-01,\n",
              "        2.40319759e-01,  2.94325501e-01,  6.93290904e-02,  2.30709717e-01,\n",
              "        2.18775749e-01,  1.60047352e-01,  1.33932367e-01,  7.57055134e-02,\n",
              "       -5.47900721e-02,  2.35126495e-01,  2.48407647e-01,  1.27133161e-01,\n",
              "        1.51044354e-01,  1.47495884e-02, -1.15435757e-02,  4.83088404e-01,\n",
              "       -4.90862019e-02,  3.83693159e-01,  2.92424977e-01,  1.23443216e-01,\n",
              "        3.42387140e-01,  3.69798914e-02,  3.76175284e-01,  3.78074378e-01,\n",
              "        2.30787992e-01, -2.44167402e-01,  6.38593286e-02,  1.43304721e-01,\n",
              "        3.12416372e-03,  2.49191225e-01,  1.65131569e-01, -1.33652696e-02,\n",
              "       -6.83373166e-03,  3.19526762e-01,  2.99291350e-02,  8.84937793e-02,\n",
              "        3.57492357e-01, -6.12405688e-03,  2.43147120e-01,  6.67055175e-02,\n",
              "        3.09994429e-01, -9.31575801e-03, -1.30670993e-02, -6.86443225e-02,\n",
              "       -2.47132778e-02,  3.40376422e-03, -2.91172713e-01,  3.60213727e-01,\n",
              "        2.57542074e-01,  4.41972502e-02,  1.86982751e-01, -1.52158849e-02,\n",
              "        1.77497029e-01,  2.11701632e-01,  2.05468372e-01, -3.85970443e-01,\n",
              "       -1.94940567e-01,  2.78834790e-01, -1.48892766e-02, -1.61835812e-02,\n",
              "        3.58027101e-01,  2.12962091e-01,  3.93280953e-01,  2.98144817e-01,\n",
              "        2.37009272e-01,  1.08050011e-01, -7.88139272e-03,  5.00288785e-01,\n",
              "        3.98929119e-02,  2.53683716e-01, -3.03277597e-02,  2.47749910e-01,\n",
              "        4.51797470e-02,  2.93311685e-01,  4.53000367e-01, -3.24602611e-02,\n",
              "        2.86825687e-01,  1.55927464e-01, -2.13852197e-01,  1.47126317e-01,\n",
              "        6.68004453e-02,  2.25127846e-01,  3.00615877e-01, -1.63572013e-01,\n",
              "       -2.27551572e-02, -1.90898329e-02, -1.79278538e-01,  2.04660863e-01,\n",
              "        1.73948020e-01, -3.29558067e-02,  1.96572933e-02, -1.63671374e-02],\n",
              "      dtype=float32)"
            ]
          },
          "metadata": {},
          "execution_count": 26
        }
      ]
    },
    {
      "cell_type": "code",
      "source": [
        "pesos_camada_dense_zerados = np.zeros(pesos_camada_dense.shape)\n",
        "modelo.layers[1].set_weights([pesos_camada_dense_zerados, vieses_camada_dense])\n",
        "modelo.layers[1].get_weights()[0]"
      ],
      "metadata": {
        "colab": {
          "base_uri": "https://localhost:8080/"
        },
        "id": "ulTAnoesb_xI",
        "outputId": "50de5743-6d2f-4d7a-97b3-97b223a4bcc4"
      },
      "execution_count": 27,
      "outputs": [
        {
          "output_type": "execute_result",
          "data": {
            "text/plain": [
              "array([[0., 0., 0., ..., 0., 0., 0.],\n",
              "       [0., 0., 0., ..., 0., 0., 0.],\n",
              "       [0., 0., 0., ..., 0., 0., 0.],\n",
              "       ...,\n",
              "       [0., 0., 0., ..., 0., 0., 0.],\n",
              "       [0., 0., 0., ..., 0., 0., 0.],\n",
              "       [0., 0., 0., ..., 0., 0., 0.]])"
            ]
          },
          "metadata": {},
          "execution_count": 27
        }
      ]
    },
    {
      "cell_type": "code",
      "source": [
        "vieses_camada_dense_zerados = np.zeros(vieses_camada_dense.shape)\n",
        "modelo.layers[1].set_weights([pesos_camada_dense_zerados, vieses_camada_dense_zerados])"
      ],
      "metadata": {
        "id": "an7pxbkRe4FC"
      },
      "execution_count": 43,
      "outputs": []
    },
    {
      "cell_type": "markdown",
      "source": [
        "# Salvando e carregando o modelo treinado"
      ],
      "metadata": {
        "id": "GEyM4rTtA7FT"
      }
    },
    {
      "cell_type": "code",
      "source": [
        "pesos_camada_dense_aleatorios = np.random.rand(784,256)\n",
        "modelo.layers[1].set_weights([pesos_camada_dense_aleatorios, vieses_camada_dense])\n",
        "modelo.layers[1].get_weights()[0]"
      ],
      "metadata": {
        "colab": {
          "base_uri": "https://localhost:8080/"
        },
        "id": "2BRxWiHRdN6e",
        "outputId": "9ed94941-3812-49d0-fdc0-e89415885417"
      },
      "execution_count": 37,
      "outputs": [
        {
          "output_type": "execute_result",
          "data": {
            "text/plain": [
              "array([[0.76965034, 0.04847366, 0.3740385 , ..., 0.46737674, 0.90266097,\n",
              "        0.6141753 ],\n",
              "       [0.8859596 , 0.24911684, 0.05925223, ..., 0.72819585, 0.43096867,\n",
              "        0.20779301],\n",
              "       [0.94003373, 0.22841974, 0.26881722, ..., 0.31269777, 0.97186005,\n",
              "        0.40164772],\n",
              "       ...,\n",
              "       [0.69024086, 0.04938871, 0.51907796, ..., 0.34288397, 0.7111328 ,\n",
              "        0.75316936],\n",
              "       [0.72261167, 0.42723998, 0.5687722 , ..., 0.61720014, 0.5242174 ,\n",
              "        0.19146511],\n",
              "       [0.49545538, 0.5911547 , 0.8210712 , ..., 0.66655517, 0.2348801 ,\n",
              "        0.68046594]], dtype=float32)"
            ]
          },
          "metadata": {},
          "execution_count": 37
        }
      ]
    },
    {
      "cell_type": "code",
      "source": [
        "modelo.save('modelo.h5')\n",
        "modelo_salvo = load_model('modelo.h5')"
      ],
      "metadata": {
        "id": "6rvUy37h_x-8"
      },
      "execution_count": 14,
      "outputs": []
    },
    {
      "cell_type": "markdown",
      "source": [
        "# Visualizando as acurácias de treino e validação por Época"
      ],
      "metadata": {
        "id": "o9aEc-Y7BROP"
      }
    },
    {
      "cell_type": "code",
      "source": [
        "plt.plot(historico.history['accuracy'])\n",
        "plt.plot(historico.history['val_accuracy'])\n",
        "plt.title('Acuracia por Épocas')\n",
        "plt.xlabel('Épocas')\n",
        "plt.ylabel('Acurácia')\n",
        "plt.legend(['treino', 'avaliação'])"
      ],
      "metadata": {
        "colab": {
          "base_uri": "https://localhost:8080/",
          "height": 316
        },
        "id": "LOOCO_IX979b",
        "outputId": "da763e77-aae6-419c-9263-d878ba854bdd"
      },
      "execution_count": 32,
      "outputs": [
        {
          "output_type": "execute_result",
          "data": {
            "text/plain": [
              "<matplotlib.legend.Legend at 0x7fa014df7d50>"
            ]
          },
          "metadata": {},
          "execution_count": 32
        },
        {
          "output_type": "display_data",
          "data": {
            "image/png": "[encoded data removed]",
            "text/plain": [
              "<Figure size 432x288 with 1 Axes>"
            ]
          },
          "metadata": {
            "needs_background": "light"
          }
        }
      ]
    },
    {
      "cell_type": "markdown",
      "source": [
        "# Visualizando as perdas de treino e validação por Época"
      ],
      "metadata": {
        "id": "yIM4lWcSBYeS"
      }
    },
    {
      "cell_type": "code",
      "source": [
        "plt.plot(historico.history['loss'])\n",
        "plt.plot(historico.history['val_loss'])\n",
        "plt.title('Acuracia por Épocas')\n",
        "plt.xlabel('Épocas')\n",
        "plt.ylabel('Perda')\n",
        "plt.legend(['treino', 'avaliação'])"
      ],
      "metadata": {
        "colab": {
          "base_uri": "https://localhost:8080/",
          "height": 316
        },
        "id": "ZPNR5JWi-oVw",
        "outputId": "18d49c52-d2a8-41dc-c903-41b307f11870"
      },
      "execution_count": 33,
      "outputs": [
        {
          "output_type": "execute_result",
          "data": {
            "text/plain": [
              "<matplotlib.legend.Legend at 0x7fa016003cd0>"
            ]
          },
          "metadata": {},
          "execution_count": 33
        },
        {
          "output_type": "display_data",
          "data": {
            "image/png": "[encoded data removed]",
            "text/plain": [
              "<Figure size 432x288 with 1 Axes>"
            ]
          },
          "metadata": {
            "needs_background": "light"
          }
        }
      ]
    },
    {
      "cell_type": "markdown",
      "source": [
        "# Testando o modelo e o modelo salvo"
      ],
      "metadata": {
        "id": "uG8CjSpdBbPa"
      }
    },
    {
      "cell_type": "code",
      "source": [
        "testes = modelo.predict(imagens_teste)\n",
        "testes_modelo_salvo = modelo_salvo.predict(imagens_teste)"
      ],
      "metadata": {
        "id": "rmNgJbKk3HxY"
      },
      "execution_count": 17,
      "outputs": []
    },
    {
      "cell_type": "code",
      "source": [
        "print(f'Resultado do teste: {np.argmax(testes[2])}')\n",
        "print(f'Número da imagem de teste: {identificacoes_teste[2]}')"
      ],
      "metadata": {
        "colab": {
          "base_uri": "https://localhost:8080/"
        },
        "id": "1w4lzdys8gHt",
        "outputId": "3fa1c20f-26e1-4100-a1db-057636eec350"
      },
      "execution_count": 18,
      "outputs": [
        {
          "output_type": "stream",
          "name": "stdout",
          "text": [
            "Resultado do teste: 1\n",
            "Número da imagem de teste: 1\n"
          ]
        }
      ]
    },
    {
      "cell_type": "markdown",
      "source": [
        "# Avaliando os modelos"
      ],
      "metadata": {
        "id": "Yav5roxBBgzZ"
      }
    },
    {
      "cell_type": "code",
      "source": [
        "perda_teste, acuracia_teste = modelo.evaluate(imagens_teste, identificacoes_teste)\n",
        "perda_teste_salvo, acuracia_teste_salvo = modelo_salvo.evaluate(imagens_teste, identificacoes_teste)"
      ],
      "metadata": {
        "colab": {
          "base_uri": "https://localhost:8080/"
        },
        "id": "dHUuF_te827n",
        "outputId": "b8aed080-e19b-4702-da31-a84ad7bc7c45"
      },
      "execution_count": 19,
      "outputs": [
        {
          "output_type": "stream",
          "name": "stdout",
          "text": [
            "313/313 [==============================] - 1s 3ms/step - loss: 51.6792 - accuracy: 0.8584\n",
            "313/313 [==============================] - 1s 2ms/step - loss: 51.6792 - accuracy: 0.8584\n"
          ]
        }
      ]
    },
    {
      "cell_type": "code",
      "source": [
        "print(f'Perda do teste: {perda_teste:.2f}')\n",
        "print(f'Acurácia do teste: {acuracia_teste:.2f}')\n",
        "print(f'Perda do teste salvo: {perda_teste_salvo:.2f}')\n",
        "print(f'Acurácia do teste salvo: {acuracia_teste_salvo:.2f}')"
      ],
      "metadata": {
        "colab": {
          "base_uri": "https://localhost:8080/"
        },
        "id": "K3ISEJXV9Nhs",
        "outputId": "bd61433c-a4f0-4c66-9506-b8419ddb1123"
      },
      "execution_count": 20,
      "outputs": [
        {
          "output_type": "stream",
          "name": "stdout",
          "text": [
            "Perda do teste: 51.68\n",
            "Acurácia do teste: 0.86\n",
            "Perda do teste salvo: 51.68\n",
            "Acurácia do teste salvo: 0.86\n"
          ]
        }
      ]
    },
    {
      "cell_type": "code",
      "source": [
        ""
      ],
      "metadata": {
        "id": "QYawqpGzBCRK"
      },
      "execution_count": 20,
      "outputs": []
    }
  ]
}