{
  "nbformat": 4,
  "nbformat_minor": 0,
  "metadata": {
    "colab": {
      "name": "deep-learning-rnn-redes-neurais-pytorch.ipynb",
      "provenance": [],
      "collapsed_sections": [
        "gmai_ryJVhd5"
      ]
    },
    "kernelspec": {
      "name": "python3",
      "display_name": "Python 3"
    },
    "language_info": {
      "name": "python"
    },
    "accelerator": "GPU"
  },
  "cells": [
    {
      "cell_type": "markdown",
      "metadata": {
        "id": "gmai_ryJVhd5"
      },
      "source": [
        "# Classificando nomes com uma *Character-Level RNN*\n",
        "\n",
        "Esse notebook foi criado com base no tutorial do PyTorch: <br> \n",
        "https://github.com/spro/practical-pytorch/blob/master/char-rnn-classification/char-rnn-classification.ipynb"
      ]
    },
    {
      "cell_type": "markdown",
      "metadata": {
        "id": "goO_pZBdVzrf"
      },
      "source": [
        "### Problema: Dado um nome próprio de entrada, classificar esse nome de acordo com a nacionalidade a que ele pertence.\n",
        "\n",
        "Entrada: **Hinton**\n",
        "\n",
        "(-0.47) Scottish\n",
        "\n",
        "(-1.52) English\n",
        "\n",
        "(-3.57) Irish\n",
        "\n",
        "\n",
        "-\n",
        "\n",
        "Entrada: **Schmidhuber**\n",
        "\n",
        "(-0.19) German\n",
        "\n",
        "(-2.48) Czech\n",
        "\n",
        "(-2.68) Dutch"
      ]
    },
    {
      "cell_type": "markdown",
      "metadata": {
        "id": "lliVTIikWKQf"
      },
      "source": [
        "### Import de bibliotecas"
      ]
    },
    {
      "cell_type": "code",
      "metadata": {
        "id": "Y2lbiDXXUNGM"
      },
      "source": [
        "# Para os dados\n",
        "import unicodedata\n",
        "import string\n",
        "import sys, random, os\n",
        "\n",
        "# Para o processamento e análise\n",
        "import torch\n",
        "from torch import nn\n",
        "import numpy as np\n",
        "import seaborn as sns\n",
        "sns.set_style('darkgrid')\n",
        "import matplotlib.pyplot as plt\n",
        "%matplotlib inline"
      ],
      "execution_count": 39,
      "outputs": []
    },
    {
      "cell_type": "code",
      "metadata": {
        "id": "iIvPHo3Or62y"
      },
      "source": [
        "args = {\n",
        "    'lr': 5e-5,\n",
        "    'regularizacao': 1e-7,\n",
        "    'num_epocas': 40,\n",
        "}\n",
        "args['device'] = torch.device('cuda' if torch.cuda.is_available() else 'cpu')"
      ],
      "execution_count": 40,
      "outputs": []
    },
    {
      "cell_type": "markdown",
      "metadata": {
        "id": "mVssEJvAiaHp"
      },
      "source": [
        "## Dados de entrada"
      ]
    },
    {
      "cell_type": "markdown",
      "metadata": {
        "id": "XjtvooS3WsIB"
      },
      "source": [
        "### Importando dataset"
      ]
    },
    {
      "cell_type": "code",
      "metadata": {
        "id": "Smrb3GKqWsVu",
        "outputId": "20c59f2b-317c-46ea-8098-07474e6f68f8",
        "colab": {
          "base_uri": "https://localhost:8080/"
        }
      },
      "source": [
        "# comente as duas linhas seguintes caso rode mais de uma vez\n",
        "!wget https://download.pytorch.org/tutorial/data.zip #\n",
        "!unzip data.zip #\n",
        "############################################################"
      ],
      "execution_count": 41,
      "outputs": [
        {
          "output_type": "stream",
          "name": "stdout",
          "text": [
            "--2022-02-26 22:30:26--  https://download.pytorch.org/tutorial/data.zip\n",
            "Resolving download.pytorch.org (download.pytorch.org)... 18.67.65.26, 18.67.65.118, 18.67.65.73, ...\n",
            "Connecting to download.pytorch.org (download.pytorch.org)|18.67.65.26|:443... connected.\n",
            "HTTP request sent, awaiting response... 200 OK\n",
            "Length: 2882130 (2.7M) [application/zip]\n",
            "Saving to: ‘data.zip.7’\n",
            "\n",
            "\rdata.zip.7            0%[                    ]       0  --.-KB/s               \rdata.zip.7          100%[===================>]   2.75M  --.-KB/s    in 0.04s   \n",
            "\n",
            "2022-02-26 22:30:26 (63.2 MB/s) - ‘data.zip.7’ saved [2882130/2882130]\n",
            "\n",
            "Archive:  data.zip\n",
            "replace data/eng-fra.txt? [y]es, [n]o, [A]ll, [N]one, [r]ename: A\n",
            "  inflating: data/eng-fra.txt        \n",
            "  inflating: data/names/Arabic.txt   \n",
            "  inflating: data/names/Chinese.txt  \n",
            "  inflating: data/names/Czech.txt    \n",
            "  inflating: data/names/Dutch.txt    \n",
            "  inflating: data/names/English.txt  \n",
            "  inflating: data/names/French.txt   \n",
            "  inflating: data/names/German.txt   \n",
            "  inflating: data/names/Greek.txt    \n",
            "  inflating: data/names/Irish.txt    \n",
            "  inflating: data/names/Italian.txt  \n",
            "  inflating: data/names/Japanese.txt  \n",
            "  inflating: data/names/Korean.txt   \n",
            "  inflating: data/names/Polish.txt   \n",
            "  inflating: data/names/Portuguese.txt  \n",
            "  inflating: data/names/Russian.txt  \n",
            "  inflating: data/names/Scottish.txt  \n",
            "  inflating: data/names/Spanish.txt  \n",
            "  inflating: data/names/Vietnamese.txt  \n"
          ]
        }
      ]
    },
    {
      "cell_type": "code",
      "metadata": {
        "id": "xBgek-v83EA6",
        "outputId": "f57e9465-1d8d-420a-d4f1-ba4cc6e32355",
        "colab": {
          "base_uri": "https://localhost:8080/"
        }
      },
      "source": [
        "# Transforma um arquivo de nomes em listas e/ou arrays (nomes, rotulos)\n",
        "def readLines(filename):\n",
        "    lines     = open(filename).read().strip().split('\\n')\n",
        "    nomes     = [unicodedata.normalize('NFKD', line).encode('ascii', 'ignore') for line in lines]\n",
        "    categoria = filename.split('/')[-1].split('.')[0]\n",
        "    rotulos   = np.repeat( categoria, len(nomes) )\n",
        "\n",
        "    return nomes, rotulos \n",
        "\n",
        "\n",
        "root_path = 'data/names/'\n",
        "arquivos = sorted(os.listdir(root_path))\n",
        "categorias = [a[:-4] for a in arquivos]\n",
        "\n",
        "dados, rotulos = [], []\n",
        "samples_perclass = []\n",
        "\n",
        "for file_name in arquivos:\n",
        "  retorno = readLines(os.path.join(root_path,file_name))\n",
        "  dados.append(retorno[0])\n",
        "  rotulos.append(retorno[1])\n",
        "\n",
        "  samples_perclass.append( (file_name, len(retorno[0])) )\n",
        "\n",
        "\n",
        "print(samples_perclass, )\n",
        "print('Minimo amostras', min(samples_perclass, key= lambda k: k[1]), '\\n' )\n",
        "\n",
        "print(dados[categorias.index('Portuguese')][0:10])\n",
        "print(rotulos[categorias.index('Portuguese')][0:10])"
      ],
      "execution_count": 42,
      "outputs": [
        {
          "output_type": "stream",
          "name": "stdout",
          "text": [
            "[('Arabic.txt', 2000), ('Chinese.txt', 268), ('Czech.txt', 519), ('Dutch.txt', 297), ('English.txt', 3668), ('French.txt', 277), ('German.txt', 724), ('Greek.txt', 203), ('Irish.txt', 232), ('Italian.txt', 709), ('Japanese.txt', 991), ('Korean.txt', 94), ('Polish.txt', 139), ('Portuguese.txt', 74), ('Russian.txt', 9408), ('Scottish.txt', 100), ('Spanish.txt', 298), ('Vietnamese.txt', 73)]\n",
            "Minimo amostras ('Vietnamese.txt', 73) \n",
            "\n",
            "[b'Abreu', b'Albuquerque', b'Almeida', b'Alves', b'Araujo', b'Araullo', b'Barros', b'Basurto', b'Belo', b'Cabral']\n",
            "['Portuguese' 'Portuguese' 'Portuguese' 'Portuguese' 'Portuguese'\n",
            " 'Portuguese' 'Portuguese' 'Portuguese' 'Portuguese' 'Portuguese']\n"
          ]
        }
      ]
    },
    {
      "cell_type": "markdown",
      "metadata": {
        "id": "1HlMtAzxfneB"
      },
      "source": [
        "### Convertendo os dados para tensor"
      ]
    },
    {
      "cell_type": "markdown",
      "metadata": {
        "id": "WMoQMcoRkSZd"
      },
      "source": [
        "**Convertendo os rótulos para tensor**\n",
        "\n",
        "Representação One-Hot de 18 categorias de idiomas que queremos prever."
      ]
    },
    {
      "cell_type": "code",
      "metadata": {
        "id": "7HVlWioYjlUA",
        "outputId": "870422ae-0eef-4092-f516-4c6029f84d5c",
        "colab": {
          "base_uri": "https://localhost:8080/"
        }
      },
      "source": [
        "def label2tensor(rotulos):\n",
        "  rotulos_tns = torch.zeros( len(rotulos), 1, dtype=torch.int64 )\n",
        "  for k, rotulo in enumerate(rotulos):\n",
        "    idx = categorias.index(rotulo)\n",
        "    rotulos_tns[k][0] = idx\n",
        "  return rotulos_tns\n",
        "\n",
        "rotulos_arabe = rotulos[0]\n",
        "rotulos_tns = label2tensor(rotulos_arabe)\n",
        "print(type(rotulos_tns), rotulos_arabe[0], rotulos_tns[0])"
      ],
      "execution_count": 43,
      "outputs": [
        {
          "output_type": "stream",
          "name": "stdout",
          "text": [
            "<class 'torch.Tensor'> Arabic tensor([0])\n"
          ]
        }
      ]
    },
    {
      "cell_type": "markdown",
      "metadata": {
        "id": "9JCS8K8XkWNQ"
      },
      "source": [
        "**Convertendo os nomes para tensor**\n",
        "\n",
        "Aqui também usaremos a representação One-Hot, porém teremos que trabalhar com uma lista de tensores, pois os nomes tem comprimentos diferentes. Mais à frente no curso aprenderemos a lidar com isso da forma certa!"
      ]
    },
    {
      "cell_type": "code",
      "metadata": {
        "id": "ix07lvp9fmZi",
        "outputId": "41de0e69-039a-4dcd-c3ce-de1d184cfdaa",
        "colab": {
          "base_uri": "https://localhost:8080/"
        }
      },
      "source": [
        "caracteres_validos = string.ascii_letters\n",
        "print(caracteres_validos)\n",
        "tam_dicionario = len(caracteres_validos)\n",
        "\n",
        "def nome2tensor(nome):\n",
        "  tns = torch.zeros( len(nome), tam_dicionario )\n",
        "  \n",
        "  for k, letra in enumerate(nome.decode('utf-8')):\n",
        "    idx = caracteres_validos.find(letra)\n",
        "    tns[k, idx] = 1\n",
        "\n",
        "  return tns\n",
        "\n",
        "dados_arabe = dados[0]\n",
        "dados_tns = [nome2tensor(dado) for dado in dados_arabe]\n",
        "print(dados_arabe[0].decode('utf-8')[0],'\\n', dados_tns[0][0])\n"
      ],
      "execution_count": 44,
      "outputs": [
        {
          "output_type": "stream",
          "name": "stdout",
          "text": [
            "abcdefghijklmnopqrstuvwxyzABCDEFGHIJKLMNOPQRSTUVWXYZ\n",
            "K \n",
            " tensor([0., 0., 0., 0., 0., 0., 0., 0., 0., 0., 0., 0., 0., 0., 0., 0., 0., 0.,\n",
            "        0., 0., 0., 0., 0., 0., 0., 0., 0., 0., 0., 0., 0., 0., 0., 0., 0., 0.,\n",
            "        1., 0., 0., 0., 0., 0., 0., 0., 0., 0., 0., 0., 0., 0., 0., 0.])\n"
          ]
        }
      ]
    },
    {
      "cell_type": "markdown",
      "metadata": {
        "id": "sU4QqWqgBqxc"
      },
      "source": [
        "**Amostrando batch balanceado**"
      ]
    },
    {
      "cell_type": "code",
      "metadata": {
        "id": "GYfkmF8q5mT4",
        "outputId": "0e8df23f-9efe-49e1-f3a0-65bd56de0e49",
        "colab": {
          "base_uri": "https://localhost:8080/"
        }
      },
      "source": [
        "num_amostras = min(samples_perclass, key= lambda k: k[1])[1]\n",
        "\n",
        "def sample_batch(size=num_amostras):\n",
        "  dados_batch, rotulos_batch = [], []\n",
        "  for cat in categorias:\n",
        "    \n",
        "    amostras_cat = dados[categorias.index(cat)]\n",
        "    idx = np.random.choice(range(len(amostras_cat)), size=size)\n",
        "    \n",
        "    dados_batch.extend([ r for k, r in enumerate(dados[categorias.index(cat)]) if k in idx])\n",
        "    rotulos_batch.extend([ r for k, r in enumerate(rotulos[categorias.index(cat)]) if k in idx])\n",
        "\n",
        "  dados_tns = [nome2tensor(dado) for dado in dados_batch]\n",
        "  return dados_tns, label2tensor(rotulos_batch)\n",
        "\n",
        "dados_batch, rotulos_batch = sample_batch()\n",
        "print(len(dados_batch), dados_batch[0].size(), rotulos_batch.size())"
      ],
      "execution_count": 45,
      "outputs": [
        {
          "output_type": "stream",
          "name": "stdout",
          "text": [
            "1140 torch.Size([3, 52]) torch.Size([1140, 1])\n"
          ]
        }
      ]
    },
    {
      "cell_type": "markdown",
      "metadata": {
        "id": "joBV8pWElOO5"
      },
      "source": [
        "### Por fim, vamos separar dados de treino e teste."
      ]
    },
    {
      "cell_type": "code",
      "metadata": {
        "id": "AisQtZfilR9v",
        "colab": {
          "base_uri": "https://localhost:8080/"
        },
        "outputId": "eeaec9ce-1201-4143-d58a-fc053d9fd1fc"
      },
      "source": [
        "from sklearn.model_selection import train_test_split\n",
        "\n",
        "Xtrain, Xtest, Ytrain, Ytest = train_test_split(dados_tns, rotulos_tns, test_size=0.2)\n",
        "print(len(Xtrain), len(Xtest))"
      ],
      "execution_count": 46,
      "outputs": [
        {
          "output_type": "stream",
          "name": "stdout",
          "text": [
            "1600 400\n"
          ]
        }
      ]
    },
    {
      "cell_type": "markdown",
      "metadata": {
        "id": "QnZL-mUXmMtA"
      },
      "source": [
        "## Modelo Recorrente\n",
        "\n",
        "* Implemente um modelo para classificação de nomes próprios (série de caracteres) usando apenas camadas *RNNCell*, *Linear* e ativação *LogSoftmax*\n",
        "* Cada entrada (caracter) possui dimensão (52): alfabeto maiúsculo e minúsculo\n",
        "* *Hidden size* possui dimensão (256): hiperparâmetro \n",
        "* Saída possui dimensão (18): vetor de probabilidade de classes\n",
        "* Batch size = 1 **pra não termos que lidar com as sequências de tamanho variável.**\n",
        "\n",
        "### Links úteis\n",
        "\n",
        "RNNCell: https://pytorch.org/docs/stable/generated/torch.nn.RNNCell.html#torch.nn.RNNCell\n",
        "\n",
        "Linear: https://pytorch.org/docs/stable/generated/torch.nn.Linear.html#torch.nn.Linear\n",
        "\n",
        "Non-linear activations: https://pytorch.org/docs/stable/generated/torch.nn.LogSoftmax.html#torch.nn.LogSoftmax"
      ]
    },
    {
      "cell_type": "code",
      "metadata": {
        "id": "PY9NvNN8kT-z",
        "outputId": "9ce87e3e-9166-4e77-94e1-9a0bbebe4d77",
        "colab": {
          "base_uri": "https://localhost:8080/"
        }
      },
      "source": [
        "class RNN(nn.Module):\n",
        "    def __init__(self, tam_entrada, tam_feature, tam_saida):\n",
        "        super(RNN, self).__init__()\n",
        "        \n",
        "        self.tam_entrada = tam_entrada\n",
        "        self.tam_feature = tam_feature\n",
        "        self.tam_saida   = tam_saida\n",
        "        \n",
        "        self.rnn    = nn.RNNCell(self.tam_entrada, self.tam_feature)\n",
        "        self.linear = nn.Linear(self.tam_feature, self.tam_saida)\n",
        "        self.softmax = nn.LogSoftmax()\n",
        "    \n",
        "    def forward(self, nome):\n",
        "      \n",
        "        # Inicialize o estado interno da RNN\n",
        "        hidden = torch.zeros(1, self.tam_feature).to(args['device'])\n",
        "        \n",
        "        for letra in nome:\n",
        "          letra = letra.unsqueeze(0)\n",
        "          hidden = self.rnn(letra, hidden)\n",
        "        \n",
        "        saida = self.linear(hidden)\n",
        "        saida = self.softmax(saida) \n",
        "        return saida\n",
        "\n",
        "tam_feature = 256\n",
        "model = RNN(tam_dicionario, tam_feature, len(categorias))\n",
        "model.to(args['device'])"
      ],
      "execution_count": 47,
      "outputs": [
        {
          "output_type": "execute_result",
          "data": {
            "text/plain": [
              "RNN(\n",
              "  (rnn): RNNCell(52, 256)\n",
              "  (linear): Linear(in_features=256, out_features=18, bias=True)\n",
              "  (softmax): LogSoftmax(dim=None)\n",
              ")"
            ]
          },
          "metadata": {},
          "execution_count": 47
        }
      ]
    },
    {
      "cell_type": "markdown",
      "metadata": {
        "id": "SVSrUbUns5WH"
      },
      "source": [
        "## Loss e Otimizador"
      ]
    },
    {
      "cell_type": "code",
      "metadata": {
        "id": "0UwVsprXr5BV"
      },
      "source": [
        "criterion = nn.NLLLoss().to(args['device']) \n",
        "optimizer = torch.optim.Adam(model.parameters(), lr=args['lr'], weight_decay=args['regularizacao'])"
      ],
      "execution_count": 48,
      "outputs": []
    },
    {
      "cell_type": "markdown",
      "metadata": {
        "id": "mNex6BA1s4_W"
      },
      "source": [
        "## Treinamento\n",
        "\n",
        "A otimização é um processo que tem uma raíz muito bem definida de passo a passo, sempre fazemos:\n",
        "* Carregar os dados e colocar no dispositivo de hardware adequado\n",
        "* Forward do dado na rede\n",
        "* Cálculo da função de custo (no nosso caso uma função composta)\n",
        "* Passos de Otimização\n",
        "  * Zerar os gradientes do otimizador (`optimizer.zero_grad()`)\n",
        "  * Calcular os gradientes com base na loss (`loss.backward()`)\n",
        "  * Passo de otimização (`optimizer.step()`)\n",
        "\n",
        "Apesar de cada solução ter pequenas variações em um ou mais passos do fluxo, o esqueleto é sempre o mesmo. "
      ]
    },
    {
      "cell_type": "code",
      "metadata": {
        "id": "N3AvGhzMscZT"
      },
      "source": [
        "def forward(X, Y, etapa):\n",
        "  if etapa == 'Treino': model.train()\n",
        "  else: model.eval()\n",
        "\n",
        "  acuracia = 0.\n",
        "  loss_epoca = []\n",
        "  for k, (dado, rotulo) in enumerate(zip(X, Y)):\n",
        "      \n",
        "    dado = dado.to(args['device'])\n",
        "    rotulo = rotulo.to(args['device'])\n",
        "\n",
        "    saida = model(dado)\n",
        "    loss = criterion(saida, rotulo)\n",
        "    loss_epoca.append(loss.detach().cpu().numpy())\n",
        "\n",
        "    _, pred = torch.max(saida, axis=-1)\n",
        "    acuracia += 1 if pred[0].item() == rotulo[0].item() else 0\n",
        "\n",
        "    if etapa == 'Treino':\n",
        "      # Otimização\n",
        "      optimizer.zero_grad()\n",
        "      loss.backward()\n",
        "      optimizer.step()\n",
        "\n",
        "  loss_epoca = np.asarray(loss_epoca).ravel()\n",
        "  acuracia   = acuracia/float(len(loss_epoca))\n",
        "  print('\\n','*'*15 + etapa + '*'*15 )\n",
        "  print('Epoca: {:}, Loss: {:.4f} +/- {:.4f}, Acurácia: {:.4f}'.format(epoca, loss_epoca.mean(), \n",
        "                                                                        loss_epoca.std(), \n",
        "                                                                        acuracia\n",
        "                                                                       )) \n",
        "  return loss_epoca.mean(), acuracia"
      ],
      "execution_count": 49,
      "outputs": []
    },
    {
      "cell_type": "code",
      "metadata": {
        "id": "RaxYaVprzIS3",
        "outputId": "54163fc1-6160-4ae8-9bd2-243f160ba2d8",
        "colab": {
          "base_uri": "https://localhost:8080/"
        }
      },
      "source": [
        "loss_treino, loss_test = [], []\n",
        "acc_treino, acc_test = [], []\n",
        "\n",
        "dados_test, rotulos_test = sample_batch(size=5)\n",
        "for epoca in range(50):\n",
        "\n",
        "  dados_tns, rotulos_tns = sample_batch()\n",
        "\n",
        "  loss, acuracia = forward(dados_tns, rotulos_tns, 'Treino')\n",
        "  loss_treino.append(loss)\n",
        "  acc_treino.append(acuracia)  \n",
        "\n",
        "  loss, acuracia = forward(dados_test, rotulos_test, 'Teste')\n",
        "  loss_test.append(loss)\n",
        "  acc_test.append(acuracia)\n"
      ],
      "execution_count": 50,
      "outputs": [
        {
          "output_type": "stream",
          "name": "stderr",
          "text": [
            "/usr/local/lib/python3.7/dist-packages/ipykernel_launcher.py:23: UserWarning: Implicit dimension choice for log_softmax has been deprecated. Change the call to include dim=X as an argument.\n"
          ]
        },
        {
          "output_type": "stream",
          "name": "stdout",
          "text": [
            "\n",
            " ***************Treino***************\n",
            "Epoca: 0, Loss: 2.6870 +/- 0.6588, Acurácia: 0.1420\n",
            "\n",
            " ***************Teste***************\n",
            "Epoca: 0, Loss: 3.0892 +/- 0.7815, Acurácia: 0.0333\n",
            "\n",
            " ***************Treino***************\n",
            "Epoca: 1, Loss: 2.6340 +/- 0.7146, Acurácia: 0.1458\n",
            "\n",
            " ***************Teste***************\n",
            "Epoca: 1, Loss: 3.3459 +/- 1.0428, Acurácia: 0.0667\n",
            "\n",
            " ***************Treino***************\n",
            "Epoca: 2, Loss: 2.6219 +/- 0.6734, Acurácia: 0.1068\n",
            "\n",
            " ***************Teste***************\n",
            "Epoca: 2, Loss: 3.2700 +/- 0.9364, Acurácia: 0.0667\n",
            "\n",
            " ***************Treino***************\n",
            "Epoca: 3, Loss: 2.5387 +/- 0.7170, Acurácia: 0.1360\n",
            "\n",
            " ***************Teste***************\n",
            "Epoca: 3, Loss: 3.3810 +/- 1.0219, Acurácia: 0.0778\n",
            "\n",
            " ***************Treino***************\n",
            "Epoca: 4, Loss: 2.5528 +/- 0.7187, Acurácia: 0.1380\n",
            "\n",
            " ***************Teste***************\n",
            "Epoca: 4, Loss: 3.3501 +/- 0.9942, Acurácia: 0.0333\n",
            "\n",
            " ***************Treino***************\n",
            "Epoca: 5, Loss: 2.4912 +/- 0.6800, Acurácia: 0.1512\n",
            "\n",
            " ***************Teste***************\n",
            "Epoca: 5, Loss: 3.4601 +/- 1.1336, Acurácia: 0.0667\n",
            "\n",
            " ***************Treino***************\n",
            "Epoca: 6, Loss: 2.4565 +/- 0.7097, Acurácia: 0.1808\n",
            "\n",
            " ***************Teste***************\n",
            "Epoca: 6, Loss: 3.5568 +/- 1.2904, Acurácia: 0.0667\n",
            "\n",
            " ***************Treino***************\n",
            "Epoca: 7, Loss: 2.4165 +/- 0.7618, Acurácia: 0.1855\n",
            "\n",
            " ***************Teste***************\n",
            "Epoca: 7, Loss: 3.5173 +/- 1.2329, Acurácia: 0.0778\n",
            "\n",
            " ***************Treino***************\n",
            "Epoca: 8, Loss: 2.3555 +/- 0.7543, Acurácia: 0.2032\n",
            "\n",
            " ***************Teste***************\n",
            "Epoca: 8, Loss: 3.5020 +/- 1.2538, Acurácia: 0.0444\n",
            "\n",
            " ***************Treino***************\n",
            "Epoca: 9, Loss: 2.2752 +/- 0.7811, Acurácia: 0.2371\n",
            "\n",
            " ***************Teste***************\n",
            "Epoca: 9, Loss: 3.5163 +/- 1.2245, Acurácia: 0.0778\n",
            "\n",
            " ***************Treino***************\n",
            "Epoca: 10, Loss: 2.2350 +/- 0.7664, Acurácia: 0.2359\n",
            "\n",
            " ***************Teste***************\n",
            "Epoca: 10, Loss: 3.5356 +/- 1.2489, Acurácia: 0.0556\n",
            "\n",
            " ***************Treino***************\n",
            "Epoca: 11, Loss: 2.1969 +/- 0.7950, Acurácia: 0.2606\n",
            "\n",
            " ***************Teste***************\n",
            "Epoca: 11, Loss: 3.7776 +/- 1.4641, Acurácia: 0.0667\n",
            "\n",
            " ***************Treino***************\n",
            "Epoca: 12, Loss: 2.1353 +/- 0.8132, Acurácia: 0.2743\n",
            "\n",
            " ***************Teste***************\n",
            "Epoca: 12, Loss: 3.8068 +/- 1.5058, Acurácia: 0.0778\n",
            "\n",
            " ***************Treino***************\n",
            "Epoca: 13, Loss: 2.1232 +/- 0.8580, Acurácia: 0.2775\n",
            "\n",
            " ***************Teste***************\n",
            "Epoca: 13, Loss: 3.7847 +/- 1.5867, Acurácia: 0.1222\n",
            "\n",
            " ***************Treino***************\n",
            "Epoca: 14, Loss: 2.0505 +/- 0.8443, Acurácia: 0.3001\n",
            "\n",
            " ***************Teste***************\n",
            "Epoca: 14, Loss: 3.9279 +/- 1.7273, Acurácia: 0.1000\n",
            "\n",
            " ***************Treino***************\n",
            "Epoca: 15, Loss: 1.9813 +/- 0.8612, Acurácia: 0.3150\n",
            "\n",
            " ***************Teste***************\n",
            "Epoca: 15, Loss: 3.9063 +/- 1.7879, Acurácia: 0.1000\n",
            "\n",
            " ***************Treino***************\n",
            "Epoca: 16, Loss: 1.9434 +/- 0.8680, Acurácia: 0.3360\n",
            "\n",
            " ***************Teste***************\n",
            "Epoca: 16, Loss: 4.0147 +/- 1.9728, Acurácia: 0.0889\n",
            "\n",
            " ***************Treino***************\n",
            "Epoca: 17, Loss: 1.9299 +/- 0.9136, Acurácia: 0.3381\n",
            "\n",
            " ***************Teste***************\n",
            "Epoca: 17, Loss: 3.9138 +/- 1.9868, Acurácia: 0.0889\n",
            "\n",
            " ***************Treino***************\n",
            "Epoca: 18, Loss: 1.9373 +/- 0.9545, Acurácia: 0.3316\n",
            "\n",
            " ***************Teste***************\n",
            "Epoca: 18, Loss: 3.7740 +/- 1.8349, Acurácia: 0.1222\n",
            "\n",
            " ***************Treino***************\n",
            "Epoca: 19, Loss: 1.8876 +/- 0.9325, Acurácia: 0.3704\n",
            "\n",
            " ***************Teste***************\n",
            "Epoca: 19, Loss: 3.9654 +/- 1.9641, Acurácia: 0.1333\n",
            "\n",
            " ***************Treino***************\n",
            "Epoca: 20, Loss: 1.8463 +/- 0.9342, Acurácia: 0.3699\n",
            "\n",
            " ***************Teste***************\n",
            "Epoca: 20, Loss: 3.6878 +/- 1.7663, Acurácia: 0.1222\n",
            "\n",
            " ***************Treino***************\n",
            "Epoca: 21, Loss: 1.8248 +/- 0.9762, Acurácia: 0.3818\n",
            "\n",
            " ***************Teste***************\n",
            "Epoca: 21, Loss: 4.0215 +/- 2.0807, Acurácia: 0.1222\n",
            "\n",
            " ***************Treino***************\n",
            "Epoca: 22, Loss: 1.7602 +/- 0.9607, Acurácia: 0.4026\n",
            "\n",
            " ***************Teste***************\n",
            "Epoca: 22, Loss: 3.6044 +/- 1.8345, Acurácia: 0.1222\n",
            "\n",
            " ***************Treino***************\n",
            "Epoca: 23, Loss: 1.7989 +/- 1.0091, Acurácia: 0.3870\n",
            "\n",
            " ***************Teste***************\n",
            "Epoca: 23, Loss: 3.9266 +/- 2.0104, Acurácia: 0.1333\n",
            "\n",
            " ***************Treino***************\n",
            "Epoca: 24, Loss: 1.7964 +/- 0.9693, Acurácia: 0.3831\n",
            "\n",
            " ***************Teste***************\n",
            "Epoca: 24, Loss: 4.1397 +/- 2.0981, Acurácia: 0.1222\n",
            "\n",
            " ***************Treino***************\n",
            "Epoca: 25, Loss: 1.7774 +/- 0.9705, Acurácia: 0.3913\n",
            "\n",
            " ***************Teste***************\n",
            "Epoca: 25, Loss: 4.1834 +/- 2.1519, Acurácia: 0.1333\n",
            "\n",
            " ***************Treino***************\n",
            "Epoca: 26, Loss: 1.7807 +/- 0.9928, Acurácia: 0.3986\n",
            "\n",
            " ***************Teste***************\n",
            "Epoca: 26, Loss: 4.3073 +/- 2.2454, Acurácia: 0.1222\n",
            "\n",
            " ***************Treino***************\n",
            "Epoca: 27, Loss: 1.7654 +/- 1.0053, Acurácia: 0.4152\n",
            "\n",
            " ***************Teste***************\n",
            "Epoca: 27, Loss: 4.3479 +/- 2.2381, Acurácia: 0.1333\n",
            "\n",
            " ***************Treino***************\n",
            "Epoca: 28, Loss: 1.7880 +/- 1.0460, Acurácia: 0.3974\n",
            "\n",
            " ***************Teste***************\n",
            "Epoca: 28, Loss: 4.1979 +/- 2.1892, Acurácia: 0.1333\n",
            "\n",
            " ***************Treino***************\n",
            "Epoca: 29, Loss: 1.8033 +/- 1.0552, Acurácia: 0.3961\n",
            "\n",
            " ***************Teste***************\n",
            "Epoca: 29, Loss: 4.0642 +/- 2.1008, Acurácia: 0.1667\n",
            "\n",
            " ***************Treino***************\n",
            "Epoca: 30, Loss: 1.8299 +/- 1.0980, Acurácia: 0.3959\n",
            "\n",
            " ***************Teste***************\n",
            "Epoca: 30, Loss: 3.7590 +/- 2.0270, Acurácia: 0.2000\n",
            "\n",
            " ***************Treino***************\n",
            "Epoca: 31, Loss: 1.8333 +/- 1.0468, Acurácia: 0.3881\n",
            "\n",
            " ***************Teste***************\n",
            "Epoca: 31, Loss: 3.3635 +/- 1.6284, Acurácia: 0.1889\n",
            "\n",
            " ***************Treino***************\n",
            "Epoca: 32, Loss: 1.8202 +/- 1.0700, Acurácia: 0.3943\n",
            "\n",
            " ***************Teste***************\n",
            "Epoca: 32, Loss: 3.4637 +/- 1.6216, Acurácia: 0.1778\n",
            "\n",
            " ***************Treino***************\n",
            "Epoca: 33, Loss: 1.7964 +/- 1.0950, Acurácia: 0.4213\n",
            "\n",
            " ***************Teste***************\n",
            "Epoca: 33, Loss: 3.3495 +/- 1.6261, Acurácia: 0.1444\n",
            "\n",
            " ***************Treino***************\n",
            "Epoca: 34, Loss: 1.7973 +/- 1.1014, Acurácia: 0.4277\n",
            "\n",
            " ***************Teste***************\n",
            "Epoca: 34, Loss: 3.5247 +/- 1.7186, Acurácia: 0.1556\n",
            "\n",
            " ***************Treino***************\n",
            "Epoca: 35, Loss: 1.7885 +/- 1.0924, Acurácia: 0.4272\n",
            "\n",
            " ***************Teste***************\n",
            "Epoca: 35, Loss: 3.4190 +/- 1.7260, Acurácia: 0.1778\n",
            "\n",
            " ***************Treino***************\n",
            "Epoca: 36, Loss: 1.7005 +/- 1.0220, Acurácia: 0.4452\n",
            "\n",
            " ***************Teste***************\n",
            "Epoca: 36, Loss: 3.7959 +/- 1.8929, Acurácia: 0.1333\n",
            "\n",
            " ***************Treino***************\n",
            "Epoca: 37, Loss: 1.7597 +/- 1.1306, Acurácia: 0.4240\n",
            "\n",
            " ***************Teste***************\n",
            "Epoca: 37, Loss: 3.8684 +/- 1.9350, Acurácia: 0.1222\n",
            "\n",
            " ***************Treino***************\n",
            "Epoca: 38, Loss: 1.7666 +/- 1.1430, Acurácia: 0.4323\n",
            "\n",
            " ***************Teste***************\n",
            "Epoca: 38, Loss: 3.9634 +/- 2.0143, Acurácia: 0.1222\n",
            "\n",
            " ***************Treino***************\n",
            "Epoca: 39, Loss: 1.7563 +/- 1.1750, Acurácia: 0.4489\n",
            "\n",
            " ***************Teste***************\n",
            "Epoca: 39, Loss: 4.1082 +/- 2.1186, Acurácia: 0.1222\n",
            "\n",
            " ***************Treino***************\n",
            "Epoca: 40, Loss: 1.7462 +/- 1.1527, Acurácia: 0.4445\n",
            "\n",
            " ***************Teste***************\n",
            "Epoca: 40, Loss: 4.0398 +/- 2.1553, Acurácia: 0.1222\n",
            "\n",
            " ***************Treino***************\n",
            "Epoca: 41, Loss: 1.7897 +/- 1.1459, Acurácia: 0.4197\n",
            "\n",
            " ***************Teste***************\n",
            "Epoca: 41, Loss: 4.1943 +/- 2.2659, Acurácia: 0.1556\n",
            "\n",
            " ***************Treino***************\n",
            "Epoca: 42, Loss: 1.8196 +/- 1.1862, Acurácia: 0.4249\n",
            "\n",
            " ***************Teste***************\n",
            "Epoca: 42, Loss: 3.9380 +/- 2.1320, Acurácia: 0.1444\n",
            "\n",
            " ***************Treino***************\n",
            "Epoca: 43, Loss: 1.8319 +/- 1.1538, Acurácia: 0.4092\n",
            "\n",
            " ***************Teste***************\n",
            "Epoca: 43, Loss: 3.8646 +/- 2.0305, Acurácia: 0.1333\n",
            "\n",
            " ***************Treino***************\n",
            "Epoca: 44, Loss: 1.8462 +/- 1.2059, Acurácia: 0.4129\n",
            "\n",
            " ***************Teste***************\n",
            "Epoca: 44, Loss: 3.9693 +/- 2.0619, Acurácia: 0.1333\n",
            "\n",
            " ***************Treino***************\n",
            "Epoca: 45, Loss: 1.8779 +/- 1.1984, Acurácia: 0.4147\n",
            "\n",
            " ***************Teste***************\n",
            "Epoca: 45, Loss: 3.7570 +/- 1.8339, Acurácia: 0.1222\n",
            "\n",
            " ***************Treino***************\n",
            "Epoca: 46, Loss: 1.8881 +/- 1.1679, Acurácia: 0.4052\n",
            "\n",
            " ***************Teste***************\n",
            "Epoca: 46, Loss: 3.6162 +/- 1.6709, Acurácia: 0.1222\n",
            "\n",
            " ***************Treino***************\n",
            "Epoca: 47, Loss: 1.8895 +/- 1.1686, Acurácia: 0.4053\n",
            "\n",
            " ***************Teste***************\n",
            "Epoca: 47, Loss: 3.5706 +/- 1.6278, Acurácia: 0.1111\n",
            "\n",
            " ***************Treino***************\n",
            "Epoca: 48, Loss: 1.9221 +/- 1.1440, Acurácia: 0.3792\n",
            "\n",
            " ***************Teste***************\n",
            "Epoca: 48, Loss: 3.6093 +/- 1.5935, Acurácia: 0.1111\n",
            "\n",
            " ***************Treino***************\n",
            "Epoca: 49, Loss: 1.9037 +/- 1.1053, Acurácia: 0.3812\n",
            "\n",
            " ***************Teste***************\n",
            "Epoca: 49, Loss: 3.4880 +/- 1.5337, Acurácia: 0.1111\n"
          ]
        }
      ]
    },
    {
      "cell_type": "markdown",
      "metadata": {
        "id": "D-jhpXs_z7vb"
      },
      "source": [
        "## Análise de Convergência"
      ]
    },
    {
      "cell_type": "code",
      "metadata": {
        "id": "gM4BTf7lz7Q6",
        "colab": {
          "base_uri": "https://localhost:8080/",
          "height": 0
        },
        "outputId": "007b62b1-c14e-452a-af87-d5f681634ce3"
      },
      "source": [
        "fig, (ax1, ax2) = plt.subplots(1, 2, figsize=(12,3))\n",
        "\n",
        "ax1.plot(loss_treino[1:], label='Train')\n",
        "ax1.plot(loss_test[1:], label='Test')\n",
        "ax1.set_title('Model Convergence - Loss')\n",
        "ax1.set_xlabel('epochs')\n",
        "ax1.set_ylabel('Loss')\n",
        "ax1.legend()\n",
        "\n",
        "ax2.plot(acc_treino, label='Train')\n",
        "ax2.plot(acc_test, label='Test')\n",
        "ax2.set_title('Model Convergence - Accuracy')\n",
        "ax2.set_xlabel('epochs')\n",
        "ax2.set_ylabel('Accuracy')\n",
        "ax2.legend()"
      ],
      "execution_count": 51,
      "outputs": [
        {
          "output_type": "execute_result",
          "data": {
            "text/plain": [
              "<matplotlib.legend.Legend at 0x7fdb3fc40750>"
            ]
          },
          "metadata": {},
          "execution_count": 51
        },
        {
          "output_type": "display_data",
          "data": {
            "image/png": "[encoded data removed]",
            "text/plain": [
              "<Figure size 864x216 with 2 Axes>"
            ]
          },
          "metadata": {
            "needs_background": "light"
          }
        }
      ]
    },
    {
      "cell_type": "markdown",
      "metadata": {
        "id": "9Dkx4uHTz-8l"
      },
      "source": [
        "## Usando o modelo"
      ]
    },
    {
      "cell_type": "code",
      "metadata": {
        "id": "Rul7kSlY0Aui",
        "colab": {
          "base_uri": "https://localhost:8080/"
        },
        "outputId": "05e1d0a1-0807-4047-d954-003952a8f8bc"
      },
      "source": [
        "def predict(nome):\n",
        "  model.eval()\n",
        "\n",
        "  tns = torch.zeros( len(nome), tam_dicionario )\n",
        "  for k, letra in enumerate(nome):\n",
        "    idx = caracteres_validos.find(letra)\n",
        "    tns[k, idx] = 1\n",
        "  tns = tns.to(args['device'])\n",
        "\n",
        "  saida = model(tns)\n",
        "  topv, topi = saida.data.topk(3, 1, True)\n",
        "\n",
        "  print(nome)\n",
        "  for value, index in zip(topv[0], topi[0]):\n",
        "    print('(%.2f) %s' % (value, categorias[index]))\n",
        "  print('\\n')\n",
        "  \n",
        "predict('Mota')\n",
        "predict('Kamikaze')\n",
        "predict('Suarez')"
      ],
      "execution_count": 52,
      "outputs": [
        {
          "output_type": "stream",
          "name": "stdout",
          "text": [
            "Mota\n",
            "(-1.39) Japanese\n",
            "(-2.54) Portuguese\n",
            "(-2.56) German\n",
            "\n",
            "\n",
            "Kamikaze\n",
            "(-0.39) Spanish\n",
            "(-2.39) Scottish\n",
            "(-2.75) Czech\n",
            "\n",
            "\n",
            "Suarez\n",
            "(-0.61) Spanish\n",
            "(-1.78) Russian\n",
            "(-2.55) Scottish\n",
            "\n",
            "\n"
          ]
        },
        {
          "output_type": "stream",
          "name": "stderr",
          "text": [
            "/usr/local/lib/python3.7/dist-packages/ipykernel_launcher.py:23: UserWarning: Implicit dimension choice for log_softmax has been deprecated. Change the call to include dim=X as an argument.\n"
          ]
        }
      ]
    },
    {
      "cell_type": "markdown",
      "metadata": {
        "id": "z02lVb2L0FJl"
      },
      "source": [
        "# Classificando nomes com uma *Character-Level RNN*\n",
        "\n",
        "Esse notebook foi criado com base no tutorial do PyTorch: <br> \n",
        "https://github.com/spro/practical-pytorch/blob/master/char-rnn-classification/char-rnn-classification.ipynb"
      ]
    },
    {
      "cell_type": "markdown",
      "metadata": {
        "id": "pyo0b9lB0FJl"
      },
      "source": [
        "### Problema: Dado um nome próprio de entrada, classificar esse nome de acordo com a nacionalidade a que ele pertence.\n",
        "\n",
        "Entrada: **Hinton**\n",
        "\n",
        "(-0.47) Scottish\n",
        "\n",
        "(-1.52) English\n",
        "\n",
        "(-3.57) Irish\n",
        "\n",
        "\n",
        "-\n",
        "\n",
        "Entrada: **Schmidhuber**\n",
        "\n",
        "(-0.19) German\n",
        "\n",
        "(-2.48) Czech\n",
        "\n",
        "(-2.68) Dutch"
      ]
    },
    {
      "cell_type": "markdown",
      "metadata": {
        "id": "I6t_UiO30FJm"
      },
      "source": [
        "### Import de bibliotecas"
      ]
    },
    {
      "cell_type": "code",
      "metadata": {
        "id": "vHAglV9z0FJm"
      },
      "source": [
        "# Para os dados\n",
        "import unicodedata\n",
        "import string\n",
        "import sys, random, os\n",
        "\n",
        "# Para o processamento e análise\n",
        "import torch\n",
        "from torch import nn\n",
        "import numpy as np\n",
        "import seaborn as sns\n",
        "sns.set_style('darkgrid')\n",
        "import matplotlib.pyplot as plt\n",
        "%matplotlib inline"
      ],
      "execution_count": 53,
      "outputs": []
    },
    {
      "cell_type": "code",
      "metadata": {
        "id": "a4yMXo5b0FJm"
      },
      "source": [
        "args = {\n",
        "    'lr': 5e-5,\n",
        "    'regularizacao': 1e-7,\n",
        "    'num_epocas': 5,\n",
        "}\n",
        "args['device'] = torch.device('cuda' if torch.cuda.is_available() else 'cpu')"
      ],
      "execution_count": 54,
      "outputs": []
    },
    {
      "cell_type": "markdown",
      "metadata": {
        "id": "WGdl8GXa0FJm"
      },
      "source": [
        "## Dados de entrada"
      ]
    },
    {
      "cell_type": "markdown",
      "metadata": {
        "id": "ax8Idk7v0FJm"
      },
      "source": [
        "### Importando dataset"
      ]
    },
    {
      "cell_type": "code",
      "metadata": {
        "id": "-T1X7K7J0FJm"
      },
      "source": [
        "# comente as duas linhas seguintes caso rode mais de uma vez\n",
        "# !wget https://download.pytorch.org/tutorial/data.zip #\n",
        "# !unzip data.zip #\n",
        "############################################################"
      ],
      "execution_count": 55,
      "outputs": []
    },
    {
      "cell_type": "code",
      "metadata": {
        "id": "yLjCrB2C0FJm",
        "colab": {
          "base_uri": "https://localhost:8080/"
        },
        "outputId": "6037e056-93a8-46d1-96fd-7b9ce32d4ab6"
      },
      "source": [
        "# Transforma um arquivo de nomes em listas e/ou arrays (nomes, rotulos)\n",
        "def readLines(filename):\n",
        "    lines     = open(filename).read().strip().split('\\n')\n",
        "    nomes     = [unicodedata.normalize('NFKD', line).encode('ascii', 'ignore') for line in lines]\n",
        "    categoria = filename.split('/')[-1].split('.')[0]\n",
        "    rotulos   = np.repeat( categoria, len(nomes) )\n",
        "\n",
        "    return nomes, rotulos \n",
        "\n",
        "\n",
        "root_path = 'data/names/'\n",
        "arquivos = sorted(os.listdir(root_path))\n",
        "categorias = [a[:-4] for a in arquivos]\n",
        "\n",
        "dados, rotulos = [], []\n",
        "samples_perclass = []\n",
        "\n",
        "for file_name in arquivos:\n",
        "  retorno = readLines(os.path.join(root_path,file_name))\n",
        "  dados.append(retorno[0])\n",
        "  rotulos.append(retorno[1])\n",
        "\n",
        "  samples_perclass.append( (file_name, len(retorno[0])) )\n",
        "\n",
        "\n",
        "print(samples_perclass, )\n",
        "print('Minimo amostras', min(samples_perclass, key= lambda k: k[1]), '\\n' )\n",
        "\n",
        "print(dados[categorias.index('Portuguese')][0:10])\n",
        "print(rotulos[categorias.index('Portuguese')][0:10])"
      ],
      "execution_count": 56,
      "outputs": [
        {
          "output_type": "stream",
          "name": "stdout",
          "text": [
            "[('Arabic.txt', 2000), ('Chinese.txt', 268), ('Czech.txt', 519), ('Dutch.txt', 297), ('English.txt', 3668), ('French.txt', 277), ('German.txt', 724), ('Greek.txt', 203), ('Irish.txt', 232), ('Italian.txt', 709), ('Japanese.txt', 991), ('Korean.txt', 94), ('Polish.txt', 139), ('Portuguese.txt', 74), ('Russian.txt', 9408), ('Scottish.txt', 100), ('Spanish.txt', 298), ('Vietnamese.txt', 73)]\n",
            "Minimo amostras ('Vietnamese.txt', 73) \n",
            "\n",
            "[b'Abreu', b'Albuquerque', b'Almeida', b'Alves', b'Araujo', b'Araullo', b'Barros', b'Basurto', b'Belo', b'Cabral']\n",
            "['Portuguese' 'Portuguese' 'Portuguese' 'Portuguese' 'Portuguese'\n",
            " 'Portuguese' 'Portuguese' 'Portuguese' 'Portuguese' 'Portuguese']\n"
          ]
        }
      ]
    },
    {
      "cell_type": "markdown",
      "metadata": {
        "id": "Phmok1VX0FJn"
      },
      "source": [
        "### Convertendo os dados para tensor"
      ]
    },
    {
      "cell_type": "markdown",
      "metadata": {
        "id": "yoHqiMe-0FJn"
      },
      "source": [
        "**Convertendo os rótulos para tensor**\n",
        "\n",
        "Representação One-Hot de 18 categorias de idiomas que queremos prever."
      ]
    },
    {
      "cell_type": "code",
      "metadata": {
        "id": "GMqHXAzJ0FJn",
        "colab": {
          "base_uri": "https://localhost:8080/"
        },
        "outputId": "c955cb10-449b-40cf-b0d6-d83d220027e9"
      },
      "source": [
        "def label2tensor(rotulos):\n",
        "  rotulos_tns = torch.zeros( len(rotulos), 1, dtype=torch.int64 )\n",
        "  for k, rotulo in enumerate(rotulos):\n",
        "    idx = categorias.index(rotulo)\n",
        "    rotulos_tns[k][0] = idx\n",
        "  return rotulos_tns\n",
        "\n",
        "rotulos_arabe = rotulos[0]\n",
        "rotulos_tns = label2tensor(rotulos_arabe)\n",
        "print(type(rotulos_tns), rotulos_arabe[0], rotulos_tns[0])"
      ],
      "execution_count": 57,
      "outputs": [
        {
          "output_type": "stream",
          "name": "stdout",
          "text": [
            "<class 'torch.Tensor'> Arabic tensor([0])\n"
          ]
        }
      ]
    },
    {
      "cell_type": "markdown",
      "metadata": {
        "id": "3GRLnqVQ0FJn"
      },
      "source": [
        "**Convertendo os nomes para tensor**\n",
        "\n",
        "Aqui também usaremos a representação One-Hot, porém teremos que trabalhar com uma lista de tensores, pois os nomes tem comprimentos diferentes. Mais à frente no curso aprenderemos a lidar com isso da forma certa!"
      ]
    },
    {
      "cell_type": "code",
      "metadata": {
        "id": "1KteDLEi0FJn",
        "colab": {
          "base_uri": "https://localhost:8080/"
        },
        "outputId": "77b12370-b0c6-4f4f-8732-c3876c4d4571"
      },
      "source": [
        "caracteres_validos = string.ascii_letters\n",
        "print(caracteres_validos)\n",
        "tam_dicionario = len(caracteres_validos)\n",
        "\n",
        "def nome2tensor(nome):\n",
        "  tns = torch.zeros( len(nome), tam_dicionario )\n",
        "  \n",
        "  for k, letra in enumerate(nome.decode('utf-8')):\n",
        "    idx = caracteres_validos.find(letra)\n",
        "    tns[k, idx] = 1\n",
        "\n",
        "  return tns\n",
        "\n",
        "dados_arabe = dados[0]\n",
        "dados_tns = [nome2tensor(dado) for dado in dados_arabe]\n",
        "print(dados_arabe[0].decode('utf-8')[0],'\\n', dados_tns[0][0])\n"
      ],
      "execution_count": 58,
      "outputs": [
        {
          "output_type": "stream",
          "name": "stdout",
          "text": [
            "abcdefghijklmnopqrstuvwxyzABCDEFGHIJKLMNOPQRSTUVWXYZ\n",
            "K \n",
            " tensor([0., 0., 0., 0., 0., 0., 0., 0., 0., 0., 0., 0., 0., 0., 0., 0., 0., 0.,\n",
            "        0., 0., 0., 0., 0., 0., 0., 0., 0., 0., 0., 0., 0., 0., 0., 0., 0., 0.,\n",
            "        1., 0., 0., 0., 0., 0., 0., 0., 0., 0., 0., 0., 0., 0., 0., 0.])\n"
          ]
        }
      ]
    },
    {
      "cell_type": "markdown",
      "metadata": {
        "id": "p0_bEPVH0FJn"
      },
      "source": [
        "**Amostrando batch balanceado**"
      ]
    },
    {
      "cell_type": "code",
      "metadata": {
        "id": "P6uDDoei0FJn",
        "colab": {
          "base_uri": "https://localhost:8080/"
        },
        "outputId": "a4f3d6a9-de7a-4c15-94b0-4e568ba521a8"
      },
      "source": [
        "num_amostras = min(samples_perclass, key= lambda k: k[1])[1]\n",
        "\n",
        "def sample_batch(size=num_amostras):\n",
        "  dados_batch, rotulos_batch = [], []\n",
        "  for cat in categorias:\n",
        "    \n",
        "    amostras_cat = dados[categorias.index(cat)]\n",
        "    idx = np.random.choice(range(len(amostras_cat)), size=size)\n",
        "    \n",
        "    dados_batch.extend([ r for k, r in enumerate(dados[categorias.index(cat)]) if k in idx])\n",
        "    rotulos_batch.extend([ r for k, r in enumerate(rotulos[categorias.index(cat)]) if k in idx])\n",
        "\n",
        "  dados_tns = [nome2tensor(dado) for dado in dados_batch]\n",
        "  return dados_tns, label2tensor(rotulos_batch)\n",
        "\n",
        "dados_batch, rotulos_batch = sample_batch()\n",
        "print(len(dados_batch), dados_batch[0].size(), rotulos_batch.size())"
      ],
      "execution_count": 59,
      "outputs": [
        {
          "output_type": "stream",
          "name": "stdout",
          "text": [
            "1139 torch.Size([7, 52]) torch.Size([1139, 1])\n"
          ]
        }
      ]
    },
    {
      "cell_type": "markdown",
      "metadata": {
        "id": "ZK5UENa40FJn"
      },
      "source": [
        "## Modelo Recorrente\n",
        "\n",
        "* Implemente um modelo para classificação de nomes próprios (série de caracteres) usando apenas camadas *RNNCell*, *Linear* e ativação *LogSoftmax*\n",
        "* Cada entrada (caracter) possui dimensão (52): alfabeto maiúsculo e minúsculo\n",
        "* *Hidden size* possui dimensão (256): hiperparâmetro \n",
        "* Saída possui dimensão (18): vetor de probabilidade de classes\n",
        "* Batch size = 1 **pra não termos que lidar com as sequências de tamanho variável.**\n",
        "\n",
        "### Links úteis\n",
        "\n",
        "RNNCell: https://pytorch.org/docs/stable/generated/torch.nn.RNNCell.html#torch.nn.RNNCell\n",
        "\n",
        "Linear: https://pytorch.org/docs/stable/generated/torch.nn.Linear.html#torch.nn.Linear\n",
        "\n",
        "Non-linear activations: https://pytorch.org/docs/stable/generated/torch.nn.LogSoftmax.html#torch.nn.LogSoftmax"
      ]
    },
    {
      "cell_type": "code",
      "metadata": {
        "id": "uu_SKdPM0FJn"
      },
      "source": [
        "class RNN(nn.Module):\n",
        "    def __init__(self, tam_entrada, tam_feature, tam_saida):\n",
        "        super(RNN, self).__init__()\n",
        "        \n",
        "        self.tam_entrada = tam_entrada\n",
        "        self.tam_feature = tam_feature\n",
        "        self.tam_saida   = tam_saida\n",
        "        \n",
        "        self.rnn    = nn.GRU(self.tam_entrada, self.tam_feature, batch_first=True)\n",
        "        self.linear = nn.Linear(self.tam_feature, self.tam_saida)\n",
        "        self.softmax = nn.LogSoftmax(dim=-1)\n",
        "    \n",
        "    def forward(self, nome):\n",
        "      \n",
        "        # Inicialize o estado interno da RNN\n",
        "        batch_size = 1\n",
        "        hidden = torch.zeros(1, batch_size, self.tam_feature).to(args['device'])\n",
        "        \n",
        "        # nome.unsqueeze(0) - criando uma dimensão artificial para o batch = 1\n",
        "        saida, hidden = self.rnn(nome.unsqueeze(0), hidden)\n",
        "        # print(\"Saída da GRU:\", saida.size())\n",
        "        saida = self.linear(saida[:, -1])\n",
        "        # print(\"Saída da Linear:\", saida.size())\n",
        "        saida = self.softmax(saida) \n",
        "        return saida\n",
        "\n",
        "tam_feature = 256\n",
        "model = RNN(tam_dicionario, tam_feature, len(categorias))\n",
        "model.to(args['device'])\n",
        "\n",
        "# Imprimindo a dimensionalidade do dado ao longo do fluxo\n",
        "nome = torch.zeros(8, 52).to(args['device'])\n",
        "saida = model(nome)"
      ],
      "execution_count": 60,
      "outputs": []
    },
    {
      "cell_type": "markdown",
      "metadata": {
        "id": "6n_OmcDO0FJn"
      },
      "source": [
        "## Loss e Otimizador"
      ]
    },
    {
      "cell_type": "code",
      "metadata": {
        "id": "O9NJlXzF0FJn"
      },
      "source": [
        "criterion = nn.NLLLoss().to(args['device']) \n",
        "optimizer = torch.optim.Adam(model.parameters(), lr=args['lr'], weight_decay=args['regularizacao'])"
      ],
      "execution_count": 61,
      "outputs": []
    },
    {
      "cell_type": "markdown",
      "metadata": {
        "id": "xVV_hlap0FJo"
      },
      "source": [
        "## Treinamento\n",
        "\n",
        "A otimização é um processo que tem uma raíz muito bem definida de passo a passo, sempre fazemos:\n",
        "* Carregar os dados e colocar no dispositivo de hardware adequado\n",
        "* Forward do dado na rede\n",
        "* Cálculo da função de custo (no nosso caso uma função composta)\n",
        "* Passos de Otimização\n",
        "  * Zerar os gradientes do otimizador (`optimizer.zero_grad()`)\n",
        "  * Calcular os gradientes com base na loss (`loss.backward()`)\n",
        "  * Passo de otimização (`optimizer.step()`)\n",
        "\n",
        "Apesar de cada solução ter pequenas variações em um ou mais passos do fluxo, o esqueleto é sempre o mesmo. "
      ]
    },
    {
      "cell_type": "code",
      "metadata": {
        "id": "-70JzVnM0FJo"
      },
      "source": [
        "def forward(X, Y, etapa):\n",
        "  if etapa == 'Treino': model.train()\n",
        "  else: model.eval()\n",
        "\n",
        "  acuracia = 0.\n",
        "  loss_epoca = []\n",
        "  for k, (dado, rotulo) in enumerate(zip(X, Y)):\n",
        "      \n",
        "    dado = dado.to(args['device'])\n",
        "    rotulo = rotulo.to(args['device'])\n",
        "    \n",
        "    saida = model(dado)\n",
        "    loss = criterion(saida, rotulo)\n",
        "    loss_epoca.append(loss.detach().cpu().numpy())\n",
        "\n",
        "    _, pred = torch.max(saida, axis=-1)\n",
        "    acuracia += 1 if pred[0].item() == rotulo[0].item() else 0\n",
        "\n",
        "    if etapa == 'Treino':\n",
        "      # Otimização\n",
        "      optimizer.zero_grad()\n",
        "      loss.backward()\n",
        "      optimizer.step()\n",
        "\n",
        "  loss_epoca = np.asarray(loss_epoca).ravel()\n",
        "  acuracia   = acuracia/float(len(loss_epoca))\n",
        "  print('\\n','*'*15 + etapa + '*'*15 )\n",
        "  print('Epoca: {:}, Loss: {:.4f} +/- {:.4f}, Acurácia: {:.4f}'.format(epoca, loss_epoca.mean(), \n",
        "                                                                        loss_epoca.std(), \n",
        "                                                                        acuracia\n",
        "                                                                       )) \n",
        "  return loss_epoca.mean(), acuracia"
      ],
      "execution_count": 62,
      "outputs": []
    },
    {
      "cell_type": "code",
      "metadata": {
        "id": "k-ByNBm_0FJo",
        "colab": {
          "base_uri": "https://localhost:8080/"
        },
        "outputId": "23158c63-b878-4659-d355-fd0926216813"
      },
      "source": [
        "loss_treino, loss_test = [], []\n",
        "acc_treino, acc_test = [], []\n",
        "\n",
        "dados_test, rotulos_test = sample_batch(size=5)\n",
        "for epoca in range(50):\n",
        "\n",
        "  dados_tns, rotulos_tns = sample_batch()\n",
        "  loss, acuracia = forward(dados_tns, rotulos_tns, 'Treino')\n",
        "  loss_treino.append(loss)\n",
        "  acc_treino.append(acuracia)  \n",
        "\n",
        "  loss, acuracia = forward(dados_test, rotulos_test, 'Teste')\n",
        "  loss_test.append(loss)\n",
        "  acc_test.append(acuracia)\n"
      ],
      "execution_count": 63,
      "outputs": [
        {
          "output_type": "stream",
          "name": "stdout",
          "text": [
            "\n",
            " ***************Treino***************\n",
            "Epoca: 0, Loss: 2.8995 +/- 0.1854, Acurácia: 0.0520\n",
            "\n",
            " ***************Teste***************\n",
            "Epoca: 0, Loss: 2.9034 +/- 0.1831, Acurácia: 0.0787\n",
            "\n",
            " ***************Treino***************\n",
            "Epoca: 1, Loss: 2.7853 +/- 0.5274, Acurácia: 0.0703\n",
            "\n",
            " ***************Teste***************\n",
            "Epoca: 1, Loss: 3.0497 +/- 0.7069, Acurácia: 0.0899\n",
            "\n",
            " ***************Treino***************\n",
            "Epoca: 2, Loss: 2.8663 +/- 0.3914, Acurácia: 0.0942\n",
            "\n",
            " ***************Teste***************\n",
            "Epoca: 2, Loss: 3.0957 +/- 0.8609, Acurácia: 0.0674\n",
            "\n",
            " ***************Treino***************\n",
            "Epoca: 3, Loss: 2.8637 +/- 0.3232, Acurácia: 0.1052\n",
            "\n",
            " ***************Teste***************\n",
            "Epoca: 3, Loss: 3.0601 +/- 0.8325, Acurácia: 0.1011\n",
            "\n",
            " ***************Treino***************\n",
            "Epoca: 4, Loss: 2.8707 +/- 0.2571, Acurácia: 0.1165\n",
            "\n",
            " ***************Teste***************\n",
            "Epoca: 4, Loss: 2.8511 +/- 0.2940, Acurácia: 0.1348\n",
            "\n",
            " ***************Treino***************\n",
            "Epoca: 5, Loss: 2.8045 +/- 0.3400, Acurácia: 0.1503\n",
            "\n",
            " ***************Teste***************\n",
            "Epoca: 5, Loss: 3.0752 +/- 0.8450, Acurácia: 0.1124\n",
            "\n",
            " ***************Treino***************\n",
            "Epoca: 6, Loss: 2.8044 +/- 0.3133, Acurácia: 0.1363\n",
            "\n",
            " ***************Teste***************\n",
            "Epoca: 6, Loss: 2.8252 +/- 0.3583, Acurácia: 0.1348\n",
            "\n",
            " ***************Treino***************\n",
            "Epoca: 7, Loss: 2.7678 +/- 0.3995, Acurácia: 0.1424\n",
            "\n",
            " ***************Teste***************\n",
            "Epoca: 7, Loss: 2.7770 +/- 0.1920, Acurácia: 0.2360\n",
            "\n",
            " ***************Treino***************\n",
            "Epoca: 8, Loss: 2.7289 +/- 0.3494, Acurácia: 0.1519\n",
            "\n",
            " ***************Teste***************\n",
            "Epoca: 8, Loss: 2.7524 +/- 0.1991, Acurácia: 0.2247\n",
            "\n",
            " ***************Treino***************\n",
            "Epoca: 9, Loss: 2.6312 +/- 0.4651, Acurácia: 0.1729\n",
            "\n",
            " ***************Teste***************\n",
            "Epoca: 9, Loss: 2.7707 +/- 0.4056, Acurácia: 0.0899\n",
            "\n",
            " ***************Treino***************\n",
            "Epoca: 10, Loss: 2.5866 +/- 0.5365, Acurácia: 0.1668\n",
            "\n",
            " ***************Teste***************\n",
            "Epoca: 10, Loss: 2.8743 +/- 0.6856, Acurácia: 0.1124\n",
            "\n",
            " ***************Treino***************\n",
            "Epoca: 11, Loss: 2.5673 +/- 0.6014, Acurácia: 0.1681\n",
            "\n",
            " ***************Teste***************\n",
            "Epoca: 11, Loss: 2.9072 +/- 0.7828, Acurácia: 0.1348\n",
            "\n",
            " ***************Treino***************\n",
            "Epoca: 12, Loss: 2.5216 +/- 0.6615, Acurácia: 0.1805\n",
            "\n",
            " ***************Teste***************\n",
            "Epoca: 12, Loss: 2.8387 +/- 0.7406, Acurácia: 0.1124\n",
            "\n",
            " ***************Treino***************\n",
            "Epoca: 13, Loss: 2.3977 +/- 0.7802, Acurácia: 0.2125\n",
            "\n",
            " ***************Teste***************\n",
            "Epoca: 13, Loss: 2.8284 +/- 0.8422, Acurácia: 0.1910\n",
            "\n",
            " ***************Treino***************\n",
            "Epoca: 14, Loss: 2.1893 +/- 0.8958, Acurácia: 0.2621\n",
            "\n",
            " ***************Teste***************\n",
            "Epoca: 14, Loss: 3.0088 +/- 1.1230, Acurácia: 0.1236\n",
            "\n",
            " ***************Treino***************\n",
            "Epoca: 15, Loss: 2.1453 +/- 0.9569, Acurácia: 0.2871\n",
            "\n",
            " ***************Teste***************\n",
            "Epoca: 15, Loss: 3.0138 +/- 1.1520, Acurácia: 0.1011\n",
            "\n",
            " ***************Treino***************\n",
            "Epoca: 16, Loss: 2.1218 +/- 0.9572, Acurácia: 0.2954\n",
            "\n",
            " ***************Teste***************\n",
            "Epoca: 16, Loss: 3.0863 +/- 1.1725, Acurácia: 0.1124\n",
            "\n",
            " ***************Treino***************\n",
            "Epoca: 17, Loss: 2.0486 +/- 0.9403, Acurácia: 0.2971\n",
            "\n",
            " ***************Teste***************\n",
            "Epoca: 17, Loss: 3.2014 +/- 1.2685, Acurácia: 0.1236\n",
            "\n",
            " ***************Treino***************\n",
            "Epoca: 18, Loss: 1.9459 +/- 1.0053, Acurácia: 0.3245\n",
            "\n",
            " ***************Teste***************\n",
            "Epoca: 18, Loss: 3.3586 +/- 1.4238, Acurácia: 0.1124\n",
            "\n",
            " ***************Treino***************\n",
            "Epoca: 19, Loss: 1.9271 +/- 1.0667, Acurácia: 0.3444\n",
            "\n",
            " ***************Teste***************\n",
            "Epoca: 19, Loss: 3.5504 +/- 1.6272, Acurácia: 0.1011\n",
            "\n",
            " ***************Treino***************\n",
            "Epoca: 20, Loss: 1.9381 +/- 1.0289, Acurácia: 0.3245\n",
            "\n",
            " ***************Teste***************\n",
            "Epoca: 20, Loss: 3.6332 +/- 1.6997, Acurácia: 0.1124\n",
            "\n",
            " ***************Treino***************\n",
            "Epoca: 21, Loss: 1.9107 +/- 1.0557, Acurácia: 0.3446\n",
            "\n",
            " ***************Teste***************\n",
            "Epoca: 21, Loss: 3.6570 +/- 1.7817, Acurácia: 0.1124\n",
            "\n",
            " ***************Treino***************\n",
            "Epoca: 22, Loss: 1.8539 +/- 1.0625, Acurácia: 0.3658\n",
            "\n",
            " ***************Teste***************\n",
            "Epoca: 22, Loss: 3.8276 +/- 1.9863, Acurácia: 0.1124\n",
            "\n",
            " ***************Treino***************\n",
            "Epoca: 23, Loss: 1.8322 +/- 1.1034, Acurácia: 0.3668\n",
            "\n",
            " ***************Teste***************\n",
            "Epoca: 23, Loss: 4.0287 +/- 2.1697, Acurácia: 0.1011\n",
            "\n",
            " ***************Treino***************\n",
            "Epoca: 24, Loss: 1.7984 +/- 1.1167, Acurácia: 0.3888\n",
            "\n",
            " ***************Teste***************\n",
            "Epoca: 24, Loss: 3.8494 +/- 2.0191, Acurácia: 0.0899\n",
            "\n",
            " ***************Treino***************\n",
            "Epoca: 25, Loss: 1.7991 +/- 1.1475, Acurácia: 0.3735\n",
            "\n",
            " ***************Teste***************\n",
            "Epoca: 25, Loss: 3.8383 +/- 2.0333, Acurácia: 0.0899\n",
            "\n",
            " ***************Treino***************\n",
            "Epoca: 26, Loss: 1.7438 +/- 1.1395, Acurácia: 0.3947\n",
            "\n",
            " ***************Teste***************\n",
            "Epoca: 26, Loss: 3.9390 +/- 2.0991, Acurácia: 0.1011\n",
            "\n",
            " ***************Treino***************\n",
            "Epoca: 27, Loss: 1.7810 +/- 1.1816, Acurácia: 0.3905\n",
            "\n",
            " ***************Teste***************\n",
            "Epoca: 27, Loss: 3.8521 +/- 2.0175, Acurácia: 0.1236\n",
            "\n",
            " ***************Treino***************\n",
            "Epoca: 28, Loss: 1.7513 +/- 1.1829, Acurácia: 0.4007\n",
            "\n",
            " ***************Teste***************\n",
            "Epoca: 28, Loss: 3.9868 +/- 2.0945, Acurácia: 0.1348\n",
            "\n",
            " ***************Treino***************\n",
            "Epoca: 29, Loss: 1.6715 +/- 1.1899, Acurácia: 0.4243\n",
            "\n",
            " ***************Teste***************\n",
            "Epoca: 29, Loss: 4.0945 +/- 2.2512, Acurácia: 0.1461\n",
            "\n",
            " ***************Treino***************\n",
            "Epoca: 30, Loss: 1.7431 +/- 1.2042, Acurácia: 0.4037\n",
            "\n",
            " ***************Teste***************\n",
            "Epoca: 30, Loss: 3.8407 +/- 2.0405, Acurácia: 0.1461\n",
            "\n",
            " ***************Treino***************\n",
            "Epoca: 31, Loss: 1.6829 +/- 1.2414, Acurácia: 0.4320\n",
            "\n",
            " ***************Teste***************\n",
            "Epoca: 31, Loss: 3.7961 +/- 2.0317, Acurácia: 0.1798\n",
            "\n",
            " ***************Treino***************\n",
            "Epoca: 32, Loss: 1.7046 +/- 1.2323, Acurácia: 0.4327\n",
            "\n",
            " ***************Teste***************\n",
            "Epoca: 32, Loss: 3.6179 +/- 1.8530, Acurácia: 0.1685\n",
            "\n",
            " ***************Treino***************\n",
            "Epoca: 33, Loss: 1.6735 +/- 1.2286, Acurácia: 0.4403\n",
            "\n",
            " ***************Teste***************\n",
            "Epoca: 33, Loss: 3.5632 +/- 1.8008, Acurácia: 0.1685\n",
            "\n",
            " ***************Treino***************\n",
            "Epoca: 34, Loss: 1.6656 +/- 1.2569, Acurácia: 0.4663\n",
            "\n",
            " ***************Teste***************\n",
            "Epoca: 34, Loss: 3.7634 +/- 1.9907, Acurácia: 0.1798\n",
            "\n",
            " ***************Treino***************\n",
            "Epoca: 35, Loss: 1.6314 +/- 1.2638, Acurácia: 0.4679\n",
            "\n",
            " ***************Teste***************\n",
            "Epoca: 35, Loss: 3.9056 +/- 2.1206, Acurácia: 0.1685\n",
            "\n",
            " ***************Treino***************\n",
            "Epoca: 36, Loss: 1.7071 +/- 1.2519, Acurácia: 0.4516\n",
            "\n",
            " ***************Teste***************\n",
            "Epoca: 36, Loss: 3.9005 +/- 2.1151, Acurácia: 0.2022\n",
            "\n",
            " ***************Treino***************\n",
            "Epoca: 37, Loss: 1.7910 +/- 1.2342, Acurácia: 0.4051\n",
            "\n",
            " ***************Teste***************\n",
            "Epoca: 37, Loss: 3.1337 +/- 1.4696, Acurácia: 0.1236\n",
            "\n",
            " ***************Treino***************\n",
            "Epoca: 38, Loss: 2.0905 +/- 1.1678, Acurácia: 0.3136\n",
            "\n",
            " ***************Teste***************\n",
            "Epoca: 38, Loss: 3.0064 +/- 1.2952, Acurácia: 0.1124\n",
            "\n",
            " ***************Treino***************\n",
            "Epoca: 39, Loss: 2.1434 +/- 1.1307, Acurácia: 0.2871\n",
            "\n",
            " ***************Teste***************\n",
            "Epoca: 39, Loss: 3.0078 +/- 1.3356, Acurácia: 0.1236\n",
            "\n",
            " ***************Treino***************\n",
            "Epoca: 40, Loss: 2.1448 +/- 1.1077, Acurácia: 0.2716\n",
            "\n",
            " ***************Teste***************\n",
            "Epoca: 40, Loss: 3.1111 +/- 1.3667, Acurácia: 0.1348\n",
            "\n",
            " ***************Treino***************\n",
            "Epoca: 41, Loss: 2.0214 +/- 1.0856, Acurácia: 0.3216\n",
            "\n",
            " ***************Teste***************\n",
            "Epoca: 41, Loss: 3.0945 +/- 1.3891, Acurácia: 0.1573\n",
            "\n",
            " ***************Treino***************\n",
            "Epoca: 42, Loss: 1.8484 +/- 1.1025, Acurácia: 0.3754\n",
            "\n",
            " ***************Teste***************\n",
            "Epoca: 42, Loss: 3.5157 +/- 1.7805, Acurácia: 0.1124\n",
            "\n",
            " ***************Treino***************\n",
            "Epoca: 43, Loss: 1.7266 +/- 1.1179, Acurácia: 0.4242\n",
            "\n",
            " ***************Teste***************\n",
            "Epoca: 43, Loss: 3.6864 +/- 1.9375, Acurácia: 0.1124\n",
            "\n",
            " ***************Treino***************\n",
            "Epoca: 44, Loss: 1.6733 +/- 1.1269, Acurácia: 0.4282\n",
            "\n",
            " ***************Teste***************\n",
            "Epoca: 44, Loss: 3.8169 +/- 2.0949, Acurácia: 0.1011\n",
            "\n",
            " ***************Treino***************\n",
            "Epoca: 45, Loss: 1.6995 +/- 1.1633, Acurácia: 0.4267\n",
            "\n",
            " ***************Teste***************\n",
            "Epoca: 45, Loss: 3.7051 +/- 1.9344, Acurácia: 0.1011\n",
            "\n",
            " ***************Treino***************\n",
            "Epoca: 46, Loss: 1.6695 +/- 1.1770, Acurácia: 0.4391\n",
            "\n",
            " ***************Teste***************\n",
            "Epoca: 46, Loss: 3.8180 +/- 2.0002, Acurácia: 0.1011\n",
            "\n",
            " ***************Treino***************\n",
            "Epoca: 47, Loss: 1.6818 +/- 1.1896, Acurácia: 0.4455\n",
            "\n",
            " ***************Teste***************\n",
            "Epoca: 47, Loss: 3.8315 +/- 2.0789, Acurácia: 0.1124\n",
            "\n",
            " ***************Treino***************\n",
            "Epoca: 48, Loss: 1.5525 +/- 1.1985, Acurácia: 0.4870\n",
            "\n",
            " ***************Teste***************\n",
            "Epoca: 48, Loss: 4.0208 +/- 2.3114, Acurácia: 0.1124\n",
            "\n",
            " ***************Treino***************\n",
            "Epoca: 49, Loss: 1.5804 +/- 1.2060, Acurácia: 0.4890\n",
            "\n",
            " ***************Teste***************\n",
            "Epoca: 49, Loss: 4.0244 +/- 2.3342, Acurácia: 0.1124\n"
          ]
        }
      ]
    },
    {
      "cell_type": "markdown",
      "metadata": {
        "id": "XqJbDPlb0FJo"
      },
      "source": [
        "## Análise de Convergência"
      ]
    },
    {
      "cell_type": "code",
      "metadata": {
        "id": "i6QT2MTU0FJo",
        "colab": {
          "base_uri": "https://localhost:8080/",
          "height": 0
        },
        "outputId": "d2a2cbfb-3845-49d3-9959-8ea832f1fb2b"
      },
      "source": [
        "fig, (ax1, ax2) = plt.subplots(1, 2, figsize=(12,3))\n",
        "\n",
        "ax1.plot(loss_treino[1:], label='Train')\n",
        "ax1.plot(loss_test[1:], label='Test')\n",
        "ax1.set_title('Model Convergence - Loss')\n",
        "ax1.set_xlabel('epochs')\n",
        "ax1.set_ylabel('Loss')\n",
        "ax1.legend()\n",
        "\n",
        "ax2.plot(acc_treino, label='Train')\n",
        "ax2.plot(acc_test, label='Test')\n",
        "ax2.set_title('Model Convergence - Accuracy')\n",
        "ax2.set_xlabel('epochs')\n",
        "ax2.set_ylabel('Accuracy')\n",
        "ax2.legend()"
      ],
      "execution_count": 64,
      "outputs": [
        {
          "output_type": "execute_result",
          "data": {
            "text/plain": [
              "<matplotlib.legend.Legend at 0x7fdb3fbbdad0>"
            ]
          },
          "metadata": {},
          "execution_count": 64
        },
        {
          "output_type": "display_data",
          "data": {
            "image/png": "[encoded data removed]",
            "text/plain": [
              "<Figure size 864x216 with 2 Axes>"
            ]
          },
          "metadata": {
            "needs_background": "light"
          }
        }
      ]
    },
    {
      "cell_type": "markdown",
      "metadata": {
        "id": "RmsNicZX0FJo"
      },
      "source": [
        "## Usando o modelo"
      ]
    },
    {
      "cell_type": "code",
      "metadata": {
        "id": "H_42UqJZ0FJo",
        "colab": {
          "base_uri": "https://localhost:8080/"
        },
        "outputId": "b1b98be2-1226-4427-eaa9-2d0c796598f7"
      },
      "source": [
        "def predict(nome):\n",
        "  model.eval()\n",
        "\n",
        "  tns = torch.zeros( len(nome), tam_dicionario )\n",
        "  for k, letra in enumerate(nome):\n",
        "    idx = caracteres_validos.find(letra)\n",
        "    tns[k, idx] = 1\n",
        "  tns = tns.to(args['device'])\n",
        "\n",
        "  saida = model(tns)\n",
        "  topv, topi = saida.data.topk(3, 1, True)\n",
        "\n",
        "  print(nome)\n",
        "  for value, index in zip(topv[0], topi[0]):\n",
        "    print('(%.2f) %s' % (value, categorias[index]))\n",
        "  print('\\n')\n",
        "  \n",
        "predict('Merkel')\n",
        "predict('Hirobumi')\n",
        "predict('Suarez')"
      ],
      "execution_count": 65,
      "outputs": [
        {
          "output_type": "stream",
          "name": "stdout",
          "text": [
            "Merkel\n",
            "(-0.51) Spanish\n",
            "(-1.81) Scottish\n",
            "(-2.59) Russian\n",
            "\n",
            "\n",
            "Hirobumi\n",
            "(-0.23) Spanish\n",
            "(-2.52) Arabic\n",
            "(-2.79) Czech\n",
            "\n",
            "\n",
            "Suarez\n",
            "(-0.51) Spanish\n",
            "(-2.07) Scottish\n",
            "(-2.52) Russian\n",
            "\n",
            "\n"
          ]
        }
      ]
    },
    {
      "cell_type": "markdown",
      "metadata": {
        "id": "cb00UB_RnMdK"
      },
      "source": [
        "# Classificação de sequencias"
      ]
    },
    {
      "cell_type": "code",
      "metadata": {
        "id": "S-xXidMtnLzA",
        "colab": {
          "base_uri": "https://localhost:8080/"
        },
        "outputId": "40afadf9-98d7-4752-e89d-8a615b67acf7"
      },
      "source": [
        "import os, random\n",
        "import numpy as np\n",
        "import seaborn as sns\n",
        "import matplotlib.pyplot as plt\n",
        "sns.set_style('darkgrid')\n",
        "\n",
        "import torch\n",
        "from torch import nn, optim\n",
        "from torchtext.legacy import data\n",
        "from torchtext.legacy import datasets\n",
        "import torch.nn.functional as F\n",
        "\n",
        "SEED = 1234\n",
        "torch.manual_seed(SEED)\n",
        "\n",
        "device = torch.device('cuda') if torch.cuda.is_available() else torch.device('cpu')\n",
        "print(device)"
      ],
      "execution_count": 66,
      "outputs": [
        {
          "output_type": "stream",
          "name": "stdout",
          "text": [
            "cuda\n"
          ]
        }
      ]
    },
    {
      "cell_type": "markdown",
      "metadata": {
        "id": "ubA3cKHa57Sm"
      },
      "source": [
        "## IMDb Reviews\n",
        "\n",
        "\n",
        "<img src=\"https://drive.google.com/uc?export=view&id=1I5dBhbKnPPq-m8CiwaKrvg6LGuT8bkTb\" width=\"700\">\n"
      ]
    },
    {
      "cell_type": "markdown",
      "metadata": {
        "id": "rvXopZV79go7"
      },
      "source": [
        "## Torchtext\n",
        "\n",
        "Similar ao torchvision para imagens, o pacote torchtext facilita o trabalho com texto, oferecendo ferramentas aproveitáveis para outros dados sequenciais.\n",
        "\n",
        "Um dos seus principais elementos é o `Field`, objeto que carrega informações de como os dados devem ser processados. \n",
        "\n",
        "No nosso caso temos dois dados:\n",
        "* Texto: Uma sequência de caracteres que será dividida em **tokens**. Armazenaremos também os tamanhos das frases pois mais a frente veremos como trabalhar com sequências de tamanhos variáveis\n",
        "\n",
        "  * Ex: \"Bom dia Brasil!\" $\\rightarrow$ `[\"bom\", \"dia\", \"brasil\", \"!\"]`\n",
        "\n",
        "```python\n",
        "TEXT = data.Field(tokenize = 'spacy', include_lengths = True)\n",
        "```\n",
        "\n",
        "* Label: Categorias descritas como \"pos\" e \"neg\". Essas serão transformadas para valores numéricos {neg: 0, pos: 1}\n",
        "\n",
        "```python\n",
        "LABEL = data.LabelField(dtype = torch.long)\n",
        "```\n",
        "\n"
      ]
    },
    {
      "cell_type": "code",
      "metadata": {
        "id": "yt6PkjUkX69y"
      },
      "source": [
        "TEXT = data.Field(tokenize = 'spacy', include_lengths = True)\n",
        "LABEL = data.LabelField(dtype = torch.long)\n",
        "\n",
        "train_data, test_data = datasets.IMDB.splits(TEXT, LABEL)\n",
        "train_data, valid_data = train_data.split(random_state = random.seed(SEED))"
      ],
      "execution_count": 67,
      "outputs": []
    },
    {
      "cell_type": "code",
      "metadata": {
        "id": "d_MP4qtcqgOT",
        "colab": {
          "base_uri": "https://localhost:8080/"
        },
        "outputId": "dec9b2a7-0f18-4bb8-ecf9-74b21b1f2adf"
      },
      "source": [
        "for sample in valid_data:\n",
        "  \n",
        "  print(vars(sample))\n",
        "  \n",
        "  texto = sample.text\n",
        "  label = sample.label\n",
        "\n",
        "  break"
      ],
      "execution_count": 68,
      "outputs": [
        {
          "output_type": "stream",
          "name": "stdout",
          "text": [
            "{'text': ['Perhaps', 'I', 'would', 'have', 'liked', 'this', 'film', 'more', 'if', 'I', 'was', \"n't\", 'so', 'attached', 'to', 'the', 'characters', 'in', 'Henry', 'Fool', '.', 'To', 'those', 'who', \"'ve\", 'never', 'seen', 'Henry', 'Fool', ',', 'I', 'would', \"n't\", 'worry', '.', 'As', 'Hartley', 'jokingly', 'said', 'in', 'his', 'introduction', 'to', 'the', 'film', 'at', 'TIFF', ',', 'the', 'film', 'has', 'lots', 'of', 'exposition', 'and', 'explanations.<br', '/><br', '/>This', 'film', 'is', 'very', 'heavy', 'in', 'plot', ',', 'which', 'keeps', 'the', 'film', 'moving', '.', 'There', 'are', 'many', 'humorous', 'moments', 'and', 'the', 'film', 'certainly', 'has', 'Hartley', \"'s\", 'trademark', 'humour', 'and', 'rhythm', 'of', 'dialogue', '.', 'Over', 'all', ',', 'a', 'technically', 'well', 'made', 'film', 'and', 'sure', 'to', 'satisfy', 'new', 'fans', 'of', 'Hartley', 'who', 'are', 'just', 'beginning', 'explore', 'his', 'work', '.', 'As', 'for', 'the', 'older', 'fans', 'who', 'loved', 'his', 'earlier', 'works', 'like', 'Trust', 'and', 'Amateur', ',', 'this', 'film', 'could', 'go', 'either', 'way', '.', 'I', 'have', 'mixed', 'feelings', 'about', 'the', 'film', 'and', 'Hartley', \"'s\", 'later', 'films', 'in', 'general', '.', 'What', 'Hartley', 'does', 'best', 'is', 'setting', 'his', 'stories', 'in', 'small', 'situations', ',', 'focusing', 'on', 'the', 'intimate', 'and', 'idiosyncratic', 'ways', 'in', 'which', 'his', 'characters', 'interact', 'with', 'each', 'other', '.', 'Since', 'his', 'late', '90s', 'and', 'onward', ',', 'his', 'films', 'have', 'widened', 'in', 'scope', 'in', 'terms', 'of', 'subject', 'matter', '.', 'Mass', 'media', 'in', 'No', 'Such', 'Thing', ',', 'Religion', 'in', 'the', 'Book', 'of', 'Life', 'and', 'now', 'Terrorism', 'in', 'Fay', 'Grim', '.', 'I', 'do', \"n't\", 'know', 'if', 'Hartley', \"'s\", 'talents', 'are', 'suited', 'to', 'such', 'big', 'subject', 'matter', 'or', 'if', 'he', \"'s\", 'able', 'to', 'do', 'it', 'justice.<br', '/><br', '/>Strangely', 'enough', ',', 'the', 'film', 'can', 'still', 'be', 'reduced', 'to', 'intimate', 'relationships', ',', 'a', 'simple', 'love', 'story', 'about', 'a', 'woman', 'who', 'goes', 'to', 'seek', 'out', 'the', 'husband', 'she', 'loves', '.', 'The', 'only', 'problem', 'is', ',', 'I', \"'ve\", 'seen', 'Henry', 'Fool', 'and', 'everyone', 'seems', 'incredibly', 'out', 'of', 'character', 'in', 'this', 'film', '.', 'You', 'can', 'tell', 'this', 'film', 'was', 'written', 'long', 'after', 'Henry', 'Fool', 'was', 'finished', 'without', 'any', 'intention', 'of', 'a', 'sequel', '.', 'Somehow', ',', 'the', 'terrorist', 'plot', 'feels', 'conveniently', 'tacked', 'on', 'through', 'the', 'use', 'of', 'Henry', \"'s\", 'books', 'of', 'confessions', 'as', 'a', 'macguffin', '(', 'in', 'the', 'hitchcockian', 'sense', ')', '.', 'Fay', \"'s\", 'motivations', 'for', 'finding', 'Henry', 'seemed', 'motivated', 'purely', 'by', 'the', 'needs', 'of', 'the', 'plot', 'rather', 'than', 'what', 'being', 'faithful', 'to', 'who', 'fay', 'was', 'as', 'person', 'in', 'Henry', 'Fool.<br', '/><br', '/>I', 'guess', 'I', \"'m\", 'slightly', 'disappointed', 'in', 'the', 'film', 'because', 'it', \"'s\", 'not', 'true', 'to', 'the', 'characters', 'in', 'the', 'Henry', 'Fool', 'and', 'it', 'does', \"n't\", 'exactly', 'work', 'as', 'a', 'straight', 'ahead', 'thriller', '.', 'There', \"'s\", 'too', 'much', 'irony', 'and', 'wryness', 'in', 'Hartley', \"'s\", 'approach', 'to', 'such', 'as', 'big', 'topic', 'as', 'terrorism', '.', 'It', 'somehow', 'works', 'and', 'does', \"n't\", 'work', 'at', 'the', 'same', 'time', '.', 'All', 'I', 'could', 'say', ',', 'you', 'would', 'either', 'love', 'or', 'hate', 'the', 'film', 'depending', 'on', 'your', 'take', 'on', 'Hartley', \"'s\", 'work', 'and', 'how', 'well', 'you', 'know', 'Hartley', \"'s\", 'work', '.', 'Fans', 'of', 'Henry', 'Fool', ',', 'be', 'severely', 'warned', 'for', 'a', 'disappointment', '.', 'For', 'the', 'rest', ',', 'welcome', 'to', 'the', 'world', 'of', 'Hal', 'Hartley', 'and', 'enjoy', 'the', 'ride', '.'], 'label': 'pos'}\n"
          ]
        }
      ]
    },
    {
      "cell_type": "markdown",
      "metadata": {
        "id": "vB6JRySs5_Yl"
      },
      "source": [
        "## Representação do Dado"
      ]
    },
    {
      "cell_type": "markdown",
      "metadata": {
        "id": "JhX-YiRv8o-C"
      },
      "source": [
        "\n",
        "### Vocabulário\n",
        "\n",
        "Uma pergunta que pode ter passado na sua cabeça: como alimentamos uma rede neural com palavras de um texto?\n",
        "\n",
        "Para transformar palavras em dados numéricos, a solução mais simples é mapeá-las em um dicionário contendo o vocabulário completo do conjunto. \n",
        "\n",
        "<img src=\"https://static.packt-cdn.com/products/9781786465825/graphics/B05525_03_01.jpg\" width=\"500\">\n",
        "\n",
        "Podemos fazer isso chamando a função **```build_vocab```** nos nossos fields. Como datasets de texto podem chegar a centenas de milhares de palavras, é importante definir um limite superior para o número de palavras mapeadas pelo dicionário. No código a seguir, esse limite é definido como ```MAX_VOCAB_SIZE = 25000```\n",
        "\n",
        "Atenção também para o parâmetro ```vectors = \"glove.6B.100d\"```. O GloVe (Global Vectors) é um método de representação de palavras que explicaremos em maiores detalhes mais a frente. A princípio basta saber que o modelo \"glove.**6B**.**100d**\" foi treinado em **6 bilhões** de tokens e gera uma representação latente de dimensionalidade  **d = 100**"
      ]
    },
    {
      "cell_type": "code",
      "metadata": {
        "id": "Elt4DdPSqfEO"
      },
      "source": [
        "MAX_VOCAB_SIZE = 25_000\n",
        "\n",
        "TEXT.build_vocab(train_data, \n",
        "                 max_size = MAX_VOCAB_SIZE, \n",
        "                 vectors = \"glove.6B.100d\", \n",
        "                 unk_init = torch.Tensor.normal_)\n",
        "\n",
        "LABEL.build_vocab(train_data)"
      ],
      "execution_count": 69,
      "outputs": []
    },
    {
      "cell_type": "code",
      "metadata": {
        "id": "H9NC0QvRrgJ-",
        "colab": {
          "base_uri": "https://localhost:8080/"
        },
        "outputId": "5aba0d0b-31b3-4658-8427-4de0c952083c"
      },
      "source": [
        "print('Tamanho do vocabulario', len(TEXT.vocab),'\\n')\n",
        "print(TEXT.vocab.itos[:10],'\\n', LABEL.vocab.stoi, '\\n')\n",
        "TEXT.vocab.freqs.most_common(20)"
      ],
      "execution_count": 70,
      "outputs": [
        {
          "output_type": "stream",
          "name": "stdout",
          "text": [
            "Tamanho do vocabulario 25002 \n",
            "\n",
            "['<unk>', '<pad>', 'the', ',', '.', 'a', 'and', 'of', 'to', 'is'] \n",
            " defaultdict(None, {'neg': 0, 'pos': 1}) \n",
            "\n"
          ]
        },
        {
          "output_type": "execute_result",
          "data": {
            "text/plain": [
              "[('the', 203104),\n",
              " (',', 192504),\n",
              " ('.', 165735),\n",
              " ('a', 109471),\n",
              " ('and', 109283),\n",
              " ('of', 101022),\n",
              " ('to', 93374),\n",
              " ('is', 76440),\n",
              " ('in', 61596),\n",
              " ('I', 53786),\n",
              " ('it', 53290),\n",
              " ('that', 49527),\n",
              " ('\"', 44217),\n",
              " (\"'s\", 43559),\n",
              " ('this', 42127),\n",
              " ('-', 36893),\n",
              " ('/><br', 35922),\n",
              " ('was', 35091),\n",
              " ('as', 30509),\n",
              " ('with', 29878)]"
            ]
          },
          "metadata": {},
          "execution_count": 70
        }
      ]
    },
    {
      "cell_type": "markdown",
      "metadata": {
        "id": "YK7XBwF48kNS"
      },
      "source": [
        "### Embedding Layer\n",
        "\n",
        "Documentação Pytorch: https://pytorch.org/docs/stable/nn.html#torch.nn.Embedding\n",
        "\n",
        "Camadas de embedding são treinadas para mapear um ínidice numérico para um vetor denso de maior carga semântica.\n",
        "\n",
        "Acabamos de ver a representação de palaras como ínidices de um vocabulário fixo. Apesar do índice informar a qual palavra estamos nos referindo, ele não incorpora nenhuma informação semântica sobre a palavra. O treinamento de embeddings para dados textuais tem como objetivo projetar esses índices em um espaço onde palavras semanticamente similares estejam próximas.\n",
        "\n",
        "![](https://drive.google.com/uc?export=view&id=1pliMSOcjjOZAiR26ycowSeUJsj5cy9W_)\n",
        "\n",
        "No Pytorch, a instância dessa classe recebe como parâmetro ```(vocab_size, embedding_size, padding_idx)```\n",
        "* ```vocab_size```: Tamanho do vocabulário. Note que **não** se trata da dimensionalidade da entrada.\n",
        "* ```embedding_size```: Dimensionalidade da dimensão latente. Caso haja o aproveitamento de embeddings pré treinadas deve-se definir a dimensionalidade da camada em função dos pesos que serão importados (ex: glove.6b.100d, ```embedding_size=100```).\n"
      ]
    },
    {
      "cell_type": "code",
      "metadata": {
        "id": "EcHexFrQ47y_",
        "colab": {
          "base_uri": "https://localhost:8080/"
        },
        "outputId": "52b7d15f-9947-432f-9675-87c32528257a"
      },
      "source": [
        "class RNN(nn.Module):\n",
        "  \n",
        "  def __init__(self, tam_vocab, tam_embedding, embed_vectors, \n",
        "               ind_unk, ind_pad):\n",
        "    super(RNN, self).__init__()\n",
        "\n",
        "    # Inicializaremos a camada de embedding\n",
        "    self.embedding = nn.Embedding(tam_vocab, tam_embedding)\n",
        "    self.embedding.weight.data.copy_(embed_vectors)\n",
        "    self.embedding.weight.data[ind_unk] = torch.zeros(tam_embedding)\n",
        "    self.embedding.weight.data[ind_pad] = torch.zeros(tam_embedding)\n",
        "    #######################################\n",
        "\n",
        "\n",
        "  def forward(self, X):\n",
        "    vectors = self.embedding(X)\n",
        "\n",
        "\n",
        "tam_vocab = len(TEXT.vocab)\n",
        "tam_embedding = 100 # glove 100d\n",
        "embed_vectors = TEXT.vocab.vectors\n",
        "ind_pad = TEXT.vocab.stoi[TEXT.pad_token]\n",
        "ind_unk = TEXT.vocab.stoi[TEXT.unk_token]\n",
        "\n",
        "model = RNN(tam_vocab, tam_embedding, embed_vectors, \n",
        "               ind_unk, ind_pad)\n",
        "\n",
        "print(model)"
      ],
      "execution_count": 71,
      "outputs": [
        {
          "output_type": "stream",
          "name": "stdout",
          "text": [
            "RNN(\n",
            "  (embedding): Embedding(25002, 100)\n",
            ")\n"
          ]
        }
      ]
    },
    {
      "cell_type": "markdown",
      "metadata": {
        "id": "qNmIIy1lsllL"
      },
      "source": [
        "## BucketIterator\n",
        "Essa classe do Torchtext funciona de forma análoga ao DataLoader do PyTorch,  porém leva em consideração a construção de **batches com sequências de comprimento variável**. Internamente ele agrega sequências de comprimento similar, **minimizando a quantidade de padding necessária**. \n",
        "\n",
        "Além disso, os dados já saem preparados para serem empacotados pela função ```pack_padded_sequence``` ordenados por comprimento de sequência e informando o comprimento real de cada amostra (sem padding).\n",
        "\n",
        "> Exemplo: Para compor um tensor com 5 amostras de frases com tamanhos variáveis, a segunda dimensão é definida pela frase de maior comprimento. Amostras menores são complementadas com tokens nulos (`<pad>`). \n",
        "\n",
        "<img src=\"https://drive.google.com/uc?export=view&id=1uOf8NpztcNyV0Dq9Ch5oJoKuPnwPptqK\" width=\"450\">\n",
        "\n",
        "\n",
        "Documentação: https://torchtext.readthedocs.io/en/latest/data.html?highlight=BucketIterator#torchtext.data.BucketIterator\n"
      ]
    },
    {
      "cell_type": "code",
      "metadata": {
        "id": "3tgX3QPur4fI"
      },
      "source": [
        "BATCH_SIZE = 64\n",
        "\n",
        "device = torch.device('cuda' if torch.cuda.is_available() else 'cpu')\n",
        "\n",
        "train_iterator, valid_iterator, test_iterator = data.BucketIterator.splits(\n",
        "    (train_data, valid_data, test_data), \n",
        "    batch_size = BATCH_SIZE,\n",
        "    sort_within_batch = True,\n",
        "    device = device)"
      ],
      "execution_count": 72,
      "outputs": []
    },
    {
      "cell_type": "code",
      "metadata": {
        "id": "twkpKCD8tioW",
        "colab": {
          "base_uri": "https://localhost:8080/"
        },
        "outputId": "980cbf7f-8f85-4543-c087-4fce8adc09ee"
      },
      "source": [
        "for sample in valid_iterator:\n",
        "\n",
        "  texto, tamanho = sample.text\n",
        "  label = sample.label\n",
        "  \n",
        "  print(f'Texto: {texto.shape}, Tamanho: {tamanho.shape}, Label: {label.shape} \\n', )\n",
        "\n",
        "  print(tamanho)\n",
        "\n",
        "  break"
      ],
      "execution_count": 73,
      "outputs": [
        {
          "output_type": "stream",
          "name": "stdout",
          "text": [
            "Texto: torch.Size([48, 64]), Tamanho: torch.Size([64]), Label: torch.Size([64]) \n",
            "\n",
            "tensor([48, 48, 48, 48, 48, 47, 47, 47, 47, 46, 46, 46, 46, 46, 45, 45, 45, 44,\n",
            "        44, 44, 44, 44, 44, 44, 43, 43, 43, 43, 42, 42, 42, 42, 42, 42, 41, 41,\n",
            "        40, 40, 40, 39, 39, 39, 38, 38, 38, 36, 36, 36, 35, 34, 34, 33, 33, 33,\n",
            "        32, 31, 31, 30, 28, 28, 27, 14, 14, 12], device='cuda:0')\n"
          ]
        }
      ]
    },
    {
      "cell_type": "markdown",
      "metadata": {
        "id": "PovfGyNhuwCJ"
      },
      "source": [
        "## Padding and Packing (Preenchendo e empacotando)\n",
        "\n",
        "O pacote de funções de rnn, ```nn.utils.rnn```, oferece meios de processar batches contendo sequências de tamanho variável. Isso é realizado através do **padding** da sequência (ex: preenchimento com zeros),  de modo que elas aparentem ter igual comprimento, porém internamente as posições preenchidas não são processadas pela RNN.\n",
        "\n",
        "*  Vamos lembrar do nosso batch de frases com tamanhos variáveis:\n",
        "\n",
        "<img src=\"https://drive.google.com/uc?export=view&id=1uOf8NpztcNyV0Dq9Ch5oJoKuPnwPptqK\" width=\"450\">\n",
        "\n",
        "\n",
        "*  O empacotamento precisa receber os dados em ordem decrescente de comprimento, e internamente são criados \"mini batches\" com o seu batch. Dessa forma, apenas os timesteps que contém informação relevante sobre o dado são apresentadas à rede. Igualmente, somente esses timesteps impactam no backpropagation.\n",
        "\n",
        "<img src=\"https://drive.google.com/uc?export=view&id=1ySh4IdDO4Iw3G8p2iSdo62MW_z4kR5fd\" width=\"450\">\n",
        "\n",
        "\n",
        "Para isso basta realizar o padding das suas sequências, **preservando os comprimetos originais** em outra variável. Na prática, o forward recebe mais um parâmetro, aqui chamamos de **```tamanhos```**, referente ao comprimento de cada amostra dentro do batch **```X```**, ordenado de forma descrescente.\n",
        "\n",
        "Tendo em mãos (1) o batch de sequências preenchidas e ordenadas, e (2) o comprimento original de cada amostra, basta realizar as seguintes operações no forward da rede:\n",
        "\n",
        "```python\n",
        "## Empacote a sequência antes de alimentar a unidade recorrente\n",
        "packed_input = nn.utils.rnn.pack_padded_sequence(X, tamanhos)\n",
        "\n",
        "## Forward recorrente\n",
        "packed_output, hidden = self.rnn(packed_input, hidden )\n",
        "\n",
        "## Desempacote a sequência para continuar o fluxo na rede.\n",
        "output, output_lengths = nn.utils.rnn.pad_packed_sequence(packed_output)\n",
        "```"
      ]
    },
    {
      "cell_type": "code",
      "metadata": {
        "id": "k9NrGiXnuvsg",
        "colab": {
          "base_uri": "https://localhost:8080/"
        },
        "outputId": "215981fc-2c34-4f3f-af8e-cb761c1d702c"
      },
      "source": [
        "class RNN(nn.Module):\n",
        "  \n",
        "  def __init__(self, tam_vocab, tam_embedding, embed_vectors, \n",
        "               ind_unk, ind_pad, hidden_size):\n",
        "    super(RNN, self).__init__()\n",
        "\n",
        "    # Inicializaremos a camada de embedding\n",
        "    self.embedding = nn.Embedding(tam_vocab, tam_embedding)\n",
        "    self.embedding.weight.data.copy_(embed_vectors)\n",
        "    self.embedding.weight.data[ind_unk] = torch.zeros(tam_embedding)\n",
        "    self.embedding.weight.data[ind_pad] = torch.zeros(tam_embedding)\n",
        "    #######################################\n",
        "\n",
        "    # Camada recorrente\n",
        "    self.hidden_size = hidden_size\n",
        "    self.rnn = nn.GRU(tam_embedding, hidden_size)\n",
        "\n",
        "\n",
        "  def forward(self, X, tamanhos):\n",
        "    print('X:', X.size(), '\\n')\n",
        "    print('tamanhos', tamanhos, '\\n')\n",
        "    vectors = self.embedding(X)\n",
        "    print('Vectors:', vectors.size(), '\\n')\n",
        "\n",
        "    hidden = torch.randn(1, X.size(1), self.hidden_size)\n",
        "\n",
        "    ## Empacote a sequência antes de alimentar a unidade recorrente\n",
        "    packed_input = nn.utils.rnn.pack_padded_sequence(vectors, tamanhos)\n",
        "    print('Packed input:', packed_input.batch_sizes, '\\n')\n",
        "    \n",
        "    ## Forward recorrente\n",
        "    packed_output, hidden = self.rnn(packed_input, hidden )\n",
        "    print('Packed output:', packed_output.batch_sizes, '\\n')\n",
        "\n",
        "    ## Desempacote a sequência para continuar o fluxo na rede.\n",
        "    output, output_lengths = nn.utils.rnn.pad_packed_sequence(packed_output)\n",
        "    print('output:', output.size(), '\\n')\n",
        "\n",
        "    return output\n",
        "\n",
        "\n",
        "tam_vocab = len(TEXT.vocab)\n",
        "tam_embedding = 100 # glove 100d\n",
        "embed_vectors = TEXT.vocab.vectors\n",
        "ind_pad = TEXT.vocab.stoi[TEXT.pad_token]\n",
        "ind_unk = TEXT.vocab.stoi[TEXT.unk_token]\n",
        "\n",
        "hidden_size = 256\n",
        "\n",
        "model = RNN(tam_vocab, tam_embedding, embed_vectors, \n",
        "               ind_unk, ind_pad, hidden_size)\n",
        "\n",
        "print(model)"
      ],
      "execution_count": 74,
      "outputs": [
        {
          "output_type": "stream",
          "name": "stdout",
          "text": [
            "RNN(\n",
            "  (embedding): Embedding(25002, 100)\n",
            "  (rnn): GRU(100, 256)\n",
            ")\n"
          ]
        }
      ]
    },
    {
      "cell_type": "code",
      "metadata": {
        "id": "Sq0lxCK3ExA1",
        "colab": {
          "base_uri": "https://localhost:8080/"
        },
        "outputId": "07e042a0-83e9-4497-b100-daa1f8d56b93"
      },
      "source": [
        "try:\n",
        "    for sample in valid_iterator:\n",
        "        texto, tamanhos = sample.text\n",
        "        label = sample.label\n",
        "\n",
        "        saida = model(texto, tamanhos)\n",
        "        break\n",
        "except:\n",
        "    None"
      ],
      "execution_count": 76,
      "outputs": [
        {
          "output_type": "stream",
          "name": "stdout",
          "text": [
            "X: torch.Size([48, 64]) \n",
            "\n",
            "tamanhos tensor([48, 48, 48, 48, 48, 47, 47, 47, 47, 46, 46, 46, 46, 46, 45, 45, 45, 44,\n",
            "        44, 44, 44, 44, 44, 44, 43, 43, 43, 43, 42, 42, 42, 42, 42, 42, 41, 41,\n",
            "        40, 40, 40, 39, 39, 39, 38, 38, 38, 36, 36, 36, 35, 34, 34, 33, 33, 33,\n",
            "        32, 31, 31, 30, 28, 28, 27, 14, 14, 12], device='cuda:0') \n",
            "\n"
          ]
        }
      ]
    },
    {
      "cell_type": "markdown",
      "metadata": {
        "id": "pxsqnPxxEwog"
      },
      "source": [
        "## Classificando Sequências\n"
      ]
    },
    {
      "cell_type": "code",
      "metadata": {
        "id": "VLToh3B8Kgzb",
        "colab": {
          "base_uri": "https://localhost:8080/"
        },
        "outputId": "8abb5e76-a09e-4d9a-e6c5-a50f4bedc00f"
      },
      "source": [
        "class RNN(nn.Module):\n",
        "  \n",
        "  def __init__(self, tam_vocab, tam_embedding, embed_vectors, \n",
        "               ind_unk, ind_pad, hidden_size, output_size):\n",
        "    super(RNN, self).__init__()\n",
        "\n",
        "    # Inicializaremos a camada de embedding\n",
        "    self.embedding = nn.Embedding(tam_vocab, tam_embedding)\n",
        "    self.embedding.weight.data.copy_(embed_vectors)\n",
        "    self.embedding.weight.data[ind_unk] = torch.zeros(tam_embedding)\n",
        "    self.embedding.weight.data[ind_pad] = torch.zeros(tam_embedding)\n",
        "    #######################################\n",
        "\n",
        "    self.hidden_size = hidden_size\n",
        "    self.rnn = nn.GRU(tam_embedding, hidden_size)\n",
        "    self.linear = nn.Linear(hidden_size, output_size)\n",
        "\n",
        "\n",
        "  def forward(self, X, tamanhos):\n",
        "    vectors = self.embedding(X)\n",
        "\n",
        "    hidden = torch.zeros(1, X.size(1), self.hidden_size).to(device)\n",
        "\n",
        "    packed_input = nn.utils.rnn.pack_padded_sequence(vectors, tamanhos)\n",
        "    packed_output, hidden = self.rnn(packed_input, hidden )\n",
        "    output, output_lengths = nn.utils.rnn.pad_packed_sequence(packed_output)\n",
        "    \n",
        "    # print('output:', output.size())\n",
        "    output = F.adaptive_max_pool1d(output.permute(1,2,0), 1)\n",
        "    # print('output pool:', output.size())\n",
        "    output = self.linear(output.squeeze())\n",
        "    # print('output linear:', output.size())\n",
        "\n",
        "    return output\n",
        "\n",
        "\n",
        "tam_vocab = len(TEXT.vocab)\n",
        "tam_embedding = 100 # glove 100d\n",
        "embed_vectors = TEXT.vocab.vectors\n",
        "ind_pad = TEXT.vocab.stoi[TEXT.pad_token]\n",
        "ind_unk = TEXT.vocab.stoi[TEXT.unk_token]\n",
        "\n",
        "hidden_size = 256\n",
        "output_size = 2\n",
        "\n",
        "model = RNN(tam_vocab, tam_embedding, embed_vectors, \n",
        "               ind_unk, ind_pad, hidden_size, output_size)\n",
        "\n",
        "model = model.to(device)\n",
        "\n",
        "print(model)"
      ],
      "execution_count": 77,
      "outputs": [
        {
          "output_type": "stream",
          "name": "stdout",
          "text": [
            "RNN(\n",
            "  (embedding): Embedding(25002, 100)\n",
            "  (rnn): GRU(100, 256)\n",
            "  (linear): Linear(in_features=256, out_features=2, bias=True)\n",
            ")\n"
          ]
        }
      ]
    },
    {
      "cell_type": "code",
      "metadata": {
        "id": "Td4r75xLat14"
      },
      "source": [
        "for sample in valid_iterator:\n",
        "  texto, tamanhos = sample.text\n",
        "  label = sample.label\n",
        "\n",
        "  saida = model(texto, tamanhos.cpu())\n",
        "  break"
      ],
      "execution_count": 78,
      "outputs": []
    },
    {
      "cell_type": "markdown",
      "metadata": {
        "id": "xz1VnPMvbdXb"
      },
      "source": [
        "### Loss e Otimizador"
      ]
    },
    {
      "cell_type": "code",
      "metadata": {
        "id": "iBtJ1U5fbaL9"
      },
      "source": [
        "criterio = nn.CrossEntropyLoss().to(device)\n",
        "optimizer = optim.Adam(model.parameters(), lr=1e-4, weight_decay=5e-5)"
      ],
      "execution_count": 79,
      "outputs": []
    },
    {
      "cell_type": "code",
      "metadata": {
        "id": "AQCV6VRjbuqF"
      },
      "source": [
        "def forward(iterator, num_samples, etapa):\n",
        "  if etapa == 'Treino': model.train()\n",
        "  else: model.eval()\n",
        "\n",
        "  acuracia = 0.\n",
        "  loss_epoca = []\n",
        "  for k, sample in enumerate(iterator):\n",
        "      \n",
        "    texto, tamanhos = sample.text\n",
        "    rotulo = sample.label\n",
        "\n",
        "    saida = model(texto, tamanhos.cpu())\n",
        "\n",
        "    loss = criterio(saida, rotulo)\n",
        "    loss_epoca.append(loss.detach().cpu().numpy())\n",
        "\n",
        "    _, pred = torch.max(saida, axis=-1)\n",
        "    acuracia += (pred.cpu().data == rotulo.cpu().data).sum()\n",
        "    \n",
        "    if etapa == 'Treino':\n",
        "      # Otimização\n",
        "      optimizer.zero_grad()\n",
        "      loss.backward()\n",
        "      optimizer.step()\n",
        "\n",
        "  loss_epoca = np.asarray(loss_epoca).ravel()\n",
        "  acuracia   = acuracia/float(num_samples)\n",
        "  print('\\n','*'*15 + etapa + '*'*15 )\n",
        "  print('Epoca: {:}, Loss: {:.4f} +/- {:.4f}, Acurácia: {:.4f}'.format(epoca, loss_epoca.mean(), \n",
        "                                                                        loss_epoca.std(), \n",
        "                                                                        acuracia\n",
        "                                                                       )) \n",
        "  return loss_epoca.mean(), acuracia"
      ],
      "execution_count": 80,
      "outputs": []
    },
    {
      "cell_type": "code",
      "metadata": {
        "id": "yi7gVVH4clTj",
        "colab": {
          "base_uri": "https://localhost:8080/"
        },
        "outputId": "9a0f2d96-d35d-4637-ac3d-f977581be614"
      },
      "source": [
        "loss_treino, loss_test = [], []\n",
        "acc_treino, acc_test = [], []\n",
        "\n",
        "for epoca in range(25):\n",
        "  loss, acuracia = forward(train_iterator, len(train_data), 'Treino')\n",
        "  loss_treino.append(loss)\n",
        "  acc_treino.append(acuracia)  \n",
        "\n",
        "  loss, acuracia = forward(valid_iterator, len(valid_data), 'Teste')\n",
        "  loss_test.append(loss)\n",
        "  acc_test.append(acuracia)\n"
      ],
      "execution_count": 81,
      "outputs": [
        {
          "output_type": "stream",
          "name": "stdout",
          "text": [
            "\n",
            " ***************Treino***************\n",
            "Epoca: 0, Loss: 0.6758 +/- 0.0252, Acurácia: 0.5787\n",
            "\n",
            " ***************Teste***************\n",
            "Epoca: 0, Loss: 0.6168 +/- 0.0410, Acurácia: 0.6533\n",
            "\n",
            " ***************Treino***************\n",
            "Epoca: 1, Loss: 0.5479 +/- 0.0610, Acurácia: 0.7285\n",
            "\n",
            " ***************Teste***************\n",
            "Epoca: 1, Loss: 0.5006 +/- 0.0542, Acurácia: 0.7631\n",
            "\n",
            " ***************Treino***************\n",
            "Epoca: 2, Loss: 0.4738 +/- 0.0587, Acurácia: 0.7799\n",
            "\n",
            " ***************Teste***************\n",
            "Epoca: 2, Loss: 0.4597 +/- 0.0607, Acurácia: 0.7852\n",
            "\n",
            " ***************Treino***************\n",
            "Epoca: 3, Loss: 0.4308 +/- 0.0635, Acurácia: 0.8055\n",
            "\n",
            " ***************Teste***************\n",
            "Epoca: 3, Loss: 0.4283 +/- 0.0605, Acurácia: 0.8071\n",
            "\n",
            " ***************Treino***************\n",
            "Epoca: 4, Loss: 0.4100 +/- 0.0671, Acurácia: 0.8159\n",
            "\n",
            " ***************Teste***************\n",
            "Epoca: 4, Loss: 0.4032 +/- 0.0625, Acurácia: 0.8235\n",
            "\n",
            " ***************Treino***************\n",
            "Epoca: 5, Loss: 0.3817 +/- 0.0719, Acurácia: 0.8373\n",
            "\n",
            " ***************Teste***************\n",
            "Epoca: 5, Loss: 0.3884 +/- 0.0583, Acurácia: 0.8328\n",
            "\n",
            " ***************Treino***************\n",
            "Epoca: 6, Loss: 0.3596 +/- 0.0715, Acurácia: 0.8441\n",
            "\n",
            " ***************Teste***************\n",
            "Epoca: 6, Loss: 0.3847 +/- 0.0873, Acurácia: 0.8368\n",
            "\n",
            " ***************Treino***************\n",
            "Epoca: 7, Loss: 0.3328 +/- 0.0699, Acurácia: 0.8605\n",
            "\n",
            " ***************Teste***************\n",
            "Epoca: 7, Loss: 0.3628 +/- 0.0634, Acurácia: 0.8452\n",
            "\n",
            " ***************Treino***************\n",
            "Epoca: 8, Loss: 0.3210 +/- 0.0693, Acurácia: 0.8638\n",
            "\n",
            " ***************Teste***************\n",
            "Epoca: 8, Loss: 0.3637 +/- 0.0732, Acurácia: 0.8371\n",
            "\n",
            " ***************Treino***************\n",
            "Epoca: 9, Loss: 0.3091 +/- 0.0767, Acurácia: 0.8726\n",
            "\n",
            " ***************Teste***************\n",
            "Epoca: 9, Loss: 0.3442 +/- 0.0744, Acurácia: 0.8525\n",
            "\n",
            " ***************Treino***************\n",
            "Epoca: 10, Loss: 0.2934 +/- 0.0705, Acurácia: 0.8803\n",
            "\n",
            " ***************Teste***************\n",
            "Epoca: 10, Loss: 0.3371 +/- 0.0847, Acurácia: 0.8596\n",
            "\n",
            " ***************Treino***************\n",
            "Epoca: 11, Loss: 0.2742 +/- 0.0689, Acurácia: 0.8874\n",
            "\n",
            " ***************Teste***************\n",
            "Epoca: 11, Loss: 0.3300 +/- 0.0750, Acurácia: 0.8573\n",
            "\n",
            " ***************Treino***************\n",
            "Epoca: 12, Loss: 0.2635 +/- 0.0672, Acurácia: 0.8924\n",
            "\n",
            " ***************Teste***************\n",
            "Epoca: 12, Loss: 0.3304 +/- 0.0788, Acurácia: 0.8548\n",
            "\n",
            " ***************Treino***************\n",
            "Epoca: 13, Loss: 0.2524 +/- 0.0684, Acurácia: 0.8973\n",
            "\n",
            " ***************Teste***************\n",
            "Epoca: 13, Loss: 0.3174 +/- 0.0786, Acurácia: 0.8671\n",
            "\n",
            " ***************Treino***************\n",
            "Epoca: 14, Loss: 0.2358 +/- 0.0645, Acurácia: 0.9078\n",
            "\n",
            " ***************Teste***************\n",
            "Epoca: 14, Loss: 0.3171 +/- 0.0842, Acurácia: 0.8696\n",
            "\n",
            " ***************Treino***************\n",
            "Epoca: 15, Loss: 0.2328 +/- 0.0625, Acurácia: 0.9089\n",
            "\n",
            " ***************Teste***************\n",
            "Epoca: 15, Loss: 0.3488 +/- 0.0778, Acurácia: 0.8473\n",
            "\n",
            " ***************Treino***************\n",
            "Epoca: 16, Loss: 0.2238 +/- 0.0659, Acurácia: 0.9125\n",
            "\n",
            " ***************Teste***************\n",
            "Epoca: 16, Loss: 0.3098 +/- 0.0825, Acurácia: 0.8728\n",
            "\n",
            " ***************Treino***************\n",
            "Epoca: 17, Loss: 0.2066 +/- 0.0624, Acurácia: 0.9199\n",
            "\n",
            " ***************Teste***************\n",
            "Epoca: 17, Loss: 0.3299 +/- 0.0982, Acurácia: 0.8700\n",
            "\n",
            " ***************Treino***************\n",
            "Epoca: 18, Loss: 0.1986 +/- 0.0673, Acurácia: 0.9241\n",
            "\n",
            " ***************Teste***************\n",
            "Epoca: 18, Loss: 0.3187 +/- 0.0885, Acurácia: 0.8688\n",
            "\n",
            " ***************Treino***************\n",
            "Epoca: 19, Loss: 0.1856 +/- 0.0618, Acurácia: 0.9314\n",
            "\n",
            " ***************Teste***************\n",
            "Epoca: 19, Loss: 0.3181 +/- 0.0931, Acurácia: 0.8756\n",
            "\n",
            " ***************Treino***************\n",
            "Epoca: 20, Loss: 0.1768 +/- 0.0613, Acurácia: 0.9346\n",
            "\n",
            " ***************Teste***************\n",
            "Epoca: 20, Loss: 0.3326 +/- 0.1022, Acurácia: 0.8753\n",
            "\n",
            " ***************Treino***************\n",
            "Epoca: 21, Loss: 0.1708 +/- 0.0612, Acurácia: 0.9363\n",
            "\n",
            " ***************Teste***************\n",
            "Epoca: 21, Loss: 0.3419 +/- 0.1066, Acurácia: 0.8755\n",
            "\n",
            " ***************Treino***************\n",
            "Epoca: 22, Loss: 0.1588 +/- 0.0609, Acurácia: 0.9427\n",
            "\n",
            " ***************Teste***************\n",
            "Epoca: 22, Loss: 0.3277 +/- 0.1019, Acurácia: 0.8755\n",
            "\n",
            " ***************Treino***************\n",
            "Epoca: 23, Loss: 0.1458 +/- 0.0559, Acurácia: 0.9479\n",
            "\n",
            " ***************Teste***************\n",
            "Epoca: 23, Loss: 0.3568 +/- 0.1199, Acurácia: 0.8760\n",
            "\n",
            " ***************Treino***************\n",
            "Epoca: 24, Loss: 0.1386 +/- 0.0556, Acurácia: 0.9495\n",
            "\n",
            " ***************Teste***************\n",
            "Epoca: 24, Loss: 0.3401 +/- 0.1080, Acurácia: 0.8748\n"
          ]
        }
      ]
    },
    {
      "cell_type": "code",
      "metadata": {
        "id": "7QYHwwMjnPCs"
      },
      "source": [
        "import spacy\n",
        "nlp = spacy.load('en')\n",
        "\n",
        "def predict_sentiment(sentence):\n",
        "    model.eval()\n",
        "    tokenized = [str(tok) for tok in nlp.tokenizer(sentence)]\n",
        "    print(tokenized)\n",
        "\n",
        "    indexed = [TEXT.vocab.stoi[t] for t in tokenized]\n",
        "    length = [len(indexed)]\n",
        "    print(indexed)\n",
        "    \n",
        "    tensor = torch.LongTensor(indexed).to(device)\n",
        "    tensor = tensor.unsqueeze(1)\n",
        "    length_tensor = torch.LongTensor(length)\n",
        "    \n",
        "    prediction = model(tensor, length_tensor)\n",
        "    \n",
        "    return F.softmax(prediction, dim=-1).cpu().data"
      ],
      "execution_count": 82,
      "outputs": []
    },
    {
      "cell_type": "code",
      "metadata": {
        "id": "4TWmS04nobl8",
        "colab": {
          "base_uri": "https://localhost:8080/",
          "height": 1000
        },
        "outputId": "905112d1-5756-43a3-ac0b-4a87f2254218"
      },
      "source": [
        "np.random.seed(42)\n",
        "for i in range(5):\n",
        "  idx = np.random.choice(len(test_data))\n",
        "  text = test_data[idx].text \n",
        "  pred = predict_sentiment(' '.join(text) )\n",
        "\n",
        "  plt.bar(0, pred[0], color='darkred', label='Negativo', width=0.5)\n",
        "  plt.bar(1, pred[1], color='dodgerblue', label='Positivo', width=0.5)\n",
        "  plt.title(str(test_data[idx].label))\n",
        "  plt.legend()\n",
        "  plt.show()"
      ],
      "execution_count": 83,
      "outputs": [
        {
          "output_type": "stream",
          "name": "stdout",
          "text": [
            "['Demi', 'and', 'Woody', 'are', 'married', ',', 'but', 'they', \"'re\", 'poor', '.', 'They', 'meet', 'Robert', 'Redford', ',', 'and', 'he', \"'s\", 'REALLY', 'rich', '.', 'He', 'takes', 'a', 'fancy', 'to', 'Demi', ',', 'and', 'since', 'he', \"'s\", 'a', 'gambling', 'man', 'he', 'makes', 'the', 'couple', 'an', '\"', 'indecent', 'proposal', ':', '\"', 'one', 'million', 'dollars', 'for', 'a', 'night', 'with', 'the', 'little', 'woman.<br', '/><br', '/>At', 'this', 'point', 'you', 'need', 'watch', 'no', 'more', 'of', 'the', 'film', 'because', 'you', 'can', 'put', 'the', 'details', 'together', 'in', 'your', 'sleep', '.', 'Of', 'course', 'Demi', 'is', 'going', 'to', 'accept', 'the', 'offer', '.', 'If', 'she', 'does', \"n't\", 'there', \"'s\", 'no', 'first', 'half', 'of', 'the', 'movie', '.', 'Of', 'course', 'it', 'will', 'affect', 'Demi', 'and', 'Woody', \"'s\", 'marriage', '.', 'If', 'it', 'does', \"n't\", 'there', \"'s\", 'no', 'second', 'half', 'of', 'the', 'movie', '.', 'And', 'of', 'course', 'everything', 'will', 'turn', 'out', 'okay', 'by', 'the', 'time', 'the', 'credits', 'roll', '.', 'If', 'it', 'does', \"n't\", ',', 'there', \"'s\", 'no', 'happy', 'ending', 'for', 'the', 'sake', 'of', 'box', 'office.<br', '/><br', '/>The', 'absolute', 'best', 'thing', 'you', 'can', 'say', 'about', 'INDECENT', 'PROPOSAL', 'is', 'that', 'Demi', 'Moore', 'looks', 'good', 'in', 'a', 'black', 'dress', '.', 'As', 'for', 'the', 'rest', '...', 'The', 'script', 'is', 'incompetent', ',', 'the', 'direction', 'amateurish', ',', 'the', 'performances', 'negligible', '.', 'I', 'suspect', 'Redford', ',', 'Moore', ',', 'and', 'Harrelson', 'blush', 'and', 'change', 'the', 'subject', 'every', 'time', 'the', 'film', 'is', 'mentioned', '.', 'Do', 'them', '--', 'and', 'more', 'importantly', 'yourself', '--', 'a', 'favor', '.', 'Unless', 'some', 'one', 'offers', 'you', 'a', 'million', '...', 'Miss', 'It!<br', '/><br', '/>Gary', 'F.', 'Taylor', ',', 'aka', 'GFT', ',', 'Amazon', 'Reviewer']\n",
            "[16003, 6, 2448, 32, 1084, 3, 26, 45, 203, 382, 4, 238, 974, 747, 8516, 3, 6, 37, 15, 3110, 1112, 4, 155, 312, 5, 3607, 8, 16003, 3, 6, 282, 37, 15, 5, 5781, 161, 37, 180, 2, 374, 43, 14, 0, 13776, 89, 14, 38, 1678, 2860, 23, 5, 416, 21, 2, 136, 16779, 18, 2577, 16, 235, 31, 377, 130, 82, 61, 7, 2, 24, 101, 31, 68, 295, 2, 1499, 324, 10, 149, 1897, 4, 577, 283, 16003, 9, 189, 8, 1723, 2, 1558, 4, 171, 72, 83, 27, 67, 15, 82, 106, 345, 7, 2, 22, 4, 577, 283, 12, 97, 4835, 16003, 6, 2448, 15, 1410, 4, 171, 12, 83, 27, 67, 15, 82, 378, 345, 7, 2, 22, 4, 132, 7, 283, 349, 97, 513, 54, 1426, 39, 2, 69, 2, 978, 2118, 4, 171, 12, 83, 27, 3, 67, 15, 82, 738, 304, 23, 2, 2299, 7, 993, 0, 18, 116, 1681, 144, 175, 31, 68, 150, 51, 0, 0, 9, 13, 16003, 2492, 290, 60, 10, 5, 456, 2790, 4, 267, 23, 2, 371, 88, 25, 254, 9, 5438, 3, 2, 514, 2480, 3, 2, 372, 19992, 4, 11, 1812, 8516, 3, 2492, 3, 6, 18065, 22868, 6, 661, 2, 884, 212, 69, 2, 24, 9, 1101, 4, 518, 109, 181, 6, 61, 3442, 701, 181, 5, 2170, 4, 4637, 59, 38, 1650, 31, 5, 1678, 88, 1885, 0, 18, 17864, 6295, 1794, 3, 3157, 0, 3, 7244, 17115]\n"
          ]
        },
        {
          "output_type": "display_data",
          "data": {
            "image/png": "[encoded data removed]",
            "text/plain": [
              "<Figure size 432x288 with 1 Axes>"
            ]
          },
          "metadata": {}
        },
        {
          "output_type": "stream",
          "name": "stdout",
          "text": [
            "['The', 'people', 'who', 'bash', 'this', 'movie', 'were', 'looking', 'for', 'it', 'to', 'be', 'as', 'cool', 'and', 'slick', 'as', 'the', 'first', 'one', ',', 'which', 'this', 'is', \"n't\", '.', 'This', 'movie', 'was', 'supposed', 'to', 'be', 'the', 'complete', 'opposite', 'as', 'Ocean', \"'s\", '11', '.', 'This', 'has', 'been', 'said', 'by', 'a', 'lot', 'of', 'the', 'cast', 'members', 'and', 'also', 'the', 'director', ',', 'Steven', 'Soderbergh', '.', 'Ocean', \"'s\", '12', ',', 'while', 'it', 'did', 'lack', 'a', 'gripping', 'plot', ',', 'is', 'being', 'bashed', 'because', 'it', 'was', 'different', 'then', 'what', 'people', 'wanted', '.', 'If', 'it', 'were', 'released', 'before', 'Ocean', \"'s\", '11', ',', 'it', 'would', 'be', 'taken', 'much', 'differently', ',', 'not', 'as', 'a', 'failed', 'sequel', '.', 'The', 'problem', 'with', 'sequels', 'is', 'people', 'go', 'into', 'it', 'with', 'a', 'preset', 'idea', 'of', 'what', 'it', 'should', 'be', 'like', 'it', 'and', 'have', 'lots', 'of', 'expectations', '.', 'They', 'should', 'go', 'into', 'this', 'movie', 'with', 'an', 'open', 'mind', 'and', 'not', 'expect', 'it', 'to', 'be', '\"', 'Ocean', \"'s\", '11', ',', 'again', '\"', '.']\n",
            "[25, 99, 44, 9919, 16, 22, 79, 288, 23, 12, 8, 36, 20, 753, 6, 4739, 20, 2, 106, 38, 3, 70, 16, 9, 27, 4, 66, 22, 19, 432, 8, 36, 2, 620, 1941, 20, 8313, 15, 2153, 4, 66, 52, 91, 321, 39, 5, 193, 7, 2, 195, 1072, 6, 108, 2, 194, 3, 2280, 5918, 4, 8313, 15, 1951, 3, 191, 12, 86, 599, 5, 3289, 131, 3, 9, 127, 12504, 101, 12, 19, 303, 122, 65, 99, 483, 4, 171, 12, 79, 679, 190, 8313, 15, 2153, 3, 12, 62, 36, 646, 90, 6338, 3, 33, 20, 5, 1197, 794, 4, 25, 474, 21, 2356, 9, 99, 166, 94, 12, 21, 5, 0, 338, 7, 65, 12, 154, 36, 47, 12, 6, 34, 903, 7, 1401, 4, 238, 154, 166, 94, 16, 22, 21, 43, 987, 361, 6, 33, 550, 12, 8, 36, 14, 8313, 15, 2153, 3, 208, 14, 4]\n"
          ]
        },
        {
          "output_type": "display_data",
          "data": {
            "image/png": "[encoded data removed]",
            "text/plain": [
              "<Figure size 432x288 with 1 Axes>"
            ]
          },
          "metadata": {}
        },
        {
          "output_type": "stream",
          "name": "stdout",
          "text": [
            "['This', 'was', 'very', 'energetic', 'and', 'well', 'played', 'show', '.', 'I', 'saw', 'it', 'back', 'in', '98', 'and', 'my', 'friends', 'and', 'i', 'still', 'joke', 'about', 'it', '.', 'Each', 'time', 'I', 'watch', 'it', \"'s\", 'always', 'as', 'funny', 'as', 'the', 'first', '.', 'I', 'also', 'love', 'the', 'way', 'that', 'everyone', 'can', 'relate', 'to', 'it', 'in', 'their', 'own', 'particular', 'ways', '.', 'I', 'am', 'very', 'much', 'looking', 'forward', 'to', 'seeing', 'more', 'of', 'John', \"'s\", 'own', 'scripts', 'and', 'productions', '.', '<', 'br', '/><br', '/>Unfortunately', 'I', 'ca', \"n't\", 'find', 'it', 'anywhere', 'for', 'sale', ',', 'and', 'I', \"'\", 've', 'done', 'quite', 'a', 'lot', 'of', 'looking', '.', 'If', 'anyone', 'knows', 'a', 'website', 'or', 'store', 'to', 'refer', 'me', 'to', ',', 'I', 'would', 'very', 'much', 'appreciate', 'it', 'as', 'I', 'am', 'looking', 'for', 'his', 'other', 'live', 'performances', 'as', 'well', '.', 'Please', 'send', 'me', 'a', 'message', 'if', 'any', 'of', 'you', 'have', 'info', 'on', 'the', 'subject', '.', 'Thankyou', '.']\n",
            "[66, 19, 63, 6442, 6, 100, 278, 142, 4, 11, 241, 12, 168, 10, 11839, 6, 84, 398, 6, 156, 158, 1000, 51, 12, 4, 3026, 69, 11, 130, 12, 15, 232, 20, 183, 20, 2, 106, 4, 11, 108, 143, 2, 110, 13, 364, 68, 2263, 8, 12, 10, 77, 218, 865, 822, 4, 11, 268, 63, 90, 288, 944, 8, 342, 61, 7, 326, 15, 218, 3350, 6, 3171, 4, 112, 114, 18, 4149, 11, 204, 27, 185, 12, 1935, 23, 7373, 3, 6, 11, 50, 15215, 250, 200, 5, 193, 7, 288, 4, 171, 292, 752, 5, 4241, 53, 1190, 8, 6267, 85, 8, 3, 11, 62, 63, 90, 1152, 12, 20, 11, 268, 288, 23, 35, 95, 468, 372, 20, 100, 4, 1918, 2102, 85, 5, 803, 78, 117, 7, 31, 34, 5959, 29, 2, 884, 4, 0, 4]\n"
          ]
        },
        {
          "output_type": "display_data",
          "data": {
            "image/png": "[encoded data removed]",
            "text/plain": [
              "<Figure size 432x288 with 1 Axes>"
            ]
          },
          "metadata": {}
        },
        {
          "output_type": "stream",
          "name": "stdout",
          "text": [
            "['A', 'touching', 'movie', 'about', 'a', 'talented', 'woman', 'who', 'struggles', 'with', 'a', 'society', 'and', 'a', 'love', 'that', 'structurally', 'underestimate', 'her', '.', 'The', 'issues', 'are', 'subtly', 'addressed', 'and', 'timeless', ',', 'as', 'many', 'of', 'the', 'depicted', 'difficulties', 'between', 'man', 'and', 'woman', 'still', 'exist', 'in', 'Dutch', 'society', 'today', '.', 'This', 'movie', 'is', 'a', 'tribute', 'to', 'all', 'modern', 'women', 'without', 'dwelling', 'on', 'feminism', '.', 'Not', 'only', 'the', 'story', 'is', 'well', 'told', ',', 'the', 'acting', 'and', 'the', 'scenery', 'are', 'great', 'as', 'well', '.']\n",
            "[148, 1350, 22, 51, 5, 1038, 270, 44, 3246, 21, 5, 989, 6, 5, 143, 13, 0, 0, 48, 4, 25, 1379, 32, 6960, 8540, 6, 4144, 3, 20, 134, 7, 2, 2587, 6134, 215, 161, 6, 270, 158, 1866, 10, 5268, 989, 571, 4, 66, 22, 9, 5, 3730, 8, 41, 730, 387, 242, 13632, 29, 13120, 4, 366, 73, 2, 76, 9, 100, 616, 3, 2, 129, 6, 2, 1376, 32, 103, 20, 100, 4]\n"
          ]
        },
        {
          "output_type": "display_data",
          "data": {
            "image/png": "[encoded data removed]",
            "text/plain": [
              "<Figure size 432x288 with 1 Axes>"
            ]
          },
          "metadata": {}
        },
        {
          "output_type": "stream",
          "name": "stdout",
          "text": [
            "['Navy', 'Seals', 'is', 'an', 'ignorant', ',', 'racist', 'and', 'complacent', 'movie', 'which', 'thoughtlessly', 'uses', 'the', 'Middle', 'East', 'conflict', 'as', 'the', 'backdrop', 'for', 'an', 'action', 'flick', 'concocted', 'for', 'a', 'comfortably', 'sheltered', 'American', 'Mid', '-', 'West', 'audience', '.', 'The', 'conflict', ',', 'as', 'well', 'as', 'those', 'involved', ',', 'is', 'used', 'simply', 'as', 'cannon', 'fodder', 'to', 'glorify', 'the', 'photogenic', 'young', 'Americans', 'who', 'proudly', 'kill', 'Arabs', 'for', 'the', 'good', 'of', \"'\", 'freedom', \"'\", '.', 'But', 'what', 'is', 'worse', 'is', 'that', 'the', 'film', \"'s\", 'action', 'scenes', 'are', 'sloppily', 'handled', 'and', 'unexciting', ',', 'which', 'prevents', 'Navy', 'Seals', 'from', 'working', 'even', 'as', 'a', 'mindless', \"shoot-'em\", '-', 'up.<br', '/><br', '/>Charlie', 'Sheen', \"'s\", 'character', '(', 'Hawkins', ')', 'is', 'disgusting', ',', 'obnoxious', ',', 'ignorant', ',', 'reckless', 'and', ',', 'above', 'all', ',', 'racist', '.', 'He', 'refers', 'to', 'the', 'Middle', 'East', 'as', 'a', \"'\", 's**t', '-', 'hole', \"'\", 'and', 'to', 'its', 'inhabitants', 'as', \"'\", 'rag', '-', 'heads', \"'\", '.', 'Throughout', 'the', 'film', ',', 'the', 'Navy', 'Seals', \"'\", 'characters', 'are', 'glorified', 'through', 'the', 'use', 'of', 'the', 'Lebanese', 'natives', 'as', 'cannon', 'fodder', '.', 'They', 'indiscriminately', 'massacre', 'these', 'people', 'with', 'a', 'consequence', '-', 'free', 'attitude', '.', 'There', 'is', 'even', 'the', 'tasteless', 'murder', 'of', 'a', 'young', 'Lebanese', 'boy', 'who', 'is', 'shot', 'by', 'Hawkins', ';', 'Hawkins', 'makes', 'fun', 'of', 'his', 'language', 'before', 'shooting', 'him', 'whilst', 'making', 'another', 'humorous', 'quip', '.', 'Besides', 'being', 'tasteless', ',', 'this', 'should', 'be', 'unacceptable', '.', 'The', 'film', \"'s\", 'extreme', '(', 'though', 'predictable)pro', '-', 'American', 'stance', 'is', 'also', 'revolting', '.', 'This', 'can', 'be', 'seen', 'when', 'the', 'Lebanese', '-', 'American', 'female', 'journalist', 'informs', 'Hawkins', 'that', 'terrorists', 'ca', 'nt', 'be', 'made', 'to', 'talk', 'because', \"'\", 'they', 'are', 'religious', 'zealots', '.', \"'\", 'Hawkins', 'then', 'retorts', 'with', \"'\", 'yeah', ',', 'and', 'we', 'are', 'the', 'Navy', 'Seals', '!', \"'\", 'The', 'implication', 'is', 'obviously', 'that', 'zealots', 'are', 'meaningless', 'next', 'to', 'American', 'military', 'might', '.', 'Moreover', ',', 'even', 'after', 'insulting', 'this', 'journalist', \"'s\", 'racial', 'heritage', 'and', 'treating', 'her', 'like', 'a', 'sex', 'object', ',', 'the', 'script', 'demands', 'her', 'inability', 'to', 'resist', 'this', 'disgusting', 'thug', 'and', 'she', 'still', 'ends', 'up', 'sleeping', 'with', 'him', '-', 'because', 'he', 'is', 'an', 'All', '-', 'American', 'Navy', 'Seal', '.', 'This', 'marginalizes', 'the', 'journalist', \"'s\", 'character', 'by', 'making', 'her', 'submissive', 'to', 'the', \"'\", 'superior', \"'\", 'pro', '-', 'American', 'attitude', 'of', 'Hawkins', 'despite', 'his', 'insulting', 'behaviour', 'toward', 'her', '.', 'Beyond', 'ethics', ',', 'this', 'plot', 'twist', 'also', 'has', 'little', 'credence', 'as', 'drama', '.', '<', 'br', '/><br', '/>The', 'screenplay', 'is', 'also', 'amateurish', '.', 'Most', 'scenes', 'are', 'simply', 'strung', 'together', 'without', 'any', 'thought', 'for', 'mood', ',', 'plot', 'or', 'character', 'development', '.', 'The', \"'\", 'music', 'video', \"'\", 'scene', 'at', 'the', 'golf', 'course', ',', 'for', 'example', 'is', 'just', 'shoddily', 'edited', 'eye', 'candy', '.', 'And', 'the', 'two', 'scenes', 'where', 'Charlie', 'Sheen', 'plays', 'the', 'reckless', 'hero', 'are', 'also', 'pointless', '.', 'In', 'one', 'he', 'jumps', 'off', 'a', 'bridge', 'from', 'moving', 'car', 'just', 'to', 'show', 'his', 'mates', 'how', 'tough', 'he', 'is', ',', 'and', 'in', 'the', 'other', 'he', 'chases', 'down', 'a', 'tow', 'truck', 'on', 'a', 'push', 'bike', 'and', 'drives', 'his', 'car', '-', 'off', 'it', '.', 'Neither', 'scene', 'has', 'a', 'follow', '-', 'up', 'anti', '-', 'climax', ',', 'both', 'are', 'highly', 'improbable', ',', 'and', 'neither', 'has', 'any', 'bearing', 'on', 'the', 'plot', 'as', 'a', 'whole', '.', 'They', 'are', 'just', 'candy', 'designed', 'as', 'a', 'vehicle', 'to', 'showcase', 'Hawkins', \"'\", 'cheap', 'all', '-', 'American', 'heroics', ',', 'and', 'are', 'poor', 'substitutes', 'for', 'character', 'development', '.', 'Most', 'of', 'the', 'other', 'plot', 'development', 'scenes', 'are', 'also', 'badly', 'filmed', 'and', 'poorly', 'scripted', 'as', '-', 'in', 'fact', 'this', 'affliction', 'affects', 'the', 'entire', 'movie', '.', 'Apart', 'from', 'the', 'African', 'American', 'Navy', 'Seal', 'and', 'his', 'wife', 'as', 'well', 'as', 'the', 'characters', 'of', 'Michael', 'Biehn', 'and', 'Charlie', 'Sheen', ',', 'every', 'other', 'member', 'of', 'the', 'team', 'seems', 'unknown', 'to', 'the', 'audience', ',', 'so', 'that', 'when', 'the', 'climatic', 'scenes', 'roll', 'around', 'there', 'seems', 'to', 'nobody', 'to', 'root', 'for', 'and', 'anybody', \"'s\", 'death', 'to', 'lament.<br', '/><br', '/>In', 'such', 'a', 'film', ',', 'the', 'action', 'sequences', 'can', 'potentially', 'rescue', 'the', 'production', '.', 'But', 'here', 'they', 'do', \"n't\", '.', 'These', 'are', 'badly', 'directed', ',', 'badly', 'lit', ',', 'and', 'showcase', 'badly', 'performed', 'stunts', '.', 'In', 'fact', ',', 'their', 'direction', 'is', 'so', 'poor', 'that', 'they', 'are', 'almost', 'incoherent', 'to', 'the', 'viewer', ',', 'resulting', 'in', 'not', 'only', 'the', 'scenes', 'being', 'incomprehensibly', 'hard', 'to', 'follow', ',', 'but', 'also', 'in', 'a', 'complete', 'lack', 'of', 'fear', 'and', 'suspense', '.', 'Poor', 'lighting', 'only', 'adds', 'to', 'their', 'impotence', '.', 'The', 'explosions', 'look', 'fake', ',', 'gunshot', 'wounds', 'unconvincing', 'and', 'one', 'of', 'the', 'more', 'daring', 'stunts', ',', 'involving', 'crashing', 'a', 'Mercedes', 'over', 'a', 'tank', ',', 'looks', 'just', 'like', 'a', 'stunt', 'which', 'has', 'been', 'staged', 'on', 'a', 'backlot', 'and', 'then', 'poorly', 'edited.<br', '/><br', '/>The', 'ending', 'of', 'Navy', 'Seals', 'places', 'the', 'coins', 'firmly', 'on', 'the', 'eyes', 'of', 'this', 'production', '.', 'First', 'there', 'is', 'the', 'obligatory', 'slow', '-', 'motion', \"'\", 'running', '-', 'away', '-', 'from', '-', 'the', '-', 'big', '-', 'explosion', '-', 'that', '-', 'should', '-', 'have', '-', 'killed', '-', 'me', \"'\", 'scene', 'with', 'Sheen', 'carrying', 'Biehn', 'on', 'his', 'back', '.', 'This', 'was', 'obviously', 'the', 'default', 'scene', 'intended', 'to', 'be', 'the', 'star', 'of', 'the', 'movie', \"'s\", 'trailers', '.', 'Then', 'there', 'is', 'the', 'ending', 'itself', 'when', 'the', 'remaineder', 'of', 'the', 'Seal', 'team', ',', 'wounded', 'and', 'floating', 'in', 'the', 'ocean', ',', 'are', 'rescued', 'by', 'a', 'submarine', '.', 'This', 'submarine', 'had', 'in', 'fact', 'turned', 'for', 'home', 'long', 'before', ',', 'but', 'of', 'course', 'it', 'had', 'miraculously', 'returned', 'in', 'the', 'nick', 'of', 'time', '.', 'Topping', 'it', 'all', 'of', ',', 'despite', 'the', 'Seals', \"'\", 'violent', 'and', 'stressful', 'ordeal', ',', 'and', 'despite', 'the', 'fact', 'that', 'numerous', 'of', 'their', 'colleagues', 'had', 'just', 'been', 'killed', ',', 'with', 'a', 'number', 'of', 'them', 'still', 'bleeding', 'acutely', ',', 'they', 'all', 'manage', 'to', 'laugh', 'heartily', 'while', 'blessing', 'America', 'vociferously', '.', 'Predictable', '?', 'You', 'can', 'just', 'imagine', 'this', 'ending', 'while', 'watching', 'the', 'opening', 'credits.<br', '/><br', '/>This', 'movie', 'indulgently', 'uses', 'the', 'Middle', 'Eastern', 'conflict', 'as', 'a', 'vehicle', 'for', 'the', 'macho', 'All', '-', 'American', 'tendencies', 'of', 'the', 'movies', \"'\", 'photogenic', 'young', 'leads', '.', 'Arabs', 'are', 'treated', 'condescendingly', 'and', 'dismissively', ',', 'and', 'their', 'slaughter', 'in', 'the', 'movie', 'is', 'used', 'as', 'a', 'fulcrum', 'to', 'glorify', 'the', 'use', 'of', 'American', 'military', 'might', 'against', 'an', \"'\", 'inferior', \"'\", 'minority', 'group', 'in', 'a', 'consequence', '-', 'free', 'environment', '.', 'The', 'events', 'of', '2001', 'have', 'pointed', 'out', 'that', 'such', 'smug', 'and', 'overconfident', 'trivialising', 'of', 'the', 'conflicts', 'of', 'such', 'minority', 'groups', 'is', 'certainly', 'not', 'a', 'consequence', 'free', 'passtime', '.', 'The', 'Middle', 'East', 'can', 'no', 'longer', 'be', 'written', 'off', 'as', 'a', 's**t', '-', 'hole', 'full', 'of', 'rag', 'heads', 'knocking', 'each', 'other', 'off', '(', 'to', 'quote', 'Charlie', 'Sheen', 'here', ')', ';', 'it', 'is', 'now', 'a', 'place', 'in', 'which', 'involvement', 'can', 'lead', 'to', 'severe', 'consequences', '.', 'Today', 'we', 'are', 'reminded', 'that', 'the', 'consequences', 'of', 'such', 'arrogance', 'can', 'manifest', 'themselves', 'quite', 'close', 'to', 'home', '.', 'Therefore', ',', 'in', 'the', 'very', 'least', 'Navy', 'Seals', 'looks', 'pretty', 'foolish', 'these', 'days', ';', 'but', 'this', 'is', 'to', 'be', 'kind', '.', 'This', 'is', 'a', 'highly', 'ignorant', 'movie', ',', 'whose', 'production', 'values', 'and', 'professionalism', 'are', 'equally', 'suspect', '.', 'Navy', 'Seals', 'is', ',', 'ideologically', 'and', 'artistically', ',', 'a', 'complete', 'insult', 'to', 'the', 'intelligence', 'of', 'its', 'audience', '.']\n",
            "[3569, 0, 9, 43, 5173, 3, 2810, 6, 0, 22, 70, 0, 1119, 2, 5661, 3595, 1985, 20, 2, 4532, 23, 43, 229, 552, 19684, 23, 5, 15566, 18857, 314, 0, 17, 1513, 337, 4, 25, 1985, 3, 20, 100, 20, 173, 585, 3, 9, 348, 351, 20, 9423, 8580, 8, 14261, 2, 0, 216, 1440, 44, 11747, 607, 17912, 23, 2, 60, 7, 50, 2588, 50, 4, 126, 65, 9, 481, 9, 13, 2, 24, 15, 229, 157, 32, 21732, 2622, 6, 16744, 3, 70, 11743, 3569, 0, 46, 792, 81, 20, 5, 3075, 0, 17, 4813, 18, 17857, 10172, 15, 121, 28, 0, 30, 9, 2336, 3, 3099, 3, 5173, 3, 9270, 6, 3, 801, 41, 3, 2810, 4, 155, 6816, 8, 2, 5661, 3595, 20, 5, 50, 12218, 17, 3414, 50, 6, 8, 113, 5784, 20, 50, 20103, 17, 1855, 50, 4, 4883, 2, 24, 3, 2, 3569, 0, 50, 120, 32, 12587, 164, 2, 369, 7, 2, 0, 5967, 20, 9423, 8580, 4, 238, 0, 7864, 169, 99, 21, 5, 7820, 17, 938, 2400, 4, 153, 9, 81, 2, 6072, 705, 7, 5, 216, 0, 490, 44, 9, 341, 39, 0, 123, 0, 180, 274, 7, 35, 1114, 190, 1204, 102, 2644, 256, 196, 2005, 0, 4, 3084, 127, 6072, 3, 16, 154, 36, 18962, 4, 25, 24, 15, 1717, 28, 184, 0, 17, 314, 7546, 9, 108, 10043, 4, 66, 68, 36, 124, 71, 2, 0, 17, 314, 671, 4386, 9012, 0, 13, 5053, 204, 1225, 36, 104, 8, 815, 101, 50, 45, 32, 1876, 0, 4, 50, 0, 122, 0, 21, 50, 2023, 3, 6, 96, 32, 2, 3569, 0, 42, 50, 25, 14993, 9, 639, 13, 0, 32, 4597, 451, 8, 314, 1318, 257, 4, 7427, 3, 81, 139, 4435, 16, 4386, 15, 4978, 12126, 6, 10081, 48, 47, 5, 403, 3242, 3, 2, 254, 3872, 48, 5232, 8, 5321, 16, 2336, 9793, 6, 72, 158, 664, 64, 3298, 21, 102, 17, 101, 37, 9, 43, 393, 17, 314, 3569, 24789, 4, 66, 0, 2, 4386, 15, 121, 39, 256, 48, 0, 8, 2, 50, 1793, 50, 4104, 17, 314, 2400, 7, 0, 657, 35, 4435, 5839, 1891, 48, 4, 5198, 11636, 3, 16, 131, 1073, 108, 52, 136, 0, 20, 495, 4, 112, 114, 18, 116, 968, 9, 108, 2480, 4, 935, 157, 32, 351, 8231, 324, 242, 117, 217, 23, 1365, 3, 131, 53, 121, 988, 4, 25, 50, 262, 439, 50, 152, 40, 2, 9720, 283, 3, 23, 493, 9, 56, 0, 1944, 918, 3462, 4, 132, 2, 128, 157, 140, 1259, 10172, 318, 2, 9270, 665, 32, 108, 1279, 4, 159, 38, 37, 3044, 141, 5, 3637, 46, 763, 533, 56, 8, 142, 35, 7048, 111, 1227, 37, 9, 3, 6, 10, 2, 95, 37, 3600, 205, 5, 11403, 2977, 29, 5, 4178, 8551, 6, 3187, 35, 533, 17, 141, 12, 4, 4423, 152, 52, 5, 824, 17, 64, 1236, 17, 1461, 3, 246, 32, 655, 6457, 3, 6, 1319, 52, 117, 8758, 29, 2, 131, 20, 5, 239, 4, 238, 32, 56, 3462, 2374, 20, 5, 2183, 8, 5718, 0, 50, 723, 41, 17, 314, 15666, 3, 6, 32, 382, 23762, 23, 121, 988, 4, 935, 7, 2, 95, 131, 988, 157, 32, 108, 927, 854, 6, 883, 4183, 20, 17, 10, 213, 16, 0, 6226, 2, 457, 22, 4, 4680, 46, 2, 2024, 314, 3569, 24789, 6, 35, 333, 20, 100, 20, 2, 120, 7, 545, 15274, 6, 1259, 10172, 3, 212, 95, 1677, 7, 2, 773, 207, 2016, 8, 2, 337, 3, 49, 13, 71, 2, 9191, 157, 2118, 209, 67, 207, 8, 1592, 8, 4232, 23, 6, 1934, 15, 413, 8, 0, 18, 628, 160, 5, 24, 3, 2, 229, 888, 68, 4555, 2537, 2, 370, 4, 126, 162, 45, 57, 27, 4, 912, 32, 927, 574, 3, 927, 4389, 3, 6, 5718, 927, 2680, 3619, 4, 159, 213, 3, 77, 514, 9, 49, 382, 13, 45, 32, 249, 3291, 8, 2, 523, 3, 5453, 10, 33, 73, 2, 157, 127, 0, 277, 8, 824, 3, 26, 108, 10, 5, 620, 599, 7, 1299, 6, 904, 4, 4634, 1577, 73, 1664, 8, 77, 0, 4, 25, 4787, 192, 1167, 3, 13679, 7099, 2687, 6, 38, 7, 2, 61, 4128, 3619, 3, 1314, 7822, 5, 18158, 138, 5, 6175, 3, 290, 56, 47, 5, 3450, 70, 52, 91, 4064, 29, 5, 0, 6, 122, 883, 0, 18, 116, 304, 7, 3569, 0, 1394, 2, 0, 6344, 29, 2, 597, 7, 16, 370, 4, 787, 67, 9, 2, 6462, 590, 17, 1411, 50, 675, 17, 272, 17, 46, 17, 2, 17, 244, 17, 4433, 17, 13, 17, 154, 17, 34, 17, 595, 17, 85, 50, 152, 21, 10172, 3009, 15274, 29, 35, 168, 4, 66, 19, 639, 2, 21193, 152, 1429, 8, 36, 2, 461, 7, 2, 22, 15, 4869, 4, 556, 67, 9, 2, 304, 447, 71, 2, 0, 7, 2, 24789, 773, 3, 4998, 6, 5431, 10, 2, 5868, 3, 32, 6945, 39, 5, 8857, 4, 66, 8857, 74, 10, 213, 702, 23, 391, 228, 190, 3, 26, 7, 283, 12, 74, 9488, 3932, 10, 2, 21531, 7, 69, 4, 0, 12, 41, 7, 3, 657, 2, 0, 50, 1252, 6, 17761, 7363, 3, 6, 657, 2, 213, 13, 2020, 7, 77, 6531, 74, 56, 91, 595, 3, 21, 5, 635, 7, 109, 158, 9417, 19552, 3, 45, 41, 2051, 8, 496, 11667, 191, 10513, 891, 0, 4, 18208, 58, 234, 68, 56, 970, 16, 304, 191, 177, 2, 660, 17345, 18, 296, 22, 0, 1119, 2, 5661, 6601, 1985, 20, 5, 2183, 23, 2, 5787, 393, 17, 314, 14462, 7, 2, 115, 50, 0, 216, 857, 4, 17912, 32, 1870, 0, 6, 0, 3, 6, 77, 9064, 10, 2, 22, 9, 348, 20, 5, 0, 8, 14261, 2, 369, 7, 314, 1318, 257, 458, 43, 50, 4594, 50, 7049, 614, 10, 5, 7820, 17, 938, 2938, 4, 25, 711, 7, 3593, 34, 3270, 54, 13, 160, 8228, 6, 0, 0, 7, 2, 4846, 7, 160, 7049, 4481, 9, 475, 33, 5, 7820, 938, 0, 4, 25, 5661, 3595, 68, 82, 1268, 36, 433, 141, 20, 5, 12218, 17, 3414, 418, 7, 20103, 1855, 10924, 285, 95, 141, 28, 8, 3419, 1259, 10172, 162, 30, 123, 12, 9, 221, 5, 298, 10, 70, 4053, 68, 501, 8, 4499, 3959, 4, 6750, 96, 32, 1639, 13, 2, 3959, 7, 160, 8544, 68, 19957, 561, 200, 542, 8, 391, 4, 6017, 3, 10, 2, 63, 233, 3569, 0, 290, 210, 7341, 169, 576, 123, 26, 16, 9, 8, 36, 273, 4, 66, 9, 5, 655, 5173, 22, 3, 621, 370, 1247, 6, 16617, 32, 1361, 1812, 4, 3569, 0, 9, 3, 0, 6, 10817, 3, 5, 620, 2484, 8, 2, 1895, 7, 113, 337, 4]\n"
          ]
        },
        {
          "output_type": "display_data",
          "data": {
            "image/png": "[encoded data removed]",
            "text/plain": [
              "<Figure size 432x288 with 1 Axes>"
            ]
          },
          "metadata": {}
        }
      ]
    }
  ]
}