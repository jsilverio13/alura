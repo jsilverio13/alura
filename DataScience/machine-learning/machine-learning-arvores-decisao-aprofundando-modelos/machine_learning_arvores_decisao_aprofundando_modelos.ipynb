{
  "nbformat": 4,
  "nbformat_minor": 0,
  "metadata": {
    "colab": {
      "name": "machine-learning-arvores-decisao-aprofundando-modelos.ipynb",
      "provenance": [],
      "collapsed_sections": []
    },
    "kernelspec": {
      "name": "python3",
      "display_name": "Python 3"
    },
    "language_info": {
      "name": "python"
    }
  },
  "cells": [
    {
      "cell_type": "code",
      "execution_count": 1,
      "metadata": {
        "colab": {
          "base_uri": "https://localhost:8080/"
        },
        "id": "Kl_K1dH_bRIp",
        "outputId": "fd62c5ff-50be-4f03-9703-3710522df7f7"
      },
      "outputs": [
        {
          "output_type": "stream",
          "name": "stdout",
          "text": [
            "Mounted at /content/drive\n"
          ]
        }
      ],
      "source": [
        "from google.colab import drive\n",
        "drive.mount('/content/drive', force_remount = True)\n",
        "PATH = '/content/drive/MyDrive/Curso/Alura/machine-learning-arvores-decisao-aprofundando-modelos/data'"
      ]
    },
    {
      "cell_type": "code",
      "source": [
        "import pandas as pd\n",
        "\n",
        "dados = pd.read_csv(f'{PATH}/creditcard.csv')\n",
        "dados.head()"
      ],
      "metadata": {
        "colab": {
          "base_uri": "https://localhost:8080/",
          "height": 270
        },
        "id": "MrmW0tGGbdL0",
        "outputId": "f6c4f702-adea-420c-d714-16d15d736b93"
      },
      "execution_count": 2,
      "outputs": [
        {
          "output_type": "execute_result",
          "data": {
            "text/html": [
              "\n",
              "  <div id=\"df-084ae269-f086-4079-9bfa-1d30f611d9f7\">\n",
              "    <div class=\"colab-df-container\">\n",
              "      <div>\n",
              "<style scoped>\n",
              "    .dataframe tbody tr th:only-of-type {\n",
              "        vertical-align: middle;\n",
              "    }\n",
              "\n",
              "    .dataframe tbody tr th {\n",
              "        vertical-align: top;\n",
              "    }\n",
              "\n",
              "    .dataframe thead th {\n",
              "        text-align: right;\n",
              "    }\n",
              "</style>\n",
              "<table border=\"1\" class=\"dataframe\">\n",
              "  <thead>\n",
              "    <tr style=\"text-align: right;\">\n",
              "      <th></th>\n",
              "      <th>Time</th>\n",
              "      <th>V1</th>\n",
              "      <th>V2</th>\n",
              "      <th>V3</th>\n",
              "      <th>V4</th>\n",
              "      <th>V5</th>\n",
              "      <th>V6</th>\n",
              "      <th>V7</th>\n",
              "      <th>V8</th>\n",
              "      <th>V9</th>\n",
              "      <th>V10</th>\n",
              "      <th>V11</th>\n",
              "      <th>V12</th>\n",
              "      <th>V13</th>\n",
              "      <th>V14</th>\n",
              "      <th>V15</th>\n",
              "      <th>V16</th>\n",
              "      <th>V17</th>\n",
              "      <th>V18</th>\n",
              "      <th>V19</th>\n",
              "      <th>V20</th>\n",
              "      <th>V21</th>\n",
              "      <th>V22</th>\n",
              "      <th>V23</th>\n",
              "      <th>V24</th>\n",
              "      <th>V25</th>\n",
              "      <th>V26</th>\n",
              "      <th>V27</th>\n",
              "      <th>V28</th>\n",
              "      <th>Amount</th>\n",
              "      <th>Class</th>\n",
              "    </tr>\n",
              "  </thead>\n",
              "  <tbody>\n",
              "    <tr>\n",
              "      <th>0</th>\n",
              "      <td>0.0</td>\n",
              "      <td>-1.359807</td>\n",
              "      <td>-0.072781</td>\n",
              "      <td>2.536347</td>\n",
              "      <td>1.378155</td>\n",
              "      <td>-0.338321</td>\n",
              "      <td>0.462388</td>\n",
              "      <td>0.239599</td>\n",
              "      <td>0.098698</td>\n",
              "      <td>0.363787</td>\n",
              "      <td>0.090794</td>\n",
              "      <td>-0.551600</td>\n",
              "      <td>-0.617801</td>\n",
              "      <td>-0.991390</td>\n",
              "      <td>-0.311169</td>\n",
              "      <td>1.468177</td>\n",
              "      <td>-0.470401</td>\n",
              "      <td>0.207971</td>\n",
              "      <td>0.025791</td>\n",
              "      <td>0.403993</td>\n",
              "      <td>0.251412</td>\n",
              "      <td>-0.018307</td>\n",
              "      <td>0.277838</td>\n",
              "      <td>-0.110474</td>\n",
              "      <td>0.066928</td>\n",
              "      <td>0.128539</td>\n",
              "      <td>-0.189115</td>\n",
              "      <td>0.133558</td>\n",
              "      <td>-0.021053</td>\n",
              "      <td>149.62</td>\n",
              "      <td>0</td>\n",
              "    </tr>\n",
              "    <tr>\n",
              "      <th>1</th>\n",
              "      <td>0.0</td>\n",
              "      <td>1.191857</td>\n",
              "      <td>0.266151</td>\n",
              "      <td>0.166480</td>\n",
              "      <td>0.448154</td>\n",
              "      <td>0.060018</td>\n",
              "      <td>-0.082361</td>\n",
              "      <td>-0.078803</td>\n",
              "      <td>0.085102</td>\n",
              "      <td>-0.255425</td>\n",
              "      <td>-0.166974</td>\n",
              "      <td>1.612727</td>\n",
              "      <td>1.065235</td>\n",
              "      <td>0.489095</td>\n",
              "      <td>-0.143772</td>\n",
              "      <td>0.635558</td>\n",
              "      <td>0.463917</td>\n",
              "      <td>-0.114805</td>\n",
              "      <td>-0.183361</td>\n",
              "      <td>-0.145783</td>\n",
              "      <td>-0.069083</td>\n",
              "      <td>-0.225775</td>\n",
              "      <td>-0.638672</td>\n",
              "      <td>0.101288</td>\n",
              "      <td>-0.339846</td>\n",
              "      <td>0.167170</td>\n",
              "      <td>0.125895</td>\n",
              "      <td>-0.008983</td>\n",
              "      <td>0.014724</td>\n",
              "      <td>2.69</td>\n",
              "      <td>0</td>\n",
              "    </tr>\n",
              "    <tr>\n",
              "      <th>2</th>\n",
              "      <td>1.0</td>\n",
              "      <td>-1.358354</td>\n",
              "      <td>-1.340163</td>\n",
              "      <td>1.773209</td>\n",
              "      <td>0.379780</td>\n",
              "      <td>-0.503198</td>\n",
              "      <td>1.800499</td>\n",
              "      <td>0.791461</td>\n",
              "      <td>0.247676</td>\n",
              "      <td>-1.514654</td>\n",
              "      <td>0.207643</td>\n",
              "      <td>0.624501</td>\n",
              "      <td>0.066084</td>\n",
              "      <td>0.717293</td>\n",
              "      <td>-0.165946</td>\n",
              "      <td>2.345865</td>\n",
              "      <td>-2.890083</td>\n",
              "      <td>1.109969</td>\n",
              "      <td>-0.121359</td>\n",
              "      <td>-2.261857</td>\n",
              "      <td>0.524980</td>\n",
              "      <td>0.247998</td>\n",
              "      <td>0.771679</td>\n",
              "      <td>0.909412</td>\n",
              "      <td>-0.689281</td>\n",
              "      <td>-0.327642</td>\n",
              "      <td>-0.139097</td>\n",
              "      <td>-0.055353</td>\n",
              "      <td>-0.059752</td>\n",
              "      <td>378.66</td>\n",
              "      <td>0</td>\n",
              "    </tr>\n",
              "    <tr>\n",
              "      <th>3</th>\n",
              "      <td>1.0</td>\n",
              "      <td>-0.966272</td>\n",
              "      <td>-0.185226</td>\n",
              "      <td>1.792993</td>\n",
              "      <td>-0.863291</td>\n",
              "      <td>-0.010309</td>\n",
              "      <td>1.247203</td>\n",
              "      <td>0.237609</td>\n",
              "      <td>0.377436</td>\n",
              "      <td>-1.387024</td>\n",
              "      <td>-0.054952</td>\n",
              "      <td>-0.226487</td>\n",
              "      <td>0.178228</td>\n",
              "      <td>0.507757</td>\n",
              "      <td>-0.287924</td>\n",
              "      <td>-0.631418</td>\n",
              "      <td>-1.059647</td>\n",
              "      <td>-0.684093</td>\n",
              "      <td>1.965775</td>\n",
              "      <td>-1.232622</td>\n",
              "      <td>-0.208038</td>\n",
              "      <td>-0.108300</td>\n",
              "      <td>0.005274</td>\n",
              "      <td>-0.190321</td>\n",
              "      <td>-1.175575</td>\n",
              "      <td>0.647376</td>\n",
              "      <td>-0.221929</td>\n",
              "      <td>0.062723</td>\n",
              "      <td>0.061458</td>\n",
              "      <td>123.50</td>\n",
              "      <td>0</td>\n",
              "    </tr>\n",
              "    <tr>\n",
              "      <th>4</th>\n",
              "      <td>2.0</td>\n",
              "      <td>-1.158233</td>\n",
              "      <td>0.877737</td>\n",
              "      <td>1.548718</td>\n",
              "      <td>0.403034</td>\n",
              "      <td>-0.407193</td>\n",
              "      <td>0.095921</td>\n",
              "      <td>0.592941</td>\n",
              "      <td>-0.270533</td>\n",
              "      <td>0.817739</td>\n",
              "      <td>0.753074</td>\n",
              "      <td>-0.822843</td>\n",
              "      <td>0.538196</td>\n",
              "      <td>1.345852</td>\n",
              "      <td>-1.119670</td>\n",
              "      <td>0.175121</td>\n",
              "      <td>-0.451449</td>\n",
              "      <td>-0.237033</td>\n",
              "      <td>-0.038195</td>\n",
              "      <td>0.803487</td>\n",
              "      <td>0.408542</td>\n",
              "      <td>-0.009431</td>\n",
              "      <td>0.798278</td>\n",
              "      <td>-0.137458</td>\n",
              "      <td>0.141267</td>\n",
              "      <td>-0.206010</td>\n",
              "      <td>0.502292</td>\n",
              "      <td>0.219422</td>\n",
              "      <td>0.215153</td>\n",
              "      <td>69.99</td>\n",
              "      <td>0</td>\n",
              "    </tr>\n",
              "  </tbody>\n",
              "</table>\n",
              "</div>\n",
              "      <button class=\"colab-df-convert\" onclick=\"convertToInteractive('df-084ae269-f086-4079-9bfa-1d30f611d9f7')\"\n",
              "              title=\"Convert this dataframe to an interactive table.\"\n",
              "              style=\"display:none;\">\n",
              "        \n",
              "  <svg xmlns=\"http://www.w3.org/2000/svg\" height=\"24px\"viewBox=\"0 0 24 24\"\n",
              "       width=\"24px\">\n",
              "    <path d=\"M0 0h24v24H0V0z\" fill=\"none\"/>\n",
              "    <path d=\"M18.56 5.44l.94 2.06.94-2.06 2.06-.94-2.06-.94-.94-2.06-.94 2.06-2.06.94zm-11 1L8.5 8.5l.94-2.06 2.06-.94-2.06-.94L8.5 2.5l-.94 2.06-2.06.94zm10 10l.94 2.06.94-2.06 2.06-.94-2.06-.94-.94-2.06-.94 2.06-2.06.94z\"/><path d=\"M17.41 7.96l-1.37-1.37c-.4-.4-.92-.59-1.43-.59-.52 0-1.04.2-1.43.59L10.3 9.45l-7.72 7.72c-.78.78-.78 2.05 0 2.83L4 21.41c.39.39.9.59 1.41.59.51 0 1.02-.2 1.41-.59l7.78-7.78 2.81-2.81c.8-.78.8-2.07 0-2.86zM5.41 20L4 18.59l7.72-7.72 1.47 1.35L5.41 20z\"/>\n",
              "  </svg>\n",
              "      </button>\n",
              "      \n",
              "  <style>\n",
              "    .colab-df-container {\n",
              "      display:flex;\n",
              "      flex-wrap:wrap;\n",
              "      gap: 12px;\n",
              "    }\n",
              "\n",
              "    .colab-df-convert {\n",
              "      background-color: #E8F0FE;\n",
              "      border: none;\n",
              "      border-radius: 50%;\n",
              "      cursor: pointer;\n",
              "      display: none;\n",
              "      fill: #1967D2;\n",
              "      height: 32px;\n",
              "      padding: 0 0 0 0;\n",
              "      width: 32px;\n",
              "    }\n",
              "\n",
              "    .colab-df-convert:hover {\n",
              "      background-color: #E2EBFA;\n",
              "      box-shadow: 0px 1px 2px rgba(60, 64, 67, 0.3), 0px 1px 3px 1px rgba(60, 64, 67, 0.15);\n",
              "      fill: #174EA6;\n",
              "    }\n",
              "\n",
              "    [theme=dark] .colab-df-convert {\n",
              "      background-color: #3B4455;\n",
              "      fill: #D2E3FC;\n",
              "    }\n",
              "\n",
              "    [theme=dark] .colab-df-convert:hover {\n",
              "      background-color: #434B5C;\n",
              "      box-shadow: 0px 1px 3px 1px rgba(0, 0, 0, 0.15);\n",
              "      filter: drop-shadow(0px 1px 2px rgba(0, 0, 0, 0.3));\n",
              "      fill: #FFFFFF;\n",
              "    }\n",
              "  </style>\n",
              "\n",
              "      <script>\n",
              "        const buttonEl =\n",
              "          document.querySelector('#df-084ae269-f086-4079-9bfa-1d30f611d9f7 button.colab-df-convert');\n",
              "        buttonEl.style.display =\n",
              "          google.colab.kernel.accessAllowed ? 'block' : 'none';\n",
              "\n",
              "        async function convertToInteractive(key) {\n",
              "          const element = document.querySelector('#df-084ae269-f086-4079-9bfa-1d30f611d9f7');\n",
              "          const dataTable =\n",
              "            await google.colab.kernel.invokeFunction('convertToInteractive',\n",
              "                                                     [key], {});\n",
              "          if (!dataTable) return;\n",
              "\n",
              "          const docLinkHtml = 'Like what you see? Visit the ' +\n",
              "            '<a target=\"_blank\" href=https://colab.research.google.com/notebooks/data_table.ipynb>data table notebook</a>'\n",
              "            + ' to learn more about interactive tables.';\n",
              "          element.innerHTML = '';\n",
              "          dataTable['output_type'] = 'display_data';\n",
              "          await google.colab.output.renderOutput(dataTable, element);\n",
              "          const docLink = document.createElement('div');\n",
              "          docLink.innerHTML = docLinkHtml;\n",
              "          element.appendChild(docLink);\n",
              "        }\n",
              "      </script>\n",
              "    </div>\n",
              "  </div>\n",
              "  "
            ],
            "text/plain": [
              "   Time        V1        V2        V3  ...       V27       V28  Amount  Class\n",
              "0   0.0 -1.359807 -0.072781  2.536347  ...  0.133558 -0.021053  149.62      0\n",
              "1   0.0  1.191857  0.266151  0.166480  ... -0.008983  0.014724    2.69      0\n",
              "2   1.0 -1.358354 -1.340163  1.773209  ... -0.055353 -0.059752  378.66      0\n",
              "3   1.0 -0.966272 -0.185226  1.792993  ...  0.062723  0.061458  123.50      0\n",
              "4   2.0 -1.158233  0.877737  1.548718  ...  0.219422  0.215153   69.99      0\n",
              "\n",
              "[5 rows x 31 columns]"
            ]
          },
          "metadata": {},
          "execution_count": 2
        }
      ]
    },
    {
      "cell_type": "code",
      "source": [
        "print(dados.isna().sum())"
      ],
      "metadata": {
        "id": "fnfKBcH1boub",
        "colab": {
          "base_uri": "https://localhost:8080/"
        },
        "outputId": "35383678-a1ef-44af-8fb7-b886e9d65c6a"
      },
      "execution_count": 3,
      "outputs": [
        {
          "output_type": "stream",
          "name": "stdout",
          "text": [
            "Time      0\n",
            "V1        0\n",
            "V2        0\n",
            "V3        0\n",
            "V4        0\n",
            "V5        0\n",
            "V6        0\n",
            "V7        0\n",
            "V8        0\n",
            "V9        0\n",
            "V10       0\n",
            "V11       0\n",
            "V12       0\n",
            "V13       0\n",
            "V14       0\n",
            "V15       0\n",
            "V16       0\n",
            "V17       0\n",
            "V18       0\n",
            "V19       0\n",
            "V20       0\n",
            "V21       0\n",
            "V22       0\n",
            "V23       0\n",
            "V24       0\n",
            "V25       0\n",
            "V26       0\n",
            "V27       0\n",
            "V28       0\n",
            "Amount    0\n",
            "Class     0\n",
            "dtype: int64\n"
          ]
        }
      ]
    },
    {
      "cell_type": "code",
      "source": [
        "n_transacoes = dados['Class'].count()\n",
        "n_fraudes = dados['Class'].sum()\n",
        "n_normais = n_transacoes - n_fraudes\n",
        "fraudes_porc = n_fraudes / n_transacoes\n",
        "normais_porc = n_normais / n_transacoes\n",
        "\n",
        "print(\"Número de transações: \", n_transacoes)\n",
        "print(\"Número de fraudes: \", n_fraudes, \"%.2f\" %(fraudes_porc*100))\n",
        "print(\"Número de transações normais: \", n_normais, \"%.2f\" %(normais_porc*100))"
      ],
      "metadata": {
        "colab": {
          "base_uri": "https://localhost:8080/"
        },
        "id": "DNLa9lwpbB_7",
        "outputId": "ff5e68aa-688b-4ab0-e74c-efad504c19c1"
      },
      "execution_count": 4,
      "outputs": [
        {
          "output_type": "stream",
          "name": "stdout",
          "text": [
            "Número de transações:  284807\n",
            "Número de fraudes:  492 0.17\n",
            "Número de transações normais:  284315 99.83\n"
          ]
        }
      ]
    },
    {
      "cell_type": "code",
      "source": [
        "from sklearn.model_selection import StratifiedShuffleSplit\n",
        "\n",
        "def executar_validador(X, y):\n",
        "  validador = StratifiedShuffleSplit(n_splits=1, test_size=0.1, random_state=0)\n",
        "  for treino_id, teste_id in validador.split(X, y):\n",
        "    X_train, X_test = X[treino_id], X[teste_id]\n",
        "    y_train, y_test = y[treino_id], y[teste_id]\n",
        "  return X_train, X_test, y_train, y_test\n"
      ],
      "metadata": {
        "id": "BwPzVZoccsjq"
      },
      "execution_count": 5,
      "outputs": []
    },
    {
      "cell_type": "code",
      "source": [
        "%%time\n",
        "from sklearn import tree\n",
        "\n",
        "def executar_classificador(classificador, X_train, X_test, y_train):\n",
        "  arvore = classificador.fit(X_train, y_train)\n",
        "  y_pred = arvore.predict(X_test)\n",
        "  return y_pred"
      ],
      "metadata": {
        "colab": {
          "base_uri": "https://localhost:8080/"
        },
        "id": "Bre9Gp-tctoK",
        "outputId": "3509bfbb-7dc6-4d83-9034-57e8d3e06d75"
      },
      "execution_count": 6,
      "outputs": [
        {
          "output_type": "stream",
          "name": "stdout",
          "text": [
            "CPU times: user 76.4 ms, sys: 32.6 ms, total: 109 ms\n",
            "Wall time: 441 ms\n"
          ]
        }
      ]
    },
    {
      "cell_type": "code",
      "source": [
        "import matplotlib.pyplot as plt\n",
        "\n",
        "def salvar_arvore(classificador, nome):\n",
        "  plt.figure(figsize=(200,100))\n",
        "  tree.plot_tree(classificador, filled=True, fontsize=14)\n",
        "  plt.savefig(nome)\n",
        "  plt.close()"
      ],
      "metadata": {
        "id": "v126CBQLct0A"
      },
      "execution_count": 7,
      "outputs": []
    },
    {
      "cell_type": "code",
      "source": [
        "from sklearn.metrics import accuracy_score\n",
        "from sklearn.metrics import confusion_matrix\n",
        "from sklearn.metrics import precision_score\n",
        "from sklearn.metrics import recall_score\n",
        "\n",
        "def validar_arvore(y_test, y_pred):\n",
        "  print(accuracy_score(y_test, y_pred))\n",
        "  print(precision_score(y_test, y_pred))\n",
        "  print(recall_score(y_test, y_pred))\n",
        "  print(confusion_matrix(y_test, y_pred))"
      ],
      "metadata": {
        "id": "KvHE7uCdct6t"
      },
      "execution_count": 8,
      "outputs": []
    },
    {
      "cell_type": "code",
      "source": [
        "#execucao do validador\n",
        "X = dados.drop('Class', axis=1).values\n",
        "y = dados['Class'].values\n",
        "X_train, X_test, y_train, y_test = executar_validador(X, y)"
      ],
      "metadata": {
        "id": "FSjKNYgXcuCh"
      },
      "execution_count": 9,
      "outputs": []
    },
    {
      "cell_type": "code",
      "source": [
        "#execucao do classificador DecisionTreeClassifier\n",
        "classificador_arvore_decisao = tree.DecisionTreeClassifier()\n",
        "y_pred_arvore_decisao = executar_classificador(classificador_arvore_decisao, X_train, X_test, y_train)"
      ],
      "metadata": {
        "id": "1QZVqaS7cuIG"
      },
      "execution_count": 10,
      "outputs": []
    },
    {
      "cell_type": "code",
      "source": [
        "#criacao da figura da arvore de decisao\n",
        "salvar_arvore(classificador_arvore_decisao, \"arvore_decisao1.png\")"
      ],
      "metadata": {
        "id": "CxIw4RO3eH5C"
      },
      "execution_count": 11,
      "outputs": []
    },
    {
      "cell_type": "code",
      "source": [
        "#validacao arvore de decisao\n",
        "validar_arvore(y_test, y_pred_arvore_decisao)"
      ],
      "metadata": {
        "colab": {
          "base_uri": "https://localhost:8080/"
        },
        "id": "dhpFgKCQeI1K",
        "outputId": "4fad03c6-d819-49ef-af10-35266ebeca47"
      },
      "execution_count": 12,
      "outputs": [
        {
          "output_type": "stream",
          "name": "stdout",
          "text": [
            "0.9991924440855307\n",
            "0.7708333333333334\n",
            "0.7551020408163265\n",
            "[[28421    11]\n",
            " [   12    37]]\n"
          ]
        }
      ]
    },
    {
      "cell_type": "code",
      "source": [
        "print(classificador_arvore_decisao)\n",
        "print(classificador_arvore_decisao.get_depth())"
      ],
      "metadata": {
        "colab": {
          "base_uri": "https://localhost:8080/"
        },
        "id": "emgpSgcQeJ8H",
        "outputId": "6ea65dd7-a05d-41ca-b012-4bc140a15c5b"
      },
      "execution_count": 13,
      "outputs": [
        {
          "output_type": "stream",
          "name": "stdout",
          "text": [
            "DecisionTreeClassifier()\n",
            "21\n"
          ]
        }
      ]
    },
    {
      "cell_type": "code",
      "source": [
        "%%time\n",
        "#execucao do classificador DecisionTreeClassifier\n",
        "classificador_arvore_decisao = tree.DecisionTreeClassifier(max_depth=10, random_state=0)\n",
        "y_pred_arvore_decisao = executar_classificador(classificador_arvore_decisao, X_train, X_test, y_train)"
      ],
      "metadata": {
        "colab": {
          "base_uri": "https://localhost:8080/"
        },
        "id": "O7NpFt3PeLa9",
        "outputId": "4858d8d7-8a00-4f31-eaf1-643e5b94f9a1"
      },
      "execution_count": 14,
      "outputs": [
        {
          "output_type": "stream",
          "name": "stdout",
          "text": [
            "CPU times: user 22.1 s, sys: 31.6 ms, total: 22.2 s\n",
            "Wall time: 23.1 s\n"
          ]
        }
      ]
    },
    {
      "cell_type": "code",
      "source": [
        "validar_arvore(y_test, y_pred_arvore_decisao)"
      ],
      "metadata": {
        "colab": {
          "base_uri": "https://localhost:8080/"
        },
        "id": "iAUyCUdReMjg",
        "outputId": "43f6276a-7274-4903-8f6a-6dde372c172d"
      },
      "execution_count": 15,
      "outputs": [
        {
          "output_type": "stream",
          "name": "stdout",
          "text": [
            "0.9994733330992591\n",
            "0.9473684210526315\n",
            "0.7346938775510204\n",
            "[[28430     2]\n",
            " [   13    36]]\n"
          ]
        }
      ]
    },
    {
      "cell_type": "code",
      "source": [
        "#execucao do classificador DecisionTreeClassifier\n",
        "classificador_arvore_decisao = tree.DecisionTreeClassifier(max_depth=10, random_state=0, min_samples_leaf=10)\n",
        "y_pred_arvore_decisao = executar_classificador(classificador_arvore_decisao, X_train, X_test, y_train)"
      ],
      "metadata": {
        "id": "y5bTkXOMeNtF"
      },
      "execution_count": 16,
      "outputs": []
    },
    {
      "cell_type": "code",
      "source": [
        "validar_arvore(y_test, y_pred_arvore_decisao)"
      ],
      "metadata": {
        "colab": {
          "base_uri": "https://localhost:8080/"
        },
        "id": "m-f4WH4Fe0_a",
        "outputId": "1dce9bf8-79a9-4101-9acb-f83150964ead"
      },
      "execution_count": 17,
      "outputs": [
        {
          "output_type": "stream",
          "name": "stdout",
          "text": [
            "0.9993679997191109\n",
            "0.8604651162790697\n",
            "0.7551020408163265\n",
            "[[28426     6]\n",
            " [   12    37]]\n"
          ]
        }
      ]
    },
    {
      "cell_type": "code",
      "source": [
        "classificador_arvore_decisao = tree.DecisionTreeClassifier(max_depth=5, random_state=0)\n",
        "y_pred_arvore_decisao = executar_classificador(classificador_arvore_decisao, X_train, X_test, y_train)"
      ],
      "metadata": {
        "id": "CJGPeQyqe2KO"
      },
      "execution_count": 18,
      "outputs": []
    },
    {
      "cell_type": "code",
      "source": [
        "validar_arvore(y_test, y_pred_arvore_decisao)"
      ],
      "metadata": {
        "colab": {
          "base_uri": "https://localhost:8080/"
        },
        "id": "Nlr8yTuke3KR",
        "outputId": "82a26c02-e635-4667-c298-169daeb78515"
      },
      "execution_count": 19,
      "outputs": [
        {
          "output_type": "stream",
          "name": "stdout",
          "text": [
            "0.999403110845827\n",
            "0.9210526315789473\n",
            "0.7142857142857143\n",
            "[[28429     3]\n",
            " [   14    35]]\n"
          ]
        }
      ]
    },
    {
      "cell_type": "code",
      "source": [
        "%%time\n",
        "from sklearn.ensemble import RandomForestClassifier\n",
        "\n",
        "classificador_random_forest = RandomForestClassifier(n_estimators=100, random_state=0)\n",
        "y_pred_random_forest = executar_classificador(classificador_random_forest, X_train, X_test, y_train)"
      ],
      "metadata": {
        "colab": {
          "base_uri": "https://localhost:8080/"
        },
        "id": "V0CCtB7He4Q2",
        "outputId": "bb7a6446-c9ab-4906-9b7b-3f6681221ac3"
      },
      "execution_count": 20,
      "outputs": [
        {
          "output_type": "stream",
          "name": "stdout",
          "text": [
            "CPU times: user 7min 16s, sys: 698 ms, total: 7min 16s\n",
            "Wall time: 7min 50s\n"
          ]
        }
      ]
    },
    {
      "cell_type": "code",
      "source": [
        "salvar_arvore(classificador_random_forest.estimators_[0], \"random_forest1\")\n",
        "salvar_arvore(classificador_random_forest.estimators_[1], \"random_forest2\")"
      ],
      "metadata": {
        "id": "Z-7KzdP6e5GE"
      },
      "execution_count": 21,
      "outputs": []
    },
    {
      "cell_type": "code",
      "source": [
        "validar_arvore(y_test, y_pred_random_forest)"
      ],
      "metadata": {
        "colab": {
          "base_uri": "https://localhost:8080/"
        },
        "id": "vZdbIWAFe6O5",
        "outputId": "5f713dae-b404-4926-caf1-f32dc4b4b754"
      },
      "execution_count": 22,
      "outputs": [
        {
          "output_type": "stream",
          "name": "stdout",
          "text": [
            "0.9995084442259752\n",
            "0.9487179487179487\n",
            "0.7551020408163265\n",
            "[[28430     2]\n",
            " [   12    37]]\n"
          ]
        }
      ]
    },
    {
      "cell_type": "code",
      "source": [
        "%%time\n",
        "from sklearn.ensemble import RandomForestClassifier\n",
        "\n",
        "classificador_random_forest = RandomForestClassifier(n_estimators=50, random_state=0, max_depth=10)\n",
        "y_pred_random_forest = executar_classificador(classificador_random_forest, X_train, X_test, y_train)"
      ],
      "metadata": {
        "colab": {
          "base_uri": "https://localhost:8080/"
        },
        "id": "w_4lNDLxe7oB",
        "outputId": "19703837-983f-47d5-b25e-39f145b4280e"
      },
      "execution_count": 23,
      "outputs": [
        {
          "output_type": "stream",
          "name": "stdout",
          "text": [
            "CPU times: user 2min, sys: 173 ms, total: 2min\n",
            "Wall time: 2min 3s\n"
          ]
        }
      ]
    },
    {
      "cell_type": "code",
      "source": [
        "validar_arvore(y_test, y_pred_random_forest)"
      ],
      "metadata": {
        "colab": {
          "base_uri": "https://localhost:8080/"
        },
        "id": "3bVmq7Dhe8g7",
        "outputId": "c5fa5aa7-209d-4447-9444-14f8ad6545ee"
      },
      "execution_count": 24,
      "outputs": [
        {
          "output_type": "stream",
          "name": "stdout",
          "text": [
            "0.9995435553526912\n",
            "0.9736842105263158\n",
            "0.7551020408163265\n",
            "[[28431     1]\n",
            " [   12    37]]\n"
          ]
        }
      ]
    },
    {
      "cell_type": "code",
      "source": [
        "%%time\n",
        "from sklearn.ensemble import AdaBoostClassifier\n",
        "\n",
        "classificador_adaboost = AdaBoostClassifier(random_state=0)\n",
        "y_pred_adaboost = executar_classificador(classificador_adaboost, X_train, X_test, y_train)"
      ],
      "metadata": {
        "colab": {
          "base_uri": "https://localhost:8080/"
        },
        "id": "9DBLrXace-B2",
        "outputId": "98c989b2-5d15-4343-be64-0c994d297e1b"
      },
      "execution_count": 25,
      "outputs": [
        {
          "output_type": "stream",
          "name": "stdout",
          "text": [
            "CPU times: user 1min 59s, sys: 203 ms, total: 1min 59s\n",
            "Wall time: 2min\n"
          ]
        }
      ]
    },
    {
      "cell_type": "code",
      "source": [
        "salvar_arvore(classificador_adaboost.estimators_[0], \"adaboost1\")\n",
        "salvar_arvore(classificador_adaboost.estimators_[1], \"adaboost2\")\n",
        "validar_arvore(y_test, y_pred_adaboost)"
      ],
      "metadata": {
        "colab": {
          "base_uri": "https://localhost:8080/"
        },
        "id": "cI_IXX6be-8l",
        "outputId": "d4cc5208-555d-4a26-f6a5-cd3a00ffd4af"
      },
      "execution_count": 26,
      "outputs": [
        {
          "output_type": "stream",
          "name": "stdout",
          "text": [
            "0.9992626663389628\n",
            "0.8888888888888888\n",
            "0.6530612244897959\n",
            "[[28428     4]\n",
            " [   17    32]]\n"
          ]
        }
      ]
    },
    {
      "cell_type": "code",
      "source": [
        "%%time\n",
        "from sklearn.ensemble import AdaBoostClassifier\n",
        "\n",
        "classificador_adaboost = AdaBoostClassifier(random_state=0, n_estimators=100)\n",
        "y_pred_adaboost = executar_classificador(classificador_adaboost, X_train, X_test, y_train)"
      ],
      "metadata": {
        "colab": {
          "base_uri": "https://localhost:8080/"
        },
        "id": "kO1NVtfLe_5Y",
        "outputId": "a3af25ea-63d0-4a22-e6cc-98c59788f875"
      },
      "execution_count": 27,
      "outputs": [
        {
          "output_type": "stream",
          "name": "stdout",
          "text": [
            "CPU times: user 4min 5s, sys: 428 ms, total: 4min 5s\n",
            "Wall time: 4min 9s\n"
          ]
        }
      ]
    },
    {
      "cell_type": "code",
      "source": [
        "validar_arvore(y_test, y_pred_adaboost)"
      ],
      "metadata": {
        "colab": {
          "base_uri": "https://localhost:8080/"
        },
        "id": "3wYpqxCzfA81",
        "outputId": "830684b2-6c14-430e-93ec-76ba71eb7588"
      },
      "execution_count": 28,
      "outputs": [
        {
          "output_type": "stream",
          "name": "stdout",
          "text": [
            "0.999403110845827\n",
            "0.8636363636363636\n",
            "0.7755102040816326\n",
            "[[28426     6]\n",
            " [   11    38]]\n"
          ]
        }
      ]
    },
    {
      "cell_type": "code",
      "source": [
        "%%time\n",
        "from sklearn.ensemble import AdaBoostClassifier\n",
        "\n",
        "classificador_adaboost = AdaBoostClassifier(random_state=0, n_estimators=200)\n",
        "y_pred_adaboost = executar_classificador(classificador_adaboost, X_train, X_test, y_train)"
      ],
      "metadata": {
        "colab": {
          "base_uri": "https://localhost:8080/"
        },
        "id": "pImh0hN4fB2s",
        "outputId": "9cb62ad4-d295-42b7-e121-cd2192a11a49"
      },
      "execution_count": 29,
      "outputs": [
        {
          "output_type": "stream",
          "name": "stdout",
          "text": [
            "CPU times: user 8min 9s, sys: 802 ms, total: 8min 10s\n",
            "Wall time: 8min 20s\n"
          ]
        }
      ]
    },
    {
      "cell_type": "code",
      "source": [
        "validar_arvore(y_test, y_pred_adaboost)"
      ],
      "metadata": {
        "colab": {
          "base_uri": "https://localhost:8080/"
        },
        "id": "Ol1Viuu9fC8e",
        "outputId": "51793944-5d33-48e4-a9f9-c78a8e9f7cf2"
      },
      "execution_count": 30,
      "outputs": [
        {
          "output_type": "stream",
          "name": "stdout",
          "text": [
            "0.9995435553526912\n",
            "0.9285714285714286\n",
            "0.7959183673469388\n",
            "[[28429     3]\n",
            " [   10    39]]\n"
          ]
        }
      ]
    },
    {
      "cell_type": "code",
      "source": [
        ""
      ],
      "metadata": {
        "id": "1gM3IzqCfEEU"
      },
      "execution_count": 30,
      "outputs": []
    }
  ]
}