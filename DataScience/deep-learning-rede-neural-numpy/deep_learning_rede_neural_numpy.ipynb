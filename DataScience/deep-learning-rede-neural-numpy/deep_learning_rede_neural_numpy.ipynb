{
  "nbformat": 4,
  "nbformat_minor": 0,
  "metadata": {
    "colab": {
      "name": "deep-learning-rede-neural-numpy.ipynb",
      "provenance": []
    },
    "kernelspec": {
      "name": "python3",
      "display_name": "Python 3"
    },
    "language_info": {
      "name": "python"
    }
  },
  "cells": [
    {
      "cell_type": "markdown",
      "source": [
        "# Carregando os dados"
      ],
      "metadata": {
        "id": "_AFE0zLSw2w7"
      }
    },
    {
      "cell_type": "code",
      "execution_count": 1,
      "metadata": {
        "colab": {
          "base_uri": "https://localhost:8080/",
          "height": 0
        },
        "id": "ma0bKno8wdCE",
        "outputId": "467cb6e6-0216-45d2-94c1-e1d59896e181"
      },
      "outputs": [
        {
          "output_type": "execute_result",
          "data": {
            "text/html": [
              "\n",
              "  <div id=\"df-c59f2af9-4c50-47b7-87e8-8fa3b71ff7ea\">\n",
              "    <div class=\"colab-df-container\">\n",
              "      <div>\n",
              "<style scoped>\n",
              "    .dataframe tbody tr th:only-of-type {\n",
              "        vertical-align: middle;\n",
              "    }\n",
              "\n",
              "    .dataframe tbody tr th {\n",
              "        vertical-align: top;\n",
              "    }\n",
              "\n",
              "    .dataframe thead th {\n",
              "        text-align: right;\n",
              "    }\n",
              "</style>\n",
              "<table border=\"1\" class=\"dataframe\">\n",
              "  <thead>\n",
              "    <tr style=\"text-align: right;\">\n",
              "      <th></th>\n",
              "      <th>clima</th>\n",
              "      <th>temperatura</th>\n",
              "      <th>bicicletas_alugadas</th>\n",
              "    </tr>\n",
              "  </thead>\n",
              "  <tbody>\n",
              "    <tr>\n",
              "      <th>0</th>\n",
              "      <td>2</td>\n",
              "      <td>0.363625</td>\n",
              "      <td>985</td>\n",
              "    </tr>\n",
              "    <tr>\n",
              "      <th>1</th>\n",
              "      <td>2</td>\n",
              "      <td>0.353739</td>\n",
              "      <td>801</td>\n",
              "    </tr>\n",
              "    <tr>\n",
              "      <th>2</th>\n",
              "      <td>1</td>\n",
              "      <td>0.189405</td>\n",
              "      <td>1349</td>\n",
              "    </tr>\n",
              "    <tr>\n",
              "      <th>3</th>\n",
              "      <td>1</td>\n",
              "      <td>0.212122</td>\n",
              "      <td>1562</td>\n",
              "    </tr>\n",
              "    <tr>\n",
              "      <th>4</th>\n",
              "      <td>1</td>\n",
              "      <td>0.229270</td>\n",
              "      <td>1600</td>\n",
              "    </tr>\n",
              "  </tbody>\n",
              "</table>\n",
              "</div>\n",
              "      <button class=\"colab-df-convert\" onclick=\"convertToInteractive('df-c59f2af9-4c50-47b7-87e8-8fa3b71ff7ea')\"\n",
              "              title=\"Convert this dataframe to an interactive table.\"\n",
              "              style=\"display:none;\">\n",
              "        \n",
              "  <svg xmlns=\"http://www.w3.org/2000/svg\" height=\"24px\"viewBox=\"0 0 24 24\"\n",
              "       width=\"24px\">\n",
              "    <path d=\"M0 0h24v24H0V0z\" fill=\"none\"/>\n",
              "    <path d=\"M18.56 5.44l.94 2.06.94-2.06 2.06-.94-2.06-.94-.94-2.06-.94 2.06-2.06.94zm-11 1L8.5 8.5l.94-2.06 2.06-.94-2.06-.94L8.5 2.5l-.94 2.06-2.06.94zm10 10l.94 2.06.94-2.06 2.06-.94-2.06-.94-.94-2.06-.94 2.06-2.06.94z\"/><path d=\"M17.41 7.96l-1.37-1.37c-.4-.4-.92-.59-1.43-.59-.52 0-1.04.2-1.43.59L10.3 9.45l-7.72 7.72c-.78.78-.78 2.05 0 2.83L4 21.41c.39.39.9.59 1.41.59.51 0 1.02-.2 1.41-.59l7.78-7.78 2.81-2.81c.8-.78.8-2.07 0-2.86zM5.41 20L4 18.59l7.72-7.72 1.47 1.35L5.41 20z\"/>\n",
              "  </svg>\n",
              "      </button>\n",
              "      \n",
              "  <style>\n",
              "    .colab-df-container {\n",
              "      display:flex;\n",
              "      flex-wrap:wrap;\n",
              "      gap: 12px;\n",
              "    }\n",
              "\n",
              "    .colab-df-convert {\n",
              "      background-color: #E8F0FE;\n",
              "      border: none;\n",
              "      border-radius: 50%;\n",
              "      cursor: pointer;\n",
              "      display: none;\n",
              "      fill: #1967D2;\n",
              "      height: 32px;\n",
              "      padding: 0 0 0 0;\n",
              "      width: 32px;\n",
              "    }\n",
              "\n",
              "    .colab-df-convert:hover {\n",
              "      background-color: #E2EBFA;\n",
              "      box-shadow: 0px 1px 2px rgba(60, 64, 67, 0.3), 0px 1px 3px 1px rgba(60, 64, 67, 0.15);\n",
              "      fill: #174EA6;\n",
              "    }\n",
              "\n",
              "    [theme=dark] .colab-df-convert {\n",
              "      background-color: #3B4455;\n",
              "      fill: #D2E3FC;\n",
              "    }\n",
              "\n",
              "    [theme=dark] .colab-df-convert:hover {\n",
              "      background-color: #434B5C;\n",
              "      box-shadow: 0px 1px 3px 1px rgba(0, 0, 0, 0.15);\n",
              "      filter: drop-shadow(0px 1px 2px rgba(0, 0, 0, 0.3));\n",
              "      fill: #FFFFFF;\n",
              "    }\n",
              "  </style>\n",
              "\n",
              "      <script>\n",
              "        const buttonEl =\n",
              "          document.querySelector('#df-c59f2af9-4c50-47b7-87e8-8fa3b71ff7ea button.colab-df-convert');\n",
              "        buttonEl.style.display =\n",
              "          google.colab.kernel.accessAllowed ? 'block' : 'none';\n",
              "\n",
              "        async function convertToInteractive(key) {\n",
              "          const element = document.querySelector('#df-c59f2af9-4c50-47b7-87e8-8fa3b71ff7ea');\n",
              "          const dataTable =\n",
              "            await google.colab.kernel.invokeFunction('convertToInteractive',\n",
              "                                                     [key], {});\n",
              "          if (!dataTable) return;\n",
              "\n",
              "          const docLinkHtml = 'Like what you see? Visit the ' +\n",
              "            '<a target=\"_blank\" href=https://colab.research.google.com/notebooks/data_table.ipynb>data table notebook</a>'\n",
              "            + ' to learn more about interactive tables.';\n",
              "          element.innerHTML = '';\n",
              "          dataTable['output_type'] = 'display_data';\n",
              "          await google.colab.output.renderOutput(dataTable, element);\n",
              "          const docLink = document.createElement('div');\n",
              "          docLink.innerHTML = docLinkHtml;\n",
              "          element.appendChild(docLink);\n",
              "        }\n",
              "      </script>\n",
              "    </div>\n",
              "  </div>\n",
              "  "
            ],
            "text/plain": [
              "   clima  temperatura  bicicletas_alugadas\n",
              "0      2     0.363625                  985\n",
              "1      2     0.353739                  801\n",
              "2      1     0.189405                 1349\n",
              "3      1     0.212122                 1562\n",
              "4      1     0.229270                 1600"
            ]
          },
          "metadata": {},
          "execution_count": 1
        }
      ],
      "source": [
        "import pandas as pd\n",
        "\n",
        "uri = 'https://raw.githubusercontent.com/alura-cursos/redes-neurais/master/Bicicletas.csv'\n",
        "\n",
        "dados = pd.read_csv(uri)\n",
        "dados.head()"
      ]
    },
    {
      "cell_type": "markdown",
      "source": [
        "# Conhecendo a base de dados"
      ],
      "metadata": {
        "id": "ssbzHh88xAMz"
      }
    },
    {
      "cell_type": "code",
      "source": [
        "dados.shape"
      ],
      "metadata": {
        "colab": {
          "base_uri": "https://localhost:8080/"
        },
        "id": "k29XH0THxBFg",
        "outputId": "4a735395-70ef-4e15-8724-f6c0ffdfebbe"
      },
      "execution_count": 2,
      "outputs": [
        {
          "output_type": "execute_result",
          "data": {
            "text/plain": [
              "(731, 3)"
            ]
          },
          "metadata": {},
          "execution_count": 2
        }
      ]
    },
    {
      "cell_type": "code",
      "source": [
        "import matplotlib.pyplot as plt"
      ],
      "metadata": {
        "id": "wVJiinIUxDux"
      },
      "execution_count": 3,
      "outputs": []
    },
    {
      "cell_type": "code",
      "source": [
        "plt.rcParams.update({'font.size': 14})\n",
        "plt.scatter(dados['temperatura'],dados['bicicletas_alugadas'])\n",
        "plt.ylabel('bicicletas_alugadas')\n",
        "plt.xlabel('temperatura')"
      ],
      "metadata": {
        "colab": {
          "base_uri": "https://localhost:8080/",
          "height": 0
        },
        "id": "juoJYVAPxEmF",
        "outputId": "1e24d65b-ba4a-4835-c372-a87cb14d375c"
      },
      "execution_count": 4,
      "outputs": [
        {
          "output_type": "execute_result",
          "data": {
            "text/plain": [
              "Text(0.5, 0, 'temperatura')"
            ]
          },
          "metadata": {},
          "execution_count": 4
        },
        {
          "output_type": "display_data",
          "data": {
            "image/png": "[encoded data removed]",
            "text/plain": [
              "<Figure size 432x288 with 1 Axes>"
            ]
          },
          "metadata": {
            "needs_background": "light"
          }
        }
      ]
    },
    {
      "cell_type": "code",
      "source": [
        "plt.scatter(dados['clima'],dados['bicicletas_alugadas'])\n",
        "plt.ylabel('bicicletas_alugadas')\n",
        "plt.xlabel('clima')\n",
        "plt.rcParams.update({'font.size': 22})\n",
        "indice=[1,2,3]\n",
        "plt.xticks(indice, fontsize=14)"
      ],
      "metadata": {
        "colab": {
          "base_uri": "https://localhost:8080/",
          "height": 0
        },
        "id": "c3JZcn9pxFwJ",
        "outputId": "5cccd46f-695d-47dd-951b-c175c39e7768"
      },
      "execution_count": 5,
      "outputs": [
        {
          "output_type": "execute_result",
          "data": {
            "text/plain": [
              "([<matplotlib.axis.XTick at 0x7faedf432210>,\n",
              "  <matplotlib.axis.XTick at 0x7faedf432e90>,\n",
              "  <matplotlib.axis.XTick at 0x7faedf432750>],\n",
              " <a list of 3 Text major ticklabel objects>)"
            ]
          },
          "metadata": {},
          "execution_count": 5
        },
        {
          "output_type": "display_data",
          "data": {
            "image/png": "[encoded data removed]",
            "text/plain": [
              "<Figure size 432x288 with 1 Axes>"
            ]
          },
          "metadata": {
            "needs_background": "light"
          }
        }
      ]
    },
    {
      "cell_type": "markdown",
      "source": [
        "# Normalizando a base de dados"
      ],
      "metadata": {
        "id": "0ehnxvwJxG7C"
      }
    },
    {
      "cell_type": "code",
      "source": [
        "import numpy as np"
      ],
      "metadata": {
        "id": "wUA3oD3zxK6h"
      },
      "execution_count": 6,
      "outputs": []
    },
    {
      "cell_type": "code",
      "source": [
        "y = dados['bicicletas_alugadas'].values\n",
        "x = dados[['clima','temperatura']].values\n",
        "print(y)\n",
        "print(x)"
      ],
      "metadata": {
        "id": "-yoqL9-_xL6m",
        "outputId": "4c29983f-afc5-4d98-feed-b9ec62ef2969",
        "colab": {
          "base_uri": "https://localhost:8080/"
        }
      },
      "execution_count": 7,
      "outputs": [
        {
          "output_type": "stream",
          "name": "stdout",
          "text": [
            "[ 985  801 1349 1562 1600 1606 1510  959  822 1321 1263 1162 1406 1421\n",
            " 1248 1204 1000  683 1650 1927 1543  981  986 1416 1985  506  431 1167\n",
            " 1098 1096 1501 1360 1526 1550 1708 1005 1623 1712 1530 1605 1538 1746\n",
            " 1472 1589 1913 1815 2115 2475 2927 1635 1812 1107 1450 1917 1807 1461\n",
            " 1969 2402 1446 1851 2134 1685 1944 2077  605 1872 2133 1891  623 1977\n",
            " 2132 2417 2046 2056 2192 2744 3239 3117 2471 2077 2703 2121 1865 2210\n",
            " 2496 1693 2028 2425 1536 1685 2227 2252 3249 3115 1795 2808 3141 1471\n",
            " 2455 2895 3348 2034 2162 3267 3126  795 3744 3429 3204 3944 4189 1683\n",
            " 4036 4191 4073 4400 3872 4058 4595 5312 3351 4401 4451 2633 4433 4608\n",
            " 4714 4333 4362 4803 4182 4864 4105 3409 4553 3958 4123 3855 4575 4917\n",
            " 5805 4660 4274 4492 4978 4677 4679 4758 4788 4098 3982 3974 4968 5312\n",
            " 5342 4906 4548 4833 4401 3915 4586 4966 4460 5020 4891 5180 3767 4844\n",
            " 5119 4744 4010 4835 4507 4790 4991 5202 5305 4708 4648 5225 5515 5362\n",
            " 5119 4649 6043 4665 4629 4592 4040 5336 4881 4086 4258 4342 5084 5538\n",
            " 5923 5302 4458 4541 4332 3784 3387 3285 3606 3840 4590 4656 4390 3846\n",
            " 4475 4302 4266 4845 3574 4576 4866 4294 3785 4326 4602 4780 4792 4905\n",
            " 4150 3820 4338 4725 4694 3805 4153 5191 3873 4758 5895 5130 3542 4661\n",
            " 1115 4334 4634 5204 5058 5115 4727 4484 4940 3351 2710 1996 1842 3544\n",
            " 5345 5046 4713 4763 4785 3659 4760 4511 4274 4539 3641 4352 4795 2395\n",
            " 5423 5010 4630 4120 3907 4839 5202 2429 2918 3570 4456 4826 4765 4985\n",
            " 5409 5511 5117 4563 2416 2913 3644 5217 5041 4570 4748 2424 4195 4304\n",
            " 4308 4381 4187 4687 3894 2659 3747  627 3331 3669 4068 4186 3974 4046\n",
            " 3926 3649 4035 4205 4109 2933 3368 4067 3717 4486 4195 1817 3053 3392\n",
            " 3663 3520 2765 1607 2566 1495 2792 3068 3071 3867 2914 3613 3727 3940\n",
            " 3614 3485 3811 2594  705 3322 3620 3190 2743 3310 3523 3740 3709 3577\n",
            " 2739 2431 3403 3750 2660 3068 2209 1011  754 1317 1162 2302 2423 2999\n",
            " 2485 2294 1951 2236 2368 3272 4098 4521 3425 2376 3598 2177 4097 3214\n",
            " 2493 2311 2298 2935 3376 3292 3163 1301 1977 2432 4339 4270 4075 3456\n",
            " 4023 3243 3624 4509 4579 3761 4151 2832 2947 3784 4375 2802 3830 3831\n",
            " 2169 1529 3422 3922 4169 3005 4154 4318 2689 3129 3777 4773 5062 3487\n",
            " 2732 3389 4322 4363 1834 4990 3194 4066 3423 3333 3956 4916 5382 4569\n",
            " 4118 4911 5298 5847 6312 6192 4378 7836 5892 6153 6093 6230 6871 8362\n",
            " 3372 4996 5558 5102 5698 6133 5459 6235 6041 5936 6772 6436 6457 6460\n",
            " 6857 5169 5585 5918 4862 5409 6398 7460 7132 6370 6691 4367 6565 7290\n",
            " 6624 1027 3214 5633 6196 5026 6233 4220 6304 5572 5740 6169 6421 6296\n",
            " 6883 6359 6273 5728 4717 6572 7030 7429 6118 2843 5115 7424 7384 7639\n",
            " 8294 7129 4359 6073 5260 6770 6734 6536 6591 6043 5743 6855 7338 4127\n",
            " 8120 7641 6998 7001 7055 7494 7736 7498 6598 6664 4972 7421 7363 7665\n",
            " 7702 6978 5099 6825 6211 5905 5823 7458 6891 6779 7442 7335 6879 5463\n",
            " 5687 5531 6227 6660 7403 6241 6207 4840 4672 6569 6290 7264 7446 7499\n",
            " 6969 6031 6830 6786 5713 6591 5870 4459 7410 6966 7592 8173 6861 6904\n",
            " 6685 6597 7105 7216 7580 7261 7175 6824 5464 7013 7273 7534 7286 5786\n",
            " 6299 6544 6883 6784 7347 7605 7148 7865 4549 6530 7006 7375 7765 7582\n",
            " 6053 5255 6917 7040 7697 7713 7350 6140 5810 6034 6864 7112 6203 7504\n",
            " 5976 8227 7525 7767 7870 7804 8009 8714 7333 6869 4073 7591 7720 8167\n",
            " 8395 7907 7436 7538 7733 7393 7415 8555 6889 6778 4639 7572 7328 8156\n",
            " 7965 3510 5478 6392 7691 7570 7282 7109 6639 5875 7534 7461 7509 5424\n",
            " 8090 6824 7058 7466 7693 7359 7444 7852 4459   22 1096 5566 5986 5847\n",
            " 5138 5107 5259 5686 5035 5315 5992 6536 6852 6269 4094 5495 5445 5698\n",
            " 5629 4669 5499 5634 5146 2425 3910 2277 2424 5087 3959 5260 5323 5668\n",
            " 5191 4649 6234 6606 5729 5375 5008 5582 3228 5170 5501 5319 5532 5611\n",
            " 5047 3786 4585 5557 5267 4128 3623 1749 1787  920 1013  441 2114 3095\n",
            " 1341 1796 2729]\n",
            "[[2.       0.363625]\n",
            " [2.       0.353739]\n",
            " [1.       0.189405]\n",
            " ...\n",
            " [2.       0.2424  ]\n",
            " [1.       0.2317  ]\n",
            " [2.       0.223487]]\n"
          ]
        }
      ]
    },
    {
      "cell_type": "code",
      "source": [
        "ymax=np.amax(y)\n",
        "y = y/ymax\n",
        "print(y[0:10])"
      ],
      "metadata": {
        "id": "TkPS76zUxOMh",
        "outputId": "a38bab95-6596-4c41-a336-af676d2e5a7f",
        "colab": {
          "base_uri": "https://localhost:8080/"
        }
      },
      "execution_count": 8,
      "outputs": [
        {
          "output_type": "stream",
          "name": "stdout",
          "text": [
            "[0.11303649 0.09192105 0.15480835 0.17925178 0.18361258 0.18430112\n",
            " 0.17328437 0.11005279 0.09433096 0.15159513]\n"
          ]
        }
      ]
    },
    {
      "cell_type": "markdown",
      "source": [
        "# Funções de ativação"
      ],
      "metadata": {
        "id": "J_UwJeV9xRPB"
      }
    },
    {
      "cell_type": "code",
      "source": [
        "def sigmoid(Soma):\n",
        "    return 1/(1+np.exp(-Soma))\n",
        "\n",
        "def relu(Soma):\n",
        "    return np.maximum(0,Soma)"
      ],
      "metadata": {
        "id": "_E3PgV37aqnu"
      },
      "execution_count": 9,
      "outputs": []
    },
    {
      "cell_type": "markdown",
      "source": [
        "# Criando a estrutura da rede"
      ],
      "metadata": {
        "id": "bVrDbyOmar4k"
      }
    },
    {
      "cell_type": "code",
      "source": [
        "arquitetura = [\n",
        "    {\"dim_entrada\": 2, \"dim_saida\": 50, \"ativacao\": \"relu\"},\n",
        "    {\"dim_entrada\": 50, \"dim_saida\": 1, \"ativacao\": \"sigmoid\"},\n",
        "]"
      ],
      "metadata": {
        "id": "FR77KBW_athr"
      },
      "execution_count": 10,
      "outputs": []
    },
    {
      "cell_type": "markdown",
      "source": [
        "# Pesos e viés"
      ],
      "metadata": {
        "id": "ALs6igHEauiP"
      }
    },
    {
      "cell_type": "code",
      "source": [
        "def inicia_camadas(arquitetura, seed = 99):\n",
        "    # inicia os valores aleatórios\n",
        "    np.random.seed(seed)\n",
        "    # numero de camadas da rede neural\n",
        "    numero_de_camadas = len(arquitetura)\n",
        "    # inicia armazenamento de parametros\n",
        "    valores_parametros = {}\n",
        "    \n",
        "    # itera nas camadas da rede\n",
        "    for indice, camada in enumerate(arquitetura):\n",
        "        \n",
        "        indice_camada = indice + 1\n",
        "        \n",
        "        # extrai o numero de nodos nas camadas\n",
        "        tamanho_camada_entrada = camada[\"dim_entrada\"]\n",
        "        tamanho_camada_saida = camada[\"dim_saida\"]\n",
        "        \n",
        "        # inicia os valores na matriz de pesos P\n",
        "        # e o vetor de viés ou bias b\n",
        "        valores_parametros['P' + str(indice_camada)] = np.random.randn(\n",
        "            tamanho_camada_saida, tamanho_camada_entrada)  * 0.1\n",
        "        valores_parametros['b' + str(indice_camada)] = np.random.randn(\n",
        "            tamanho_camada_saida, 1) * 0.1\n",
        "        \n",
        "    return valores_parametros"
      ],
      "metadata": {
        "id": "qUDvHrSsawPb"
      },
      "execution_count": 11,
      "outputs": []
    },
    {
      "cell_type": "markdown",
      "source": [
        "# Propagação da rede"
      ],
      "metadata": {
        "id": "Bf_jVpu4a0b3"
      }
    },
    {
      "cell_type": "code",
      "source": [
        "def propaga_uma_camada(Ativado_anterior, Pesos_atual, b_atual, ativacao=\"relu\"):\n",
        "    # cálculo da entrada para a função de ativação\n",
        "    Saida_atual = np.dot(Pesos_atual, Ativado_anterior) + b_atual\n",
        "    \n",
        "    # selecção da função de ativação\n",
        "    if ativacao is \"relu\":\n",
        "        func_ativacao = relu\n",
        "    elif ativacao is \"sigmoid\":\n",
        "        func_ativacao = sigmoid\n",
        "    else:\n",
        "        raise Exception('Ainda não implementamos essa funcao')\n",
        "        \n",
        "    # retorna a ativação calculada Ativado_atual e a matriz intermediária Saida\n",
        "    return func_ativacao(Saida_atual), Saida_atual"
      ],
      "metadata": {
        "id": "H0AYdTCOaxPz"
      },
      "execution_count": 12,
      "outputs": []
    },
    {
      "cell_type": "code",
      "source": [
        "def propaga_total(X, valores_parametros, arquitetura):\n",
        "    # memoria temporaria para a retropropagacao\n",
        "    memoria = {}\n",
        "    # O vetor X é a ativação para a camada 0 \n",
        "    Ativado_atual = X\n",
        "    \n",
        "    # iterações para as camadas\n",
        "    for indice, camada in enumerate(arquitetura):\n",
        "        # a numeração das camadas começa de 1\n",
        "        indice_camada = indice + 1\n",
        "        # utiliza a ativação da iteração anterior\n",
        "        Ativado_anterior = Ativado_atual\n",
        "        \n",
        "        # extrai a função de ativação para a camada atual\n",
        "        func_ativacao_atual = camada[\"ativacao\"]\n",
        "        # extrai os pesos da camada atual\n",
        "        Pesos_atual = valores_parametros[\"P\" + str(indice_camada)]\n",
        "        # extrai o bias para a camada atual\n",
        "        b_atual = valores_parametros[\"b\" + str(indice_camada)]\n",
        "        # cálculo da ativação para a camada atual\n",
        "        Ativado_atual, Saida_atual = propaga_uma_camada(Ativado_anterior, Pesos_atual, b_atual, func_ativacao_atual)\n",
        "        \n",
        "        # salca os valores calculados na memória\n",
        "        memoria[\"A\" + str(indice)] = Ativado_anterior\n",
        "        memoria[\"Z\" + str(indice_camada)] = Saida_atual\n",
        "       \n",
        "    # retorna o vetor predito e um dicionário contendo os valores intermediários\n",
        "    return Ativado_atual, memoria"
      ],
      "metadata": {
        "id": "OTQgX43Xa2Tc"
      },
      "execution_count": 13,
      "outputs": []
    },
    {
      "cell_type": "markdown",
      "source": [
        "# Testando a rede"
      ],
      "metadata": {
        "id": "AKcmcjIca2qU"
      }
    },
    {
      "cell_type": "code",
      "source": [
        "valores_parametros = inicia_camadas(arquitetura, seed = 99)\n",
        "y_estimado, memoria = propaga_total(np.transpose(x), valores_parametros, arquitetura)"
      ],
      "metadata": {
        "id": "p01U-XfEa6qS"
      },
      "execution_count": 15,
      "outputs": []
    },
    {
      "cell_type": "code",
      "source": [
        "y_estimado[0,0]*ymax"
      ],
      "metadata": {
        "colab": {
          "base_uri": "https://localhost:8080/"
        },
        "id": "8BOn6uFzc8nF",
        "outputId": "b9e5359e-1fec-47d3-ccef-0b79e3d16045"
      },
      "execution_count": 16,
      "outputs": [
        {
          "output_type": "execute_result",
          "data": {
            "text/plain": [
              "4462.9277761139"
            ]
          },
          "metadata": {},
          "execution_count": 16
        }
      ]
    },
    {
      "cell_type": "code",
      "source": [
        "y[0]*ymax"
      ],
      "metadata": {
        "colab": {
          "base_uri": "https://localhost:8080/"
        },
        "id": "FyLFPqJcdAUk",
        "outputId": "f3d71194-eed2-4248-befa-c1a79a8ff04d"
      },
      "execution_count": 17,
      "outputs": [
        {
          "output_type": "execute_result",
          "data": {
            "text/plain": [
              "985.0000000000001"
            ]
          },
          "metadata": {},
          "execution_count": 17
        }
      ]
    },
    {
      "cell_type": "markdown",
      "source": [
        "# Atualização dos pesos"
      ],
      "metadata": {
        "id": "LnlHW2n2dBTk"
      }
    },
    {
      "cell_type": "code",
      "source": [
        "def atualiza(valores_parametros, gradidentes, arquitetura, taxa_aprendizagem):\n",
        "\n",
        "    # iterações pelas camadas\n",
        "    for indice_camada, camada in enumerate(arquitetura, 1):\n",
        "        valores_parametros[\"P\" + str(indice_camada)] -= taxa_aprendizagem * gradidentes[\"dP\" + str(indice_camada)]        \n",
        "        valores_parametros[\"b\" + str(indice_camada)] -= taxa_aprendizagem * gradidentes[\"db\" + str(indice_camada)]\n",
        "\n",
        "    return valores_parametros;"
      ],
      "metadata": {
        "id": "LxHl8nvAdCxN"
      },
      "execution_count": 19,
      "outputs": []
    },
    {
      "cell_type": "markdown",
      "source": [
        "# Função de custo"
      ],
      "metadata": {
        "id": "YiMYR4szdEJE"
      }
    },
    {
      "cell_type": "code",
      "source": [
        "def valor_de_custo(Y_predito, Y):\n",
        "    # numero_de_exemplos\n",
        "    m = Y_predito.shape[1]\n",
        "    \n",
        "    custo = -1 / m * (np.dot(Y, np.log(Y_predito).T) + np.dot(1 - Y, np.log(1 - Y_predito).T))\n",
        "    return np.squeeze(custo)"
      ],
      "metadata": {
        "id": "c11_ZdR4dFpM"
      },
      "execution_count": 20,
      "outputs": []
    },
    {
      "cell_type": "markdown",
      "source": [
        "# Retropropagação"
      ],
      "metadata": {
        "id": "TKlK8FTKdGr0"
      }
    },
    {
      "cell_type": "code",
      "source": [
        "def retropropagacao_total(Y_predito, Y, memoria, valores_parametros, arquitetura):\n",
        "   \n",
        "    gradientes = {}\n",
        "    \n",
        "    # numero de exemplos\n",
        "    #m = Y.shape[1]\n",
        "    # para garantir que os dois vetores tenham a mesma dimensão\n",
        "    Y = Y.reshape(Y_predito.shape)\n",
        "    \n",
        "    # inicia o algoritmo de gradiente descendente\n",
        "    dAtivado_anterior = - (np.divide(Y, Y_predito) - np.divide(1 - Y, 1 - Y_predito));\n",
        "    \n",
        "    for indice_camada_anterior, camada in reversed(list(enumerate(arquitetura))):\n",
        "        \n",
        "        indice_camada_atual = indice_camada_anterior + 1\n",
        "        # Função de ativação para a camada atual\n",
        "        \n",
        "        funcao_ativao_atual = camada[\"ativacao\"]\n",
        "        \n",
        "        dAtivado_atual = dAtivado_anterior\n",
        "        \n",
        "        Ativado_anterior = memoria[\"A\" + str(indice_camada_anterior)]\n",
        "        Saida_atual = memoria[\"Z\" + str(indice_camada_atual)]\n",
        "        \n",
        "        Pesos_atual = valores_parametros[\"P\" + str(indice_camada_atual)]\n",
        "        b_atual = valores_parametros[\"b\" + str(indice_camada_atual)]\n",
        "        \n",
        "        dAtivado_anterior, dPesos_atual, db_atual = retropropagacao_uma_camada(\n",
        "            dAtivado_atual, Pesos_atual, b_atual, Saida_atual, Ativado_anterior, funcao_ativao_atual)\n",
        "        \n",
        "        gradientes[\"dP\" + str(indice_camada_atual)] = dPesos_atual\n",
        "        gradientes[\"db\" + str(indice_camada_atual)] = db_atual\n",
        "    \n",
        "    return gradientes"
      ],
      "metadata": {
        "id": "rj9nfs60dIjN"
      },
      "execution_count": 21,
      "outputs": []
    },
    {
      "cell_type": "code",
      "source": [
        "def sigmoid_retro(dAtivado, Saida):\n",
        "    sig = sigmoid(Saida)\n",
        "    return dAtivado * sig * (1 - sig)\n",
        "\n",
        "def relu_retro(dAtivado, Saida):\n",
        "    dSaida = np.array(dAtivado, copy = True)\n",
        "    dSaida[Saida <= 0] = 0;\n",
        "    return dSaida;"
      ],
      "metadata": {
        "id": "UQHG82LkdJSM"
      },
      "execution_count": 22,
      "outputs": []
    },
    {
      "cell_type": "code",
      "source": [
        "def retropropagacao_uma_camada(dAtivado_atual, Pesos_atual, b_atual, Saida_atual, Ativado_anterior, ativacao=\"relu\"):\n",
        "    # número de exemplos\n",
        "    m = Ativado_anterior.shape[1]\n",
        "    \n",
        "    # seleção função de ativação\n",
        "    if ativacao is \"relu\":\n",
        "        func_ativacao_retro = relu_retro\n",
        "    elif ativacao is \"sigmoid\":\n",
        "        func_ativacao_retro = sigmoid_retro\n",
        "    else:\n",
        "        raise Exception('Ainda não implementamos essa funcao')\n",
        "    \n",
        "    # derivada da função de ativação\n",
        "    dSaida_atual = func_ativacao_retro(dAtivado_atual, Saida_atual)\n",
        "    \n",
        "    # derivada da matriz de Pesos\n",
        "    dPesos_atual = np.dot(dSaida_atual, Ativado_anterior.T) / m\n",
        "    # derivada do vetor b\n",
        "    db_atual = np.sum(dSaida_atual, axis=1, keepdims=True) / m\n",
        "    # derivada da matriz A_anterior\n",
        "    dAtivado_anterior = np.dot(Pesos_atual.T, dSaida_atual)\n",
        "\n",
        "    return dAtivado_anterior, dPesos_atual, db_atual"
      ],
      "metadata": {
        "id": "Aa76_fB9dKdT"
      },
      "execution_count": 23,
      "outputs": []
    },
    {
      "cell_type": "markdown",
      "source": [
        "# Treinamento"
      ],
      "metadata": {
        "id": "p8oTvqC9dLes"
      }
    },
    {
      "cell_type": "code",
      "source": [
        "def treino(X, Y,X_teste,Y_teste, arquitetura, epocas, taxa_aprendizagem):\n",
        "    # Inicia os parâmetros da rede neural\n",
        "    valores_parametros = inicia_camadas(arquitetura, 2)\n",
        "    # Listas que vão guardar o progresso da aprendizagem da rede \n",
        "    historia_custo = []\n",
        "    historia_custo_teste = []\n",
        "   \n",
        "    \n",
        "    # Atualiza a cada época\n",
        "    for i in range(epocas):\n",
        "        # Propaga a rede - Foward propagation\n",
        "        Y_predito, memoria = propaga_total(X, valores_parametros, arquitetura)\n",
        "        \n",
        "        Y_predito_teste, memoria2 = propaga_total(X_teste, valores_parametros, \n",
        "                                                  arquitetura)\n",
        "        \n",
        "        # calcula as métricas e salva nas listas de história\n",
        "        custo = valor_de_custo(Y_predito, Y)\n",
        "        historia_custo.append(custo)\n",
        "        custo_teste = valor_de_custo(Y_predito_teste, Y_teste)\n",
        "        historia_custo_teste.append(custo_teste)\n",
        "        \n",
        "        \n",
        "        # Retropropagação - Backpropagation\n",
        "        gradientes = retropropagacao_total(Y_predito, Y, memoria, \n",
        "                                           valores_parametros, arquitetura)\n",
        "        # Atualiza os pesos\n",
        "        valores_parametros = atualiza(valores_parametros, gradientes, \n",
        "                                      arquitetura, taxa_aprendizagem)\n",
        "        \n",
        "        if(i % 50 == 0):\n",
        "            \n",
        "            print(\"Iteração: {:05} - custo: {:.5f} \".format(i, custo))\n",
        "            \n",
        "            \n",
        "    return valores_parametros, historia_custo, historia_custo_teste"
      ],
      "metadata": {
        "id": "fyzu7Sf8dNrz"
      },
      "execution_count": 24,
      "outputs": []
    },
    {
      "cell_type": "code",
      "source": [
        "from sklearn.model_selection import train_test_split"
      ],
      "metadata": {
        "id": "uNv1WN7zdOor"
      },
      "execution_count": 25,
      "outputs": []
    },
    {
      "cell_type": "code",
      "source": [
        "x_treino, x_teste, y_treino, y_teste = train_test_split(x, y, test_size=0.43, random_state=42)"
      ],
      "metadata": {
        "id": "Q9eQX6QndPqU"
      },
      "execution_count": 26,
      "outputs": []
    },
    {
      "cell_type": "code",
      "source": [
        "# Treinamento\n",
        "valores_parametros, historia_custo, historia_custo_teste = treino(np.transpose(x_treino), np.transpose(y_treino.reshape((y_treino.shape[0], 1))), \n",
        "                                                                  np.transpose(x_teste), np.transpose(y_teste.reshape((y_teste.shape[0], 1))), \n",
        "                                                                  arquitetura, 20000, 0.01)"
      ],
      "metadata": {
        "colab": {
          "base_uri": "https://localhost:8080/"
        },
        "id": "HLjKkZt7dSM0",
        "outputId": "535a90bd-4e9d-4d58-fd76-bfd9151e790e"
      },
      "execution_count": 29,
      "outputs": [
        {
          "output_type": "stream",
          "name": "stdout",
          "text": [
            "Iteração: 00000 - custo: 0.69248 \n",
            "Iteração: 00050 - custo: 0.69172 \n",
            "Iteração: 00100 - custo: 0.69095 \n",
            "Iteração: 00150 - custo: 0.69030 \n",
            "Iteração: 00200 - custo: 0.68975 \n",
            "Iteração: 00250 - custo: 0.68923 \n",
            "Iteração: 00300 - custo: 0.68873 \n",
            "Iteração: 00350 - custo: 0.68824 \n",
            "Iteração: 00400 - custo: 0.68776 \n",
            "Iteração: 00450 - custo: 0.68729 \n",
            "Iteração: 00500 - custo: 0.68683 \n",
            "Iteração: 00550 - custo: 0.68637 \n",
            "Iteração: 00600 - custo: 0.68592 \n",
            "Iteração: 00650 - custo: 0.68548 \n",
            "Iteração: 00700 - custo: 0.68503 \n",
            "Iteração: 00750 - custo: 0.68459 \n",
            "Iteração: 00800 - custo: 0.68415 \n",
            "Iteração: 00850 - custo: 0.68372 \n",
            "Iteração: 00900 - custo: 0.68328 \n",
            "Iteração: 00950 - custo: 0.68285 \n",
            "Iteração: 01000 - custo: 0.68242 \n",
            "Iteração: 01050 - custo: 0.68199 \n",
            "Iteração: 01100 - custo: 0.68156 \n",
            "Iteração: 01150 - custo: 0.68114 \n",
            "Iteração: 01200 - custo: 0.68071 \n",
            "Iteração: 01250 - custo: 0.68029 \n",
            "Iteração: 01300 - custo: 0.67987 \n",
            "Iteração: 01350 - custo: 0.67945 \n",
            "Iteração: 01400 - custo: 0.67903 \n",
            "Iteração: 01450 - custo: 0.67861 \n",
            "Iteração: 01500 - custo: 0.67819 \n",
            "Iteração: 01550 - custo: 0.67780 \n",
            "Iteração: 01600 - custo: 0.67741 \n",
            "Iteração: 01650 - custo: 0.67702 \n",
            "Iteração: 01700 - custo: 0.67663 \n",
            "Iteração: 01750 - custo: 0.67624 \n",
            "Iteração: 01800 - custo: 0.67586 \n",
            "Iteração: 01850 - custo: 0.67548 \n",
            "Iteração: 01900 - custo: 0.67510 \n",
            "Iteração: 01950 - custo: 0.67472 \n",
            "Iteração: 02000 - custo: 0.67435 \n",
            "Iteração: 02050 - custo: 0.67398 \n",
            "Iteração: 02100 - custo: 0.67361 \n",
            "Iteração: 02150 - custo: 0.67324 \n",
            "Iteração: 02200 - custo: 0.67287 \n",
            "Iteração: 02250 - custo: 0.67251 \n",
            "Iteração: 02300 - custo: 0.67215 \n",
            "Iteração: 02350 - custo: 0.67179 \n",
            "Iteração: 02400 - custo: 0.67143 \n",
            "Iteração: 02450 - custo: 0.67108 \n",
            "Iteração: 02500 - custo: 0.67073 \n",
            "Iteração: 02550 - custo: 0.67038 \n",
            "Iteração: 02600 - custo: 0.67004 \n",
            "Iteração: 02650 - custo: 0.66970 \n",
            "Iteração: 02700 - custo: 0.66937 \n",
            "Iteração: 02750 - custo: 0.66904 \n",
            "Iteração: 02800 - custo: 0.66871 \n",
            "Iteração: 02850 - custo: 0.66839 \n",
            "Iteração: 02900 - custo: 0.66806 \n",
            "Iteração: 02950 - custo: 0.66775 \n",
            "Iteração: 03000 - custo: 0.66744 \n",
            "Iteração: 03050 - custo: 0.66713 \n",
            "Iteração: 03100 - custo: 0.66683 \n",
            "Iteração: 03150 - custo: 0.66653 \n",
            "Iteração: 03200 - custo: 0.66623 \n",
            "Iteração: 03250 - custo: 0.66594 \n",
            "Iteração: 03300 - custo: 0.66565 \n",
            "Iteração: 03350 - custo: 0.66537 \n",
            "Iteração: 03400 - custo: 0.66509 \n",
            "Iteração: 03450 - custo: 0.66482 \n",
            "Iteração: 03500 - custo: 0.66455 \n",
            "Iteração: 03550 - custo: 0.66428 \n",
            "Iteração: 03600 - custo: 0.66402 \n",
            "Iteração: 03650 - custo: 0.66376 \n",
            "Iteração: 03700 - custo: 0.66351 \n",
            "Iteração: 03750 - custo: 0.66325 \n",
            "Iteração: 03800 - custo: 0.66301 \n",
            "Iteração: 03850 - custo: 0.66276 \n",
            "Iteração: 03900 - custo: 0.66252 \n",
            "Iteração: 03950 - custo: 0.66229 \n",
            "Iteração: 04000 - custo: 0.66205 \n",
            "Iteração: 04050 - custo: 0.66182 \n",
            "Iteração: 04100 - custo: 0.66160 \n",
            "Iteração: 04150 - custo: 0.66137 \n",
            "Iteração: 04200 - custo: 0.66115 \n",
            "Iteração: 04250 - custo: 0.66093 \n",
            "Iteração: 04300 - custo: 0.66072 \n",
            "Iteração: 04350 - custo: 0.66050 \n",
            "Iteração: 04400 - custo: 0.66029 \n",
            "Iteração: 04450 - custo: 0.66008 \n",
            "Iteração: 04500 - custo: 0.65988 \n",
            "Iteração: 04550 - custo: 0.65968 \n",
            "Iteração: 04600 - custo: 0.65948 \n",
            "Iteração: 04650 - custo: 0.65928 \n",
            "Iteração: 04700 - custo: 0.65908 \n",
            "Iteração: 04750 - custo: 0.65888 \n",
            "Iteração: 04800 - custo: 0.65869 \n",
            "Iteração: 04850 - custo: 0.65850 \n",
            "Iteração: 04900 - custo: 0.65831 \n",
            "Iteração: 04950 - custo: 0.65813 \n",
            "Iteração: 05000 - custo: 0.65794 \n",
            "Iteração: 05050 - custo: 0.65776 \n",
            "Iteração: 05100 - custo: 0.65758 \n",
            "Iteração: 05150 - custo: 0.65740 \n",
            "Iteração: 05200 - custo: 0.65722 \n",
            "Iteração: 05250 - custo: 0.65705 \n",
            "Iteração: 05300 - custo: 0.65688 \n",
            "Iteração: 05350 - custo: 0.65670 \n",
            "Iteração: 05400 - custo: 0.65653 \n",
            "Iteração: 05450 - custo: 0.65636 \n",
            "Iteração: 05500 - custo: 0.65619 \n",
            "Iteração: 05550 - custo: 0.65603 \n",
            "Iteração: 05600 - custo: 0.65586 \n",
            "Iteração: 05650 - custo: 0.65570 \n",
            "Iteração: 05700 - custo: 0.65553 \n",
            "Iteração: 05750 - custo: 0.65537 \n",
            "Iteração: 05800 - custo: 0.65521 \n",
            "Iteração: 05850 - custo: 0.65505 \n",
            "Iteração: 05900 - custo: 0.65489 \n",
            "Iteração: 05950 - custo: 0.65474 \n",
            "Iteração: 06000 - custo: 0.65458 \n",
            "Iteração: 06050 - custo: 0.65443 \n",
            "Iteração: 06100 - custo: 0.65428 \n",
            "Iteração: 06150 - custo: 0.65413 \n",
            "Iteração: 06200 - custo: 0.65398 \n",
            "Iteração: 06250 - custo: 0.65383 \n",
            "Iteração: 06300 - custo: 0.65368 \n",
            "Iteração: 06350 - custo: 0.65353 \n",
            "Iteração: 06400 - custo: 0.65338 \n",
            "Iteração: 06450 - custo: 0.65324 \n",
            "Iteração: 06500 - custo: 0.65309 \n",
            "Iteração: 06550 - custo: 0.65295 \n",
            "Iteração: 06600 - custo: 0.65281 \n",
            "Iteração: 06650 - custo: 0.65267 \n",
            "Iteração: 06700 - custo: 0.65253 \n",
            "Iteração: 06750 - custo: 0.65238 \n",
            "Iteração: 06800 - custo: 0.65224 \n",
            "Iteração: 06850 - custo: 0.65210 \n",
            "Iteração: 06900 - custo: 0.65197 \n",
            "Iteração: 06950 - custo: 0.65183 \n",
            "Iteração: 07000 - custo: 0.65170 \n",
            "Iteração: 07050 - custo: 0.65156 \n",
            "Iteração: 07100 - custo: 0.65143 \n",
            "Iteração: 07150 - custo: 0.65130 \n",
            "Iteração: 07200 - custo: 0.65117 \n",
            "Iteração: 07250 - custo: 0.65104 \n",
            "Iteração: 07300 - custo: 0.65091 \n",
            "Iteração: 07350 - custo: 0.65078 \n",
            "Iteração: 07400 - custo: 0.65066 \n",
            "Iteração: 07450 - custo: 0.65053 \n",
            "Iteração: 07500 - custo: 0.65041 \n",
            "Iteração: 07550 - custo: 0.65029 \n",
            "Iteração: 07600 - custo: 0.65017 \n",
            "Iteração: 07650 - custo: 0.65005 \n",
            "Iteração: 07700 - custo: 0.64994 \n",
            "Iteração: 07750 - custo: 0.64982 \n",
            "Iteração: 07800 - custo: 0.64971 \n",
            "Iteração: 07850 - custo: 0.64959 \n",
            "Iteração: 07900 - custo: 0.64948 \n",
            "Iteração: 07950 - custo: 0.64937 \n",
            "Iteração: 08000 - custo: 0.64926 \n",
            "Iteração: 08050 - custo: 0.64916 \n",
            "Iteração: 08100 - custo: 0.64905 \n",
            "Iteração: 08150 - custo: 0.64894 \n",
            "Iteração: 08200 - custo: 0.64884 \n",
            "Iteração: 08250 - custo: 0.64874 \n",
            "Iteração: 08300 - custo: 0.64864 \n",
            "Iteração: 08350 - custo: 0.64854 \n",
            "Iteração: 08400 - custo: 0.64844 \n",
            "Iteração: 08450 - custo: 0.64834 \n",
            "Iteração: 08500 - custo: 0.64824 \n",
            "Iteração: 08550 - custo: 0.64815 \n",
            "Iteração: 08600 - custo: 0.64805 \n",
            "Iteração: 08650 - custo: 0.64796 \n",
            "Iteração: 08700 - custo: 0.64787 \n",
            "Iteração: 08750 - custo: 0.64778 \n",
            "Iteração: 08800 - custo: 0.64769 \n",
            "Iteração: 08850 - custo: 0.64760 \n",
            "Iteração: 08900 - custo: 0.64751 \n",
            "Iteração: 08950 - custo: 0.64742 \n",
            "Iteração: 09000 - custo: 0.64734 \n",
            "Iteração: 09050 - custo: 0.64726 \n",
            "Iteração: 09100 - custo: 0.64717 \n",
            "Iteração: 09150 - custo: 0.64709 \n",
            "Iteração: 09200 - custo: 0.64701 \n",
            "Iteração: 09250 - custo: 0.64694 \n",
            "Iteração: 09300 - custo: 0.64686 \n",
            "Iteração: 09350 - custo: 0.64678 \n",
            "Iteração: 09400 - custo: 0.64671 \n",
            "Iteração: 09450 - custo: 0.64663 \n",
            "Iteração: 09500 - custo: 0.64656 \n",
            "Iteração: 09550 - custo: 0.64649 \n",
            "Iteração: 09600 - custo: 0.64642 \n",
            "Iteração: 09650 - custo: 0.64635 \n",
            "Iteração: 09700 - custo: 0.64628 \n",
            "Iteração: 09750 - custo: 0.64621 \n",
            "Iteração: 09800 - custo: 0.64614 \n",
            "Iteração: 09850 - custo: 0.64607 \n",
            "Iteração: 09900 - custo: 0.64601 \n",
            "Iteração: 09950 - custo: 0.64594 \n",
            "Iteração: 10000 - custo: 0.64588 \n",
            "Iteração: 10050 - custo: 0.64582 \n",
            "Iteração: 10100 - custo: 0.64576 \n",
            "Iteração: 10150 - custo: 0.64570 \n",
            "Iteração: 10200 - custo: 0.64564 \n",
            "Iteração: 10250 - custo: 0.64558 \n",
            "Iteração: 10300 - custo: 0.64552 \n",
            "Iteração: 10350 - custo: 0.64546 \n",
            "Iteração: 10400 - custo: 0.64541 \n",
            "Iteração: 10450 - custo: 0.64535 \n",
            "Iteração: 10500 - custo: 0.64530 \n",
            "Iteração: 10550 - custo: 0.64524 \n",
            "Iteração: 10600 - custo: 0.64519 \n",
            "Iteração: 10650 - custo: 0.64514 \n",
            "Iteração: 10700 - custo: 0.64509 \n",
            "Iteração: 10750 - custo: 0.64504 \n",
            "Iteração: 10800 - custo: 0.64499 \n",
            "Iteração: 10850 - custo: 0.64494 \n",
            "Iteração: 10900 - custo: 0.64489 \n",
            "Iteração: 10950 - custo: 0.64484 \n",
            "Iteração: 11000 - custo: 0.64480 \n",
            "Iteração: 11050 - custo: 0.64475 \n",
            "Iteração: 11100 - custo: 0.64470 \n",
            "Iteração: 11150 - custo: 0.64466 \n",
            "Iteração: 11200 - custo: 0.64462 \n",
            "Iteração: 11250 - custo: 0.64457 \n",
            "Iteração: 11300 - custo: 0.64453 \n",
            "Iteração: 11350 - custo: 0.64449 \n",
            "Iteração: 11400 - custo: 0.64445 \n",
            "Iteração: 11450 - custo: 0.64441 \n",
            "Iteração: 11500 - custo: 0.64437 \n",
            "Iteração: 11550 - custo: 0.64433 \n",
            "Iteração: 11600 - custo: 0.64429 \n",
            "Iteração: 11650 - custo: 0.64425 \n",
            "Iteração: 11700 - custo: 0.64421 \n",
            "Iteração: 11750 - custo: 0.64418 \n",
            "Iteração: 11800 - custo: 0.64414 \n",
            "Iteração: 11850 - custo: 0.64411 \n",
            "Iteração: 11900 - custo: 0.64407 \n",
            "Iteração: 11950 - custo: 0.64404 \n",
            "Iteração: 12000 - custo: 0.64400 \n",
            "Iteração: 12050 - custo: 0.64397 \n",
            "Iteração: 12100 - custo: 0.64394 \n",
            "Iteração: 12150 - custo: 0.64390 \n",
            "Iteração: 12200 - custo: 0.64387 \n",
            "Iteração: 12250 - custo: 0.64384 \n",
            "Iteração: 12300 - custo: 0.64381 \n",
            "Iteração: 12350 - custo: 0.64378 \n",
            "Iteração: 12400 - custo: 0.64375 \n",
            "Iteração: 12450 - custo: 0.64372 \n",
            "Iteração: 12500 - custo: 0.64369 \n",
            "Iteração: 12550 - custo: 0.64366 \n",
            "Iteração: 12600 - custo: 0.64363 \n",
            "Iteração: 12650 - custo: 0.64360 \n",
            "Iteração: 12700 - custo: 0.64358 \n",
            "Iteração: 12750 - custo: 0.64355 \n",
            "Iteração: 12800 - custo: 0.64352 \n",
            "Iteração: 12850 - custo: 0.64350 \n",
            "Iteração: 12900 - custo: 0.64347 \n",
            "Iteração: 12950 - custo: 0.64345 \n",
            "Iteração: 13000 - custo: 0.64342 \n",
            "Iteração: 13050 - custo: 0.64340 \n",
            "Iteração: 13100 - custo: 0.64337 \n",
            "Iteração: 13150 - custo: 0.64335 \n",
            "Iteração: 13200 - custo: 0.64333 \n",
            "Iteração: 13250 - custo: 0.64330 \n",
            "Iteração: 13300 - custo: 0.64328 \n",
            "Iteração: 13350 - custo: 0.64326 \n",
            "Iteração: 13400 - custo: 0.64323 \n",
            "Iteração: 13450 - custo: 0.64321 \n",
            "Iteração: 13500 - custo: 0.64319 \n",
            "Iteração: 13550 - custo: 0.64317 \n",
            "Iteração: 13600 - custo: 0.64315 \n",
            "Iteração: 13650 - custo: 0.64313 \n",
            "Iteração: 13700 - custo: 0.64311 \n",
            "Iteração: 13750 - custo: 0.64309 \n",
            "Iteração: 13800 - custo: 0.64307 \n",
            "Iteração: 13850 - custo: 0.64305 \n",
            "Iteração: 13900 - custo: 0.64303 \n",
            "Iteração: 13950 - custo: 0.64301 \n",
            "Iteração: 14000 - custo: 0.64300 \n",
            "Iteração: 14050 - custo: 0.64298 \n",
            "Iteração: 14100 - custo: 0.64296 \n",
            "Iteração: 14150 - custo: 0.64294 \n",
            "Iteração: 14200 - custo: 0.64293 \n",
            "Iteração: 14250 - custo: 0.64291 \n",
            "Iteração: 14300 - custo: 0.64289 \n",
            "Iteração: 14350 - custo: 0.64288 \n",
            "Iteração: 14400 - custo: 0.64286 \n",
            "Iteração: 14450 - custo: 0.64285 \n",
            "Iteração: 14500 - custo: 0.64283 \n",
            "Iteração: 14550 - custo: 0.64282 \n",
            "Iteração: 14600 - custo: 0.64280 \n",
            "Iteração: 14650 - custo: 0.64279 \n",
            "Iteração: 14700 - custo: 0.64278 \n",
            "Iteração: 14750 - custo: 0.64276 \n",
            "Iteração: 14800 - custo: 0.64275 \n",
            "Iteração: 14850 - custo: 0.64274 \n",
            "Iteração: 14900 - custo: 0.64272 \n",
            "Iteração: 14950 - custo: 0.64271 \n",
            "Iteração: 15000 - custo: 0.64270 \n",
            "Iteração: 15050 - custo: 0.64269 \n",
            "Iteração: 15100 - custo: 0.64267 \n",
            "Iteração: 15150 - custo: 0.64266 \n",
            "Iteração: 15200 - custo: 0.64265 \n",
            "Iteração: 15250 - custo: 0.64264 \n",
            "Iteração: 15300 - custo: 0.64263 \n",
            "Iteração: 15350 - custo: 0.64262 \n",
            "Iteração: 15400 - custo: 0.64260 \n",
            "Iteração: 15450 - custo: 0.64259 \n",
            "Iteração: 15500 - custo: 0.64258 \n",
            "Iteração: 15550 - custo: 0.64257 \n",
            "Iteração: 15600 - custo: 0.64256 \n",
            "Iteração: 15650 - custo: 0.64255 \n",
            "Iteração: 15700 - custo: 0.64254 \n",
            "Iteração: 15750 - custo: 0.64253 \n",
            "Iteração: 15800 - custo: 0.64252 \n",
            "Iteração: 15850 - custo: 0.64251 \n",
            "Iteração: 15900 - custo: 0.64250 \n",
            "Iteração: 15950 - custo: 0.64249 \n",
            "Iteração: 16000 - custo: 0.64248 \n",
            "Iteração: 16050 - custo: 0.64247 \n",
            "Iteração: 16100 - custo: 0.64246 \n",
            "Iteração: 16150 - custo: 0.64246 \n",
            "Iteração: 16200 - custo: 0.64245 \n",
            "Iteração: 16250 - custo: 0.64244 \n",
            "Iteração: 16300 - custo: 0.64243 \n",
            "Iteração: 16350 - custo: 0.64242 \n",
            "Iteração: 16400 - custo: 0.64241 \n",
            "Iteração: 16450 - custo: 0.64240 \n",
            "Iteração: 16500 - custo: 0.64240 \n",
            "Iteração: 16550 - custo: 0.64239 \n",
            "Iteração: 16600 - custo: 0.64238 \n",
            "Iteração: 16650 - custo: 0.64237 \n",
            "Iteração: 16700 - custo: 0.64236 \n",
            "Iteração: 16750 - custo: 0.64236 \n",
            "Iteração: 16800 - custo: 0.64235 \n",
            "Iteração: 16850 - custo: 0.64234 \n",
            "Iteração: 16900 - custo: 0.64234 \n",
            "Iteração: 16950 - custo: 0.64233 \n",
            "Iteração: 17000 - custo: 0.64232 \n",
            "Iteração: 17050 - custo: 0.64231 \n",
            "Iteração: 17100 - custo: 0.64231 \n",
            "Iteração: 17150 - custo: 0.64230 \n",
            "Iteração: 17200 - custo: 0.64229 \n",
            "Iteração: 17250 - custo: 0.64229 \n",
            "Iteração: 17300 - custo: 0.64228 \n",
            "Iteração: 17350 - custo: 0.64228 \n",
            "Iteração: 17400 - custo: 0.64227 \n",
            "Iteração: 17450 - custo: 0.64226 \n",
            "Iteração: 17500 - custo: 0.64226 \n",
            "Iteração: 17550 - custo: 0.64225 \n",
            "Iteração: 17600 - custo: 0.64224 \n",
            "Iteração: 17650 - custo: 0.64224 \n",
            "Iteração: 17700 - custo: 0.64223 \n",
            "Iteração: 17750 - custo: 0.64223 \n",
            "Iteração: 17800 - custo: 0.64222 \n",
            "Iteração: 17850 - custo: 0.64221 \n",
            "Iteração: 17900 - custo: 0.64221 \n",
            "Iteração: 17950 - custo: 0.64220 \n",
            "Iteração: 18000 - custo: 0.64220 \n",
            "Iteração: 18050 - custo: 0.64219 \n",
            "Iteração: 18100 - custo: 0.64218 \n",
            "Iteração: 18150 - custo: 0.64218 \n",
            "Iteração: 18200 - custo: 0.64217 \n",
            "Iteração: 18250 - custo: 0.64216 \n",
            "Iteração: 18300 - custo: 0.64216 \n",
            "Iteração: 18350 - custo: 0.64215 \n",
            "Iteração: 18400 - custo: 0.64215 \n",
            "Iteração: 18450 - custo: 0.64214 \n",
            "Iteração: 18500 - custo: 0.64213 \n",
            "Iteração: 18550 - custo: 0.64213 \n",
            "Iteração: 18600 - custo: 0.64212 \n",
            "Iteração: 18650 - custo: 0.64212 \n",
            "Iteração: 18700 - custo: 0.64211 \n",
            "Iteração: 18750 - custo: 0.64211 \n",
            "Iteração: 18800 - custo: 0.64210 \n",
            "Iteração: 18850 - custo: 0.64210 \n",
            "Iteração: 18900 - custo: 0.64209 \n",
            "Iteração: 18950 - custo: 0.64209 \n",
            "Iteração: 19000 - custo: 0.64208 \n",
            "Iteração: 19050 - custo: 0.64208 \n",
            "Iteração: 19100 - custo: 0.64207 \n",
            "Iteração: 19150 - custo: 0.64207 \n",
            "Iteração: 19200 - custo: 0.64206 \n",
            "Iteração: 19250 - custo: 0.64206 \n",
            "Iteração: 19300 - custo: 0.64205 \n",
            "Iteração: 19350 - custo: 0.64205 \n",
            "Iteração: 19400 - custo: 0.64204 \n",
            "Iteração: 19450 - custo: 0.64204 \n",
            "Iteração: 19500 - custo: 0.64203 \n",
            "Iteração: 19550 - custo: 0.64203 \n",
            "Iteração: 19600 - custo: 0.64202 \n",
            "Iteração: 19650 - custo: 0.64202 \n",
            "Iteração: 19700 - custo: 0.64201 \n",
            "Iteração: 19750 - custo: 0.64201 \n",
            "Iteração: 19800 - custo: 0.64200 \n",
            "Iteração: 19850 - custo: 0.64200 \n",
            "Iteração: 19900 - custo: 0.64199 \n",
            "Iteração: 19950 - custo: 0.64199 \n"
          ]
        }
      ]
    },
    {
      "cell_type": "code",
      "source": [
        "plt.plot(historia_custo)\n",
        "plt.plot(historia_custo_teste, 'r')\n",
        "plt.legend(['Treinamento','Teste'])\n",
        "plt.ylabel('Custo')\n",
        "plt.xlabel('Épocas')\n",
        "plt.show()"
      ],
      "metadata": {
        "colab": {
          "base_uri": "https://localhost:8080/",
          "height": 303
        },
        "id": "NvDLcAjKdTb0",
        "outputId": "928c21f2-ad71-4a8b-a486-3f1e7f013745"
      },
      "execution_count": 30,
      "outputs": [
        {
          "output_type": "display_data",
          "data": {
            "image/png": "[encoded data removed]",
            "text/plain": [
              "<Figure size 432x288 with 1 Axes>"
            ]
          },
          "metadata": {
            "needs_background": "light"
          }
        }
      ]
    },
    {
      "cell_type": "markdown",
      "source": [
        "# Fazendo Previsões"
      ],
      "metadata": {
        "id": "6HHO_uMCdUWc"
      }
    },
    {
      "cell_type": "code",
      "source": [
        "y_pred, _ = propaga_total(np.transpose(x_teste), valores_parametros, arquitetura)"
      ],
      "metadata": {
        "id": "Wiac4UTUeeLE"
      },
      "execution_count": 32,
      "outputs": []
    },
    {
      "cell_type": "code",
      "source": [
        "plt.plot(np.transpose(x_teste)[1],ymax*y_teste,'.')\n",
        "plt.plot(np.transpose(x_teste)[1],ymax*y_pred.reshape([-1,1]),'.r')\n",
        "plt.legend(['Reais','Preditos'])\n",
        "plt.ylabel('bicicletas_alugadas')\n",
        "plt.xlabel('temperatura')\n",
        "plt.show()"
      ],
      "metadata": {
        "colab": {
          "base_uri": "https://localhost:8080/",
          "height": 299
        },
        "id": "O7hfRwGPeftT",
        "outputId": "158df384-912b-452e-db6c-fa5e60a1b5d5"
      },
      "execution_count": 35,
      "outputs": [
        {
          "output_type": "display_data",
          "data": {
            "image/png": "[encoded data removed]",
            "text/plain": [
              "<Figure size 432x288 with 1 Axes>"
            ]
          },
          "metadata": {
            "needs_background": "light"
          }
        }
      ]
    },
    {
      "cell_type": "code",
      "source": [
        "plt.plot(3*np.transpose(x_teste)[0],ymax*y_teste,'.')\n",
        "plt.plot(3*np.transpose(x_teste)[0],ymax*y_pred.reshape([-1,1]),'.r')\n",
        "plt.legend(['Reais','Preditos'])\n",
        "plt.ylabel('bicicletas_alugadas')\n",
        "plt.xlabel('clima')\n",
        "plt.rcParams.update({'font.size': 22})\n",
        "indice=[1,2,3]\n",
        "plt.xticks(indice, fontsize=14)\n",
        "plt.show()"
      ],
      "metadata": {
        "colab": {
          "base_uri": "https://localhost:8080/",
          "height": 293
        },
        "id": "mULMCye4ehie",
        "outputId": "da2c9839-0552-4a98-f5ac-f599cc0ccfd7"
      },
      "execution_count": 37,
      "outputs": [
        {
          "output_type": "display_data",
          "data": {
            "image/png": "[encoded data removed]",
            "text/plain": [
              "<Figure size 432x288 with 1 Axes>"
            ]
          },
          "metadata": {
            "needs_background": "light"
          }
        }
      ]
    },
    {
      "cell_type": "code",
      "source": [
        ""
      ],
      "metadata": {
        "id": "6NPsm67uekoc"
      },
      "execution_count": null,
      "outputs": []
    }
  ]
}