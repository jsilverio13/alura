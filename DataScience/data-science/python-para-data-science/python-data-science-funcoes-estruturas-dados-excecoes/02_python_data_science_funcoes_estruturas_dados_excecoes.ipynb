{
  "nbformat": 4,
  "nbformat_minor": 0,
  "metadata": {
    "colab": {
      "provenance": []
    },
    "kernelspec": {
      "name": "python3",
      "display_name": "Python 3"
    },
    "language_info": {
      "name": "python"
    }
  },
  "cells": [
    {
      "cell_type": "markdown",
      "source": [
        "# <font color=green> PYTHON PARA DATA SCIENCE\n",
        "---"
      ],
      "metadata": {
        "id": "AGc2Cf4cBwd7"
      }
    },
    {
      "cell_type": "markdown",
      "source": [
        "## <font color=green> 1. BIBLIOTECAS\n",
        "---"
      ],
      "metadata": {
        "id": "fH2br9y9CYZ8"
      }
    },
    {
      "cell_type": "markdown",
      "source": [
        "### 1.1 Instalação e importação de bibliotecas\n",
        "\n",
        "Na linguagem Python utiliza-se bastante o conceito de bibliotecas como um conjunto de módulos e funções úteis para o usuário. Elas facilitam em reduzir o uso de códigos no projeto, mantendo apenas o necessário para a tarefa que desejamos realizar."
      ],
      "metadata": {
        "id": "jjEKgfiuFzHz"
      }
    },
    {
      "cell_type": "markdown",
      "source": [
        "#### Instalando uma biblioteca"
      ],
      "metadata": {
        "id": "JjpazCgqDRfZ"
      }
    },
    {
      "cell_type": "markdown",
      "source": [
        "Para instalar ou atualizar uma biblioteca no Python, podemos recorrer ao `pip` que é um gerenciador de bibliotecas no Python. "
      ],
      "metadata": {
        "id": "_qnuIo7oIQYx"
      }
    },
    {
      "cell_type": "code",
      "source": [
        "# Instalando a biblioteca matplotlib pelo pip\n",
        "!pip install matplotlib"
      ],
      "metadata": {
        "id": "rsxrF2fEDWcc",
        "colab": {
          "base_uri": "https://localhost:8080/"
        },
        "outputId": "76e3b7b3-6f9f-4f0b-a555-997958324e4a"
      },
      "execution_count": 1,
      "outputs": [
        {
          "output_type": "stream",
          "name": "stdout",
          "text": [
            "Looking in indexes: https://pypi.org/simple, https://us-python.pkg.dev/colab-wheels/public/simple/\n",
            "Requirement already satisfied: matplotlib in /usr/local/lib/python3.10/dist-packages (3.7.1)\n",
            "Requirement already satisfied: contourpy>=1.0.1 in /usr/local/lib/python3.10/dist-packages (from matplotlib) (1.0.7)\n",
            "Requirement already satisfied: cycler>=0.10 in /usr/local/lib/python3.10/dist-packages (from matplotlib) (0.11.0)\n",
            "Requirement already satisfied: fonttools>=4.22.0 in /usr/local/lib/python3.10/dist-packages (from matplotlib) (4.39.3)\n",
            "Requirement already satisfied: kiwisolver>=1.0.1 in /usr/local/lib/python3.10/dist-packages (from matplotlib) (1.4.4)\n",
            "Requirement already satisfied: numpy>=1.20 in /usr/local/lib/python3.10/dist-packages (from matplotlib) (1.22.4)\n",
            "Requirement already satisfied: packaging>=20.0 in /usr/local/lib/python3.10/dist-packages (from matplotlib) (23.1)\n",
            "Requirement already satisfied: pillow>=6.2.0 in /usr/local/lib/python3.10/dist-packages (from matplotlib) (8.4.0)\n",
            "Requirement already satisfied: pyparsing>=2.3.1 in /usr/local/lib/python3.10/dist-packages (from matplotlib) (3.0.9)\n",
            "Requirement already satisfied: python-dateutil>=2.7 in /usr/local/lib/python3.10/dist-packages (from matplotlib) (2.8.2)\n",
            "Requirement already satisfied: six>=1.5 in /usr/local/lib/python3.10/dist-packages (from python-dateutil>=2.7->matplotlib) (1.16.0)\n"
          ]
        }
      ]
    },
    {
      "cell_type": "code",
      "source": [
        "# Instalando uma versão específica do matplotlib\n",
        "!pip install matplotlib==3.6.2"
      ],
      "metadata": {
        "id": "s7JtnISoNHjf",
        "colab": {
          "base_uri": "https://localhost:8080/",
          "height": 0
        },
        "outputId": "4228daab-9c61-424e-e243-dabe402a7bf8"
      },
      "execution_count": 2,
      "outputs": [
        {
          "output_type": "stream",
          "name": "stdout",
          "text": [
            "Looking in indexes: https://pypi.org/simple, https://us-python.pkg.dev/colab-wheels/public/simple/\n",
            "Collecting matplotlib==3.6.2\n",
            "  Downloading matplotlib-3.6.2-cp310-cp310-manylinux_2_17_x86_64.manylinux2014_x86_64.whl (11.8 MB)\n",
            "\u001b[2K     \u001b[90m━━━━━━━━━━━━━━━━━━━━━━━━━━━━━━━━━━━━━━━━\u001b[0m \u001b[32m11.8/11.8 MB\u001b[0m \u001b[31m60.9 MB/s\u001b[0m eta \u001b[36m0:00:00\u001b[0m\n",
            "\u001b[?25hRequirement already satisfied: contourpy>=1.0.1 in /usr/local/lib/python3.10/dist-packages (from matplotlib==3.6.2) (1.0.7)\n",
            "Requirement already satisfied: cycler>=0.10 in /usr/local/lib/python3.10/dist-packages (from matplotlib==3.6.2) (0.11.0)\n",
            "Requirement already satisfied: fonttools>=4.22.0 in /usr/local/lib/python3.10/dist-packages (from matplotlib==3.6.2) (4.39.3)\n",
            "Requirement already satisfied: kiwisolver>=1.0.1 in /usr/local/lib/python3.10/dist-packages (from matplotlib==3.6.2) (1.4.4)\n",
            "Requirement already satisfied: numpy>=1.19 in /usr/local/lib/python3.10/dist-packages (from matplotlib==3.6.2) (1.22.4)\n",
            "Requirement already satisfied: packaging>=20.0 in /usr/local/lib/python3.10/dist-packages (from matplotlib==3.6.2) (23.1)\n",
            "Requirement already satisfied: pillow>=6.2.0 in /usr/local/lib/python3.10/dist-packages (from matplotlib==3.6.2) (8.4.0)\n",
            "Requirement already satisfied: pyparsing>=2.2.1 in /usr/local/lib/python3.10/dist-packages (from matplotlib==3.6.2) (3.0.9)\n",
            "Requirement already satisfied: python-dateutil>=2.7 in /usr/local/lib/python3.10/dist-packages (from matplotlib==3.6.2) (2.8.2)\n",
            "Requirement already satisfied: six>=1.5 in /usr/local/lib/python3.10/dist-packages (from python-dateutil>=2.7->matplotlib==3.6.2) (1.16.0)\n",
            "      Successfully uninstalled matplotlib-3.7.1\n",
            "Successfully installed matplotlib-3.6.2\n"
          ]
        },
        {
          "output_type": "display_data",
          "data": {
            "application/vnd.colab-display-data+json": {
              "pip_warning": {
                "packages": [
                  "matplotlib",
                  "mpl_toolkits"
                ]
              }
            }
          },
          "metadata": {}
        }
      ]
    },
    {
      "cell_type": "markdown",
      "source": [
        "Existe também o PYPI que é um repositório de bibliotecas Python que traz as bibliotecas mais utilizadas pela comunidade junto a informações de como usar e acesso as documentações de cada uma delas.\n",
        "\n",
        "- PYPI ([https://pypi.org/](https://pypi.org/))"
      ],
      "metadata": {
        "id": "IHTmQnlXInD1"
      }
    },
    {
      "cell_type": "markdown",
      "source": [
        "#### Importando uma biblioteca"
      ],
      "metadata": {
        "id": "A76TbnDbDehe"
      }
    },
    {
      "cell_type": "code",
      "source": [
        "# Importando uma biblioteca sem alias\n",
        "import matplotlib"
      ],
      "metadata": {
        "id": "IOP3GEKUDNaS"
      },
      "execution_count": 3,
      "outputs": []
    },
    {
      "cell_type": "code",
      "source": [
        "matplotlib.__version__"
      ],
      "metadata": {
        "id": "xciT3_H0DNUS",
        "colab": {
          "base_uri": "https://localhost:8080/",
          "height": 0
        },
        "outputId": "da7d3fe6-3324-4a3f-fce4-abc970128a66"
      },
      "execution_count": 4,
      "outputs": [
        {
          "output_type": "execute_result",
          "data": {
            "text/plain": [
              "'3.7.1'"
            ],
            "application/vnd.google.colaboratory.intrinsic+json": {
              "type": "string"
            }
          },
          "metadata": {},
          "execution_count": 4
        }
      ]
    },
    {
      "cell_type": "code",
      "source": [
        "# Importando uma biblioteca com alias\n",
        "import matplotlib.pyplot as plt"
      ],
      "metadata": {
        "id": "I8x0l_5uDNXE"
      },
      "execution_count": 5,
      "outputs": []
    },
    {
      "cell_type": "code",
      "source": [
        "plt.show()"
      ],
      "metadata": {
        "id": "MjQYbxA-DWWT"
      },
      "execution_count": 6,
      "outputs": []
    },
    {
      "cell_type": "markdown",
      "source": [
        "### 1.2 Utilizando pacotes/bibliotecas\n",
        "\n",
        "- Documentação do Python (https://docs.python.org/pt-br/3/)"
      ],
      "metadata": {
        "id": "oMxkV9-6GXwH"
      }
    },
    {
      "cell_type": "markdown",
      "source": [
        "#### Exemplo 1: Vamos testar a biblioteca Matplotlib para um exemplo de médias de estudantes de uma classe.\n",
        "\n",
        "(https://matplotlib.org/stable/tutorials/introductory/pyplot.html)"
      ],
      "metadata": {
        "id": "W1MHaXB2Q7tT"
      }
    },
    {
      "cell_type": "code",
      "source": [
        "import matplotlib.pyplot as plt"
      ],
      "metadata": {
        "id": "jKBw5ho2DWTa"
      },
      "execution_count": 7,
      "outputs": []
    },
    {
      "cell_type": "code",
      "source": [
        "estudantes = [\"João\", \"Maria\", \"José\"]\n",
        "notas = [8.5, 9, 6.5]"
      ],
      "metadata": {
        "id": "3Q8p9LonGo63"
      },
      "execution_count": 8,
      "outputs": []
    },
    {
      "cell_type": "code",
      "source": [
        "plt.bar(x = estudantes, height = notas)"
      ],
      "metadata": {
        "id": "yhwQqLmBRvIw",
        "colab": {
          "base_uri": "https://localhost:8080/",
          "height": 0
        },
        "outputId": "5523dc83-d2b4-40d7-b80b-da45b919f074"
      },
      "execution_count": 9,
      "outputs": [
        {
          "output_type": "execute_result",
          "data": {
            "text/plain": [
              "<BarContainer object of 3 artists>"
            ]
          },
          "metadata": {},
          "execution_count": 9
        },
        {
          "output_type": "display_data",
          "data": {
            "text/plain": [
              "<Figure size 640x480 with 1 Axes>"
            ],
            "image/png": "[encoded data removed]"
          },
          "metadata": {}
        }
      ]
    },
    {
      "cell_type": "markdown",
      "source": [
        "#### Exemplo 2: Vamos selecionar aleatoriamente um aluno para apresentar o seu trabalho de ciência de dados usando a biblioteca Random\n",
        "\n",
        "(https://docs.python.org/pt-br/3/library/random.html)"
      ],
      "metadata": {
        "id": "5G6u4ZRYRIFZ"
      }
    },
    {
      "cell_type": "code",
      "source": [
        "estudantes_2 = [\"João\", \"Maria\", \"José\", \"Ana\"]"
      ],
      "metadata": {
        "id": "vnqGBX4DYv17"
      },
      "execution_count": 10,
      "outputs": []
    },
    {
      "cell_type": "code",
      "source": [
        "# Importando uma função específica de uma biblioteca\n",
        "from random import choice"
      ],
      "metadata": {
        "id": "5UYHaiWaGoy1"
      },
      "execution_count": 11,
      "outputs": []
    },
    {
      "cell_type": "markdown",
      "source": [
        "<font color=green>**Dica:**</font> Você pode notar ao longo de nossa prática a importância de recorrer a documentação para aprender como utilizar um método ou pacote na linguagem Python. \n",
        "\n",
        "O método `help()`, por exemplo, retorna uma descrição sobre uma variável, método ou classe.\n",
        "\n",
        "https://docs.python.org/pt-br/3/library/functions.html?#help"
      ],
      "metadata": {
        "id": "N-XJrnISGpTN"
      }
    },
    {
      "cell_type": "code",
      "source": [
        "help(choice)"
      ],
      "metadata": {
        "id": "fKv4W4PJXNOR",
        "colab": {
          "base_uri": "https://localhost:8080/"
        },
        "outputId": "9417aee4-2087-4351-e75e-d7cf9653e76b"
      },
      "execution_count": 12,
      "outputs": [
        {
          "output_type": "stream",
          "name": "stdout",
          "text": [
            "Help on method choice in module random:\n",
            "\n",
            "choice(seq) method of random.Random instance\n",
            "    Choose a random element from a non-empty sequence.\n",
            "\n"
          ]
        }
      ]
    },
    {
      "cell_type": "code",
      "source": [
        "estudante = choice(estudantes_2)\n",
        "estudante"
      ],
      "metadata": {
        "id": "Pal_mZsFcV80",
        "colab": {
          "base_uri": "https://localhost:8080/",
          "height": 0
        },
        "outputId": "13601d10-ad5e-45d1-bc75-f4d311d65f60"
      },
      "execution_count": 13,
      "outputs": [
        {
          "output_type": "execute_result",
          "data": {
            "text/plain": [
              "'José'"
            ],
            "application/vnd.google.colaboratory.intrinsic+json": {
              "type": "string"
            }
          },
          "metadata": {},
          "execution_count": 13
        }
      ]
    },
    {
      "cell_type": "markdown",
      "source": [
        "## <font color=green> 2. FUNÇÕES\n",
        "---"
      ],
      "metadata": {
        "id": "2hrSPmlcBwWS"
      }
    },
    {
      "cell_type": "markdown",
      "source": [
        "Na linguagem Python, as **funções** são sequências de instruções que executam tarefas específicas, podendo ser reutilizadas em diferentes partes do código. Elas podem receber parâmetros de entrada (que podemos chamar de *inputs*) e também retornar resultados."
      ],
      "metadata": {
        "id": "gC4lHsW-DREY"
      }
    },
    {
      "cell_type": "markdown",
      "source": [
        "### 2.1 Built-in function\n",
        "\n",
        "O interpretador do Python já possui uma série de funções embutidas que podem ser invocadas a qualquer momento. Algumas que vamos utilizar ao longo desse curso são: type(), print(), list(), zip(), sum(), map() etc.\n",
        "\n",
        "***Documentação:***\n",
        "https://docs.python.org/pt-br/3/library/functions.html\n"
      ],
      "metadata": {
        "id": "Qr_h1_UNEzHZ"
      }
    },
    {
      "cell_type": "markdown",
      "source": [
        "#### **Situação 1:**\n",
        "\n",
        "A escola em que estamos construindo o nosso case de dados compartilhou os dados das notas de um estudante para que pudéssemos calcular a média deste em até uma casa decimal. \n",
        "\n",
        "Os dados recebidos correspondem a um dicionário com as chaves indicando o trimestre em questão e os valores das notas de cada trimestre do estudante em uma dada matéria."
      ],
      "metadata": {
        "id": "MMOJIW3TyLIB"
      }
    },
    {
      "cell_type": "code",
      "source": [
        "# Notas do(a) estudante\n",
        "notas = {'1º Trimestre': 8.5, '2º Trimestre': 7.5, '3º Trimestre': 9}\n",
        "notas"
      ],
      "metadata": {
        "colab": {
          "base_uri": "https://localhost:8080/"
        },
        "id": "kRAMC_KbI6U4",
        "outputId": "face1ec8-be14-4ce8-c39c-625cf776934e"
      },
      "execution_count": 14,
      "outputs": [
        {
          "output_type": "execute_result",
          "data": {
            "text/plain": [
              "{'1º Trimestre': 8.5, '2º Trimestre': 7.5, '3º Trimestre': 9}"
            ]
          },
          "metadata": {},
          "execution_count": 14
        }
      ]
    },
    {
      "cell_type": "code",
      "source": [
        "# Calculando a soma\n",
        "soma = 0\n",
        "\n",
        "for nota in notas.values():\n",
        "    soma += nota\n",
        "\n",
        "soma"
      ],
      "metadata": {
        "id": "S7vIqSZJI6P4",
        "colab": {
          "base_uri": "https://localhost:8080/"
        },
        "outputId": "214c70b1-f9c8-49de-af16-6bce047be5f7"
      },
      "execution_count": 16,
      "outputs": [
        {
          "output_type": "execute_result",
          "data": {
            "text/plain": [
              "25.0"
            ]
          },
          "metadata": {},
          "execution_count": 16
        }
      ]
    },
    {
      "cell_type": "code",
      "source": [
        "# Usando a função embutida sum()\n",
        "somatorio = sum(notas.values())\n",
        "\n",
        "somatorio"
      ],
      "metadata": {
        "id": "yr9YSRwNPF9S",
        "colab": {
          "base_uri": "https://localhost:8080/"
        },
        "outputId": "b98ba135-5e89-4324-877c-2cd2b33fd951"
      },
      "execution_count": 17,
      "outputs": [
        {
          "output_type": "execute_result",
          "data": {
            "text/plain": [
              "25.0"
            ]
          },
          "metadata": {},
          "execution_count": 17
        }
      ]
    },
    {
      "cell_type": "code",
      "source": [
        "# Usando a função embutida len()\n",
        "qtd_notas = len(notas)\n",
        "\n",
        "qtd_notas"
      ],
      "metadata": {
        "id": "Zn6XAAdQI6Fw",
        "colab": {
          "base_uri": "https://localhost:8080/"
        },
        "outputId": "350c486a-1633-489f-a552-e0f89adc653b"
      },
      "execution_count": 18,
      "outputs": [
        {
          "output_type": "execute_result",
          "data": {
            "text/plain": [
              "3"
            ]
          },
          "metadata": {},
          "execution_count": 18
        }
      ]
    },
    {
      "cell_type": "code",
      "source": [
        "# Calculando a média\n",
        "media = somatorio / qtd_notas\n",
        "\n",
        "media"
      ],
      "metadata": {
        "id": "iUx5UixrNsQh",
        "colab": {
          "base_uri": "https://localhost:8080/"
        },
        "outputId": "8e57ab1f-0fcd-4fa0-d75a-136fbbf6fe9b"
      },
      "execution_count": 19,
      "outputs": [
        {
          "output_type": "execute_result",
          "data": {
            "text/plain": [
              "8.333333333333334"
            ]
          },
          "metadata": {},
          "execution_count": 19
        }
      ]
    },
    {
      "cell_type": "markdown",
      "source": [
        "*Arredondar a média usando round():*\n",
        "\n",
        "https://docs.python.org/pt-br/3/library/functions.html#round"
      ],
      "metadata": {
        "id": "JD2z3LW8312E"
      }
    },
    {
      "cell_type": "code",
      "source": [
        "help(round)"
      ],
      "metadata": {
        "id": "OAZC5RwkSwWh",
        "colab": {
          "base_uri": "https://localhost:8080/"
        },
        "outputId": "ab846eda-0198-4abf-b181-1df5a151663a"
      },
      "execution_count": 20,
      "outputs": [
        {
          "output_type": "stream",
          "name": "stdout",
          "text": [
            "Help on built-in function round in module builtins:\n",
            "\n",
            "round(number, ndigits=None)\n",
            "    Round a number to a given precision in decimal digits.\n",
            "    \n",
            "    The return value is an integer if ndigits is omitted or None.  Otherwise\n",
            "    the return value has the same type as the number.  ndigits may be negative.\n",
            "\n"
          ]
        }
      ]
    },
    {
      "cell_type": "code",
      "source": [
        "# round?"
      ],
      "metadata": {
        "id": "cJ1C2Pg-4PNq"
      },
      "execution_count": 22,
      "outputs": []
    },
    {
      "cell_type": "markdown",
      "source": [
        "### 2.2 Criando funções"
      ],
      "metadata": {
        "id": "NCUSezOJIdfy"
      }
    },
    {
      "cell_type": "markdown",
      "source": [
        "Depois de explorarmos a built-in functions e aprendermos como utilizar algumas delas, você pode se deparar com a necessidade de resolver um problema específico em que elas não serão o suficiente.\n",
        "\n",
        "Nesse ponto, precisaremos criar as nossas próprias funções, ainda mais se precisarmos utilizá-las em mais partes de nossos códigos."
      ],
      "metadata": {
        "id": "QrTAXwghsg6s"
      }
    },
    {
      "cell_type": "markdown",
      "source": [
        "#### Funções sem parâmetros\n",
        "\n",
        "##### Formato padrão:\n",
        "\n",
        "```python\n",
        "def <nome>():\n",
        "  <instruções>\n",
        "```"
      ],
      "metadata": {
        "id": "zxyXiX462A_X"
      }
    },
    {
      "cell_type": "code",
      "source": [
        "def media():\n",
        "    calculo = (10 + 9 + 8) / 3\n",
        "    print(calculo)"
      ],
      "metadata": {
        "id": "zQtsnpyCzHfb"
      },
      "execution_count": 23,
      "outputs": []
    },
    {
      "cell_type": "code",
      "source": [
        "media()"
      ],
      "metadata": {
        "id": "Eq4U8TPq0xOv",
        "colab": {
          "base_uri": "https://localhost:8080/"
        },
        "outputId": "5cd66148-f76a-49b3-9ee3-b627f0bc823d"
      },
      "execution_count": 24,
      "outputs": [
        {
          "output_type": "stream",
          "name": "stdout",
          "text": [
            "9.0\n"
          ]
        }
      ]
    },
    {
      "cell_type": "markdown",
      "source": [
        "#### Funções com parâmetros\n",
        "\n",
        "##### Formato padrão:\n",
        "\n",
        "```python\n",
        "def <nome>(<param_1>, <param_2>, ..., <param_n>):\n",
        "  <instruções>\n",
        "```"
      ],
      "metadata": {
        "id": "o9AR_DNDFKSD"
      }
    },
    {
      "cell_type": "code",
      "source": [
        "def media(nota_1, nota_2, nota_3):\n",
        "    calculo = (nota_1 + nota_2 + nota_3)/3\n",
        "    print(calculo)"
      ],
      "metadata": {
        "id": "zVIvbjeRDR24"
      },
      "execution_count": 26,
      "outputs": []
    },
    {
      "cell_type": "code",
      "source": [
        "media(3, 6, 9)"
      ],
      "metadata": {
        "id": "c6H9lfBn3FuA",
        "colab": {
          "base_uri": "https://localhost:8080/"
        },
        "outputId": "0ea3fe8a-d1e1-4a4a-d63d-de91f80d3f38"
      },
      "execution_count": 27,
      "outputs": [
        {
          "output_type": "stream",
          "name": "stdout",
          "text": [
            "6.0\n"
          ]
        }
      ]
    },
    {
      "cell_type": "code",
      "source": [
        "nota1 = 8\n",
        "nota2 = 7\n",
        "nota3 = 6\n",
        "\n",
        "media(nota1, nota2, nota3)"
      ],
      "metadata": {
        "id": "38M9GYEVQp_x",
        "colab": {
          "base_uri": "https://localhost:8080/"
        },
        "outputId": "6218a51d-1e95-4a05-9f7e-e7dfae6cb040"
      },
      "execution_count": 28,
      "outputs": [
        {
          "output_type": "stream",
          "name": "stdout",
          "text": [
            "7.0\n"
          ]
        }
      ]
    },
    {
      "cell_type": "markdown",
      "source": [
        "#### **Situação 2:**\n",
        "\n",
        "Recebemos uma demanda de calcular a média de um estudante a partir de uma lista, sendo possível alterar a quantidade de notas, sem impedir que o cálculo seja refeito.\n",
        "\n",
        "Os dados recebidos, desta vez, correspondem a uma lista contendo apenas as notas de um estudante em uma dada matéria.\n",
        "\n",
        "**Vamos resolver esse desafio?**\n",
        "\n",
        "Para facilitar o nosso entendimento do processo vamos aplicar às notas de apenas um estudante, mas você pode testar outros casos para treinar."
      ],
      "metadata": {
        "id": "-Umx7n134suz"
      }
    },
    {
      "cell_type": "code",
      "source": [
        "# Notas do(a) estudante\n",
        "notas = [8.5, 9.0, 6.0, 10.0]"
      ],
      "metadata": {
        "id": "9AiWnXLuzc1P"
      },
      "execution_count": 32,
      "outputs": []
    },
    {
      "cell_type": "code",
      "source": [
        "def media(lista):\n",
        "    calculo = sum(lista) / len(lista)\n",
        "    print(calculo)"
      ],
      "metadata": {
        "id": "bEf8Evf1DR0I"
      },
      "execution_count": 33,
      "outputs": []
    },
    {
      "cell_type": "code",
      "source": [
        "media(notas)"
      ],
      "metadata": {
        "id": "R5ylO_vW6k8C",
        "colab": {
          "base_uri": "https://localhost:8080/"
        },
        "outputId": "28bf54ec-14ce-4517-ace1-becd7fea85d2"
      },
      "execution_count": 34,
      "outputs": [
        {
          "output_type": "stream",
          "name": "stdout",
          "text": [
            "8.375\n"
          ]
        }
      ]
    },
    {
      "cell_type": "code",
      "source": [
        "resultado = media(notas)"
      ],
      "metadata": {
        "id": "9wNMcPOK_T9F",
        "colab": {
          "base_uri": "https://localhost:8080/"
        },
        "outputId": "a08064c5-b202-4f21-d609-7d8e7d029248"
      },
      "execution_count": 35,
      "outputs": [
        {
          "output_type": "stream",
          "name": "stdout",
          "text": [
            "8.375\n"
          ]
        }
      ]
    },
    {
      "cell_type": "code",
      "source": [
        "resultado"
      ],
      "metadata": {
        "id": "4xnmTQ9w_ZTi"
      },
      "execution_count": 36,
      "outputs": []
    },
    {
      "cell_type": "code",
      "source": [
        "type(resultado)"
      ],
      "metadata": {
        "id": "x6m24TcG_W3w",
        "colab": {
          "base_uri": "https://localhost:8080/"
        },
        "outputId": "43770e64-3b0a-4aaa-8631-837c4608194a"
      },
      "execution_count": 37,
      "outputs": [
        {
          "output_type": "execute_result",
          "data": {
            "text/plain": [
              "NoneType"
            ]
          },
          "metadata": {},
          "execution_count": 37
        }
      ]
    },
    {
      "cell_type": "markdown",
      "source": [
        "<font color=red>**Atenção!**</font>\n",
        "Quando utilizamos funções precisamos prestar atenção a uma propriedade chamada **escopo de uma função**\n",
        "\n",
        "Ela determina onde uma variável pode ser utilizada dentro do código. Por exemplo, uma variável criada dentro de uma função existirá apenas dentro da função. Ou seja, encerrando a execução da função, a variável não estará disponível para o usuário no restante do código. "
      ],
      "metadata": {
        "id": "skMq7d0_xHND"
      }
    },
    {
      "cell_type": "code",
      "source": [
        "# calculo"
      ],
      "metadata": {
        "id": "5FBWT2_gzIzR"
      },
      "execution_count": 38,
      "outputs": []
    },
    {
      "cell_type": "markdown",
      "source": [
        "### 2.3 Funções que retornam valores\n",
        "\n",
        "##### Formato padrão:\n",
        "\n",
        "```python\n",
        "def <nome>(<param_1>, <param_2>, ..., <param_n>):\n",
        "  <instruções>\n",
        "  return resultado\n",
        "```"
      ],
      "metadata": {
        "id": "-oDFGKcA52kG"
      }
    },
    {
      "cell_type": "markdown",
      "source": [
        "Retomando a atividade anterior, podemos retornar e salvar o valor da média da seguinte forma:"
      ],
      "metadata": {
        "id": "DxvT_uItbQ-q"
      }
    },
    {
      "cell_type": "code",
      "source": [
        "# Notas do(a) estudante\n",
        "notas = [8.5, 9.0, 6.0, 10.0]"
      ],
      "metadata": {
        "id": "GlWdnX7Ubgl3"
      },
      "execution_count": 39,
      "outputs": []
    },
    {
      "cell_type": "code",
      "source": [
        "def media(lista):\n",
        "  calculo = sum(lista) / len(lista)\n",
        "  return calculo"
      ],
      "metadata": {
        "id": "B6yqoM7KAKKK"
      },
      "execution_count": 40,
      "outputs": []
    },
    {
      "cell_type": "code",
      "source": [
        "resultado = media(notas)"
      ],
      "metadata": {
        "id": "GlqPKe3_AT0Q"
      },
      "execution_count": 41,
      "outputs": []
    },
    {
      "cell_type": "code",
      "source": [
        "resultado"
      ],
      "metadata": {
        "id": "E81HZh8rAYJz",
        "colab": {
          "base_uri": "https://localhost:8080/"
        },
        "outputId": "2db4d411-1bee-49ca-a95a-b08d37ea2ca7"
      },
      "execution_count": 42,
      "outputs": [
        {
          "output_type": "execute_result",
          "data": {
            "text/plain": [
              "8.375"
            ]
          },
          "metadata": {},
          "execution_count": 42
        }
      ]
    },
    {
      "cell_type": "markdown",
      "source": [
        "#### **Situação 3:**\n",
        "\n",
        "Recebemos uma nova demanda, desta vez, de calcular a média de um estudante a partir de uma lista e retornar tanto a média quanto a situação do estudante (\"Aprovado(a)\" se a nota for maior ou igual a 6.0, caso contrário, será \"Reprovado(a)\"). \n",
        "\n",
        "Além disso, precisamos exibir um pequeno texto em que indicamos a média do(a) estudante e qual a situação. Os dados recebidos correspondem a uma lista contendo apenas as notas de um estudante em uma dada matéria.\n",
        "\n",
        "**Vamos resolver esse desafio?**\n",
        "\n",
        "Para facilitar o nosso entendimento do processo vamos aplicar as notas de apenas um estudante, mas você pode testar outros casos para treinar."
      ],
      "metadata": {
        "id": "_awyOKOH8OOi"
      }
    },
    {
      "cell_type": "code",
      "source": [
        "# Notas do(a) estudante\n",
        "notas = [6.0, 7.0, 9.0, 5.0]"
      ],
      "metadata": {
        "id": "8LmWZ2U9-Zv3"
      },
      "execution_count": 43,
      "outputs": []
    },
    {
      "cell_type": "code",
      "source": [
        "def boletim(lista):\n",
        "    media = sum(lista) / len(lista)\n",
        "\n",
        "    if media >= 6:\n",
        "        situacao = \"Aprovado (a)\"\n",
        "    else:\n",
        "        situacao = \"Reprovado (a)\"\n",
        "\n",
        "    return (media, situacao)"
      ],
      "metadata": {
        "id": "bJ9KmlHv5o0i"
      },
      "execution_count": 48,
      "outputs": []
    },
    {
      "cell_type": "code",
      "source": [
        "boletim(notas)"
      ],
      "metadata": {
        "id": "rIiA2cpB-squ",
        "colab": {
          "base_uri": "https://localhost:8080/"
        },
        "outputId": "162f4ae3-0600-4f1e-b4ed-6829d6875766"
      },
      "execution_count": 49,
      "outputs": [
        {
          "output_type": "execute_result",
          "data": {
            "text/plain": [
              "(6.75, 'Aprovado (a)')"
            ]
          },
          "metadata": {},
          "execution_count": 49
        }
      ]
    },
    {
      "cell_type": "code",
      "source": [
        "media, situacao = boletim(notas)"
      ],
      "metadata": {
        "id": "_xf7bR6JBjD8"
      },
      "execution_count": 50,
      "outputs": []
    },
    {
      "cell_type": "code",
      "source": [
        "media"
      ],
      "metadata": {
        "id": "5ixwo3o3CdQ0",
        "colab": {
          "base_uri": "https://localhost:8080/"
        },
        "outputId": "0b100f87-d2c3-4f4c-f73b-594ab9259b88"
      },
      "execution_count": 51,
      "outputs": [
        {
          "output_type": "execute_result",
          "data": {
            "text/plain": [
              "6.75"
            ]
          },
          "metadata": {},
          "execution_count": 51
        }
      ]
    },
    {
      "cell_type": "code",
      "source": [
        "situacao"
      ],
      "metadata": {
        "id": "VFQacFSICeaO",
        "colab": {
          "base_uri": "https://localhost:8080/",
          "height": 35
        },
        "outputId": "69b1cb0e-a1c1-40dd-ff2c-af38f392f2ab"
      },
      "execution_count": 52,
      "outputs": [
        {
          "output_type": "execute_result",
          "data": {
            "text/plain": [
              "'Aprovado (a)'"
            ],
            "application/vnd.google.colaboratory.intrinsic+json": {
              "type": "string"
            }
          },
          "metadata": {},
          "execution_count": 52
        }
      ]
    },
    {
      "cell_type": "code",
      "source": [
        "print(f'O(a) estudante atingiu uma média de {media} e foi {situacao}.')"
      ],
      "metadata": {
        "id": "ecFviUvOCgXF",
        "colab": {
          "base_uri": "https://localhost:8080/"
        },
        "outputId": "694580e5-482b-4169-8844-1e150ef285ca"
      },
      "execution_count": 54,
      "outputs": [
        {
          "output_type": "stream",
          "name": "stdout",
          "text": [
            "O(a) estudante atingiu uma média de 6.75 e foi Aprovado (a).\n"
          ]
        }
      ]
    },
    {
      "cell_type": "markdown",
      "source": [
        "### 2.4 Funções lambda\n",
        "\n",
        "Também chamadas de funções anônimas, são funções que não precisam ser definidas, ou seja não possuem um nome, e descrevem em uma única linha os comandos que desejamos aplicar. \n",
        "\n",
        "https://docs.python.org/pt-br/3/reference/expressions.html?#lambda\n",
        "\n",
        "##### Formato padrão:\n",
        "\n",
        "```python\n",
        "lambda <variavel>: <expressao>\n",
        "```"
      ],
      "metadata": {
        "id": "hwYYRpkZMft5"
      }
    },
    {
      "cell_type": "markdown",
      "source": [
        "#### **Situação 4:**\n",
        "\n",
        "Nesta nova demanda, precisamos criar uma calculadora simples da média ponderada de notas de uma dada matéria. Vamos requisitar ao usuário a entrada das 3 notas (N1, N2, N3) do estudante e devolver a média ponderada deste estudante. Os pesos das notas são de, respectivamente 3, 2, 5.\n",
        "\n",
        "Precisamos exibir um pequeno texto em que indicamos a média do(a) estudante.\n",
        "\n",
        "**Vamos resolver esse desafio?**"
      ],
      "metadata": {
        "id": "AuRWyNXYgD_b"
      }
    },
    {
      "cell_type": "code",
      "source": [
        "# Comparando uma função de qualitativo no formato de função para função anônima \n",
        "nota = float(input(\"Digite a nota do(a) estudante: \"))\n",
        "\n",
        "def qualitativo(x):\n",
        "    return x + 0.5\n",
        "\n",
        "qualitativo(nota)"
      ],
      "metadata": {
        "id": "4EjJD3w3lbzJ",
        "colab": {
          "base_uri": "https://localhost:8080/"
        },
        "outputId": "bf43301b-e6f7-4c5e-8907-6a0324af7d1c"
      },
      "execution_count": 55,
      "outputs": [
        {
          "name": "stdout",
          "output_type": "stream",
          "text": [
            "Digite a nota do(a) estudante: 10\n"
          ]
        },
        {
          "output_type": "execute_result",
          "data": {
            "text/plain": [
              "10.5"
            ]
          },
          "metadata": {},
          "execution_count": 55
        }
      ]
    },
    {
      "cell_type": "code",
      "source": [
        "# Testando a mesma função para uma função lambda\n",
        "nota = float(input(\"Digite a nota do(a) estudante: \"))\n",
        "\n",
        "qualitativo = lambda x: x + 0.5\n",
        "\n",
        "qualitativo(nota)"
      ],
      "metadata": {
        "id": "vZjaUmaJFp3D",
        "colab": {
          "base_uri": "https://localhost:8080/"
        },
        "outputId": "b4463961-7019-4779-eff3-b017fa8b5492"
      },
      "execution_count": 56,
      "outputs": [
        {
          "name": "stdout",
          "output_type": "stream",
          "text": [
            "Digite a nota do(a) estudante: 10\n"
          ]
        },
        {
          "output_type": "execute_result",
          "data": {
            "text/plain": [
              "10.5"
            ]
          },
          "metadata": {},
          "execution_count": 56
        }
      ]
    },
    {
      "cell_type": "markdown",
      "source": [
        "**Partindo para nosso problema:**"
      ],
      "metadata": {
        "id": "vdKk3DRBmtUE"
      }
    },
    {
      "cell_type": "code",
      "source": [
        "# Recebendo as notas e calculando a média ponderável\n",
        "N1 = float(input(\"Digite a 1ª nota do(a) estudante: \"))\n",
        "N2 = float(input(\"Digite a 2ª nota do(a) estudante: \"))\n",
        "N3 = float(input(\"Digite a 3ª nota do(a) estudante: \"))\n",
        "\n",
        "media_ponderavel = lambda x, y, z: (x * 3 + y * 2 + z * 5)/10\n",
        "media_estudante = media_ponderavel(N1, N2, N3)\n",
        "media_estudante"
      ],
      "metadata": {
        "colab": {
          "base_uri": "https://localhost:8080/"
        },
        "id": "azStYQgKnsZn",
        "outputId": "da38d46d-b338-418a-9bcb-c059891b901b"
      },
      "execution_count": 60,
      "outputs": [
        {
          "name": "stdout",
          "output_type": "stream",
          "text": [
            "Digite a 1ª nota do(a) estudante: 8\n",
            "Digite a 2ª nota do(a) estudante: 5\n",
            "Digite a 3ª nota do(a) estudante: 9\n"
          ]
        },
        {
          "output_type": "execute_result",
          "data": {
            "text/plain": [
              "7.9"
            ]
          },
          "metadata": {},
          "execution_count": 60
        }
      ]
    },
    {
      "cell_type": "code",
      "source": [
        "# Exibindo a média\n",
        "print(f'O(a) estudante atingiu uma média de {media_estudante}')"
      ],
      "metadata": {
        "id": "Ek1s_FkjkQrW",
        "colab": {
          "base_uri": "https://localhost:8080/"
        },
        "outputId": "3b672148-d899-4cb2-82fa-a6b1c516d579"
      },
      "execution_count": 61,
      "outputs": [
        {
          "output_type": "stream",
          "name": "stdout",
          "text": [
            "O(a) estudante atingiu uma média de 7.9\n"
          ]
        }
      ]
    },
    {
      "cell_type": "markdown",
      "source": [
        "#### Mapeando valores\n",
        "\n",
        "##### Formato padrão:\n",
        "\n",
        "```python\n",
        "map(<lambda function>, <iterador>)\n",
        "```"
      ],
      "metadata": {
        "id": "SOK4BC4mmKbG"
      }
    },
    {
      "cell_type": "markdown",
      "source": [
        "#### **Situação 5:**\n",
        "\n",
        "Recebemos mais uma demanda, desta vez, para criar uma pequena função que pudesse adicionar qualitativo (pontuação extra) às notas do trimestre dos estudantes da turma que ganhou a gincana de programação promovida pela escola. Cada estudante receberá o qualitativo de 0.5 acrescido à média.\n",
        "\n",
        "Os dados recebidos correspondem a uma lista contendo as notas de alguns estudantes e uma variável com o qualitativo recebido.\n",
        "\n",
        "**Vamos resolver esse desafio?**\n",
        "\n",
        "Para facilitar o nosso entendimento do processo vamos aplicar o qualitativo às notas de 5 estudantes, mas você pode testar outros casos para treinar."
      ],
      "metadata": {
        "id": "1qk0gLdfFcbf"
      }
    },
    {
      "cell_type": "code",
      "source": [
        "# Notas do(a) estudante\n",
        "notas = [6.0, 7.0, 9.0, 5.5, 8.0]\n",
        "qualitativo = 0.5"
      ],
      "metadata": {
        "id": "RdoaWhuVI_OB"
      },
      "execution_count": 62,
      "outputs": []
    },
    {
      "cell_type": "code",
      "source": [
        "# notas_atualizadas = lambda x: x + qualitativo\n",
        "# notas_atualizadas(notas)"
      ],
      "metadata": {
        "id": "nC6zW89lHI4K"
      },
      "execution_count": 70,
      "outputs": []
    },
    {
      "cell_type": "code",
      "source": [
        "# Não conseguimos aplicar o lambda em listas direto, é necessário \n",
        "# utilizarmos junto a ela a função map\n",
        "notas_atualizadas = map(lambda x: x + qualitativo, notas)\n",
        "notas_atualizadas"
      ],
      "metadata": {
        "id": "iM2jXtC8m1zc",
        "colab": {
          "base_uri": "https://localhost:8080/"
        },
        "outputId": "d1304117-8de0-4182-bec2-18c5f89ab902"
      },
      "execution_count": 67,
      "outputs": [
        {
          "output_type": "execute_result",
          "data": {
            "text/plain": [
              "<map at 0x7f4930b1ba30>"
            ]
          },
          "metadata": {},
          "execution_count": 67
        }
      ]
    },
    {
      "cell_type": "code",
      "source": [
        "notas_atualizadas = list(notas_atualizadas)\n",
        "notas_atualizadas"
      ],
      "metadata": {
        "id": "dAq9-TNTm1wf",
        "colab": {
          "base_uri": "https://localhost:8080/"
        },
        "outputId": "2c133b73-bcc8-4848-d0dc-29b5154ddd67"
      },
      "execution_count": 69,
      "outputs": [
        {
          "output_type": "execute_result",
          "data": {
            "text/plain": [
              "[6.5, 7.5, 9.5, 6.0, 8.5]"
            ]
          },
          "metadata": {},
          "execution_count": 69
        }
      ]
    },
    {
      "cell_type": "code",
      "source": [
        "notas"
      ],
      "metadata": {
        "colab": {
          "base_uri": "https://localhost:8080/"
        },
        "id": "iqTRSqqv0L_Z",
        "outputId": "ff35be21-2f90-460c-c2d0-72e13d45faae"
      },
      "execution_count": 71,
      "outputs": [
        {
          "output_type": "execute_result",
          "data": {
            "text/plain": [
              "[6.0, 7.0, 9.0, 5.5, 8.0]"
            ]
          },
          "metadata": {},
          "execution_count": 71
        }
      ]
    },
    {
      "cell_type": "markdown",
      "source": [
        "## <font color=green> 3. ESTRUTURA DE DADOS COMPOSTAS\n",
        "---"
      ],
      "metadata": {
        "id": "DoB6wf2JCYf7"
      }
    },
    {
      "cell_type": "markdown",
      "source": [
        "### 3.1 Estruturas aninhadas\n",
        "\n",
        "Aprendemos anteriormente a manipular listas, tuplas e dicionários para trabalhar com uma sequência ou coleção de valores sejam numéricos, categóricos, etc. Nessa aula, vamos aprofundar em outra situação comum para a pessoa cientista de dados que é trabalhar com esses tipos de estruturas aninhadas, ou seja, quando possuímos por exemplo listas dentro de uma lista. "
      ],
      "metadata": {
        "id": "3or6MbnZDW_b"
      }
    },
    {
      "cell_type": "markdown",
      "source": [
        "#### Lista de listas\n",
        "\n",
        "##### Formato padrão:\n",
        "\n",
        "```python\n",
        "[[a1, a2,...,an], [b1, b2,...,bn], ..., [n1, n2,...,nn]]\n",
        "```"
      ],
      "metadata": {
        "id": "fddus1G9HqB3"
      }
    },
    {
      "cell_type": "markdown",
      "source": [
        "##### **Situação 6:**\n",
        "\n",
        "Recebemos a demanda de transformar uma lista com o nome e as notas dos três trimestres de estudantes em uma lista simples com os nomes separados das notas e uma lista de listas com as três notas de cada estudante separadas umas das outras. Os dados recebidos correspondem a uma lista com os nomes e as respectivas notas de cada estudante. \n",
        "\n",
        "**Vamos resolver esse desafio?**\n",
        "\n",
        "Para facilitar o nosso entendimento do processo vamos trabalhar com uma turma fictícia de 5 estudantes.\n"
      ],
      "metadata": {
        "id": "32K5LA11tFpz"
      }
    },
    {
      "cell_type": "code",
      "source": [
        "notas_turma = ['João', 8.0, 9.0, 10.0, 'Maria', 9.0, 7.0, 6.0, 'José', 3.4, 7.0, 7.0, 'Cláudia', 5.5, 6.6, 8.0, 'Ana', 6.0, 10.0, 9.5]"
      ],
      "metadata": {
        "id": "jlEP-c2YthpB"
      },
      "execution_count": 72,
      "outputs": []
    },
    {
      "cell_type": "code",
      "source": [
        "nomes = []\n",
        "notas_juntas = []\n",
        "\n",
        "for i in range(len(notas_turma)): \n",
        "    if i % 4 ==0: \n",
        "        nomes.append(notas_turma[i])\n",
        "    else: \n",
        "        notas_juntas.append(notas_turma[i])\n"
      ],
      "metadata": {
        "id": "xP1H4Kw6uJTe"
      },
      "execution_count": 76,
      "outputs": []
    },
    {
      "cell_type": "code",
      "source": [
        "nomes\n"
      ],
      "metadata": {
        "id": "pelnQlo-v4l3",
        "colab": {
          "base_uri": "https://localhost:8080/"
        },
        "outputId": "b8921a4f-ffd7-4253-eea5-181fb2e37d16"
      },
      "execution_count": 77,
      "outputs": [
        {
          "output_type": "execute_result",
          "data": {
            "text/plain": [
              "['João', 'Maria', 'José', 'Cláudia', 'Ana']"
            ]
          },
          "metadata": {},
          "execution_count": 77
        }
      ]
    },
    {
      "cell_type": "code",
      "source": [
        "notas_juntas\n"
      ],
      "metadata": {
        "id": "61NkIzLvxXFa",
        "colab": {
          "base_uri": "https://localhost:8080/"
        },
        "outputId": "400307c3-0f06-4dca-b4cd-094c9ebdd18e"
      },
      "execution_count": 78,
      "outputs": [
        {
          "output_type": "execute_result",
          "data": {
            "text/plain": [
              "[8.0, 9.0, 10.0, 9.0, 7.0, 6.0, 3.4, 7.0, 7.0, 5.5, 6.6, 8.0, 6.0, 10.0, 9.5]"
            ]
          },
          "metadata": {},
          "execution_count": 78
        }
      ]
    },
    {
      "cell_type": "code",
      "source": [
        "notas = []\n",
        "\n",
        "for i in range(0, len(notas_juntas), 3): \n",
        "  notas.append([notas_juntas[i], notas_juntas[i+1], notas_juntas[i+2]])\n",
        "notas\n"
      ],
      "metadata": {
        "id": "eL-y49GmPpjN",
        "colab": {
          "base_uri": "https://localhost:8080/"
        },
        "outputId": "a9c1725b-6fcf-497e-dbf8-0fb67bfff17b"
      },
      "execution_count": 79,
      "outputs": [
        {
          "output_type": "execute_result",
          "data": {
            "text/plain": [
              "[[8.0, 9.0, 10.0],\n",
              " [9.0, 7.0, 6.0],\n",
              " [3.4, 7.0, 7.0],\n",
              " [5.5, 6.6, 8.0],\n",
              " [6.0, 10.0, 9.5]]"
            ]
          },
          "metadata": {},
          "execution_count": 79
        }
      ]
    },
    {
      "cell_type": "code",
      "source": [
        "notas[0]\n"
      ],
      "metadata": {
        "id": "awqddIuGFf-k",
        "colab": {
          "base_uri": "https://localhost:8080/"
        },
        "outputId": "d7e1a64b-7a53-408c-bb80-8c06ff3a62c6"
      },
      "execution_count": 81,
      "outputs": [
        {
          "output_type": "execute_result",
          "data": {
            "text/plain": [
              "[8.0, 9.0, 10.0]"
            ]
          },
          "metadata": {},
          "execution_count": 81
        }
      ]
    },
    {
      "cell_type": "code",
      "source": [
        "notas[0][2]\n"
      ],
      "metadata": {
        "id": "PlDKPeCLDXU7",
        "colab": {
          "base_uri": "https://localhost:8080/"
        },
        "outputId": "206a3dcb-cef4-4da0-dea6-cc8f08267894"
      },
      "execution_count": 80,
      "outputs": [
        {
          "output_type": "execute_result",
          "data": {
            "text/plain": [
              "10.0"
            ]
          },
          "metadata": {},
          "execution_count": 80
        }
      ]
    },
    {
      "cell_type": "markdown",
      "source": [
        "#### Lista de tuplas\n",
        "\n",
        "##### Formato padrão:\n",
        "\n",
        "```python\n",
        "[(a1, a2,...,an), (b1, b2,...,bn), ..., (n1, n2,...,nn)]\n",
        "```"
      ],
      "metadata": {
        "id": "SW0sVg68sK_z"
      }
    },
    {
      "cell_type": "markdown",
      "source": [
        "##### **Situação 7:**\n",
        "\n",
        "Nesta nova demanda, precisamos gerar uma lista de tuplas com os nomes dos estudantes e o código ID de cada um para a plataforma de análise dos dados. A criação do código consiste em concatenar a primeira letra do nome do estudante a um número aleatório de 0 a 999. Os dados recebidos correspondem a uma lista dos nomes de cada estudante. \n",
        "\n",
        "**Vamos resolver esse desafio?**\n",
        "\n",
        "Para facilitar o nosso entendimento do processo vamos trabalhar com uma turma fictícia de 5 estudantes.\n"
      ],
      "metadata": {
        "id": "OId6jAZz5x2m"
      }
    },
    {
      "cell_type": "code",
      "source": [
        "estudantes = [\"João\", \"Maria\", \"José\", \"Cláudia\", \"Ana\"]\n",
        "estudantes"
      ],
      "metadata": {
        "id": "aRB0zQ2_6aa9",
        "colab": {
          "base_uri": "https://localhost:8080/"
        },
        "outputId": "1ed99a1f-0a04-431f-dd59-390c8225b54d"
      },
      "execution_count": 86,
      "outputs": [
        {
          "output_type": "execute_result",
          "data": {
            "text/plain": [
              "['João', 'Maria', 'José', 'Cláudia', 'Ana']"
            ]
          },
          "metadata": {},
          "execution_count": 86
        }
      ]
    },
    {
      "cell_type": "code",
      "source": [
        "from random import randint\n",
        "\n",
        "def gera_codigo():\n",
        "  return str(randint(0,999))"
      ],
      "metadata": {
        "id": "wFHkckyg6aa-"
      },
      "execution_count": 87,
      "outputs": []
    },
    {
      "cell_type": "code",
      "source": [
        "codigo_estudantes = []\n",
        "\n",
        "for i in range(len(estudantes)): \n",
        "    codigo_estudantes.append((estudantes[i], estudantes[i][0] + gera_codigo()))\n",
        "\n",
        "codigo_estudantes\n"
      ],
      "metadata": {
        "id": "tZItNHeo6aa-",
        "colab": {
          "base_uri": "https://localhost:8080/"
        },
        "outputId": "708cdb70-e99e-438e-df31-c9f472e662ea"
      },
      "execution_count": 89,
      "outputs": [
        {
          "output_type": "execute_result",
          "data": {
            "text/plain": [
              "[('João', 'J501'),\n",
              " ('Maria', 'M119'),\n",
              " ('José', 'J26'),\n",
              " ('Cláudia', 'C183'),\n",
              " ('Ana', 'A662')]"
            ]
          },
          "metadata": {},
          "execution_count": 89
        }
      ]
    },
    {
      "cell_type": "markdown",
      "source": [
        "### 3.2 List comprehension\n",
        "\n",
        "É uma forma simples e concisa de criar uma lista. Podemos aplicar condicionais e laços para criar diversos tipos de listas a partir de padrões que desejamos para a nossa estrutura de dados.\n",
        "\n",
        "https://docs.python.org/pt-br/3/tutorial/datastructures.html?#list-comprehensions\n",
        "\n",
        "##### Formato padrão:\n",
        "\n",
        "```python\n",
        "[exressão for item in lista]\n",
        "```"
      ],
      "metadata": {
        "id": "srHAov19QCdb"
      }
    },
    {
      "cell_type": "markdown",
      "source": [
        "##### **Situação 8:**\n",
        "\n",
        "Recebemos a demanda de criar uma lista com as médias dos estudantes da lista de listas que criamos na Situação 6. Lembrando que cada lista da lista de listas possui as três notas de cada estudante.\n",
        "\n",
        "**Vamos resolver esse desafio?**\n",
        "\n",
        "**Dica:** Utilize o formato:\n",
        "```python\n",
        "[exressão for item in lista]\n",
        "```"
      ],
      "metadata": {
        "id": "l4HW0gDqecgM"
      }
    },
    {
      "cell_type": "code",
      "source": [
        "notas = [[8.0, 9.0, 10.0], [9.0, 7.0, 6.0], [3.4, 7.0, 7.0], [5.5, 6.6, 8.0], [6.0, 10.0, 9.5]]"
      ],
      "metadata": {
        "id": "RR5D3LvYAOUd"
      },
      "execution_count": 90,
      "outputs": []
    },
    {
      "cell_type": "code",
      "source": [
        "def media(lista: list=[0]) -> float:\n",
        "  ''' Função para calcular a média de notas passadas por uma lista\n",
        "\n",
        "  lista: list, default [0]\n",
        "    Lista com as notas para calcular a média\n",
        "  return = calculo: float\n",
        "    Média calculada\n",
        "  '''\n",
        "  \n",
        "  calculo = sum(lista) / len(lista)\n",
        "\n",
        "  return calculo"
      ],
      "metadata": {
        "id": "J_atQRQdlpNe"
      },
      "execution_count": 91,
      "outputs": []
    },
    {
      "cell_type": "code",
      "source": [
        "medias = [round(media(nota), 1) for nota in notas]\n",
        "medias\n"
      ],
      "metadata": {
        "id": "G5CQqPkzQWT0",
        "colab": {
          "base_uri": "https://localhost:8080/"
        },
        "outputId": "a7cefd96-6580-49eb-bdba-66ad7db9de0d"
      },
      "execution_count": 93,
      "outputs": [
        {
          "output_type": "execute_result",
          "data": {
            "text/plain": [
              "[9.0, 7.3, 5.8, 6.7, 8.5]"
            ]
          },
          "metadata": {},
          "execution_count": 93
        }
      ]
    },
    {
      "cell_type": "markdown",
      "source": [
        "#### **Situação 9:**\n",
        "\n",
        "Agora, precisamos utilizar as médias calculadas no exemplo anterior, pareando com o nome dos estudantes. Isto será necessário para gerar uma lista que selecione aqueles estudantes que possuam uma média final maior ou igual a 8 para concorrer a uma bolsa para o próximo ano letivo. Os dados recebidos correspondem a uma lista de tuplas com os nomes e códigos dos estudantes e a lista de médias calculadas logo acima.\n",
        "\n",
        "**Vamos resolver esse desafio?** \n",
        "\n",
        "Para facilitar o nosso entendimento do processo vamos trabalhar com uma turma fictícia de 5 estudantes.\n",
        "\n",
        "**Dica:** Utilize o formato:\n",
        "```python\n",
        "[expr for item in lista if cond]\n",
        "```\n"
      ],
      "metadata": {
        "id": "ApLjXlAdhJKd"
      }
    },
    {
      "cell_type": "code",
      "source": [
        "nomes = [('João', 'J720'), ('Maria', 'M205'), ('José', 'J371'), ('Cláudia', 'C546'), ('Ana', 'A347')]\n",
        "medias = [9.0, 7.3, 5.8, 6.7, 8.5]"
      ],
      "metadata": {
        "id": "WhXegkP5DDMW"
      },
      "execution_count": 94,
      "outputs": []
    },
    {
      "cell_type": "code",
      "source": [
        "# Gerando a lista de nomes (extraindo da tupla)\n",
        "lista_nomes = [nome[0] for nome in nomes]\n",
        "lista_nomes\n"
      ],
      "metadata": {
        "id": "Lvfr10SIDSDN",
        "colab": {
          "base_uri": "https://localhost:8080/"
        },
        "outputId": "9c2e0d49-944d-42be-d9cf-e211eb9c2012"
      },
      "execution_count": 103,
      "outputs": [
        {
          "output_type": "execute_result",
          "data": {
            "text/plain": [
              "['João', 'Maria', 'José', 'Cláudia', 'Ana']"
            ]
          },
          "metadata": {},
          "execution_count": 103
        }
      ]
    },
    {
      "cell_type": "markdown",
      "source": [
        "<font color=green>**Dica:**</font> Para conseguirmos parear as médias e nomes facilmente, podemos recorrer a mais uma built-in function: `zip()`\n",
        "\n",
        "Ela recebe um ou mais iteráveis (lista, string, dict, etc.) e retorna-os como um iterador de tuplas onde cada elemento dos iteráveis são pareados."
      ],
      "metadata": {
        "id": "U6KAABs7Dfpe"
      }
    },
    {
      "cell_type": "code",
      "source": [
        "estudantes = list(zip(lista_nomes, medias))\n",
        "estudantes"
      ],
      "metadata": {
        "id": "TRqn0wMUg3s7",
        "colab": {
          "base_uri": "https://localhost:8080/"
        },
        "outputId": "d9b4f17c-ae11-4004-a2af-f22160e87b4a"
      },
      "execution_count": 104,
      "outputs": [
        {
          "output_type": "execute_result",
          "data": {
            "text/plain": [
              "[('João', 9.0), ('Maria', 7.3), ('José', 5.8), ('Cláudia', 6.7), ('Ana', 8.5)]"
            ]
          },
          "metadata": {},
          "execution_count": 104
        }
      ]
    },
    {
      "cell_type": "code",
      "source": [
        "# Gerando a lista de pessoas candidatas a bolsa\n",
        "candidatos = [estudante[0] for estudante in estudantes if estudante[1] >= 8]\n",
        "candidatos\n",
        "\n"
      ],
      "metadata": {
        "id": "T1ocZ1G0g3qC",
        "colab": {
          "base_uri": "https://localhost:8080/"
        },
        "outputId": "e29f7220-92e7-445d-f7d2-8e337488a0f5"
      },
      "execution_count": 105,
      "outputs": [
        {
          "output_type": "execute_result",
          "data": {
            "text/plain": [
              "['João', 'Ana']"
            ]
          },
          "metadata": {},
          "execution_count": 105
        }
      ]
    },
    {
      "cell_type": "markdown",
      "source": [
        "#### **Situação 10:**\n",
        "\n",
        "Recebemos duas demandas a respeito desse projeto com as notas dos estudantes:\n",
        "- Criar uma lista da situação dos estudantes em que caso se sua média seja maior ou igual a 6 receberá o valor \"Aprovado\" e caso contrário receberá o valor \"Reprovado\". \n",
        "- Gerar uma lista de listas com:\n",
        "  - Lista de tuplas com o nome dos estudantes e seus códigos\n",
        "  - Lista de listas com as notas de cada estudante\n",
        "  - Lista com as médias de cada estudante\n",
        "  - Lista da situação dos estudantes de acordo com as médias\n",
        "\n",
        "Os dados que utilizaremos são os mesmos que geramos nas situações anteriores (`nomes`, `notas`, `medias`).\n",
        "\n",
        "**Vamos resolver esse desafio?**\n",
        "\n",
        "Para seguirmos o processo, vou deixar logo abaixo as estruturas de dados que já produzimos.\n",
        "\n",
        "**Dica:** Para a lista das situações utilize o formato:\n",
        "```python\n",
        "[resultado_if if cond else resultado_else for item in lista]\n",
        "```"
      ],
      "metadata": {
        "id": "9yzRDIB0fkeF"
      }
    },
    {
      "cell_type": "code",
      "source": [
        "nomes = [('João', 'J720'), ('Maria', 'M205'), ('José', 'J371'), ('Cláudia', 'C546'), ('Ana', 'A347')]\n",
        "notas = [[8.0, 9.0, 10.0], [9.0, 7.0, 6.0], [3.4, 7.0, 7.0], [5.5, 6.6, 8.0], [6.0, 10.0, 9.5]]\n",
        "medias = [9.0, 7.3, 5.8, 6.7, 8.5]"
      ],
      "metadata": {
        "id": "-QlKML-tG6FN"
      },
      "execution_count": 106,
      "outputs": []
    },
    {
      "cell_type": "code",
      "source": [
        "situacao = [\"Aprovado\" if media >= 6 else \"Reprovado\" for media in medias]\n",
        "situacao\n"
      ],
      "metadata": {
        "id": "qYgaZthjQWQV",
        "colab": {
          "base_uri": "https://localhost:8080/"
        },
        "outputId": "68265f63-6886-4307-847b-68c683b40e6d"
      },
      "execution_count": 108,
      "outputs": [
        {
          "output_type": "execute_result",
          "data": {
            "text/plain": [
              "['Aprovado', 'Aprovado', 'Reprovado', 'Aprovado', 'Aprovado']"
            ]
          },
          "metadata": {},
          "execution_count": 108
        }
      ]
    },
    {
      "cell_type": "markdown",
      "source": [
        "**Dica:** Para gerar a lista de listas do enunciado podemos utilizar o formato a seguir\n",
        "```python\n",
        "[expr for item in lista de listas]\n",
        "```"
      ],
      "metadata": {
        "id": "0XsAi49IF9Ta"
      }
    },
    {
      "cell_type": "code",
      "source": [
        "cadastro = [x for x in [nomes, notas, medias, situacao]]\n",
        "cadastro\n"
      ],
      "metadata": {
        "id": "G-AEgh4NGlvH",
        "colab": {
          "base_uri": "https://localhost:8080/"
        },
        "outputId": "c5b30bba-140f-47ab-948f-ee4ba6d9775c"
      },
      "execution_count": 111,
      "outputs": [
        {
          "output_type": "execute_result",
          "data": {
            "text/plain": [
              "[[('João', 'J720'),\n",
              "  ('Maria', 'M205'),\n",
              "  ('José', 'J371'),\n",
              "  ('Cláudia', 'C546'),\n",
              "  ('Ana', 'A347')],\n",
              " [[8.0, 9.0, 10.0],\n",
              "  [9.0, 7.0, 6.0],\n",
              "  [3.4, 7.0, 7.0],\n",
              "  [5.5, 6.6, 8.0],\n",
              "  [6.0, 10.0, 9.5]],\n",
              " [9.0, 7.3, 5.8, 6.7, 8.5],\n",
              " ['Aprovado', 'Aprovado', 'Reprovado', 'Aprovado', 'Aprovado']]"
            ]
          },
          "metadata": {},
          "execution_count": 111
        }
      ]
    },
    {
      "cell_type": "markdown",
      "source": [
        "<font color=green>**Dica:**</font> Podemos recorrer a forma mais simples de geração de listas de lista com o uso direto dos colchetes sem necessitar de utilizar as expressões e o laço for na  abrangência de listas"
      ],
      "metadata": {
        "id": "4hkHEZGbGH7X"
      }
    },
    {
      "cell_type": "code",
      "source": [
        "lista_completa = [nomes, notas, medias, situacao]\n",
        "lista_completa\n"
      ],
      "metadata": {
        "id": "Oz2hU80RF82D",
        "colab": {
          "base_uri": "https://localhost:8080/"
        },
        "outputId": "d608815c-d752-4f91-a6e8-d517652135f6"
      },
      "execution_count": 112,
      "outputs": [
        {
          "output_type": "execute_result",
          "data": {
            "text/plain": [
              "[[('João', 'J720'),\n",
              "  ('Maria', 'M205'),\n",
              "  ('José', 'J371'),\n",
              "  ('Cláudia', 'C546'),\n",
              "  ('Ana', 'A347')],\n",
              " [[8.0, 9.0, 10.0],\n",
              "  [9.0, 7.0, 6.0],\n",
              "  [3.4, 7.0, 7.0],\n",
              "  [5.5, 6.6, 8.0],\n",
              "  [6.0, 10.0, 9.5]],\n",
              " [9.0, 7.3, 5.8, 6.7, 8.5],\n",
              " ['Aprovado', 'Aprovado', 'Reprovado', 'Aprovado', 'Aprovado']]"
            ]
          },
          "metadata": {},
          "execution_count": 112
        }
      ]
    },
    {
      "cell_type": "markdown",
      "source": [
        "### 3.3 Dict comprehension\n",
        "\n",
        "É uma forma simples e concisa de criar ou modificar um dicionário. Podemos aplicar condicionais e laços para criar diversos tipos de dicionários a partir de padrões que desejamos para a nossa estrutura de dados e com o suporte de iteráveis como listas ou sets.\n",
        "\n",
        "https://peps.python.org/pep-0274/\n",
        "\n",
        "##### Formato padrão:\n",
        "\n",
        "```python\n",
        "{chave: valor for item in lista}\n",
        "```"
      ],
      "metadata": {
        "id": "NmohhDl-QRpx"
      }
    },
    {
      "cell_type": "markdown",
      "source": [
        "#### **Situação 11:**\n",
        "\n",
        "Agora, a nossa demanda consiste em gerar um dicionário a partir da lista de listas que criamos na Situação 10 para passar para a pessoa responsável por construir as tabelas para a análise dos dados. \n",
        "- As chaves do nosso dicionário serão as colunas identificando o tipo de dado\n",
        "- Os valores serão as listas com os dados correspondentes àquela chave.\n",
        "\n",
        "**Vamos resolver esse desafio?**\n",
        "\n",
        "Para facilitar o nosso entendimento do processo vamos trabalhar com uma turma fictícia de 5 estudantes.\n",
        "\n",
        "**Dica:** Utilize o formato\n",
        "\n",
        "```python\n",
        "{chave: valor for item in lista}\n",
        "```"
      ],
      "metadata": {
        "id": "kGt8hQXOKeIt"
      }
    },
    {
      "cell_type": "code",
      "source": [
        "lista_completa = [[('João', 'J720'), ('Maria', 'M205'), ('José', 'J371'), ('Cláudia', 'C546'), ('Ana', 'A347')],\n",
        "                  [[8.0, 9.0, 10.0], [9.0, 7.0, 6.0], [3.4, 7.0, 7.0], [5.5, 6.6, 8.0], [6.0, 10.0, 9.5]],\n",
        "                  [9.0, 7.3, 5.8, 6.7, 8.5],\n",
        "                  ['Aprovado', 'Aprovado', 'Reprovado', 'Aprovado', 'Aprovado']]"
      ],
      "metadata": {
        "id": "fD_TeWtOUQKQ"
      },
      "execution_count": 113,
      "outputs": []
    },
    {
      "cell_type": "code",
      "source": [
        "# Colunas com os tipos dos dados (exceto nome)\n",
        "coluna = [\"Notas\", \"Media Final\", \"Situação\"]\n",
        "\n",
        "cadastro  = {coluna[i]: lista_completa[i+1] for i in range(len(coluna))}\n",
        "cadastro\n"
      ],
      "metadata": {
        "id": "xFkmjd4EKG7b",
        "colab": {
          "base_uri": "https://localhost:8080/"
        },
        "outputId": "6aa0d80b-1602-4f4f-9921-37ae34810acf"
      },
      "execution_count": 114,
      "outputs": [
        {
          "output_type": "execute_result",
          "data": {
            "text/plain": [
              "{'Notas': [[8.0, 9.0, 10.0],\n",
              "  [9.0, 7.0, 6.0],\n",
              "  [3.4, 7.0, 7.0],\n",
              "  [5.5, 6.6, 8.0],\n",
              "  [6.0, 10.0, 9.5]],\n",
              " 'Media Final': [9.0, 7.3, 5.8, 6.7, 8.5],\n",
              " 'Situação': ['Aprovado', 'Aprovado', 'Reprovado', 'Aprovado', 'Aprovado']}"
            ]
          },
          "metadata": {},
          "execution_count": 114
        }
      ]
    },
    {
      "cell_type": "code",
      "source": [
        "# Vamos por fim adicionar o nome dos estudantes, extraindo apenas seus nomes da lista de tuplas\n",
        "cadastro[\"Estudante\"] = [lista_completa[0][i][0] for i in range(len(lista_completa[0]))]\n",
        "cadastro"
      ],
      "metadata": {
        "id": "yDPfgllCKVrt",
        "colab": {
          "base_uri": "https://localhost:8080/"
        },
        "outputId": "d21afd97-bf78-41e3-ff20-b904a4eecdd5"
      },
      "execution_count": 116,
      "outputs": [
        {
          "output_type": "execute_result",
          "data": {
            "text/plain": [
              "{'Notas': [[8.0, 9.0, 10.0],\n",
              "  [9.0, 7.0, 6.0],\n",
              "  [3.4, 7.0, 7.0],\n",
              "  [5.5, 6.6, 8.0],\n",
              "  [6.0, 10.0, 9.5]],\n",
              " 'Media Final': [9.0, 7.3, 5.8, 6.7, 8.5],\n",
              " 'Situação': ['Aprovado', 'Aprovado', 'Reprovado', 'Aprovado', 'Aprovado'],\n",
              " 'Estudante': ['João', 'Maria', 'José', 'Cláudia', 'Ana']}"
            ]
          },
          "metadata": {},
          "execution_count": 116
        }
      ]
    },
    {
      "cell_type": "markdown",
      "source": [
        "## <font color=green> 4. LIDANDO COM EXCEÇÕES\n",
        "---"
      ],
      "metadata": {
        "id": "RxKC5WVoCYp3"
      }
    },
    {
      "cell_type": "markdown",
      "source": [
        "Podemos notar em nosso caminho até aqui a existência de alguns erros e exceções na execução de algum comando. Como uma pessoa cientista de dados ou programador, você precisará estar atento a essas situações para evitar bugs ou problemas em seus códigos e análises que possam afetar a experiência tanto do usuário quanto a eficiência da sua análise.\n",
        "\n",
        "Existem basicamente duas formas distintas de erros: os **erros de sintaxe** e as **exceções**.\n",
        "\n",
        "Exceções são erros detectados durante a execução e que quebram o fluxo do programa encerrando-o caso não sejam tratadas.  \n",
        "\n",
        "Vamos aprender a identificar e tratar algumas das exceções aqui, mas é sempre importante mergulhar na documentação para pesquisar e verificar quais se enquadram nos seus projetos.\n",
        "\n",
        "**Documentação sobre erros e exceções:** https://docs.python.org/3/tutorial/errors.html"
      ],
      "metadata": {
        "id": "MzOZ_0M3CU1x"
      }
    },
    {
      "cell_type": "markdown",
      "source": [
        "### 4.1 Tratando Exceções\n",
        "\n",
        "O tratamento das exceções contribui estabelecendo um fluxo alternativo para a execução do código evitando a interrupção dos processos inesperadamente.\n",
        "\n",
        "Existe uma série de exceções e a partir do comportamento que queremos e dos erros que queremos tratar é possível construir um caminho para o usuário ou fornecer mais detalhes sobre aquela exceção.\n",
        "\n",
        "- Hierarquia das Exceções (https://docs.python.org/3/library/exceptions.html#exception-hierarchy)"
      ],
      "metadata": {
        "id": "x3E66krBST7K"
      }
    },
    {
      "cell_type": "markdown",
      "source": [
        "#### Try ... Except\n",
        "\n",
        "```python\n",
        "try:\n",
        "  # código a ser executado. Caso uma exceção seja lançada, pare imediatamente\n",
        "except <nome_da_excecao as e>:\n",
        "  # Se uma exceção for lançada no try, rode esse código, senão pule esta etapa\n",
        "```"
      ],
      "metadata": {
        "id": "h9lj8Wfk__cl"
      }
    },
    {
      "cell_type": "markdown",
      "source": [
        "#### **Situação 12:**\n",
        "\n",
        "Você criou um código que lê um dicionário com as notas dos estudantes e quis retornar a lista de notas de um estudante.\n",
        "\n",
        "Caso o(a) estudante não esteja matriculado(a) na turma devemos tratar a exceção para aparecer a mensagem \"Estudante não matriculado(a) na turma\". \n",
        "\n",
        "Vamos trabalhar nesse exemplo com a exceção **Key Error** que interromperá o processo desse pedaço do código. \n",
        "\n",
        "**Vamos testar esse primeiro tratamento?**"
      ],
      "metadata": {
        "id": "miwzhPNdD8Ty"
      }
    },
    {
      "cell_type": "code",
      "source": [
        "notas = {'João': [8.0, 9.0, 10.0], 'Maria': [9.0, 7.0, 6.0], 'José': [3.4, 7.0, 8.0], 'Cláudia': [5.5, 6.6, 8.0], \n",
        " 'Ana': [6.0, 10.0, 9.5], 'Joaquim': [5.5, 7.5, 9.0], 'Júlia': [6.0, 8.0, 7.0], 'Pedro': [3.0, 4.0, 6.0]}"
      ],
      "metadata": {
        "id": "PkMmeYxaDcIF"
      },
      "execution_count": 117,
      "outputs": []
    },
    {
      "cell_type": "code",
      "source": [
        "try:\n",
        "    nome = input(\"Digite o nome do(a) estudante: \")\n",
        "    resultado = notas[nome]\n",
        "except Exception as e:\n",
        "    print(type(e), f\"Erro: {e}\")"
      ],
      "metadata": {
        "id": "NEX6RRX7Wb0Y",
        "colab": {
          "base_uri": "https://localhost:8080/"
        },
        "outputId": "58e6603f-6bb1-45a6-8d02-7694221eb0d5"
      },
      "execution_count": 126,
      "outputs": [
        {
          "output_type": "stream",
          "name": "stdout",
          "text": [
            "Digite o nome do(a) estudante: teste\n",
            "<class 'KeyError'> Erro: 'teste'\n"
          ]
        }
      ]
    },
    {
      "cell_type": "code",
      "source": [
        "try:\n",
        "    nome = input(\"Digite o nome do(a) estudante: \")\n",
        "    resultado = notas[nome]\n",
        "except KeyError:\n",
        "    print(\"Estudante não matriculado(a) na turma\")"
      ],
      "metadata": {
        "colab": {
          "base_uri": "https://localhost:8080/"
        },
        "id": "SygssPVB7XSm",
        "outputId": "cfb253c5-9702-4913-ee1c-229a5aafc221"
      },
      "execution_count": 127,
      "outputs": [
        {
          "output_type": "stream",
          "name": "stdout",
          "text": [
            "Digite o nome do(a) estudante: teste\n",
            "Estudante não matriculado(a) na turma\n"
          ]
        }
      ]
    },
    {
      "cell_type": "markdown",
      "source": [
        "#### Adicionando o Else\n",
        "\n",
        "```python\n",
        "try:\n",
        "  # código a ser executado. Caso uma exceção seja lançada, pare imediatamente\n",
        "except:\n",
        "  # Se uma exceção for lançada no try, rode esse código, senão pule esta etapa\n",
        "else:\n",
        "  # Se não houver uma exeção lançada pelo try, rode essa parte\n",
        "```"
      ],
      "metadata": {
        "id": "hKhKzgQoBHLb"
      }
    },
    {
      "cell_type": "markdown",
      "source": [
        "#### **Situação 13:**\n",
        "\n",
        "Você criou um código que lê um dicionário com as notas dos estudantes e quis retornar a lista de notas de um estudante. \n",
        "\n",
        "Caso o(a) estudante não esteja matriculado(a) na classe devemos tratar a exceção para aparecer a mensagem \"Estudante não matriculado(a) na turma\" e se a exceção não for lançada devemos exibir a lista com as notas do(a) estudante. \n",
        "\n",
        "Vamos trabalhar nesse exemplo com a exceção **Key Error** que interromperá o processo desse pedaço do código. \n",
        "\n",
        "**Vamos testar esse tratamento?**"
      ],
      "metadata": {
        "id": "USN3SA2tMjL0"
      }
    },
    {
      "cell_type": "code",
      "source": [
        "notas = {'João': [8.0, 9.0, 10.0], 'Maria': [9.0, 7.0, 6.0], 'José': [3.4, 7.0, 8.0], 'Cláudia': [5.5, 6.6, 8.0], \n",
        " 'Ana': [6.0, 10.0, 9.5], 'Joaquim': [5.5, 7.5, 9.0], 'Júlia': [6.0, 8.0, 7.0], 'Pedro': [3.0, 4.0, 6.0]}"
      ],
      "metadata": {
        "id": "zCdjBCDFLE_6"
      },
      "execution_count": 123,
      "outputs": []
    },
    {
      "cell_type": "code",
      "source": [
        "try:\n",
        "    nome = input(\"Digite o nome do(a) estudante: \")\n",
        "    resultado = notas[nome]\n",
        "except KeyError:\n",
        "    print(\"Estudante não matriculado(a) na turma\")\n",
        "else:\n",
        "    print(resultado)"
      ],
      "metadata": {
        "id": "NS4vABJPDcFN",
        "colab": {
          "base_uri": "https://localhost:8080/"
        },
        "outputId": "4bc0a8fa-2525-4f35-e829-9a643e76567f"
      },
      "execution_count": 128,
      "outputs": [
        {
          "output_type": "stream",
          "name": "stdout",
          "text": [
            "Digite o nome do(a) estudante: teste\n",
            "Estudante não matriculado(a) na turma\n"
          ]
        }
      ]
    },
    {
      "cell_type": "markdown",
      "source": [
        "#### Adicionando o finally\n",
        "\n",
        "```python\n",
        "try:\n",
        "  # código a ser executado. Caso uma exceção seja lançada, pare imediatamente\n",
        "except:\n",
        "  # Se uma exceção for lançada no try, rode esse código, senão pule esta etapa\n",
        "else:\n",
        "  # Se não houver uma exeção lançada pelo try, rode essa parte\n",
        "finally:\n",
        "  # Rode essa parte (com ou sem exceção)\n",
        "```"
      ],
      "metadata": {
        "id": "Dw_efTlbBhll"
      }
    },
    {
      "cell_type": "markdown",
      "source": [
        "#### **Situação 14:**\n",
        "\n",
        "Você criou um código que lê um dicionário com as notas dos estudantes e quis retornar a lista de notas de um estudante. \n",
        "\n",
        "Caso o(a) estudante não esteja matriculado(a) na classe devemos tratar a exceção para aparecer a mensagem \"Estudante não matriculado(a) na turma\" e se a exceção não for lançada devemos exibir a lista com as notas do(a) estudante. Um texto avisando que \"A consulta foi encerrada!\" deve ser exibido com ou sem a exceção ser lançada.\n",
        "\n",
        "Vamos trabalhar nesse exemplo com a exceção **Key Error** que interromperá o processo desse pedaço do código. \n",
        "\n",
        "**Vamos testar esse tratamento?**"
      ],
      "metadata": {
        "id": "jGtFVx5GdnsS"
      }
    },
    {
      "cell_type": "code",
      "source": [
        "notas = {'João': [8.0, 9.0, 10.0], 'Maria': [9.0, 7.0, 6.0], 'José': [3.4, 7.0, 8.0], 'Cláudia': [5.5, 6.6, 8.0], \n",
        " 'Ana': [6.0, 10.0, 9.5], 'Joaquim': [5.5, 7.5, 9.0], 'Júlia': [6.0, 8.0, 7.0], 'Pedro': [3.0, 4.0, 6.0]}"
      ],
      "metadata": {
        "id": "uOLFoYweLN9W"
      },
      "execution_count": 129,
      "outputs": []
    },
    {
      "cell_type": "code",
      "source": [
        "try:\n",
        "    nome = input(\"Digite o nome do(a) estudante: \")\n",
        "    resultado = notas[nome]\n",
        "except KeyError:\n",
        "    print(\"Estudante não matriculado(a) na turma\")\n",
        "else:\n",
        "    print(resultado)\n",
        "finally:\n",
        "    print(\"A consulta foi encerrada!\")"
      ],
      "metadata": {
        "id": "U8QCogXhBi8C",
        "colab": {
          "base_uri": "https://localhost:8080/"
        },
        "outputId": "484fcf9e-6ca6-4dca-aa73-a5062ed01b37"
      },
      "execution_count": 130,
      "outputs": [
        {
          "output_type": "stream",
          "name": "stdout",
          "text": [
            "Digite o nome do(a) estudante: teste\n",
            "Estudante não matriculado(a) na turma\n",
            "A consulta foi encerrada!\n"
          ]
        }
      ]
    },
    {
      "cell_type": "markdown",
      "source": [
        "### 4.2 Raise\n",
        "\n",
        "Uma outra forma de trabalhar com as exceções em seu código, é criar as suas próprias exceções para determinados comportamentos que deseja em seu código. \n",
        "\n",
        "Para isso, utilizamos a palavra-chave `raise` junto ao tipo de exceção que deseja lançar e uma mensagem a ser exibida.   "
      ],
      "metadata": {
        "id": "HdjllLBpST_2"
      }
    },
    {
      "cell_type": "markdown",
      "source": [
        "```python\n",
        "raise NomeDoErro(\"mensagem_desejada\")\n",
        "```"
      ],
      "metadata": {
        "id": "_nIOnDQufv6Z"
      }
    },
    {
      "cell_type": "markdown",
      "source": [
        "#### **Situação 15:**\n",
        "\n",
        "Você criou uma função para calcular a média de um estudante em uma dada matéria passando em uma lista as notas deste estudante. \n",
        "\n",
        "Você pretende tratar 2 situações:\n",
        "- Se a lista possuir um valor não numérico o cálculo de média não será executado e uma mensagem de \"Não foi possível calcular a média do(a) estudante. Só são aceitos valores numéricos!\" será exibida.\n",
        "- Caso a lista tenha mais de 4 notas, será lançada uma exceção do tipo **ValueError** informando que \"A lista não pode possuir mais de 4 notas.\" \n",
        "\n",
        "Um texto avisando que \"A consulta foi encerrada!\" deve ser exibido com ou sem a exceção ser lançada.\n",
        "\n",
        "**Vamos resolver esse desafio?**"
      ],
      "metadata": {
        "id": "xapeB2ivgB7R"
      }
    },
    {
      "cell_type": "code",
      "source": [
        "def media(lista: list=[0]) -> float:\n",
        "    ''' Função para calcular a média de notas passadas por uma lista\n",
        "\n",
        "    lista: list, default[0]\n",
        "        Lista com as notas para calcular a média\n",
        "        return calculo: float\n",
        "        Média calculada\n",
        "    '''\n",
        "\n",
        "    calculo = sum(lista) / len(lista)\n",
        "\n",
        "    if len(lista) > 4:\n",
        "        raise ValueError(\"A lista não pode possuir mais de 4 notas.\")\n",
        "\n",
        "    return calculo"
      ],
      "metadata": {
        "id": "Hf7MQtMjSXS-"
      },
      "execution_count": 134,
      "outputs": []
    },
    {
      "cell_type": "code",
      "source": [
        "notas = [6, 7, 8, 8]\n",
        "resultado = media(notas)\n",
        "resultado"
      ],
      "metadata": {
        "id": "gnlcrP93k8f2",
        "colab": {
          "base_uri": "https://localhost:8080/"
        },
        "outputId": "b02c984e-970f-469e-993a-b227c64aa0c7"
      },
      "execution_count": 135,
      "outputs": [
        {
          "output_type": "execute_result",
          "data": {
            "text/plain": [
              "7.25"
            ]
          },
          "metadata": {},
          "execution_count": 135
        }
      ]
    },
    {
      "cell_type": "code",
      "source": [
        "try:\n",
        "    notas = [6, 7, 8, 9]\n",
        "    resultado = media(notas)\n",
        "except TypeError:\n",
        "    print(\"Não foi possível calcular a média do(a) estudante. Só são aceitos valores numéricos!\")\n",
        "except ValueError as e:\n",
        "    print(e)"
      ],
      "metadata": {
        "id": "lO8OCMRzSXQv"
      },
      "execution_count": 138,
      "outputs": []
    },
    {
      "cell_type": "code",
      "source": [
        "try:\n",
        "    notas = [6, 7, 8, 9]\n",
        "    resultado = media(notas)\n",
        "except TypeError:\n",
        "    print(\"Não foi possível calcular a média do(a) estudante. Só são aceitos valores numéricos!\")\n",
        "except ValueError as e:\n",
        "    print(e)\n",
        "else:\n",
        "    print(resultado)\n",
        "finally:\n",
        "    print(\"A consulta foi encerrada!\")"
      ],
      "metadata": {
        "id": "A-rA3l4hm4RA",
        "colab": {
          "base_uri": "https://localhost:8080/"
        },
        "outputId": "2c357960-98f7-48a9-89db-d5c1b6e7a854"
      },
      "execution_count": 139,
      "outputs": [
        {
          "output_type": "stream",
          "name": "stdout",
          "text": [
            "7.5\n",
            "A consulta foi encerrada!\n"
          ]
        }
      ]
    },
    {
      "cell_type": "code",
      "source": [
        "try:\n",
        "    notas = [6, 7, 8, 9, 8]\n",
        "    resultado = media(notas)\n",
        "except TypeError:\n",
        "    print(\"Não foi possível calcular a média do(a) estudante. Só são aceitos valores numéricos!\")\n",
        "except ValueError as e:\n",
        "    print(e)\n",
        "else:\n",
        "    print(resultado)\n",
        "finally:\n",
        "    print(\"A consulta foi encerrada!\")"
      ],
      "metadata": {
        "id": "IprXe3qalX5J",
        "colab": {
          "base_uri": "https://localhost:8080/"
        },
        "outputId": "a2d21101-801f-4940-d328-b55590315c01"
      },
      "execution_count": 140,
      "outputs": [
        {
          "output_type": "stream",
          "name": "stdout",
          "text": [
            "A lista não pode possuir mais de 4 notas.\n",
            "A consulta foi encerrada!\n"
          ]
        }
      ]
    },
    {
      "cell_type": "code",
      "source": [
        "try:\n",
        "    notas = [6, 7, 8, \"9\"]\n",
        "    resultado = media(notas)\n",
        "except TypeError:\n",
        "    print(\"Não foi possível calcular a média do(a) estudante. Só são aceitos valores numéricos!\")\n",
        "except ValueError as e:\n",
        "    print(e)\n",
        "else:\n",
        "    print(resultado)\n",
        "finally:\n",
        "    print(\"A consulta foi encerrada!\")"
      ],
      "metadata": {
        "id": "Jf3Sg5H-m4Za",
        "colab": {
          "base_uri": "https://localhost:8080/"
        },
        "outputId": "7f58ea2e-8ba5-44d9-9b91-a75ca9e03f53"
      },
      "execution_count": 141,
      "outputs": [
        {
          "output_type": "stream",
          "name": "stdout",
          "text": [
            "Não foi possível calcular a média do(a) estudante. Só são aceitos valores numéricos!\n",
            "A consulta foi encerrada!\n"
          ]
        }
      ]
    },
    {
      "cell_type": "code",
      "source": [],
      "metadata": {
        "id": "bYMkv96n8CEF"
      },
      "execution_count": null,
      "outputs": []
    }
  ]
}